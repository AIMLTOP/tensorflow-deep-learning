{
 "cells": [
  {
   "cell_type": "markdown",
   "metadata": {
    "id": "mt9dL5dIir8X"
   },
   "source": [
    "##### Copyright 2022 The TensorFlow Authors."
   ]
  },
  {
   "cell_type": "code",
   "execution_count": 1,
   "metadata": {
    "execution": {
     "iopub.execute_input": "2022-09-16T01:22:59.852008Z",
     "iopub.status.busy": "2022-09-16T01:22:59.851707Z",
     "iopub.status.idle": "2022-09-16T01:22:59.856463Z",
     "shell.execute_reply": "2022-09-16T01:22:59.855668Z"
    },
    "id": "ufPx7EiCiqgR"
   },
   "outputs": [],
   "source": [
    "#@title Licensed under the Apache License, Version 2.0 (the \"License\");\n",
    "# you may not use this file except in compliance with the License.\n",
    "# You may obtain a copy of the License at\n",
    "#\n",
    "# https://www.apache.org/licenses/LICENSE-2.0\n",
    "#\n",
    "# Unless required by applicable law or agreed to in writing, software\n",
    "# distributed under the License is distributed on an \"AS IS\" BASIS,\n",
    "# WITHOUT WARRANTIES OR CONDITIONS OF ANY KIND, either express or implied.\n",
    "# See the License for the specific language governing permissions and\n",
    "# limitations under the License.\n"
   ]
  },
  {
   "cell_type": "markdown",
   "metadata": {
    "id": "4StGz9ynOEL6"
   },
   "source": [
    "# Load video data"
   ]
  },
  {
   "cell_type": "markdown",
   "metadata": {
    "id": "KwQtSOz0VrVX"
   },
   "source": [
    "<table class=\"tfo-notebook-buttons\" align=\"left\">\n",
    "  <td>\n",
    "    <a target=\"_blank\" href=\"https://www.tensorflow.org/tutorials/load_data/video\"><img src=\"https://www.tensorflow.org/images/tf_logo_32px.png\" />View on TensorFlow.org</a>\n",
    "  </td>\n",
    "  <td>\n",
    "    <a target=\"_blank\" href=\"https://colab.research.google.com/github/tensorflow/docs/blob/master/site/en/tutorials/load_data/video.ipynb\"><img src=\"https://www.tensorflow.org/images/colab_logo_32px.png\" />Run in Google Colab</a>\n",
    "  </td>\n",
    "  <td>\n",
    "    <a target=\"_blank\" href=\"https://github.com/tensorflow/docs/blob/master/site/en/tutorials/load_data/video.ipynb\"><img src=\"https://www.tensorflow.org/images/GitHub-Mark-32px.png\" />View source on GitHub</a>\n",
    "  </td>\n",
    "  <td>\n",
    "    <a href=\"https://storage.googleapis.com/tensorflow_docs/docs/site/en/tutorials/load_data/video.ipynb\"><img src=\"https://www.tensorflow.org/images/download_logo_32px.png\" />Download notebook</a>\n",
    "  </td>\n",
    "</table>"
   ]
  },
  {
   "cell_type": "markdown",
   "metadata": {
    "id": "F-SqCosJ6-0H"
   },
   "source": [
    "This tutorial demonstrates how to load and preprocess [AVI](https://en.wikipedia.org/wiki/Audio_Video_Interleave){:.external} video data using the [UCF101 human action dataset](https://www.tensorflow.org/datasets/catalog/ucf101). Once you have preprocessed the data, it can be used for such tasks as video classification/recognition, captioning or clustering. The original dataset contains realistic action videos collected from YouTube with 101 categories, including playing cello, brushing teeth, and applying eye makeup. You will learn how to:\n",
    "\n",
    "* Load the data from a zip file.\n",
    "\n",
    "* Split a video into separate frames.\n",
    "\n",
    "* Visualize the video data.\n",
    "\n",
    "* Wrap the dataset in a [`tf.data.Dataset`](https://www.tensorflow.org/guide/data) for performance."
   ]
  },
  {
   "cell_type": "markdown",
   "metadata": {
    "id": "PnpPjKVD68eH"
   },
   "source": [
    "## Setup\n",
    "\n",
    "Begin by installing and importing some necessary libraries, including:\n",
    "[remotezip](https://github.com/gtsystem/python-remotezip){:.external} to inspect the contents of a ZIP file, [tqdm](https://github.com/tqdm/tqdm){:.external} to use a progress bar, [OpenCV](https://opencv.org/){:.external} to process video files, and [`tensorflow_docs`](https://github.com/tensorflow/docs/tree/master/tools/tensorflow_docs){:.external} for embedding data in a Jupyter notebook."
   ]
  },
  {
   "cell_type": "code",
   "execution_count": null,
   "metadata": {
    "id": "kWqHj8uOLeja"
   },
   "outputs": [],
   "source": []
  },
  {
   "cell_type": "code",
   "execution_count": 2,
   "metadata": {
    "execution": {
     "iopub.execute_input": "2022-09-16T01:22:59.861993Z",
     "iopub.status.busy": "2022-09-16T01:22:59.861513Z",
     "iopub.status.idle": "2022-09-16T01:23:12.170329Z",
     "shell.execute_reply": "2022-09-16T01:23:12.169137Z"
    },
    "id": "P5SBasQcbwQA"
   },
   "outputs": [
    {
     "name": "stdout",
     "output_type": "stream",
     "text": [
      "Collecting remotezip\r\n"
     ]
    },
    {
     "name": "stdout",
     "output_type": "stream",
     "text": [
      "  Downloading remotezip-0.9.4.tar.gz (6.1 kB)\r\n"
     ]
    },
    {
     "name": "stdout",
     "output_type": "stream",
     "text": [
      "  Preparing metadata (setup.py) ... \u001b[?25l-"
     ]
    },
    {
     "name": "stdout",
     "output_type": "stream",
     "text": [
      "\b \bdone\r\n",
      "\u001b[?25hRequirement already satisfied: tqdm in /tmpfs/src/tf_docs_env/lib/python3.9/site-packages (4.64.1)\r\n"
     ]
    },
    {
     "name": "stdout",
     "output_type": "stream",
     "text": [
      "Collecting opencv-python\r\n"
     ]
    },
    {
     "name": "stdout",
     "output_type": "stream",
     "text": [
      "  Downloading opencv_python-4.6.0.66-cp36-abi3-manylinux_2_17_x86_64.manylinux2014_x86_64.whl (60.9 MB)\r\n"
     ]
    },
    {
     "name": "stdout",
     "output_type": "stream",
     "text": [
      "Requirement already satisfied: requests in /tmpfs/src/tf_docs_env/lib/python3.9/site-packages (from remotezip) (2.28.1)\r\n"
     ]
    },
    {
     "name": "stdout",
     "output_type": "stream",
     "text": [
      "Collecting tabulate\r\n",
      "  Downloading tabulate-0.8.10-py3-none-any.whl (29 kB)\r\n"
     ]
    },
    {
     "name": "stdout",
     "output_type": "stream",
     "text": [
      "Requirement already satisfied: numpy>=1.14.5 in /tmpfs/src/tf_docs_env/lib/python3.9/site-packages (from opencv-python) (1.23.3)\r\n",
      "Requirement already satisfied: idna<4,>=2.5 in /tmpfs/src/tf_docs_env/lib/python3.9/site-packages (from requests->remotezip) (3.4)\r\n",
      "Requirement already satisfied: charset-normalizer<3,>=2 in /tmpfs/src/tf_docs_env/lib/python3.9/site-packages (from requests->remotezip) (2.1.1)\r\n",
      "Requirement already satisfied: certifi>=2017.4.17 in /tmpfs/src/tf_docs_env/lib/python3.9/site-packages (from requests->remotezip) (2022.9.14)\r\n",
      "Requirement already satisfied: urllib3<1.27,>=1.21.1 in /tmpfs/src/tf_docs_env/lib/python3.9/site-packages (from requests->remotezip) (1.26.12)\r\n",
      "Building wheels for collected packages: remotezip\r\n"
     ]
    },
    {
     "name": "stdout",
     "output_type": "stream",
     "text": [
      "  Building wheel for remotezip (setup.py) ... \u001b[?25l-"
     ]
    },
    {
     "name": "stdout",
     "output_type": "stream",
     "text": [
      "\b \b\\"
     ]
    },
    {
     "name": "stdout",
     "output_type": "stream",
     "text": [
      "\b \bdone\r\n",
      "\u001b[?25h  Created wheel for remotezip: filename=remotezip-0.9.4-py3-none-any.whl size=6138 sha256=a30305c56ecb33779803b1982d28912d23538a85217a499bb9a465b7b3acf25d\r\n",
      "  Stored in directory: /home/kbuilder/.cache/pip/wheels/49/09/79/7737bfe07c39db74ef6f1400901bc75d0ff38af608e870eb50\r\n",
      "Successfully built remotezip\r\n"
     ]
    },
    {
     "name": "stdout",
     "output_type": "stream",
     "text": [
      "Installing collected packages: tabulate, opencv-python, remotezip\r\n"
     ]
    },
    {
     "name": "stdout",
     "output_type": "stream",
     "text": [
      "Successfully installed opencv-python-4.6.0.66 remotezip-0.9.4 tabulate-0.8.10\r\n"
     ]
    }
   ],
   "source": [
    "!pip install remotezip tqdm opencv-python\n",
    "!pip install -q git+https://github.com/tensorflow/docs"
   ]
  },
  {
   "cell_type": "code",
   "execution_count": 3,
   "metadata": {
    "execution": {
     "iopub.execute_input": "2022-09-16T01:23:12.175061Z",
     "iopub.status.busy": "2022-09-16T01:23:12.174758Z",
     "iopub.status.idle": "2022-09-16T01:23:14.442311Z",
     "shell.execute_reply": "2022-09-16T01:23:14.441398Z"
    },
    "id": "9RYQIJ9C6BVH"
   },
   "outputs": [
    {
     "name": "stderr",
     "output_type": "stream",
     "text": [
      "2022-09-16 01:23:12.628939: E tensorflow/stream_executor/cuda/cuda_blas.cc:2981] Unable to register cuBLAS factory: Attempting to register factory for plugin cuBLAS when one has already been registered\n"
     ]
    },
    {
     "name": "stderr",
     "output_type": "stream",
     "text": [
      "2022-09-16 01:23:13.308828: W tensorflow/stream_executor/platform/default/dso_loader.cc:64] Could not load dynamic library 'libnvinfer.so.7'; dlerror: libnvrtc.so.11.1: cannot open shared object file: No such file or directory; LD_LIBRARY_PATH: /tmpfs/src/tf_docs_env/lib/python3.9/site-packages/cv2/../../lib64:\n",
      "2022-09-16 01:23:13.309180: W tensorflow/stream_executor/platform/default/dso_loader.cc:64] Could not load dynamic library 'libnvinfer_plugin.so.7'; dlerror: libnvrtc.so.11.1: cannot open shared object file: No such file or directory; LD_LIBRARY_PATH: /tmpfs/src/tf_docs_env/lib/python3.9/site-packages/cv2/../../lib64:\n",
      "2022-09-16 01:23:13.309196: W tensorflow/compiler/tf2tensorrt/utils/py_utils.cc:38] TF-TRT Warning: Cannot dlopen some TensorRT libraries. If you would like to use Nvidia GPU with TensorRT, please make sure the missing libraries mentioned above are installed properly.\n"
     ]
    }
   ],
   "source": [
    "import tqdm\n",
    "import random\n",
    "import pathlib\n",
    "import itertools\n",
    "import collections\n",
    "\n",
    "import os\n",
    "import cv2\n",
    "import numpy as np\n",
    "import remotezip as rz\n",
    "\n",
    "import tensorflow as tf\n",
    "\n",
    "# Some modules to display an animation using imageio.\n",
    "import imageio\n",
    "from IPython import display\n",
    "from urllib import request\n",
    "from tensorflow_docs.vis import embed"
   ]
  },
  {
   "cell_type": "markdown",
   "metadata": {
    "id": "KbhwWLLM7FXo"
   },
   "source": [
    "## Download a subset of the UCF101 dataset\n",
    "\n",
    "The [UCF101 dataset](https://www.tensorflow.org/datasets/catalog/ucf101) contains 101 categories of different actions in video, primarily used in action recognition. You will use a subset of these categories in this demo."
   ]
  },
  {
   "cell_type": "code",
   "execution_count": 4,
   "metadata": {
    "execution": {
     "iopub.execute_input": "2022-09-16T01:23:14.447049Z",
     "iopub.status.busy": "2022-09-16T01:23:14.446704Z",
     "iopub.status.idle": "2022-09-16T01:23:14.450497Z",
     "shell.execute_reply": "2022-09-16T01:23:14.449816Z"
    },
    "id": "gVIgj-jIA8U8"
   },
   "outputs": [],
   "source": [
    "URL = 'https://storage.googleapis.com/thumos14_files/UCF101_videos.zip'"
   ]
  },
  {
   "cell_type": "markdown",
   "metadata": {
    "id": "2tm8aBzw6Md7"
   },
   "source": [
    "The above URL contains a zip file with the UCF 101 dataset. Create a function that uses the `remotezip` library to examine the contents of the zip file in that URL:"
   ]
  },
  {
   "cell_type": "code",
   "execution_count": 5,
   "metadata": {
    "execution": {
     "iopub.execute_input": "2022-09-16T01:23:14.454260Z",
     "iopub.status.busy": "2022-09-16T01:23:14.453958Z",
     "iopub.status.idle": "2022-09-16T01:23:14.458513Z",
     "shell.execute_reply": "2022-09-16T01:23:14.457784Z"
    },
    "id": "lY-x7TaZlK6O"
   },
   "outputs": [],
   "source": [
    "def list_files_from_zip_url(zip_url):\n",
    "  \"\"\" List the files in each class of the dataset given a URL with the zip file.\n",
    "\n",
    "    Args:\n",
    "      zip_url: A URL from which the files can be extracted from.\n",
    "\n",
    "    Returns:\n",
    "      List of files in each of the classes.\n",
    "  \"\"\"\n",
    "  files = []\n",
    "  with rz.RemoteZip(URL) as zip:\n",
    "    for zip_info in zip.infolist():\n",
    "      files.append(zip_info.filename)\n",
    "  return files"
   ]
  },
  {
   "cell_type": "code",
   "execution_count": 6,
   "metadata": {
    "execution": {
     "iopub.execute_input": "2022-09-16T01:23:14.461921Z",
     "iopub.status.busy": "2022-09-16T01:23:14.461676Z",
     "iopub.status.idle": "2022-09-16T01:23:15.473238Z",
     "shell.execute_reply": "2022-09-16T01:23:15.472407Z"
    },
    "id": "lYErXAdUr-rk"
   },
   "outputs": [
    {
     "data": {
      "text/plain": [
       "['UCF101/v_ApplyEyeMakeup_g01_c01.avi',\n",
       " 'UCF101/v_ApplyEyeMakeup_g01_c02.avi',\n",
       " 'UCF101/v_ApplyEyeMakeup_g01_c03.avi',\n",
       " 'UCF101/v_ApplyEyeMakeup_g01_c04.avi',\n",
       " 'UCF101/v_ApplyEyeMakeup_g01_c05.avi',\n",
       " 'UCF101/v_ApplyEyeMakeup_g01_c06.avi',\n",
       " 'UCF101/v_ApplyEyeMakeup_g02_c01.avi',\n",
       " 'UCF101/v_ApplyEyeMakeup_g02_c02.avi',\n",
       " 'UCF101/v_ApplyEyeMakeup_g02_c03.avi',\n",
       " 'UCF101/v_ApplyEyeMakeup_g02_c04.avi']"
      ]
     },
     "execution_count": 6,
     "metadata": {},
     "output_type": "execute_result"
    }
   ],
   "source": [
    "files = list_files_from_zip_url(URL)\n",
    "files = [f for f in files if f.endswith('.avi')]\n",
    "files[:10]"
   ]
  },
  {
   "cell_type": "markdown",
   "metadata": {
    "id": "rQ4l8D9dFPS7"
   },
   "source": [
    "Begin with a few videos and a limited number of classes for training. After running the above code block, notice that the class name is included in the filename of each video.\n",
    "\n",
    "Define the `get_class` function that retrieves the class name from a filename. Then, create a function called `get_files_per_class` which converts the list of all files (`files` above) into a dictionary listing the files for each class:"
   ]
  },
  {
   "cell_type": "code",
   "execution_count": 7,
   "metadata": {
    "execution": {
     "iopub.execute_input": "2022-09-16T01:23:15.477484Z",
     "iopub.status.busy": "2022-09-16T01:23:15.477188Z",
     "iopub.status.idle": "2022-09-16T01:23:15.481325Z",
     "shell.execute_reply": "2022-09-16T01:23:15.480576Z"
    },
    "id": "yyyivOX0sO19"
   },
   "outputs": [],
   "source": [
    "def get_class(fname):\n",
    "  \"\"\" Retrieve the name of the class given a filename.\n",
    "\n",
    "    Args:\n",
    "      fname: Name of the file in the UCF101 dataset.\n",
    "\n",
    "    Returns:\n",
    "      Class that the file belongs to.\n",
    "  \"\"\"\n",
    "  return fname.split('_')[-3]"
   ]
  },
  {
   "cell_type": "code",
   "execution_count": 8,
   "metadata": {
    "execution": {
     "iopub.execute_input": "2022-09-16T01:23:15.484677Z",
     "iopub.status.busy": "2022-09-16T01:23:15.484424Z",
     "iopub.status.idle": "2022-09-16T01:23:15.488664Z",
     "shell.execute_reply": "2022-09-16T01:23:15.487926Z"
    },
    "id": "1qnH0xKzlyw_"
   },
   "outputs": [],
   "source": [
    "def get_files_per_class(files):\n",
    "  \"\"\" Retrieve the files that belong to each class. \n",
    "\n",
    "    Args:\n",
    "      files: List of files in the dataset.\n",
    "\n",
    "    Returns:\n",
    "      Dictionary of class names (key) and files (values).\n",
    "  \"\"\"\n",
    "  files_for_class = collections.defaultdict(list)\n",
    "  for fname in files:\n",
    "    class_name = get_class(fname)\n",
    "    files_for_class[class_name].append(fname)\n",
    "  return files_for_class"
   ]
  },
  {
   "cell_type": "markdown",
   "metadata": {
    "id": "VxSt5YgSGrWn"
   },
   "source": [
    "Once you have the list of files per class, you can choose how many classes you would like to use and how many videos you would like per class in order to create your dataset. "
   ]
  },
  {
   "cell_type": "code",
   "execution_count": 9,
   "metadata": {
    "execution": {
     "iopub.execute_input": "2022-09-16T01:23:15.492503Z",
     "iopub.status.busy": "2022-09-16T01:23:15.492220Z",
     "iopub.status.idle": "2022-09-16T01:23:15.495764Z",
     "shell.execute_reply": "2022-09-16T01:23:15.495019Z"
    },
    "id": "qPdURg74uUTk"
   },
   "outputs": [],
   "source": [
    "NUM_CLASSES = 10\n",
    "FILES_PER_CLASS = 50"
   ]
  },
  {
   "cell_type": "code",
   "execution_count": 10,
   "metadata": {
    "execution": {
     "iopub.execute_input": "2022-09-16T01:23:15.499179Z",
     "iopub.status.busy": "2022-09-16T01:23:15.498909Z",
     "iopub.status.idle": "2022-09-16T01:23:15.507565Z",
     "shell.execute_reply": "2022-09-16T01:23:15.506793Z"
    },
    "id": "GUs0xtXsr9i3"
   },
   "outputs": [],
   "source": [
    "files_for_class = get_files_per_class(files)\n",
    "classes = list(files_for_class.keys())"
   ]
  },
  {
   "cell_type": "code",
   "execution_count": 11,
   "metadata": {
    "execution": {
     "iopub.execute_input": "2022-09-16T01:23:15.511026Z",
     "iopub.status.busy": "2022-09-16T01:23:15.510753Z",
     "iopub.status.idle": "2022-09-16T01:23:15.515029Z",
     "shell.execute_reply": "2022-09-16T01:23:15.514282Z"
    },
    "id": "-YqFARvqwon9"
   },
   "outputs": [
    {
     "name": "stdout",
     "output_type": "stream",
     "text": [
      "Num classes: 101\n",
      "Num videos for class[0]: 145\n"
     ]
    }
   ],
   "source": [
    "print('Num classes:', len(classes))\n",
    "print('Num videos for class[0]:', len(files_for_class[classes[0]]))"
   ]
  },
  {
   "cell_type": "markdown",
   "metadata": {
    "id": "yFAFqKqE92bQ"
   },
   "source": [
    "Create a new function called `select_subset_of_classes` that selects a subset of the classes present within the dataset and a particular number of files per class:"
   ]
  },
  {
   "cell_type": "code",
   "execution_count": 12,
   "metadata": {
    "execution": {
     "iopub.execute_input": "2022-09-16T01:23:15.518871Z",
     "iopub.status.busy": "2022-09-16T01:23:15.518616Z",
     "iopub.status.idle": "2022-09-16T01:23:15.522986Z",
     "shell.execute_reply": "2022-09-16T01:23:15.522257Z"
    },
    "id": "O3jek4QimIj-"
   },
   "outputs": [],
   "source": [
    "def select_subset_of_classes(files_for_class, classes, files_per_class):\n",
    "  \"\"\" Create a dictionary with the class name and a subset of the files in that class.\n",
    "\n",
    "    Args:\n",
    "      files_for_class: Dictionary of class names (key) and files (values).\n",
    "      classes: List of classes.\n",
    "      files_per_class: Number of files per class of interest.\n",
    "\n",
    "    Returns:\n",
    "      Dictionary with class as key and list of specified number of video files in that class.\n",
    "  \"\"\"\n",
    "  files_subset = dict()\n",
    "\n",
    "  for class_name in classes:\n",
    "    class_files = files_for_class[class_name]\n",
    "    files_subset[class_name] = class_files[:files_per_class]\n",
    "\n",
    "  return files_subset"
   ]
  },
  {
   "cell_type": "code",
   "execution_count": 13,
   "metadata": {
    "execution": {
     "iopub.execute_input": "2022-09-16T01:23:15.526726Z",
     "iopub.status.busy": "2022-09-16T01:23:15.526362Z",
     "iopub.status.idle": "2022-09-16T01:23:15.531778Z",
     "shell.execute_reply": "2022-09-16T01:23:15.531007Z"
    },
    "id": "5cjcz6Gpcb-W"
   },
   "outputs": [
    {
     "data": {
      "text/plain": [
       "['ApplyEyeMakeup',\n",
       " 'ApplyLipstick',\n",
       " 'Archery',\n",
       " 'BabyCrawling',\n",
       " 'BalanceBeam',\n",
       " 'BandMarching',\n",
       " 'BaseballPitch',\n",
       " 'BasketballDunk',\n",
       " 'Basketball',\n",
       " 'BenchPress']"
      ]
     },
     "execution_count": 13,
     "metadata": {},
     "output_type": "execute_result"
    }
   ],
   "source": [
    "files_subset = select_subset_of_classes(files_for_class, classes[:NUM_CLASSES], FILES_PER_CLASS)\n",
    "list(files_subset.keys())"
   ]
  },
  {
   "cell_type": "markdown",
   "metadata": {
    "id": "ALrlDS1lZx3E"
   },
   "source": [
    "Define helper functions that split the videos into training, validation, and test sets. The videos are downloaded from a URL with the zip file, and placed into their respective subdirectiories."
   ]
  },
  {
   "cell_type": "code",
   "execution_count": 14,
   "metadata": {
    "execution": {
     "iopub.execute_input": "2022-09-16T01:23:15.535765Z",
     "iopub.status.busy": "2022-09-16T01:23:15.535509Z",
     "iopub.status.idle": "2022-09-16T01:23:15.540871Z",
     "shell.execute_reply": "2022-09-16T01:23:15.540088Z"
    },
    "id": "AH9sWS_6nRz3"
   },
   "outputs": [],
   "source": [
    "def download_from_zip(zip_url, to_dir, file_names):\n",
    "  \"\"\" Download the contents of the zip file from the zip URL.\n",
    "\n",
    "    Args:\n",
    "      zip_url: A URL with a zip file containing data.\n",
    "      to_dir: A directory to download data to.\n",
    "      file_names: Names of files to download.\n",
    "  \"\"\"\n",
    "  with rz.RemoteZip(zip_url) as zip:\n",
    "    for fn in tqdm.tqdm(file_names):\n",
    "      class_name = get_class(fn)\n",
    "      zip.extract(fn, str(to_dir / class_name))\n",
    "      unzipped_file = to_dir / class_name / fn\n",
    "\n",
    "      fn = pathlib.Path(fn).parts[-1]\n",
    "      output_file = to_dir / class_name / fn\n",
    "      unzipped_file.rename(output_file)"
   ]
  },
  {
   "cell_type": "markdown",
   "metadata": {
    "id": "pejRTChA6mrp"
   },
   "source": [
    "The following function returns the remaining data that hasn't already been placed into a subset of data. It allows you to place that remaining data in the next specified subset of data."
   ]
  },
  {
   "cell_type": "code",
   "execution_count": 15,
   "metadata": {
    "execution": {
     "iopub.execute_input": "2022-09-16T01:23:15.544738Z",
     "iopub.status.busy": "2022-09-16T01:23:15.544463Z",
     "iopub.status.idle": "2022-09-16T01:23:15.549010Z",
     "shell.execute_reply": "2022-09-16T01:23:15.548322Z"
    },
    "id": "6ARYc-WLqqNF"
   },
   "outputs": [],
   "source": [
    "def split_class_lists(files_for_class, count):\n",
    "  \"\"\" Returns the list of files belonging to a subset of data as well as the remainder of\n",
    "    files that need to be downloaded.\n",
    "    \n",
    "    Args:\n",
    "      files_for_class: Files belonging to a particular class of data.\n",
    "      count: Number of files to download.\n",
    "\n",
    "    Returns:\n",
    "      Files belonging to the subset of data and dictionary of the remainder of files that need to be downloaded.\n",
    "  \"\"\"\n",
    "  split_files = []\n",
    "  remainder = {}\n",
    "  for cls in files_for_class:\n",
    "    split_files.extend(files_for_class[cls][:count])\n",
    "    remainder[cls] = files_for_class[cls][count:]\n",
    "  return split_files, remainder"
   ]
  },
  {
   "cell_type": "markdown",
   "metadata": {
    "id": "LlEQ_I0TLd1X"
   },
   "source": [
    "The following `download_ufc_101_subset` function allows you to download a subset of the UCF101 dataset and split it into the training, validation, and test sets. You can specify the number of classes that you would like to use. The `splits` argument allows you to pass in a dictionary in which the key values are the name of subset (example: \"train\") and the number of videos you would like to have per class."
   ]
  },
  {
   "cell_type": "code",
   "execution_count": 16,
   "metadata": {
    "execution": {
     "iopub.execute_input": "2022-09-16T01:23:15.552821Z",
     "iopub.status.busy": "2022-09-16T01:23:15.552572Z",
     "iopub.status.idle": "2022-09-16T01:23:15.559283Z",
     "shell.execute_reply": "2022-09-16T01:23:15.558445Z"
    },
    "id": "IHH2Y1M06xoz"
   },
   "outputs": [],
   "source": [
    "def download_ufc_101_subset(zip_url, num_classes, splits, download_dir):\n",
    "  \"\"\" Download a subset of the UFC101 dataset and split them into various parts, such as\n",
    "    training, validation, and test.\n",
    "\n",
    "    Args:\n",
    "      zip_url: A URL with a ZIP file with the data.\n",
    "      num_classes: Number of labels.\n",
    "      splits: Dictionary specifying the training, validation, test, etc. (key) division of data \n",
    "              (value is number of files per split).\n",
    "      download_dir: Directory to download data to.\n",
    "\n",
    "    Return:\n",
    "      Mapping of the directories containing the subsections of data.\n",
    "  \"\"\"\n",
    "  files = list_files_from_zip_url(zip_url)\n",
    "  for f in files:\n",
    "    path = os.path.normpath(f)\n",
    "    tokens = path.split(os.sep)\n",
    "    if len(tokens) <= 2:\n",
    "      files.remove(f) # Remove that item from the list if it does not have a filename\n",
    "  \n",
    "  files_for_class = get_files_per_class(files)\n",
    "\n",
    "  classes = list(files_for_class.keys())[:num_classes]\n",
    "\n",
    "  for cls in classes:\n",
    "    random.shuffle(files_for_class[cls])\n",
    "    \n",
    "  # Only use the number of classes you want in the dictionary\n",
    "  files_for_class = {x: files_for_class[x] for x in classes}\n",
    "\n",
    "  dirs = {}\n",
    "  for split_name, split_count in splits.items():\n",
    "    print(split_name, \":\")\n",
    "    split_dir = download_dir / split_name\n",
    "    split_files, files_for_class = split_class_lists(files_for_class, split_count)\n",
    "    download_from_zip(zip_url, split_dir, split_files)\n",
    "    dirs[split_name] = split_dir\n",
    "\n",
    "  return dirs"
   ]
  },
  {
   "cell_type": "code",
   "execution_count": 17,
   "metadata": {
    "execution": {
     "iopub.execute_input": "2022-09-16T01:23:15.562687Z",
     "iopub.status.busy": "2022-09-16T01:23:15.562398Z",
     "iopub.status.idle": "2022-09-16T01:25:08.634103Z",
     "shell.execute_reply": "2022-09-16T01:25:08.633240Z"
    },
    "id": "NuD-xU8Q66Vm"
   },
   "outputs": [
    {
     "name": "stdout",
     "output_type": "stream",
     "text": [
      "train :\n"
     ]
    },
    {
     "name": "stderr",
     "output_type": "stream",
     "text": [
      "\r",
      "  0%|          | 0/300 [00:00<?, ?it/s]"
     ]
    },
    {
     "name": "stderr",
     "output_type": "stream",
     "text": [
      "\r",
      "  0%|          | 1/300 [00:00<02:10,  2.29it/s]"
     ]
    },
    {
     "name": "stderr",
     "output_type": "stream",
     "text": [
      "\r",
      "  1%|          | 2/300 [00:00<02:16,  2.18it/s]"
     ]
    },
    {
     "name": "stderr",
     "output_type": "stream",
     "text": [
      "\r",
      "  1%|          | 3/300 [00:01<02:11,  2.26it/s]"
     ]
    },
    {
     "name": "stderr",
     "output_type": "stream",
     "text": [
      "\r",
      "  1%|▏         | 4/300 [00:01<01:33,  3.15it/s]"
     ]
    },
    {
     "name": "stderr",
     "output_type": "stream",
     "text": [
      "\r",
      "  2%|▏         | 5/300 [00:01<01:14,  3.97it/s]"
     ]
    },
    {
     "name": "stderr",
     "output_type": "stream",
     "text": [
      "\r",
      "  2%|▏         | 6/300 [00:01<01:01,  4.76it/s]"
     ]
    },
    {
     "name": "stderr",
     "output_type": "stream",
     "text": [
      "\r",
      "  2%|▏         | 7/300 [00:02<01:16,  3.82it/s]"
     ]
    },
    {
     "name": "stderr",
     "output_type": "stream",
     "text": [
      "\r",
      "  3%|▎         | 8/300 [00:02<01:21,  3.57it/s]"
     ]
    },
    {
     "name": "stderr",
     "output_type": "stream",
     "text": [
      "\r",
      "  3%|▎         | 9/300 [00:02<01:06,  4.36it/s]"
     ]
    },
    {
     "name": "stderr",
     "output_type": "stream",
     "text": [
      "\r",
      "  3%|▎         | 10/300 [00:02<00:57,  5.03it/s]"
     ]
    },
    {
     "name": "stderr",
     "output_type": "stream",
     "text": [
      "\r",
      "  4%|▎         | 11/300 [00:02<00:50,  5.71it/s]"
     ]
    },
    {
     "name": "stderr",
     "output_type": "stream",
     "text": [
      "\r",
      "  4%|▍         | 12/300 [00:03<01:09,  4.14it/s]"
     ]
    },
    {
     "name": "stderr",
     "output_type": "stream",
     "text": [
      "\r",
      "  4%|▍         | 13/300 [00:03<01:06,  4.32it/s]"
     ]
    },
    {
     "name": "stderr",
     "output_type": "stream",
     "text": [
      "\r",
      "  5%|▍         | 14/300 [00:03<01:19,  3.61it/s]"
     ]
    },
    {
     "name": "stderr",
     "output_type": "stream",
     "text": [
      "\r",
      "  5%|▌         | 15/300 [00:03<01:06,  4.27it/s]"
     ]
    },
    {
     "name": "stderr",
     "output_type": "stream",
     "text": [
      "\r",
      "  5%|▌         | 16/300 [00:05<03:00,  1.57it/s]"
     ]
    },
    {
     "name": "stderr",
     "output_type": "stream",
     "text": [
      "\r",
      "  6%|▌         | 17/300 [00:05<02:32,  1.85it/s]"
     ]
    },
    {
     "name": "stderr",
     "output_type": "stream",
     "text": [
      "\r",
      "  6%|▌         | 18/300 [00:05<01:57,  2.41it/s]"
     ]
    },
    {
     "name": "stderr",
     "output_type": "stream",
     "text": [
      "\r",
      "  6%|▋         | 19/300 [00:06<01:32,  3.04it/s]"
     ]
    },
    {
     "name": "stderr",
     "output_type": "stream",
     "text": [
      "\r",
      "  7%|▋         | 20/300 [00:06<01:33,  3.01it/s]"
     ]
    },
    {
     "name": "stderr",
     "output_type": "stream",
     "text": [
      "\r",
      "  7%|▋         | 21/300 [00:06<01:15,  3.69it/s]"
     ]
    },
    {
     "name": "stderr",
     "output_type": "stream",
     "text": [
      "\r",
      "  7%|▋         | 22/300 [00:06<01:03,  4.38it/s]"
     ]
    },
    {
     "name": "stderr",
     "output_type": "stream",
     "text": [
      "\r",
      "  8%|▊         | 23/300 [00:06<00:54,  5.09it/s]"
     ]
    },
    {
     "name": "stderr",
     "output_type": "stream",
     "text": [
      "\r",
      "  8%|▊         | 24/300 [00:06<00:49,  5.56it/s]"
     ]
    },
    {
     "name": "stderr",
     "output_type": "stream",
     "text": [
      "\r",
      "  8%|▊         | 25/300 [00:07<00:45,  6.11it/s]"
     ]
    },
    {
     "name": "stderr",
     "output_type": "stream",
     "text": [
      "\r",
      "  9%|▊         | 26/300 [00:07<00:41,  6.57it/s]"
     ]
    },
    {
     "name": "stderr",
     "output_type": "stream",
     "text": [
      "\r",
      "  9%|▉         | 27/300 [00:07<00:40,  6.78it/s]"
     ]
    },
    {
     "name": "stderr",
     "output_type": "stream",
     "text": [
      "\r",
      "  9%|▉         | 28/300 [00:07<00:38,  7.01it/s]"
     ]
    },
    {
     "name": "stderr",
     "output_type": "stream",
     "text": [
      "\r",
      " 10%|▉         | 29/300 [00:07<00:38,  7.00it/s]"
     ]
    },
    {
     "name": "stderr",
     "output_type": "stream",
     "text": [
      "\r",
      " 10%|█         | 30/300 [00:07<00:37,  7.24it/s]"
     ]
    },
    {
     "name": "stderr",
     "output_type": "stream",
     "text": [
      "\r",
      " 10%|█         | 31/300 [00:08<01:05,  4.09it/s]"
     ]
    },
    {
     "name": "stderr",
     "output_type": "stream",
     "text": [
      "\r",
      " 11%|█         | 32/300 [00:08<01:17,  3.47it/s]"
     ]
    },
    {
     "name": "stderr",
     "output_type": "stream",
     "text": [
      "\r",
      " 11%|█         | 33/300 [00:08<01:03,  4.18it/s]"
     ]
    },
    {
     "name": "stderr",
     "output_type": "stream",
     "text": [
      "\r",
      " 11%|█▏        | 34/300 [00:09<01:08,  3.86it/s]"
     ]
    },
    {
     "name": "stderr",
     "output_type": "stream",
     "text": [
      "\r",
      " 12%|█▏        | 35/300 [00:09<01:13,  3.61it/s]"
     ]
    },
    {
     "name": "stderr",
     "output_type": "stream",
     "text": [
      "\r",
      " 12%|█▏        | 36/300 [00:09<01:00,  4.36it/s]"
     ]
    },
    {
     "name": "stderr",
     "output_type": "stream",
     "text": [
      "\r",
      " 12%|█▏        | 37/300 [00:09<00:51,  5.13it/s]"
     ]
    },
    {
     "name": "stderr",
     "output_type": "stream",
     "text": [
      "\r",
      " 13%|█▎        | 38/300 [00:09<00:46,  5.67it/s]"
     ]
    },
    {
     "name": "stderr",
     "output_type": "stream",
     "text": [
      "\r",
      " 13%|█▎        | 39/300 [00:10<01:16,  3.43it/s]"
     ]
    },
    {
     "name": "stderr",
     "output_type": "stream",
     "text": [
      "\r",
      " 13%|█▎        | 40/300 [00:10<01:04,  4.05it/s]"
     ]
    },
    {
     "name": "stderr",
     "output_type": "stream",
     "text": [
      "\r",
      " 14%|█▎        | 41/300 [00:10<00:55,  4.69it/s]"
     ]
    },
    {
     "name": "stderr",
     "output_type": "stream",
     "text": [
      "\r",
      " 14%|█▍        | 42/300 [00:10<00:47,  5.38it/s]"
     ]
    },
    {
     "name": "stderr",
     "output_type": "stream",
     "text": [
      "\r",
      " 14%|█▍        | 43/300 [00:10<00:43,  5.87it/s]"
     ]
    },
    {
     "name": "stderr",
     "output_type": "stream",
     "text": [
      "\r",
      " 15%|█▍        | 44/300 [00:11<00:55,  4.64it/s]"
     ]
    },
    {
     "name": "stderr",
     "output_type": "stream",
     "text": [
      "\r",
      " 15%|█▌        | 45/300 [00:11<00:49,  5.11it/s]"
     ]
    },
    {
     "name": "stderr",
     "output_type": "stream",
     "text": [
      "\r",
      " 15%|█▌        | 46/300 [00:11<00:44,  5.67it/s]"
     ]
    },
    {
     "name": "stderr",
     "output_type": "stream",
     "text": [
      "\r",
      " 16%|█▌        | 47/300 [00:11<00:40,  6.21it/s]"
     ]
    },
    {
     "name": "stderr",
     "output_type": "stream",
     "text": [
      "\r",
      " 16%|█▌        | 48/300 [00:11<00:38,  6.50it/s]"
     ]
    },
    {
     "name": "stderr",
     "output_type": "stream",
     "text": [
      "\r",
      " 16%|█▋        | 49/300 [00:11<00:51,  4.91it/s]"
     ]
    },
    {
     "name": "stderr",
     "output_type": "stream",
     "text": [
      "\r",
      " 17%|█▋        | 50/300 [00:12<00:57,  4.36it/s]"
     ]
    },
    {
     "name": "stderr",
     "output_type": "stream",
     "text": [
      "\r",
      " 17%|█▋        | 51/300 [00:12<01:02,  4.01it/s]"
     ]
    },
    {
     "name": "stderr",
     "output_type": "stream",
     "text": [
      "\r",
      " 17%|█▋        | 52/300 [00:12<00:52,  4.70it/s]"
     ]
    },
    {
     "name": "stderr",
     "output_type": "stream",
     "text": [
      "\r",
      " 18%|█▊        | 53/300 [00:12<00:45,  5.46it/s]"
     ]
    },
    {
     "name": "stderr",
     "output_type": "stream",
     "text": [
      "\r",
      " 18%|█▊        | 54/300 [00:12<00:40,  6.04it/s]"
     ]
    },
    {
     "name": "stderr",
     "output_type": "stream",
     "text": [
      "\r",
      " 18%|█▊        | 55/300 [00:13<00:37,  6.50it/s]"
     ]
    },
    {
     "name": "stderr",
     "output_type": "stream",
     "text": [
      "\r",
      " 19%|█▊        | 56/300 [00:13<00:49,  4.93it/s]"
     ]
    },
    {
     "name": "stderr",
     "output_type": "stream",
     "text": [
      "\r",
      " 19%|█▉        | 57/300 [00:13<00:43,  5.59it/s]"
     ]
    },
    {
     "name": "stderr",
     "output_type": "stream",
     "text": [
      "\r",
      " 19%|█▉        | 58/300 [00:13<00:39,  6.18it/s]"
     ]
    },
    {
     "name": "stderr",
     "output_type": "stream",
     "text": [
      "\r",
      " 20%|█▉        | 59/300 [00:13<00:37,  6.45it/s]"
     ]
    },
    {
     "name": "stderr",
     "output_type": "stream",
     "text": [
      "\r",
      " 20%|██        | 60/300 [00:13<00:35,  6.70it/s]"
     ]
    },
    {
     "name": "stderr",
     "output_type": "stream",
     "text": [
      "\r",
      " 20%|██        | 61/300 [00:14<00:55,  4.34it/s]"
     ]
    },
    {
     "name": "stderr",
     "output_type": "stream",
     "text": [
      "\r",
      " 21%|██        | 62/300 [00:14<01:06,  3.57it/s]"
     ]
    },
    {
     "name": "stderr",
     "output_type": "stream",
     "text": [
      "\r",
      " 21%|██        | 63/300 [00:14<00:55,  4.24it/s]"
     ]
    },
    {
     "name": "stderr",
     "output_type": "stream",
     "text": [
      "\r",
      " 21%|██▏       | 64/300 [00:15<01:11,  3.28it/s]"
     ]
    },
    {
     "name": "stderr",
     "output_type": "stream",
     "text": [
      "\r",
      " 22%|██▏       | 65/300 [00:15<01:22,  2.85it/s]"
     ]
    },
    {
     "name": "stderr",
     "output_type": "stream",
     "text": [
      "\r",
      " 22%|██▏       | 66/300 [00:15<01:06,  3.54it/s]"
     ]
    },
    {
     "name": "stderr",
     "output_type": "stream",
     "text": [
      "\r",
      " 22%|██▏       | 67/300 [00:16<01:07,  3.46it/s]"
     ]
    },
    {
     "name": "stderr",
     "output_type": "stream",
     "text": [
      "\r",
      " 23%|██▎       | 68/300 [00:16<01:11,  3.26it/s]"
     ]
    },
    {
     "name": "stderr",
     "output_type": "stream",
     "text": [
      "\r",
      " 23%|██▎       | 69/300 [00:17<01:31,  2.54it/s]"
     ]
    },
    {
     "name": "stderr",
     "output_type": "stream",
     "text": [
      "\r",
      " 23%|██▎       | 70/300 [00:17<01:40,  2.29it/s]"
     ]
    },
    {
     "name": "stderr",
     "output_type": "stream",
     "text": [
      "\r",
      " 24%|██▎       | 71/300 [00:18<01:51,  2.05it/s]"
     ]
    },
    {
     "name": "stderr",
     "output_type": "stream",
     "text": [
      "\r",
      " 24%|██▍       | 72/300 [00:18<01:26,  2.62it/s]"
     ]
    },
    {
     "name": "stderr",
     "output_type": "stream",
     "text": [
      "\r",
      " 24%|██▍       | 73/300 [00:18<01:08,  3.30it/s]"
     ]
    },
    {
     "name": "stderr",
     "output_type": "stream",
     "text": [
      "\r",
      " 25%|██▍       | 74/300 [00:18<00:56,  4.00it/s]"
     ]
    },
    {
     "name": "stderr",
     "output_type": "stream",
     "text": [
      "\r",
      " 25%|██▌       | 75/300 [00:19<01:11,  3.13it/s]"
     ]
    },
    {
     "name": "stderr",
     "output_type": "stream",
     "text": [
      "\r",
      " 25%|██▌       | 76/300 [00:19<01:22,  2.72it/s]"
     ]
    },
    {
     "name": "stderr",
     "output_type": "stream",
     "text": [
      "\r",
      " 26%|██▌       | 77/300 [00:20<01:26,  2.58it/s]"
     ]
    },
    {
     "name": "stderr",
     "output_type": "stream",
     "text": [
      "\r",
      " 26%|██▌       | 78/300 [00:20<01:22,  2.70it/s]"
     ]
    },
    {
     "name": "stderr",
     "output_type": "stream",
     "text": [
      "\r",
      " 26%|██▋       | 79/300 [00:20<01:05,  3.39it/s]"
     ]
    },
    {
     "name": "stderr",
     "output_type": "stream",
     "text": [
      "\r",
      " 27%|██▋       | 80/300 [00:20<00:53,  4.07it/s]"
     ]
    },
    {
     "name": "stderr",
     "output_type": "stream",
     "text": [
      "\r",
      " 27%|██▋       | 81/300 [00:20<00:46,  4.73it/s]"
     ]
    },
    {
     "name": "stderr",
     "output_type": "stream",
     "text": [
      "\r",
      " 27%|██▋       | 82/300 [00:20<00:41,  5.21it/s]"
     ]
    },
    {
     "name": "stderr",
     "output_type": "stream",
     "text": [
      "\r",
      " 28%|██▊       | 83/300 [00:21<00:36,  5.96it/s]"
     ]
    },
    {
     "name": "stderr",
     "output_type": "stream",
     "text": [
      "\r",
      " 28%|██▊       | 84/300 [00:21<00:34,  6.30it/s]"
     ]
    },
    {
     "name": "stderr",
     "output_type": "stream",
     "text": [
      "\r",
      " 28%|██▊       | 85/300 [00:21<00:33,  6.49it/s]"
     ]
    },
    {
     "name": "stderr",
     "output_type": "stream",
     "text": [
      "\r",
      " 29%|██▊       | 86/300 [00:21<00:31,  6.78it/s]"
     ]
    },
    {
     "name": "stderr",
     "output_type": "stream",
     "text": [
      "\r",
      " 29%|██▉       | 87/300 [00:21<00:31,  6.72it/s]"
     ]
    },
    {
     "name": "stderr",
     "output_type": "stream",
     "text": [
      "\r",
      " 29%|██▉       | 88/300 [00:21<00:41,  5.10it/s]"
     ]
    },
    {
     "name": "stderr",
     "output_type": "stream",
     "text": [
      "\r",
      " 30%|██▉       | 89/300 [00:22<00:36,  5.71it/s]"
     ]
    },
    {
     "name": "stderr",
     "output_type": "stream",
     "text": [
      "\r",
      " 30%|███       | 90/300 [00:22<00:34,  6.09it/s]"
     ]
    },
    {
     "name": "stderr",
     "output_type": "stream",
     "text": [
      "\r",
      " 30%|███       | 91/300 [00:22<00:47,  4.43it/s]"
     ]
    },
    {
     "name": "stderr",
     "output_type": "stream",
     "text": [
      "\r",
      " 31%|███       | 92/300 [00:22<00:40,  5.12it/s]"
     ]
    },
    {
     "name": "stderr",
     "output_type": "stream",
     "text": [
      "\r",
      " 31%|███       | 93/300 [00:22<00:36,  5.66it/s]"
     ]
    },
    {
     "name": "stderr",
     "output_type": "stream",
     "text": [
      "\r",
      " 31%|███▏      | 94/300 [00:22<00:36,  5.70it/s]"
     ]
    },
    {
     "name": "stderr",
     "output_type": "stream",
     "text": [
      "\r",
      " 32%|███▏      | 95/300 [00:23<00:46,  4.38it/s]"
     ]
    },
    {
     "name": "stderr",
     "output_type": "stream",
     "text": [
      "\r",
      " 32%|███▏      | 96/300 [00:23<00:47,  4.28it/s]"
     ]
    },
    {
     "name": "stderr",
     "output_type": "stream",
     "text": [
      "\r",
      " 32%|███▏      | 97/300 [00:23<00:41,  4.89it/s]"
     ]
    },
    {
     "name": "stderr",
     "output_type": "stream",
     "text": [
      "\r",
      " 33%|███▎      | 98/300 [00:23<00:36,  5.57it/s]"
     ]
    },
    {
     "name": "stderr",
     "output_type": "stream",
     "text": [
      "\r",
      " 33%|███▎      | 99/300 [00:23<00:34,  5.77it/s]"
     ]
    },
    {
     "name": "stderr",
     "output_type": "stream",
     "text": [
      "\r",
      " 33%|███▎      | 100/300 [00:24<00:43,  4.55it/s]"
     ]
    },
    {
     "name": "stderr",
     "output_type": "stream",
     "text": [
      "\r",
      " 34%|███▎      | 101/300 [00:24<00:39,  5.09it/s]"
     ]
    },
    {
     "name": "stderr",
     "output_type": "stream",
     "text": [
      "\r",
      " 34%|███▍      | 102/300 [00:24<00:34,  5.72it/s]"
     ]
    },
    {
     "name": "stderr",
     "output_type": "stream",
     "text": [
      "\r",
      " 34%|███▍      | 103/300 [00:24<00:31,  6.20it/s]"
     ]
    },
    {
     "name": "stderr",
     "output_type": "stream",
     "text": [
      "\r",
      " 35%|███▍      | 104/300 [00:24<00:29,  6.55it/s]"
     ]
    },
    {
     "name": "stderr",
     "output_type": "stream",
     "text": [
      "\r",
      " 35%|███▌      | 105/300 [00:24<00:28,  6.91it/s]"
     ]
    },
    {
     "name": "stderr",
     "output_type": "stream",
     "text": [
      "\r",
      " 35%|███▌      | 106/300 [00:25<00:37,  5.16it/s]"
     ]
    },
    {
     "name": "stderr",
     "output_type": "stream",
     "text": [
      "\r",
      " 36%|███▌      | 107/300 [00:25<00:33,  5.81it/s]"
     ]
    },
    {
     "name": "stderr",
     "output_type": "stream",
     "text": [
      "\r",
      " 36%|███▌      | 108/300 [00:25<00:30,  6.38it/s]"
     ]
    },
    {
     "name": "stderr",
     "output_type": "stream",
     "text": [
      "\r",
      " 36%|███▋      | 109/300 [00:25<00:28,  6.64it/s]"
     ]
    },
    {
     "name": "stderr",
     "output_type": "stream",
     "text": [
      "\r",
      " 37%|███▋      | 110/300 [00:25<00:28,  6.77it/s]"
     ]
    },
    {
     "name": "stderr",
     "output_type": "stream",
     "text": [
      "\r",
      " 37%|███▋      | 111/300 [00:25<00:28,  6.62it/s]"
     ]
    },
    {
     "name": "stderr",
     "output_type": "stream",
     "text": [
      "\r",
      " 37%|███▋      | 112/300 [00:26<00:26,  7.10it/s]"
     ]
    },
    {
     "name": "stderr",
     "output_type": "stream",
     "text": [
      "\r",
      " 38%|███▊      | 113/300 [00:26<00:37,  5.00it/s]"
     ]
    },
    {
     "name": "stderr",
     "output_type": "stream",
     "text": [
      "\r",
      " 38%|███▊      | 114/300 [00:26<00:32,  5.64it/s]"
     ]
    },
    {
     "name": "stderr",
     "output_type": "stream",
     "text": [
      "\r",
      " 38%|███▊      | 115/300 [00:26<00:30,  6.08it/s]"
     ]
    },
    {
     "name": "stderr",
     "output_type": "stream",
     "text": [
      "\r",
      " 39%|███▊      | 116/300 [00:26<00:27,  6.61it/s]"
     ]
    },
    {
     "name": "stderr",
     "output_type": "stream",
     "text": [
      "\r",
      " 39%|███▉      | 117/300 [00:26<00:25,  7.22it/s]"
     ]
    },
    {
     "name": "stderr",
     "output_type": "stream",
     "text": [
      "\r",
      " 39%|███▉      | 118/300 [00:27<00:28,  6.48it/s]"
     ]
    },
    {
     "name": "stderr",
     "output_type": "stream",
     "text": [
      "\r",
      " 40%|███▉      | 119/300 [00:27<00:34,  5.20it/s]"
     ]
    },
    {
     "name": "stderr",
     "output_type": "stream",
     "text": [
      "\r",
      " 40%|████      | 120/300 [00:27<00:31,  5.77it/s]"
     ]
    },
    {
     "name": "stderr",
     "output_type": "stream",
     "text": [
      "\r",
      " 40%|████      | 121/300 [00:27<00:29,  6.15it/s]"
     ]
    },
    {
     "name": "stderr",
     "output_type": "stream",
     "text": [
      "\r",
      " 41%|████      | 122/300 [00:28<00:41,  4.28it/s]"
     ]
    },
    {
     "name": "stderr",
     "output_type": "stream",
     "text": [
      "\r",
      " 41%|████      | 123/300 [00:28<00:44,  4.01it/s]"
     ]
    },
    {
     "name": "stderr",
     "output_type": "stream",
     "text": [
      "\r",
      " 41%|████▏     | 124/300 [00:28<00:38,  4.60it/s]"
     ]
    },
    {
     "name": "stderr",
     "output_type": "stream",
     "text": [
      "\r",
      " 42%|████▏     | 125/300 [00:28<00:47,  3.72it/s]"
     ]
    },
    {
     "name": "stderr",
     "output_type": "stream",
     "text": [
      "\r",
      " 42%|████▏     | 126/300 [00:28<00:38,  4.49it/s]"
     ]
    },
    {
     "name": "stderr",
     "output_type": "stream",
     "text": [
      "\r",
      " 42%|████▏     | 127/300 [00:29<00:33,  5.12it/s]"
     ]
    },
    {
     "name": "stderr",
     "output_type": "stream",
     "text": [
      "\r",
      " 43%|████▎     | 128/300 [00:29<00:29,  5.76it/s]"
     ]
    },
    {
     "name": "stderr",
     "output_type": "stream",
     "text": [
      "\r",
      " 43%|████▎     | 129/300 [00:29<00:41,  4.12it/s]"
     ]
    },
    {
     "name": "stderr",
     "output_type": "stream",
     "text": [
      "\r",
      " 43%|████▎     | 130/300 [00:29<00:35,  4.79it/s]"
     ]
    },
    {
     "name": "stderr",
     "output_type": "stream",
     "text": [
      "\r",
      " 44%|████▎     | 131/300 [00:30<00:40,  4.14it/s]"
     ]
    },
    {
     "name": "stderr",
     "output_type": "stream",
     "text": [
      "\r",
      " 44%|████▍     | 132/300 [00:30<00:34,  4.91it/s]"
     ]
    },
    {
     "name": "stderr",
     "output_type": "stream",
     "text": [
      "\r",
      " 44%|████▍     | 133/300 [00:30<00:41,  4.00it/s]"
     ]
    },
    {
     "name": "stderr",
     "output_type": "stream",
     "text": [
      "\r",
      " 45%|████▍     | 134/300 [00:30<00:35,  4.69it/s]"
     ]
    },
    {
     "name": "stderr",
     "output_type": "stream",
     "text": [
      "\r",
      " 45%|████▌     | 135/300 [00:30<00:30,  5.46it/s]"
     ]
    },
    {
     "name": "stderr",
     "output_type": "stream",
     "text": [
      "\r",
      " 45%|████▌     | 136/300 [00:30<00:27,  5.93it/s]"
     ]
    },
    {
     "name": "stderr",
     "output_type": "stream",
     "text": [
      "\r",
      " 46%|████▌     | 137/300 [00:31<00:24,  6.64it/s]"
     ]
    },
    {
     "name": "stderr",
     "output_type": "stream",
     "text": [
      "\r",
      " 46%|████▌     | 138/300 [00:31<00:32,  4.91it/s]"
     ]
    },
    {
     "name": "stderr",
     "output_type": "stream",
     "text": [
      "\r",
      " 46%|████▋     | 139/300 [00:31<00:28,  5.58it/s]"
     ]
    },
    {
     "name": "stderr",
     "output_type": "stream",
     "text": [
      "\r",
      " 47%|████▋     | 140/300 [00:31<00:35,  4.51it/s]"
     ]
    },
    {
     "name": "stderr",
     "output_type": "stream",
     "text": [
      "\r",
      " 47%|████▋     | 141/300 [00:31<00:30,  5.28it/s]"
     ]
    },
    {
     "name": "stderr",
     "output_type": "stream",
     "text": [
      "\r",
      " 47%|████▋     | 142/300 [00:32<00:27,  5.80it/s]"
     ]
    },
    {
     "name": "stderr",
     "output_type": "stream",
     "text": [
      "\r",
      " 48%|████▊     | 143/300 [00:32<00:24,  6.40it/s]"
     ]
    },
    {
     "name": "stderr",
     "output_type": "stream",
     "text": [
      "\r",
      " 48%|████▊     | 144/300 [00:32<00:22,  6.96it/s]"
     ]
    },
    {
     "name": "stderr",
     "output_type": "stream",
     "text": [
      "\r",
      " 48%|████▊     | 145/300 [00:32<00:22,  6.79it/s]"
     ]
    },
    {
     "name": "stderr",
     "output_type": "stream",
     "text": [
      "\r",
      " 49%|████▊     | 146/300 [00:32<00:21,  7.02it/s]"
     ]
    },
    {
     "name": "stderr",
     "output_type": "stream",
     "text": [
      "\r",
      " 49%|████▉     | 147/300 [00:32<00:20,  7.32it/s]"
     ]
    },
    {
     "name": "stderr",
     "output_type": "stream",
     "text": [
      "\r",
      " 49%|████▉     | 148/300 [00:32<00:20,  7.35it/s]"
     ]
    },
    {
     "name": "stderr",
     "output_type": "stream",
     "text": [
      "\r",
      " 50%|████▉     | 149/300 [00:33<00:28,  5.25it/s]"
     ]
    },
    {
     "name": "stderr",
     "output_type": "stream",
     "text": [
      "\r",
      " 50%|█████     | 150/300 [00:33<00:26,  5.74it/s]"
     ]
    },
    {
     "name": "stderr",
     "output_type": "stream",
     "text": [
      "\r",
      " 50%|█████     | 151/300 [00:33<00:36,  4.07it/s]"
     ]
    },
    {
     "name": "stderr",
     "output_type": "stream",
     "text": [
      "\r",
      " 51%|█████     | 152/300 [00:34<00:43,  3.43it/s]"
     ]
    },
    {
     "name": "stderr",
     "output_type": "stream",
     "text": [
      "\r",
      " 51%|█████     | 153/300 [00:34<00:46,  3.17it/s]"
     ]
    },
    {
     "name": "stderr",
     "output_type": "stream",
     "text": [
      "\r",
      " 51%|█████▏    | 154/300 [00:34<00:53,  2.75it/s]"
     ]
    },
    {
     "name": "stderr",
     "output_type": "stream",
     "text": [
      "\r",
      " 52%|█████▏    | 155/300 [00:35<00:42,  3.41it/s]"
     ]
    },
    {
     "name": "stderr",
     "output_type": "stream",
     "text": [
      "\r",
      " 52%|█████▏    | 156/300 [00:35<00:37,  3.81it/s]"
     ]
    },
    {
     "name": "stderr",
     "output_type": "stream",
     "text": [
      "\r",
      " 52%|█████▏    | 157/300 [00:35<00:31,  4.49it/s]"
     ]
    },
    {
     "name": "stderr",
     "output_type": "stream",
     "text": [
      "\r",
      " 53%|█████▎    | 158/300 [00:35<00:30,  4.61it/s]"
     ]
    },
    {
     "name": "stderr",
     "output_type": "stream",
     "text": [
      "\r",
      " 53%|█████▎    | 159/300 [00:35<00:36,  3.81it/s]"
     ]
    },
    {
     "name": "stderr",
     "output_type": "stream",
     "text": [
      "\r",
      " 53%|█████▎    | 160/300 [00:36<00:31,  4.41it/s]"
     ]
    },
    {
     "name": "stderr",
     "output_type": "stream",
     "text": [
      "\r",
      " 54%|█████▎    | 161/300 [00:36<00:35,  3.94it/s]"
     ]
    },
    {
     "name": "stderr",
     "output_type": "stream",
     "text": [
      "\r",
      " 54%|█████▍    | 162/300 [00:36<00:41,  3.34it/s]"
     ]
    },
    {
     "name": "stderr",
     "output_type": "stream",
     "text": [
      "\r",
      " 54%|█████▍    | 163/300 [00:37<00:44,  3.05it/s]"
     ]
    },
    {
     "name": "stderr",
     "output_type": "stream",
     "text": [
      "\r",
      " 55%|█████▍    | 164/300 [00:37<00:36,  3.78it/s]"
     ]
    },
    {
     "name": "stderr",
     "output_type": "stream",
     "text": [
      "\r",
      " 55%|█████▌    | 165/300 [00:37<00:29,  4.56it/s]"
     ]
    },
    {
     "name": "stderr",
     "output_type": "stream",
     "text": [
      "\r",
      " 55%|█████▌    | 166/300 [00:37<00:25,  5.28it/s]"
     ]
    },
    {
     "name": "stderr",
     "output_type": "stream",
     "text": [
      "\r",
      " 56%|█████▌    | 167/300 [00:38<00:39,  3.38it/s]"
     ]
    },
    {
     "name": "stderr",
     "output_type": "stream",
     "text": [
      "\r",
      " 56%|█████▌    | 168/300 [00:38<00:32,  4.04it/s]"
     ]
    },
    {
     "name": "stderr",
     "output_type": "stream",
     "text": [
      "\r",
      " 56%|█████▋    | 169/300 [00:38<00:38,  3.43it/s]"
     ]
    },
    {
     "name": "stderr",
     "output_type": "stream",
     "text": [
      "\r",
      " 57%|█████▋    | 170/300 [00:38<00:31,  4.06it/s]"
     ]
    },
    {
     "name": "stderr",
     "output_type": "stream",
     "text": [
      "\r",
      " 57%|█████▋    | 171/300 [00:38<00:27,  4.74it/s]"
     ]
    },
    {
     "name": "stderr",
     "output_type": "stream",
     "text": [
      "\r",
      " 57%|█████▋    | 172/300 [00:39<00:36,  3.54it/s]"
     ]
    },
    {
     "name": "stderr",
     "output_type": "stream",
     "text": [
      "\r",
      " 58%|█████▊    | 173/300 [00:40<00:50,  2.52it/s]"
     ]
    },
    {
     "name": "stderr",
     "output_type": "stream",
     "text": [
      "\r",
      " 58%|█████▊    | 174/300 [00:40<00:57,  2.20it/s]"
     ]
    },
    {
     "name": "stderr",
     "output_type": "stream",
     "text": [
      "\r",
      " 58%|█████▊    | 175/300 [00:40<00:44,  2.79it/s]"
     ]
    },
    {
     "name": "stderr",
     "output_type": "stream",
     "text": [
      "\r",
      " 59%|█████▊    | 176/300 [00:41<00:49,  2.49it/s]"
     ]
    },
    {
     "name": "stderr",
     "output_type": "stream",
     "text": [
      "\r",
      " 59%|█████▉    | 177/300 [00:41<00:50,  2.44it/s]"
     ]
    },
    {
     "name": "stderr",
     "output_type": "stream",
     "text": [
      "\r",
      " 59%|█████▉    | 178/300 [00:42<00:48,  2.54it/s]"
     ]
    },
    {
     "name": "stderr",
     "output_type": "stream",
     "text": [
      "\r",
      " 60%|█████▉    | 179/300 [00:42<00:38,  3.14it/s]"
     ]
    },
    {
     "name": "stderr",
     "output_type": "stream",
     "text": [
      "\r",
      " 60%|██████    | 180/300 [00:42<00:31,  3.80it/s]"
     ]
    },
    {
     "name": "stderr",
     "output_type": "stream",
     "text": [
      "\r",
      " 60%|██████    | 181/300 [00:42<00:27,  4.27it/s]"
     ]
    },
    {
     "name": "stderr",
     "output_type": "stream",
     "text": [
      "\r",
      " 61%|██████    | 182/300 [00:42<00:37,  3.18it/s]"
     ]
    },
    {
     "name": "stderr",
     "output_type": "stream",
     "text": [
      "\r",
      " 61%|██████    | 183/300 [00:43<00:39,  2.96it/s]"
     ]
    },
    {
     "name": "stderr",
     "output_type": "stream",
     "text": [
      "\r",
      " 61%|██████▏   | 184/300 [00:44<00:51,  2.23it/s]"
     ]
    },
    {
     "name": "stderr",
     "output_type": "stream",
     "text": [
      "\r",
      " 62%|██████▏   | 185/300 [00:44<00:40,  2.85it/s]"
     ]
    },
    {
     "name": "stderr",
     "output_type": "stream",
     "text": [
      "\r",
      " 62%|██████▏   | 186/300 [00:44<00:40,  2.83it/s]"
     ]
    },
    {
     "name": "stderr",
     "output_type": "stream",
     "text": [
      "\r",
      " 62%|██████▏   | 187/300 [00:44<00:32,  3.52it/s]"
     ]
    },
    {
     "name": "stderr",
     "output_type": "stream",
     "text": [
      "\r",
      " 63%|██████▎   | 188/300 [00:44<00:26,  4.25it/s]"
     ]
    },
    {
     "name": "stderr",
     "output_type": "stream",
     "text": [
      "\r",
      " 63%|██████▎   | 189/300 [00:44<00:22,  5.02it/s]"
     ]
    },
    {
     "name": "stderr",
     "output_type": "stream",
     "text": [
      "\r",
      " 63%|██████▎   | 190/300 [00:45<00:24,  4.47it/s]"
     ]
    },
    {
     "name": "stderr",
     "output_type": "stream",
     "text": [
      "\r",
      " 64%|██████▎   | 191/300 [00:45<00:21,  4.99it/s]"
     ]
    },
    {
     "name": "stderr",
     "output_type": "stream",
     "text": [
      "\r",
      " 64%|██████▍   | 192/300 [00:45<00:27,  3.90it/s]"
     ]
    },
    {
     "name": "stderr",
     "output_type": "stream",
     "text": [
      "\r",
      " 64%|██████▍   | 193/300 [00:45<00:23,  4.60it/s]"
     ]
    },
    {
     "name": "stderr",
     "output_type": "stream",
     "text": [
      "\r",
      " 65%|██████▍   | 194/300 [00:45<00:19,  5.41it/s]"
     ]
    },
    {
     "name": "stderr",
     "output_type": "stream",
     "text": [
      "\r",
      " 65%|██████▌   | 195/300 [00:46<00:17,  5.94it/s]"
     ]
    },
    {
     "name": "stderr",
     "output_type": "stream",
     "text": [
      "\r",
      " 65%|██████▌   | 196/300 [00:46<00:21,  4.87it/s]"
     ]
    },
    {
     "name": "stderr",
     "output_type": "stream",
     "text": [
      "\r",
      " 66%|██████▌   | 197/300 [00:46<00:18,  5.48it/s]"
     ]
    },
    {
     "name": "stderr",
     "output_type": "stream",
     "text": [
      "\r",
      " 66%|██████▌   | 198/300 [00:46<00:16,  6.24it/s]"
     ]
    },
    {
     "name": "stderr",
     "output_type": "stream",
     "text": [
      "\r",
      " 66%|██████▋   | 199/300 [00:46<00:14,  6.76it/s]"
     ]
    },
    {
     "name": "stderr",
     "output_type": "stream",
     "text": [
      "\r",
      " 67%|██████▋   | 201/300 [00:46<00:12,  7.78it/s]"
     ]
    },
    {
     "name": "stderr",
     "output_type": "stream",
     "text": [
      "\r",
      " 67%|██████▋   | 202/300 [00:47<00:14,  6.96it/s]"
     ]
    },
    {
     "name": "stderr",
     "output_type": "stream",
     "text": [
      "\r",
      " 68%|██████▊   | 203/300 [00:47<00:13,  6.97it/s]"
     ]
    },
    {
     "name": "stderr",
     "output_type": "stream",
     "text": [
      "\r",
      " 68%|██████▊   | 204/300 [00:47<00:21,  4.50it/s]"
     ]
    },
    {
     "name": "stderr",
     "output_type": "stream",
     "text": [
      "\r",
      " 68%|██████▊   | 205/300 [00:47<00:19,  4.75it/s]"
     ]
    },
    {
     "name": "stderr",
     "output_type": "stream",
     "text": [
      "\r",
      " 69%|██████▊   | 206/300 [00:48<00:17,  5.27it/s]"
     ]
    },
    {
     "name": "stderr",
     "output_type": "stream",
     "text": [
      "\r",
      " 69%|██████▉   | 207/300 [00:48<00:15,  5.87it/s]"
     ]
    },
    {
     "name": "stderr",
     "output_type": "stream",
     "text": [
      "\r",
      " 69%|██████▉   | 208/300 [00:48<00:14,  6.31it/s]"
     ]
    },
    {
     "name": "stderr",
     "output_type": "stream",
     "text": [
      "\r",
      " 70%|██████▉   | 209/300 [00:48<00:13,  6.64it/s]"
     ]
    },
    {
     "name": "stderr",
     "output_type": "stream",
     "text": [
      "\r",
      " 70%|███████   | 210/300 [00:48<00:13,  6.91it/s]"
     ]
    },
    {
     "name": "stderr",
     "output_type": "stream",
     "text": [
      "\r",
      " 70%|███████   | 211/300 [00:48<00:12,  6.85it/s]"
     ]
    },
    {
     "name": "stderr",
     "output_type": "stream",
     "text": [
      "\r",
      " 71%|███████   | 212/300 [00:49<00:19,  4.41it/s]"
     ]
    },
    {
     "name": "stderr",
     "output_type": "stream",
     "text": [
      "\r",
      " 71%|███████   | 213/300 [00:49<00:22,  3.83it/s]"
     ]
    },
    {
     "name": "stderr",
     "output_type": "stream",
     "text": [
      "\r",
      " 71%|███████▏  | 214/300 [00:49<00:24,  3.45it/s]"
     ]
    },
    {
     "name": "stderr",
     "output_type": "stream",
     "text": [
      "\r",
      " 72%|███████▏  | 215/300 [00:50<00:26,  3.27it/s]"
     ]
    },
    {
     "name": "stderr",
     "output_type": "stream",
     "text": [
      "\r",
      " 72%|███████▏  | 216/300 [00:50<00:29,  2.83it/s]"
     ]
    },
    {
     "name": "stderr",
     "output_type": "stream",
     "text": [
      "\r",
      " 72%|███████▏  | 217/300 [00:50<00:23,  3.49it/s]"
     ]
    },
    {
     "name": "stderr",
     "output_type": "stream",
     "text": [
      "\r",
      " 73%|███████▎  | 218/300 [00:50<00:19,  4.14it/s]"
     ]
    },
    {
     "name": "stderr",
     "output_type": "stream",
     "text": [
      "\r",
      " 73%|███████▎  | 219/300 [00:51<00:16,  4.83it/s]"
     ]
    },
    {
     "name": "stderr",
     "output_type": "stream",
     "text": [
      "\r",
      " 73%|███████▎  | 220/300 [00:51<00:14,  5.60it/s]"
     ]
    },
    {
     "name": "stderr",
     "output_type": "stream",
     "text": [
      "\r",
      " 74%|███████▎  | 221/300 [00:51<00:20,  3.86it/s]"
     ]
    },
    {
     "name": "stderr",
     "output_type": "stream",
     "text": [
      "\r",
      " 74%|███████▍  | 222/300 [00:51<00:16,  4.65it/s]"
     ]
    },
    {
     "name": "stderr",
     "output_type": "stream",
     "text": [
      "\r",
      " 74%|███████▍  | 223/300 [00:51<00:14,  5.30it/s]"
     ]
    },
    {
     "name": "stderr",
     "output_type": "stream",
     "text": [
      "\r",
      " 75%|███████▍  | 224/300 [00:51<00:12,  5.93it/s]"
     ]
    },
    {
     "name": "stderr",
     "output_type": "stream",
     "text": [
      "\r",
      " 75%|███████▌  | 225/300 [00:52<00:12,  5.84it/s]"
     ]
    },
    {
     "name": "stderr",
     "output_type": "stream",
     "text": [
      "\r",
      " 75%|███████▌  | 226/300 [00:52<00:11,  6.37it/s]"
     ]
    },
    {
     "name": "stderr",
     "output_type": "stream",
     "text": [
      "\r",
      " 76%|███████▌  | 227/300 [00:52<00:14,  5.05it/s]"
     ]
    },
    {
     "name": "stderr",
     "output_type": "stream",
     "text": [
      "\r",
      " 76%|███████▌  | 228/300 [00:52<00:15,  4.73it/s]"
     ]
    },
    {
     "name": "stderr",
     "output_type": "stream",
     "text": [
      "\r",
      " 76%|███████▋  | 229/300 [00:53<00:16,  4.26it/s]"
     ]
    },
    {
     "name": "stderr",
     "output_type": "stream",
     "text": [
      "\r",
      " 77%|███████▋  | 230/300 [00:53<00:14,  4.85it/s]"
     ]
    },
    {
     "name": "stderr",
     "output_type": "stream",
     "text": [
      "\r",
      " 77%|███████▋  | 231/300 [00:53<00:12,  5.47it/s]"
     ]
    },
    {
     "name": "stderr",
     "output_type": "stream",
     "text": [
      "\r",
      " 77%|███████▋  | 232/300 [00:53<00:14,  4.58it/s]"
     ]
    },
    {
     "name": "stderr",
     "output_type": "stream",
     "text": [
      "\r",
      " 78%|███████▊  | 233/300 [00:53<00:12,  5.23it/s]"
     ]
    },
    {
     "name": "stderr",
     "output_type": "stream",
     "text": [
      "\r",
      " 78%|███████▊  | 234/300 [00:53<00:11,  5.88it/s]"
     ]
    },
    {
     "name": "stderr",
     "output_type": "stream",
     "text": [
      "\r",
      " 78%|███████▊  | 235/300 [00:54<00:10,  6.25it/s]"
     ]
    },
    {
     "name": "stderr",
     "output_type": "stream",
     "text": [
      "\r",
      " 79%|███████▊  | 236/300 [00:54<00:09,  6.67it/s]"
     ]
    },
    {
     "name": "stderr",
     "output_type": "stream",
     "text": [
      "\r",
      " 79%|███████▉  | 237/300 [00:54<00:09,  6.91it/s]"
     ]
    },
    {
     "name": "stderr",
     "output_type": "stream",
     "text": [
      "\r",
      " 79%|███████▉  | 238/300 [00:54<00:13,  4.75it/s]"
     ]
    },
    {
     "name": "stderr",
     "output_type": "stream",
     "text": [
      "\r",
      " 80%|███████▉  | 239/300 [00:54<00:11,  5.19it/s]"
     ]
    },
    {
     "name": "stderr",
     "output_type": "stream",
     "text": [
      "\r",
      " 80%|████████  | 240/300 [00:54<00:10,  5.58it/s]"
     ]
    },
    {
     "name": "stderr",
     "output_type": "stream",
     "text": [
      "\r",
      " 80%|████████  | 241/300 [00:55<00:13,  4.25it/s]"
     ]
    },
    {
     "name": "stderr",
     "output_type": "stream",
     "text": [
      "\r",
      " 81%|████████  | 242/300 [00:55<00:17,  3.29it/s]"
     ]
    },
    {
     "name": "stderr",
     "output_type": "stream",
     "text": [
      "\r",
      " 81%|████████  | 243/300 [00:56<00:17,  3.25it/s]"
     ]
    },
    {
     "name": "stderr",
     "output_type": "stream",
     "text": [
      "\r",
      " 81%|████████▏ | 244/300 [00:56<00:14,  3.89it/s]"
     ]
    },
    {
     "name": "stderr",
     "output_type": "stream",
     "text": [
      "\r",
      " 82%|████████▏ | 245/300 [00:56<00:12,  4.50it/s]"
     ]
    },
    {
     "name": "stderr",
     "output_type": "stream",
     "text": [
      "\r",
      " 82%|████████▏ | 246/300 [00:56<00:10,  5.18it/s]"
     ]
    },
    {
     "name": "stderr",
     "output_type": "stream",
     "text": [
      "\r",
      " 82%|████████▏ | 247/300 [00:56<00:09,  5.69it/s]"
     ]
    },
    {
     "name": "stderr",
     "output_type": "stream",
     "text": [
      "\r",
      " 83%|████████▎ | 248/300 [00:57<00:12,  4.18it/s]"
     ]
    },
    {
     "name": "stderr",
     "output_type": "stream",
     "text": [
      "\r",
      " 83%|████████▎ | 249/300 [00:57<00:10,  4.87it/s]"
     ]
    },
    {
     "name": "stderr",
     "output_type": "stream",
     "text": [
      "\r",
      " 83%|████████▎ | 250/300 [00:57<00:09,  5.42it/s]"
     ]
    },
    {
     "name": "stderr",
     "output_type": "stream",
     "text": [
      "\r",
      " 84%|████████▎ | 251/300 [00:57<00:11,  4.18it/s]"
     ]
    },
    {
     "name": "stderr",
     "output_type": "stream",
     "text": [
      "\r",
      " 84%|████████▍ | 252/300 [00:57<00:09,  4.83it/s]"
     ]
    },
    {
     "name": "stderr",
     "output_type": "stream",
     "text": [
      "\r",
      " 84%|████████▍ | 253/300 [00:57<00:08,  5.38it/s]"
     ]
    },
    {
     "name": "stderr",
     "output_type": "stream",
     "text": [
      "\r",
      " 85%|████████▍ | 254/300 [00:58<00:07,  6.12it/s]"
     ]
    },
    {
     "name": "stderr",
     "output_type": "stream",
     "text": [
      "\r",
      " 85%|████████▌ | 255/300 [00:58<00:07,  5.83it/s]"
     ]
    },
    {
     "name": "stderr",
     "output_type": "stream",
     "text": [
      "\r",
      " 85%|████████▌ | 256/300 [00:58<00:06,  6.40it/s]"
     ]
    },
    {
     "name": "stderr",
     "output_type": "stream",
     "text": [
      "\r",
      " 86%|████████▌ | 257/300 [00:58<00:06,  6.83it/s]"
     ]
    },
    {
     "name": "stderr",
     "output_type": "stream",
     "text": [
      "\r",
      " 86%|████████▌ | 258/300 [00:58<00:05,  7.24it/s]"
     ]
    },
    {
     "name": "stderr",
     "output_type": "stream",
     "text": [
      "\r",
      " 86%|████████▋ | 259/300 [00:58<00:07,  5.14it/s]"
     ]
    },
    {
     "name": "stderr",
     "output_type": "stream",
     "text": [
      "\r",
      " 87%|████████▋ | 260/300 [00:59<00:09,  4.13it/s]"
     ]
    },
    {
     "name": "stderr",
     "output_type": "stream",
     "text": [
      "\r",
      " 87%|████████▋ | 261/300 [00:59<00:08,  4.67it/s]"
     ]
    },
    {
     "name": "stderr",
     "output_type": "stream",
     "text": [
      "\r",
      " 87%|████████▋ | 262/300 [00:59<00:07,  5.28it/s]"
     ]
    },
    {
     "name": "stderr",
     "output_type": "stream",
     "text": [
      "\r",
      " 88%|████████▊ | 263/300 [00:59<00:06,  5.81it/s]"
     ]
    },
    {
     "name": "stderr",
     "output_type": "stream",
     "text": [
      "\r",
      " 88%|████████▊ | 264/300 [00:59<00:05,  6.17it/s]"
     ]
    },
    {
     "name": "stderr",
     "output_type": "stream",
     "text": [
      "\r",
      " 88%|████████▊ | 265/300 [00:59<00:05,  6.52it/s]"
     ]
    },
    {
     "name": "stderr",
     "output_type": "stream",
     "text": [
      "\r",
      " 89%|████████▊ | 266/300 [01:00<00:07,  4.81it/s]"
     ]
    },
    {
     "name": "stderr",
     "output_type": "stream",
     "text": [
      "\r",
      " 89%|████████▉ | 267/300 [01:00<00:06,  5.34it/s]"
     ]
    },
    {
     "name": "stderr",
     "output_type": "stream",
     "text": [
      "\r",
      " 89%|████████▉ | 268/300 [01:00<00:05,  5.82it/s]"
     ]
    },
    {
     "name": "stderr",
     "output_type": "stream",
     "text": [
      "\r",
      " 90%|████████▉ | 269/300 [01:00<00:04,  6.21it/s]"
     ]
    },
    {
     "name": "stderr",
     "output_type": "stream",
     "text": [
      "\r",
      " 90%|█████████ | 270/300 [01:00<00:04,  6.56it/s]"
     ]
    },
    {
     "name": "stderr",
     "output_type": "stream",
     "text": [
      "\r",
      " 90%|█████████ | 271/300 [01:01<00:07,  3.84it/s]"
     ]
    },
    {
     "name": "stderr",
     "output_type": "stream",
     "text": [
      "\r",
      " 91%|█████████ | 272/300 [01:01<00:07,  3.95it/s]"
     ]
    },
    {
     "name": "stderr",
     "output_type": "stream",
     "text": [
      "\r",
      " 91%|█████████ | 273/300 [01:02<00:08,  3.16it/s]"
     ]
    },
    {
     "name": "stderr",
     "output_type": "stream",
     "text": [
      "\r",
      " 91%|█████████▏| 274/300 [01:02<00:08,  3.04it/s]"
     ]
    },
    {
     "name": "stderr",
     "output_type": "stream",
     "text": [
      "\r",
      " 92%|█████████▏| 275/300 [01:02<00:08,  3.00it/s]"
     ]
    },
    {
     "name": "stderr",
     "output_type": "stream",
     "text": [
      "\r",
      " 92%|█████████▏| 276/300 [01:02<00:06,  3.67it/s]"
     ]
    },
    {
     "name": "stderr",
     "output_type": "stream",
     "text": [
      "\r",
      " 92%|█████████▏| 277/300 [01:03<00:07,  3.11it/s]"
     ]
    },
    {
     "name": "stderr",
     "output_type": "stream",
     "text": [
      "\r",
      " 93%|█████████▎| 278/300 [01:03<00:05,  3.80it/s]"
     ]
    },
    {
     "name": "stderr",
     "output_type": "stream",
     "text": [
      "\r",
      " 93%|█████████▎| 279/300 [01:03<00:04,  4.40it/s]"
     ]
    },
    {
     "name": "stderr",
     "output_type": "stream",
     "text": [
      "\r",
      " 93%|█████████▎| 280/300 [01:04<00:05,  3.38it/s]"
     ]
    },
    {
     "name": "stderr",
     "output_type": "stream",
     "text": [
      "\r",
      " 94%|█████████▎| 281/300 [01:04<00:06,  2.88it/s]"
     ]
    },
    {
     "name": "stderr",
     "output_type": "stream",
     "text": [
      "\r",
      " 94%|█████████▍| 282/300 [01:04<00:04,  3.62it/s]"
     ]
    },
    {
     "name": "stderr",
     "output_type": "stream",
     "text": [
      "\r",
      " 94%|█████████▍| 283/300 [01:04<00:04,  3.54it/s]"
     ]
    },
    {
     "name": "stderr",
     "output_type": "stream",
     "text": [
      "\r",
      " 95%|█████████▍| 284/300 [01:05<00:04,  3.37it/s]"
     ]
    },
    {
     "name": "stderr",
     "output_type": "stream",
     "text": [
      "\r",
      " 95%|█████████▌| 285/300 [01:05<00:03,  3.97it/s]"
     ]
    },
    {
     "name": "stderr",
     "output_type": "stream",
     "text": [
      "\r",
      " 95%|█████████▌| 286/300 [01:05<00:02,  4.68it/s]"
     ]
    },
    {
     "name": "stderr",
     "output_type": "stream",
     "text": [
      "\r",
      " 96%|█████████▌| 287/300 [01:05<00:03,  4.10it/s]"
     ]
    },
    {
     "name": "stderr",
     "output_type": "stream",
     "text": [
      "\r",
      " 96%|█████████▌| 288/300 [01:05<00:02,  4.73it/s]"
     ]
    },
    {
     "name": "stderr",
     "output_type": "stream",
     "text": [
      "\r",
      " 96%|█████████▋| 289/300 [01:06<00:03,  3.58it/s]"
     ]
    },
    {
     "name": "stderr",
     "output_type": "stream",
     "text": [
      "\r",
      " 97%|█████████▋| 290/300 [01:06<00:02,  4.28it/s]"
     ]
    },
    {
     "name": "stderr",
     "output_type": "stream",
     "text": [
      "\r",
      " 97%|█████████▋| 291/300 [01:06<00:02,  4.36it/s]"
     ]
    },
    {
     "name": "stderr",
     "output_type": "stream",
     "text": [
      "\r",
      " 97%|█████████▋| 292/300 [01:06<00:01,  4.99it/s]"
     ]
    },
    {
     "name": "stderr",
     "output_type": "stream",
     "text": [
      "\r",
      " 98%|█████████▊| 293/300 [01:06<00:01,  5.71it/s]"
     ]
    },
    {
     "name": "stderr",
     "output_type": "stream",
     "text": [
      "\r",
      " 98%|█████████▊| 294/300 [01:07<00:00,  6.24it/s]"
     ]
    },
    {
     "name": "stderr",
     "output_type": "stream",
     "text": [
      "\r",
      " 98%|█████████▊| 295/300 [01:07<00:00,  6.70it/s]"
     ]
    },
    {
     "name": "stderr",
     "output_type": "stream",
     "text": [
      "\r",
      " 99%|█████████▊| 296/300 [01:07<00:00,  7.02it/s]"
     ]
    },
    {
     "name": "stderr",
     "output_type": "stream",
     "text": [
      "\r",
      " 99%|█████████▉| 297/300 [01:07<00:00,  7.22it/s]"
     ]
    },
    {
     "name": "stderr",
     "output_type": "stream",
     "text": [
      "\r",
      " 99%|█████████▉| 298/300 [01:07<00:00,  6.85it/s]"
     ]
    },
    {
     "name": "stderr",
     "output_type": "stream",
     "text": [
      "\r",
      "100%|█████████▉| 299/300 [01:07<00:00,  6.72it/s]"
     ]
    },
    {
     "name": "stderr",
     "output_type": "stream",
     "text": [
      "\r",
      "100%|██████████| 300/300 [01:07<00:00,  6.42it/s]"
     ]
    },
    {
     "name": "stderr",
     "output_type": "stream",
     "text": [
      "\r",
      "100%|██████████| 300/300 [01:07<00:00,  4.41it/s]"
     ]
    },
    {
     "name": "stderr",
     "output_type": "stream",
     "text": [
      "\n"
     ]
    },
    {
     "name": "stdout",
     "output_type": "stream",
     "text": [
      "val :\n"
     ]
    },
    {
     "name": "stderr",
     "output_type": "stream",
     "text": [
      "\r",
      "  0%|          | 0/100 [00:00<?, ?it/s]"
     ]
    },
    {
     "name": "stderr",
     "output_type": "stream",
     "text": [
      "\r",
      "  1%|          | 1/100 [00:00<00:18,  5.32it/s]"
     ]
    },
    {
     "name": "stderr",
     "output_type": "stream",
     "text": [
      "\r",
      "  2%|▏         | 2/100 [00:00<00:18,  5.25it/s]"
     ]
    },
    {
     "name": "stderr",
     "output_type": "stream",
     "text": [
      "\r",
      "  3%|▎         | 3/100 [00:00<00:19,  4.94it/s]"
     ]
    },
    {
     "name": "stderr",
     "output_type": "stream",
     "text": [
      "\r",
      "  4%|▍         | 4/100 [00:00<00:17,  5.34it/s]"
     ]
    },
    {
     "name": "stderr",
     "output_type": "stream",
     "text": [
      "\r",
      "  5%|▌         | 5/100 [00:00<00:16,  5.77it/s]"
     ]
    },
    {
     "name": "stderr",
     "output_type": "stream",
     "text": [
      "\r",
      "  6%|▌         | 6/100 [00:01<00:15,  6.10it/s]"
     ]
    },
    {
     "name": "stderr",
     "output_type": "stream",
     "text": [
      "\r",
      "  7%|▋         | 7/100 [00:01<00:14,  6.38it/s]"
     ]
    },
    {
     "name": "stderr",
     "output_type": "stream",
     "text": [
      "\r",
      "  8%|▊         | 8/100 [00:01<00:15,  6.12it/s]"
     ]
    },
    {
     "name": "stderr",
     "output_type": "stream",
     "text": [
      "\r",
      "  9%|▉         | 9/100 [00:01<00:14,  6.49it/s]"
     ]
    },
    {
     "name": "stderr",
     "output_type": "stream",
     "text": [
      "\r",
      " 10%|█         | 10/100 [00:01<00:14,  6.37it/s]"
     ]
    },
    {
     "name": "stderr",
     "output_type": "stream",
     "text": [
      "\r",
      " 11%|█         | 11/100 [00:01<00:15,  5.82it/s]"
     ]
    },
    {
     "name": "stderr",
     "output_type": "stream",
     "text": [
      "\r",
      " 12%|█▏        | 12/100 [00:02<00:14,  5.87it/s]"
     ]
    },
    {
     "name": "stderr",
     "output_type": "stream",
     "text": [
      "\r",
      " 13%|█▎        | 13/100 [00:02<00:13,  6.37it/s]"
     ]
    },
    {
     "name": "stderr",
     "output_type": "stream",
     "text": [
      "\r",
      " 14%|█▍        | 14/100 [00:02<00:14,  6.01it/s]"
     ]
    },
    {
     "name": "stderr",
     "output_type": "stream",
     "text": [
      "\r",
      " 15%|█▌        | 15/100 [00:02<00:14,  6.06it/s]"
     ]
    },
    {
     "name": "stderr",
     "output_type": "stream",
     "text": [
      "\r",
      " 16%|█▌        | 16/100 [00:02<00:13,  6.46it/s]"
     ]
    },
    {
     "name": "stderr",
     "output_type": "stream",
     "text": [
      "\r",
      " 17%|█▋        | 17/100 [00:02<00:11,  6.93it/s]"
     ]
    },
    {
     "name": "stderr",
     "output_type": "stream",
     "text": [
      "\r",
      " 18%|█▊        | 18/100 [00:02<00:12,  6.46it/s]"
     ]
    },
    {
     "name": "stderr",
     "output_type": "stream",
     "text": [
      "\r",
      " 19%|█▉        | 19/100 [00:03<00:11,  6.94it/s]"
     ]
    },
    {
     "name": "stderr",
     "output_type": "stream",
     "text": [
      "\r",
      " 20%|██        | 20/100 [00:03<00:11,  7.19it/s]"
     ]
    },
    {
     "name": "stderr",
     "output_type": "stream",
     "text": [
      "\r",
      " 21%|██        | 21/100 [00:03<00:11,  6.58it/s]"
     ]
    },
    {
     "name": "stderr",
     "output_type": "stream",
     "text": [
      "\r",
      " 22%|██▏       | 22/100 [00:03<00:12,  6.42it/s]"
     ]
    },
    {
     "name": "stderr",
     "output_type": "stream",
     "text": [
      "\r",
      " 23%|██▎       | 23/100 [00:03<00:18,  4.11it/s]"
     ]
    },
    {
     "name": "stderr",
     "output_type": "stream",
     "text": [
      "\r",
      " 24%|██▍       | 24/100 [00:04<00:16,  4.62it/s]"
     ]
    },
    {
     "name": "stderr",
     "output_type": "stream",
     "text": [
      "\r",
      " 25%|██▌       | 25/100 [00:04<00:15,  4.78it/s]"
     ]
    },
    {
     "name": "stderr",
     "output_type": "stream",
     "text": [
      "\r",
      " 26%|██▌       | 26/100 [00:04<00:14,  4.94it/s]"
     ]
    },
    {
     "name": "stderr",
     "output_type": "stream",
     "text": [
      "\r",
      " 27%|██▋       | 27/100 [00:04<00:14,  5.02it/s]"
     ]
    },
    {
     "name": "stderr",
     "output_type": "stream",
     "text": [
      "\r",
      " 28%|██▊       | 28/100 [00:04<00:13,  5.47it/s]"
     ]
    },
    {
     "name": "stderr",
     "output_type": "stream",
     "text": [
      "\r",
      " 29%|██▉       | 29/100 [00:04<00:11,  6.16it/s]"
     ]
    },
    {
     "name": "stderr",
     "output_type": "stream",
     "text": [
      "\r",
      " 30%|███       | 30/100 [00:05<00:11,  6.32it/s]"
     ]
    },
    {
     "name": "stderr",
     "output_type": "stream",
     "text": [
      "\r",
      " 31%|███       | 31/100 [00:05<00:11,  5.90it/s]"
     ]
    },
    {
     "name": "stderr",
     "output_type": "stream",
     "text": [
      "\r",
      " 32%|███▏      | 32/100 [00:05<00:11,  5.81it/s]"
     ]
    },
    {
     "name": "stderr",
     "output_type": "stream",
     "text": [
      "\r",
      " 33%|███▎      | 33/100 [00:05<00:12,  5.44it/s]"
     ]
    },
    {
     "name": "stderr",
     "output_type": "stream",
     "text": [
      "\r",
      " 34%|███▍      | 34/100 [00:05<00:12,  5.47it/s]"
     ]
    },
    {
     "name": "stderr",
     "output_type": "stream",
     "text": [
      "\r",
      " 35%|███▌      | 35/100 [00:06<00:11,  5.49it/s]"
     ]
    },
    {
     "name": "stderr",
     "output_type": "stream",
     "text": [
      "\r",
      " 36%|███▌      | 36/100 [00:06<00:10,  6.05it/s]"
     ]
    },
    {
     "name": "stderr",
     "output_type": "stream",
     "text": [
      "\r",
      " 37%|███▋      | 37/100 [00:06<00:10,  5.77it/s]"
     ]
    },
    {
     "name": "stderr",
     "output_type": "stream",
     "text": [
      "\r",
      " 38%|███▊      | 38/100 [00:06<00:10,  6.04it/s]"
     ]
    },
    {
     "name": "stderr",
     "output_type": "stream",
     "text": [
      "\r",
      " 39%|███▉      | 39/100 [00:06<00:10,  5.87it/s]"
     ]
    },
    {
     "name": "stderr",
     "output_type": "stream",
     "text": [
      "\r",
      " 40%|████      | 40/100 [00:06<00:10,  5.93it/s]"
     ]
    },
    {
     "name": "stderr",
     "output_type": "stream",
     "text": [
      "\r",
      " 41%|████      | 41/100 [00:07<00:09,  6.13it/s]"
     ]
    },
    {
     "name": "stderr",
     "output_type": "stream",
     "text": [
      "\r",
      " 42%|████▏     | 42/100 [00:07<00:09,  6.19it/s]"
     ]
    },
    {
     "name": "stderr",
     "output_type": "stream",
     "text": [
      "\r",
      " 43%|████▎     | 43/100 [00:07<00:09,  6.07it/s]"
     ]
    },
    {
     "name": "stderr",
     "output_type": "stream",
     "text": [
      "\r",
      " 44%|████▍     | 44/100 [00:07<00:09,  6.11it/s]"
     ]
    },
    {
     "name": "stderr",
     "output_type": "stream",
     "text": [
      "\r",
      " 45%|████▌     | 45/100 [00:07<00:08,  6.46it/s]"
     ]
    },
    {
     "name": "stderr",
     "output_type": "stream",
     "text": [
      "\r",
      " 46%|████▌     | 46/100 [00:08<00:11,  4.50it/s]"
     ]
    },
    {
     "name": "stderr",
     "output_type": "stream",
     "text": [
      "\r",
      " 47%|████▋     | 47/100 [00:08<00:11,  4.75it/s]"
     ]
    },
    {
     "name": "stderr",
     "output_type": "stream",
     "text": [
      "\r",
      " 48%|████▊     | 48/100 [00:08<00:09,  5.61it/s]"
     ]
    },
    {
     "name": "stderr",
     "output_type": "stream",
     "text": [
      "\r",
      " 49%|████▉     | 49/100 [00:08<00:08,  6.13it/s]"
     ]
    },
    {
     "name": "stderr",
     "output_type": "stream",
     "text": [
      "\r",
      " 50%|█████     | 50/100 [00:08<00:07,  6.41it/s]"
     ]
    },
    {
     "name": "stderr",
     "output_type": "stream",
     "text": [
      "\r",
      " 51%|█████     | 51/100 [00:09<00:11,  4.15it/s]"
     ]
    },
    {
     "name": "stderr",
     "output_type": "stream",
     "text": [
      "\r",
      " 52%|█████▏    | 52/100 [00:09<00:10,  4.50it/s]"
     ]
    },
    {
     "name": "stderr",
     "output_type": "stream",
     "text": [
      "\r",
      " 53%|█████▎    | 53/100 [00:09<00:14,  3.28it/s]"
     ]
    },
    {
     "name": "stderr",
     "output_type": "stream",
     "text": [
      "\r",
      " 54%|█████▍    | 54/100 [00:09<00:11,  3.97it/s]"
     ]
    },
    {
     "name": "stderr",
     "output_type": "stream",
     "text": [
      "\r",
      " 55%|█████▌    | 55/100 [00:10<00:12,  3.47it/s]"
     ]
    },
    {
     "name": "stderr",
     "output_type": "stream",
     "text": [
      "\r",
      " 56%|█████▌    | 56/100 [00:10<00:11,  3.78it/s]"
     ]
    },
    {
     "name": "stderr",
     "output_type": "stream",
     "text": [
      "\r",
      " 57%|█████▋    | 57/100 [00:10<00:09,  4.32it/s]"
     ]
    },
    {
     "name": "stderr",
     "output_type": "stream",
     "text": [
      "\r",
      " 58%|█████▊    | 58/100 [00:11<00:12,  3.26it/s]"
     ]
    },
    {
     "name": "stderr",
     "output_type": "stream",
     "text": [
      "\r",
      " 59%|█████▉    | 59/100 [00:11<00:10,  3.97it/s]"
     ]
    },
    {
     "name": "stderr",
     "output_type": "stream",
     "text": [
      "\r",
      " 60%|██████    | 60/100 [00:11<00:09,  4.13it/s]"
     ]
    },
    {
     "name": "stderr",
     "output_type": "stream",
     "text": [
      "\r",
      " 61%|██████    | 61/100 [00:11<00:08,  4.53it/s]"
     ]
    },
    {
     "name": "stderr",
     "output_type": "stream",
     "text": [
      "\r",
      " 62%|██████▏   | 62/100 [00:11<00:07,  4.97it/s]"
     ]
    },
    {
     "name": "stderr",
     "output_type": "stream",
     "text": [
      "\r",
      " 63%|██████▎   | 63/100 [00:11<00:06,  5.35it/s]"
     ]
    },
    {
     "name": "stderr",
     "output_type": "stream",
     "text": [
      "\r",
      " 64%|██████▍   | 64/100 [00:12<00:06,  5.49it/s]"
     ]
    },
    {
     "name": "stderr",
     "output_type": "stream",
     "text": [
      "\r",
      " 65%|██████▌   | 65/100 [00:12<00:05,  5.92it/s]"
     ]
    },
    {
     "name": "stderr",
     "output_type": "stream",
     "text": [
      "\r",
      " 66%|██████▌   | 66/100 [00:12<00:06,  5.50it/s]"
     ]
    },
    {
     "name": "stderr",
     "output_type": "stream",
     "text": [
      "\r",
      " 67%|██████▋   | 67/100 [00:12<00:06,  4.97it/s]"
     ]
    },
    {
     "name": "stderr",
     "output_type": "stream",
     "text": [
      "\r",
      " 68%|██████▊   | 68/100 [00:12<00:06,  5.12it/s]"
     ]
    },
    {
     "name": "stderr",
     "output_type": "stream",
     "text": [
      "\r",
      " 69%|██████▉   | 69/100 [00:12<00:05,  5.77it/s]"
     ]
    },
    {
     "name": "stderr",
     "output_type": "stream",
     "text": [
      "\r",
      " 70%|███████   | 70/100 [00:13<00:06,  4.49it/s]"
     ]
    },
    {
     "name": "stderr",
     "output_type": "stream",
     "text": [
      "\r",
      " 71%|███████   | 71/100 [00:13<00:08,  3.38it/s]"
     ]
    },
    {
     "name": "stderr",
     "output_type": "stream",
     "text": [
      "\r",
      " 72%|███████▏  | 72/100 [00:13<00:07,  3.76it/s]"
     ]
    },
    {
     "name": "stderr",
     "output_type": "stream",
     "text": [
      "\r",
      " 73%|███████▎  | 73/100 [00:14<00:06,  3.98it/s]"
     ]
    },
    {
     "name": "stderr",
     "output_type": "stream",
     "text": [
      "\r",
      " 74%|███████▍  | 74/100 [00:14<00:06,  4.17it/s]"
     ]
    },
    {
     "name": "stderr",
     "output_type": "stream",
     "text": [
      "\r",
      " 75%|███████▌  | 75/100 [00:14<00:05,  4.77it/s]"
     ]
    },
    {
     "name": "stderr",
     "output_type": "stream",
     "text": [
      "\r",
      " 76%|███████▌  | 76/100 [00:14<00:05,  4.78it/s]"
     ]
    },
    {
     "name": "stderr",
     "output_type": "stream",
     "text": [
      "\r",
      " 77%|███████▋  | 77/100 [00:14<00:04,  5.32it/s]"
     ]
    },
    {
     "name": "stderr",
     "output_type": "stream",
     "text": [
      "\r",
      " 78%|███████▊  | 78/100 [00:15<00:04,  5.47it/s]"
     ]
    },
    {
     "name": "stderr",
     "output_type": "stream",
     "text": [
      "\r",
      " 79%|███████▉  | 79/100 [00:15<00:05,  3.56it/s]"
     ]
    },
    {
     "name": "stderr",
     "output_type": "stream",
     "text": [
      "\r",
      " 80%|████████  | 80/100 [00:15<00:04,  4.19it/s]"
     ]
    },
    {
     "name": "stderr",
     "output_type": "stream",
     "text": [
      "\r",
      " 81%|████████  | 81/100 [00:15<00:04,  4.21it/s]"
     ]
    },
    {
     "name": "stderr",
     "output_type": "stream",
     "text": [
      "\r",
      " 82%|████████▏ | 82/100 [00:16<00:03,  4.62it/s]"
     ]
    },
    {
     "name": "stderr",
     "output_type": "stream",
     "text": [
      "\r",
      " 83%|████████▎ | 83/100 [00:16<00:05,  3.32it/s]"
     ]
    },
    {
     "name": "stderr",
     "output_type": "stream",
     "text": [
      "\r",
      " 84%|████████▍ | 84/100 [00:16<00:04,  3.81it/s]"
     ]
    },
    {
     "name": "stderr",
     "output_type": "stream",
     "text": [
      "\r",
      " 85%|████████▌ | 85/100 [00:16<00:03,  4.14it/s]"
     ]
    },
    {
     "name": "stderr",
     "output_type": "stream",
     "text": [
      "\r",
      " 86%|████████▌ | 86/100 [00:17<00:03,  4.45it/s]"
     ]
    },
    {
     "name": "stderr",
     "output_type": "stream",
     "text": [
      "\r",
      " 87%|████████▋ | 87/100 [00:17<00:03,  3.97it/s]"
     ]
    },
    {
     "name": "stderr",
     "output_type": "stream",
     "text": [
      "\r",
      " 88%|████████▊ | 88/100 [00:17<00:02,  4.67it/s]"
     ]
    },
    {
     "name": "stderr",
     "output_type": "stream",
     "text": [
      "\r",
      " 89%|████████▉ | 89/100 [00:17<00:02,  4.85it/s]"
     ]
    },
    {
     "name": "stderr",
     "output_type": "stream",
     "text": [
      "\r",
      " 90%|█████████ | 90/100 [00:17<00:01,  5.45it/s]"
     ]
    },
    {
     "name": "stderr",
     "output_type": "stream",
     "text": [
      "\r",
      " 91%|█████████ | 91/100 [00:18<00:02,  4.29it/s]"
     ]
    },
    {
     "name": "stderr",
     "output_type": "stream",
     "text": [
      "\r",
      " 92%|█████████▏| 92/100 [00:18<00:01,  4.75it/s]"
     ]
    },
    {
     "name": "stderr",
     "output_type": "stream",
     "text": [
      "\r",
      " 93%|█████████▎| 93/100 [00:18<00:01,  5.13it/s]"
     ]
    },
    {
     "name": "stderr",
     "output_type": "stream",
     "text": [
      "\r",
      " 94%|█████████▍| 94/100 [00:18<00:01,  5.37it/s]"
     ]
    },
    {
     "name": "stderr",
     "output_type": "stream",
     "text": [
      "\r",
      " 95%|█████████▌| 95/100 [00:18<00:00,  6.22it/s]"
     ]
    },
    {
     "name": "stderr",
     "output_type": "stream",
     "text": [
      "\r",
      " 96%|█████████▌| 96/100 [00:19<00:01,  3.33it/s]"
     ]
    },
    {
     "name": "stderr",
     "output_type": "stream",
     "text": [
      "\r",
      " 97%|█████████▋| 97/100 [00:19<00:00,  3.84it/s]"
     ]
    },
    {
     "name": "stderr",
     "output_type": "stream",
     "text": [
      "\r",
      " 98%|█████████▊| 98/100 [00:19<00:00,  4.52it/s]"
     ]
    },
    {
     "name": "stderr",
     "output_type": "stream",
     "text": [
      "\r",
      " 99%|█████████▉| 99/100 [00:20<00:00,  2.35it/s]"
     ]
    },
    {
     "name": "stderr",
     "output_type": "stream",
     "text": [
      "\r",
      "100%|██████████| 100/100 [00:20<00:00,  2.83it/s]"
     ]
    },
    {
     "name": "stderr",
     "output_type": "stream",
     "text": [
      "\r",
      "100%|██████████| 100/100 [00:20<00:00,  4.80it/s]"
     ]
    },
    {
     "name": "stderr",
     "output_type": "stream",
     "text": [
      "\n"
     ]
    },
    {
     "name": "stdout",
     "output_type": "stream",
     "text": [
      "test :\n"
     ]
    },
    {
     "name": "stderr",
     "output_type": "stream",
     "text": [
      "\r",
      "  0%|          | 0/100 [00:00<?, ?it/s]"
     ]
    },
    {
     "name": "stderr",
     "output_type": "stream",
     "text": [
      "\r",
      "  1%|          | 1/100 [00:00<00:17,  5.56it/s]"
     ]
    },
    {
     "name": "stderr",
     "output_type": "stream",
     "text": [
      "\r",
      "  2%|▏         | 2/100 [00:00<00:17,  5.51it/s]"
     ]
    },
    {
     "name": "stderr",
     "output_type": "stream",
     "text": [
      "\r",
      "  3%|▎         | 3/100 [00:00<00:17,  5.43it/s]"
     ]
    },
    {
     "name": "stderr",
     "output_type": "stream",
     "text": [
      "\r",
      "  4%|▍         | 4/100 [00:00<00:15,  6.37it/s]"
     ]
    },
    {
     "name": "stderr",
     "output_type": "stream",
     "text": [
      "\r",
      "  5%|▌         | 5/100 [00:00<00:15,  6.20it/s]"
     ]
    },
    {
     "name": "stderr",
     "output_type": "stream",
     "text": [
      "\r",
      "  6%|▌         | 6/100 [00:01<00:24,  3.86it/s]"
     ]
    },
    {
     "name": "stderr",
     "output_type": "stream",
     "text": [
      "\r",
      "  7%|▋         | 7/100 [00:01<00:23,  3.93it/s]"
     ]
    },
    {
     "name": "stderr",
     "output_type": "stream",
     "text": [
      "\r",
      "  8%|▊         | 8/100 [00:01<00:21,  4.19it/s]"
     ]
    },
    {
     "name": "stderr",
     "output_type": "stream",
     "text": [
      "\r",
      "  9%|▉         | 9/100 [00:01<00:18,  4.85it/s]"
     ]
    },
    {
     "name": "stderr",
     "output_type": "stream",
     "text": [
      "\r",
      " 10%|█         | 10/100 [00:01<00:16,  5.60it/s]"
     ]
    },
    {
     "name": "stderr",
     "output_type": "stream",
     "text": [
      "\r",
      " 11%|█         | 11/100 [00:02<00:20,  4.43it/s]"
     ]
    },
    {
     "name": "stderr",
     "output_type": "stream",
     "text": [
      "\r",
      " 12%|█▏        | 12/100 [00:02<00:18,  4.64it/s]"
     ]
    },
    {
     "name": "stderr",
     "output_type": "stream",
     "text": [
      "\r",
      " 13%|█▎        | 13/100 [00:02<00:16,  5.27it/s]"
     ]
    },
    {
     "name": "stderr",
     "output_type": "stream",
     "text": [
      "\r",
      " 14%|█▍        | 14/100 [00:02<00:16,  5.09it/s]"
     ]
    },
    {
     "name": "stderr",
     "output_type": "stream",
     "text": [
      "\r",
      " 15%|█▌        | 15/100 [00:02<00:14,  5.81it/s]"
     ]
    },
    {
     "name": "stderr",
     "output_type": "stream",
     "text": [
      "\r",
      " 16%|█▌        | 16/100 [00:03<00:14,  5.93it/s]"
     ]
    },
    {
     "name": "stderr",
     "output_type": "stream",
     "text": [
      "\r",
      " 17%|█▋        | 17/100 [00:03<00:14,  5.87it/s]"
     ]
    },
    {
     "name": "stderr",
     "output_type": "stream",
     "text": [
      "\r",
      " 18%|█▊        | 18/100 [00:03<00:12,  6.32it/s]"
     ]
    },
    {
     "name": "stderr",
     "output_type": "stream",
     "text": [
      "\r",
      " 19%|█▉        | 19/100 [00:03<00:12,  6.59it/s]"
     ]
    },
    {
     "name": "stderr",
     "output_type": "stream",
     "text": [
      "\r",
      " 20%|██        | 20/100 [00:03<00:11,  7.00it/s]"
     ]
    },
    {
     "name": "stderr",
     "output_type": "stream",
     "text": [
      "\r",
      " 21%|██        | 21/100 [00:03<00:12,  6.55it/s]"
     ]
    },
    {
     "name": "stderr",
     "output_type": "stream",
     "text": [
      "\r",
      " 22%|██▏       | 22/100 [00:04<00:11,  6.56it/s]"
     ]
    },
    {
     "name": "stderr",
     "output_type": "stream",
     "text": [
      "\r",
      " 23%|██▎       | 23/100 [00:04<00:19,  3.95it/s]"
     ]
    },
    {
     "name": "stderr",
     "output_type": "stream",
     "text": [
      "\r",
      " 24%|██▍       | 24/100 [00:04<00:17,  4.34it/s]"
     ]
    },
    {
     "name": "stderr",
     "output_type": "stream",
     "text": [
      "\r",
      " 25%|██▌       | 25/100 [00:04<00:16,  4.55it/s]"
     ]
    },
    {
     "name": "stderr",
     "output_type": "stream",
     "text": [
      "\r",
      " 26%|██▌       | 26/100 [00:05<00:15,  4.86it/s]"
     ]
    },
    {
     "name": "stderr",
     "output_type": "stream",
     "text": [
      "\r",
      " 27%|██▋       | 27/100 [00:05<00:13,  5.46it/s]"
     ]
    },
    {
     "name": "stderr",
     "output_type": "stream",
     "text": [
      "\r",
      " 28%|██▊       | 28/100 [00:05<00:21,  3.30it/s]"
     ]
    },
    {
     "name": "stderr",
     "output_type": "stream",
     "text": [
      "\r",
      " 29%|██▉       | 29/100 [00:05<00:17,  4.04it/s]"
     ]
    },
    {
     "name": "stderr",
     "output_type": "stream",
     "text": [
      "\r",
      " 30%|███       | 30/100 [00:06<00:15,  4.43it/s]"
     ]
    },
    {
     "name": "stderr",
     "output_type": "stream",
     "text": [
      "\r",
      " 31%|███       | 31/100 [00:06<00:15,  4.60it/s]"
     ]
    },
    {
     "name": "stderr",
     "output_type": "stream",
     "text": [
      "\r",
      " 32%|███▏      | 32/100 [00:06<00:14,  4.79it/s]"
     ]
    },
    {
     "name": "stderr",
     "output_type": "stream",
     "text": [
      "\r",
      " 33%|███▎      | 33/100 [00:06<00:12,  5.30it/s]"
     ]
    },
    {
     "name": "stderr",
     "output_type": "stream",
     "text": [
      "\r",
      " 34%|███▍      | 34/100 [00:06<00:12,  5.41it/s]"
     ]
    },
    {
     "name": "stderr",
     "output_type": "stream",
     "text": [
      "\r",
      " 35%|███▌      | 35/100 [00:06<00:11,  5.58it/s]"
     ]
    },
    {
     "name": "stderr",
     "output_type": "stream",
     "text": [
      "\r",
      " 36%|███▌      | 36/100 [00:07<00:12,  5.04it/s]"
     ]
    },
    {
     "name": "stderr",
     "output_type": "stream",
     "text": [
      "\r",
      " 37%|███▋      | 37/100 [00:07<00:12,  5.19it/s]"
     ]
    },
    {
     "name": "stderr",
     "output_type": "stream",
     "text": [
      "\r",
      " 38%|███▊      | 38/100 [00:07<00:12,  4.90it/s]"
     ]
    },
    {
     "name": "stderr",
     "output_type": "stream",
     "text": [
      "\r",
      " 39%|███▉      | 39/100 [00:07<00:10,  5.56it/s]"
     ]
    },
    {
     "name": "stderr",
     "output_type": "stream",
     "text": [
      "\r",
      " 40%|████      | 40/100 [00:07<00:11,  5.34it/s]"
     ]
    },
    {
     "name": "stderr",
     "output_type": "stream",
     "text": [
      "\r",
      " 41%|████      | 41/100 [00:08<00:11,  5.16it/s]"
     ]
    },
    {
     "name": "stderr",
     "output_type": "stream",
     "text": [
      "\r",
      " 42%|████▏     | 42/100 [00:08<00:15,  3.78it/s]"
     ]
    },
    {
     "name": "stderr",
     "output_type": "stream",
     "text": [
      "\r",
      " 43%|████▎     | 43/100 [00:08<00:12,  4.46it/s]"
     ]
    },
    {
     "name": "stderr",
     "output_type": "stream",
     "text": [
      "\r",
      " 44%|████▍     | 44/100 [00:09<00:14,  3.87it/s]"
     ]
    },
    {
     "name": "stderr",
     "output_type": "stream",
     "text": [
      "\r",
      " 45%|████▌     | 45/100 [00:09<00:13,  4.21it/s]"
     ]
    },
    {
     "name": "stderr",
     "output_type": "stream",
     "text": [
      "\r",
      " 46%|████▌     | 46/100 [00:09<00:13,  3.86it/s]"
     ]
    },
    {
     "name": "stderr",
     "output_type": "stream",
     "text": [
      "\r",
      " 47%|████▋     | 47/100 [00:09<00:12,  4.33it/s]"
     ]
    },
    {
     "name": "stderr",
     "output_type": "stream",
     "text": [
      "\r",
      " 48%|████▊     | 48/100 [00:09<00:10,  4.92it/s]"
     ]
    },
    {
     "name": "stderr",
     "output_type": "stream",
     "text": [
      "\r",
      " 49%|████▉     | 49/100 [00:09<00:09,  5.22it/s]"
     ]
    },
    {
     "name": "stderr",
     "output_type": "stream",
     "text": [
      "\r",
      " 50%|█████     | 50/100 [00:10<00:08,  5.58it/s]"
     ]
    },
    {
     "name": "stderr",
     "output_type": "stream",
     "text": [
      "\r",
      " 51%|█████     | 51/100 [00:10<00:15,  3.13it/s]"
     ]
    },
    {
     "name": "stderr",
     "output_type": "stream",
     "text": [
      "\r",
      " 52%|█████▏    | 52/100 [00:11<00:18,  2.54it/s]"
     ]
    },
    {
     "name": "stderr",
     "output_type": "stream",
     "text": [
      "\r",
      " 53%|█████▎    | 53/100 [00:11<00:19,  2.42it/s]"
     ]
    },
    {
     "name": "stderr",
     "output_type": "stream",
     "text": [
      "\r",
      " 54%|█████▍    | 54/100 [00:12<00:21,  2.13it/s]"
     ]
    },
    {
     "name": "stderr",
     "output_type": "stream",
     "text": [
      "\r",
      " 55%|█████▌    | 55/100 [00:12<00:19,  2.29it/s]"
     ]
    },
    {
     "name": "stderr",
     "output_type": "stream",
     "text": [
      "\r",
      " 56%|█████▌    | 56/100 [00:12<00:16,  2.74it/s]"
     ]
    },
    {
     "name": "stderr",
     "output_type": "stream",
     "text": [
      "\r",
      " 57%|█████▋    | 57/100 [00:13<00:16,  2.66it/s]"
     ]
    },
    {
     "name": "stderr",
     "output_type": "stream",
     "text": [
      "\r",
      " 58%|█████▊    | 58/100 [00:13<00:13,  3.18it/s]"
     ]
    },
    {
     "name": "stderr",
     "output_type": "stream",
     "text": [
      "\r",
      " 59%|█████▉    | 59/100 [00:13<00:11,  3.48it/s]"
     ]
    },
    {
     "name": "stderr",
     "output_type": "stream",
     "text": [
      "\r",
      " 60%|██████    | 60/100 [00:13<00:10,  3.99it/s]"
     ]
    },
    {
     "name": "stderr",
     "output_type": "stream",
     "text": [
      "\r",
      " 61%|██████    | 61/100 [00:14<00:08,  4.43it/s]"
     ]
    },
    {
     "name": "stderr",
     "output_type": "stream",
     "text": [
      "\r",
      " 62%|██████▏   | 62/100 [00:14<00:08,  4.68it/s]"
     ]
    },
    {
     "name": "stderr",
     "output_type": "stream",
     "text": [
      "\r",
      " 63%|██████▎   | 63/100 [00:14<00:06,  5.47it/s]"
     ]
    },
    {
     "name": "stderr",
     "output_type": "stream",
     "text": [
      "\r",
      " 64%|██████▍   | 64/100 [00:14<00:07,  4.99it/s]"
     ]
    },
    {
     "name": "stderr",
     "output_type": "stream",
     "text": [
      "\r",
      " 65%|██████▌   | 65/100 [00:14<00:06,  5.36it/s]"
     ]
    },
    {
     "name": "stderr",
     "output_type": "stream",
     "text": [
      "\r",
      " 66%|██████▌   | 66/100 [00:14<00:05,  5.97it/s]"
     ]
    },
    {
     "name": "stderr",
     "output_type": "stream",
     "text": [
      "\r",
      " 67%|██████▋   | 67/100 [00:15<00:05,  5.81it/s]"
     ]
    },
    {
     "name": "stderr",
     "output_type": "stream",
     "text": [
      "\r",
      " 68%|██████▊   | 68/100 [00:15<00:05,  5.83it/s]"
     ]
    },
    {
     "name": "stderr",
     "output_type": "stream",
     "text": [
      "\r",
      " 69%|██████▉   | 69/100 [00:15<00:06,  4.49it/s]"
     ]
    },
    {
     "name": "stderr",
     "output_type": "stream",
     "text": [
      "\r",
      " 70%|███████   | 70/100 [00:15<00:05,  5.16it/s]"
     ]
    },
    {
     "name": "stderr",
     "output_type": "stream",
     "text": [
      "\r",
      " 71%|███████   | 71/100 [00:16<00:08,  3.58it/s]"
     ]
    },
    {
     "name": "stderr",
     "output_type": "stream",
     "text": [
      "\r",
      " 72%|███████▏  | 72/100 [00:16<00:06,  4.01it/s]"
     ]
    },
    {
     "name": "stderr",
     "output_type": "stream",
     "text": [
      "\r",
      " 73%|███████▎  | 73/100 [00:16<00:05,  4.61it/s]"
     ]
    },
    {
     "name": "stderr",
     "output_type": "stream",
     "text": [
      "\r",
      " 74%|███████▍  | 74/100 [00:16<00:05,  4.87it/s]"
     ]
    },
    {
     "name": "stderr",
     "output_type": "stream",
     "text": [
      "\r",
      " 75%|███████▌  | 75/100 [00:16<00:05,  4.48it/s]"
     ]
    },
    {
     "name": "stderr",
     "output_type": "stream",
     "text": [
      "\r",
      " 76%|███████▌  | 76/100 [00:17<00:04,  4.96it/s]"
     ]
    },
    {
     "name": "stderr",
     "output_type": "stream",
     "text": [
      "\r",
      " 77%|███████▋  | 77/100 [00:17<00:04,  5.26it/s]"
     ]
    },
    {
     "name": "stderr",
     "output_type": "stream",
     "text": [
      "\r",
      " 78%|███████▊  | 78/100 [00:17<00:04,  4.97it/s]"
     ]
    },
    {
     "name": "stderr",
     "output_type": "stream",
     "text": [
      "\r",
      " 79%|███████▉  | 79/100 [00:17<00:04,  5.16it/s]"
     ]
    },
    {
     "name": "stderr",
     "output_type": "stream",
     "text": [
      "\r",
      " 80%|████████  | 80/100 [00:17<00:03,  5.39it/s]"
     ]
    },
    {
     "name": "stderr",
     "output_type": "stream",
     "text": [
      "\r",
      " 81%|████████  | 81/100 [00:18<00:03,  5.55it/s]"
     ]
    },
    {
     "name": "stderr",
     "output_type": "stream",
     "text": [
      "\r",
      " 82%|████████▏ | 82/100 [00:18<00:02,  6.01it/s]"
     ]
    },
    {
     "name": "stderr",
     "output_type": "stream",
     "text": [
      "\r",
      " 83%|████████▎ | 83/100 [00:18<00:02,  6.28it/s]"
     ]
    },
    {
     "name": "stderr",
     "output_type": "stream",
     "text": [
      "\r",
      " 84%|████████▍ | 84/100 [00:18<00:02,  5.76it/s]"
     ]
    },
    {
     "name": "stderr",
     "output_type": "stream",
     "text": [
      "\r",
      " 85%|████████▌ | 85/100 [00:18<00:02,  5.86it/s]"
     ]
    },
    {
     "name": "stderr",
     "output_type": "stream",
     "text": [
      "\r",
      " 86%|████████▌ | 86/100 [00:18<00:02,  5.70it/s]"
     ]
    },
    {
     "name": "stderr",
     "output_type": "stream",
     "text": [
      "\r",
      " 87%|████████▋ | 87/100 [00:19<00:02,  5.32it/s]"
     ]
    },
    {
     "name": "stderr",
     "output_type": "stream",
     "text": [
      "\r",
      " 88%|████████▊ | 88/100 [00:19<00:02,  5.92it/s]"
     ]
    },
    {
     "name": "stderr",
     "output_type": "stream",
     "text": [
      "\r",
      " 89%|████████▉ | 89/100 [00:19<00:01,  6.47it/s]"
     ]
    },
    {
     "name": "stderr",
     "output_type": "stream",
     "text": [
      "\r",
      " 90%|█████████ | 90/100 [00:19<00:02,  3.96it/s]"
     ]
    },
    {
     "name": "stderr",
     "output_type": "stream",
     "text": [
      "\r",
      " 91%|█████████ | 91/100 [00:19<00:02,  4.27it/s]"
     ]
    },
    {
     "name": "stderr",
     "output_type": "stream",
     "text": [
      "\r",
      " 92%|█████████▏| 92/100 [00:20<00:01,  4.57it/s]"
     ]
    },
    {
     "name": "stderr",
     "output_type": "stream",
     "text": [
      "\r",
      " 93%|█████████▎| 93/100 [00:20<00:01,  4.00it/s]"
     ]
    },
    {
     "name": "stderr",
     "output_type": "stream",
     "text": [
      "\r",
      " 94%|█████████▍| 94/100 [00:20<00:01,  4.26it/s]"
     ]
    },
    {
     "name": "stderr",
     "output_type": "stream",
     "text": [
      "\r",
      " 95%|█████████▌| 95/100 [00:20<00:01,  4.76it/s]"
     ]
    },
    {
     "name": "stderr",
     "output_type": "stream",
     "text": [
      "\r",
      " 96%|█████████▌| 96/100 [00:20<00:00,  5.30it/s]"
     ]
    },
    {
     "name": "stderr",
     "output_type": "stream",
     "text": [
      "\r",
      " 97%|█████████▋| 97/100 [00:21<00:00,  5.90it/s]"
     ]
    },
    {
     "name": "stderr",
     "output_type": "stream",
     "text": [
      "\r",
      " 98%|█████████▊| 98/100 [00:21<00:00,  5.99it/s]"
     ]
    },
    {
     "name": "stderr",
     "output_type": "stream",
     "text": [
      "\r",
      " 99%|█████████▉| 99/100 [00:21<00:00,  6.60it/s]"
     ]
    },
    {
     "name": "stderr",
     "output_type": "stream",
     "text": [
      "\r",
      "100%|██████████| 100/100 [00:21<00:00,  3.70it/s]"
     ]
    },
    {
     "name": "stderr",
     "output_type": "stream",
     "text": [
      "\r",
      "100%|██████████| 100/100 [00:21<00:00,  4.56it/s]"
     ]
    },
    {
     "name": "stderr",
     "output_type": "stream",
     "text": [
      "\n"
     ]
    }
   ],
   "source": [
    "download_dir = pathlib.Path('./UCF101_subset/')\n",
    "subset_paths = download_ufc_101_subset(URL,\n",
    "                                       num_classes = NUM_CLASSES,\n",
    "                                       splits = {\"train\": 30, \"val\": 10, \"test\": 10},\n",
    "                                       download_dir = download_dir)"
   ]
  },
  {
   "cell_type": "markdown",
   "metadata": {
    "id": "MBMRm9Ub3Zrk"
   },
   "source": [
    "After downloading the data, you should now have a copy of a subset of the UCF101 dataset. Run the following code to print the total number of videos you have amongst all your subsets of data."
   ]
  },
  {
   "cell_type": "code",
   "execution_count": 18,
   "metadata": {
    "execution": {
     "iopub.execute_input": "2022-09-16T01:25:08.638327Z",
     "iopub.status.busy": "2022-09-16T01:25:08.638051Z",
     "iopub.status.idle": "2022-09-16T01:25:08.646123Z",
     "shell.execute_reply": "2022-09-16T01:25:08.645313Z"
    },
    "id": "zupvOLYP4D4q"
   },
   "outputs": [
    {
     "name": "stdout",
     "output_type": "stream",
     "text": [
      "Total videos: 500\n"
     ]
    }
   ],
   "source": [
    "video_count_train = len(list(download_dir.glob('train/*/*.avi')))\n",
    "video_count_val = len(list(download_dir.glob('val/*/*.avi')))\n",
    "video_count_test = len(list(download_dir.glob('test/*/*.avi')))\n",
    "video_total = video_count_train + video_count_val + video_count_test\n",
    "print(f\"Total videos: {video_total}\")"
   ]
  },
  {
   "cell_type": "markdown",
   "metadata": {
    "id": "JmJG1SlXiOX8"
   },
   "source": [
    "You can also preview the directory of data files now."
   ]
  },
  {
   "cell_type": "code",
   "execution_count": 19,
   "metadata": {
    "execution": {
     "iopub.execute_input": "2022-09-16T01:25:08.649882Z",
     "iopub.status.busy": "2022-09-16T01:25:08.649626Z",
     "iopub.status.idle": "2022-09-16T01:25:08.776743Z",
     "shell.execute_reply": "2022-09-16T01:25:08.775811Z"
    },
    "id": "y9be0WlDiNM0"
   },
   "outputs": [
    {
     "name": "stdout",
     "output_type": "stream",
     "text": [
      "./UCF101_subset\r\n",
      "./UCF101_subset/val\r\n",
      "./UCF101_subset/val/Archery\r\n",
      "./UCF101_subset/val/Archery/v_Archery_g04_c01.avi\r\n",
      "./UCF101_subset/val/Archery/v_Archery_g25_c02.avi\r\n",
      "./UCF101_subset/val/Archery/v_Archery_g06_c01.avi\r\n",
      "./UCF101_subset/val/Archery/v_Archery_g13_c03.avi\r\n",
      "./UCF101_subset/val/Archery/v_Archery_g01_c06.avi\r\n",
      "./UCF101_subset/val/Archery/UCF101\r\n",
      "./UCF101_subset/val/Archery/v_Archery_g12_c03.avi\r\n",
      "./UCF101_subset/val/Archery/v_Archery_g22_c02.avi\r\n",
      "./UCF101_subset/val/Archery/v_Archery_g20_c03.avi\r\n",
      "./UCF101_subset/val/Archery/v_Archery_g23_c03.avi\r\n",
      "./UCF101_subset/val/Archery/v_Archery_g06_c05.avi\r\n",
      "./UCF101_subset/val/BabyCrawling\r\n",
      "./UCF101_subset/val/BabyCrawling/v_BabyCrawling_g13_c03.avi\r\n",
      "./UCF101_subset/val/BabyCrawling/v_BabyCrawling_g17_c03.avi\r\n",
      "./UCF101_subset/val/BabyCrawling/v_BabyCrawling_g06_c04.avi\r\n",
      "./UCF101_subset/val/BabyCrawling/v_BabyCrawling_g01_c03.avi\r\n",
      "./UCF101_subset/val/BabyCrawling/v_BabyCrawling_g10_c04.avi\r\n",
      "./UCF101_subset/val/BabyCrawling/UCF101\r\n",
      "./UCF101_subset/val/BabyCrawling/v_BabyCrawling_g05_c05.avi\r\n",
      "./UCF101_subset/val/BabyCrawling/v_BabyCrawling_g24_c01.avi\r\n",
      "./UCF101_subset/val/BabyCrawling/v_BabyCrawling_g05_c03.avi\r\n",
      "./UCF101_subset/val/BabyCrawling/v_BabyCrawling_g16_c05.avi\r\n",
      "./UCF101_subset/val/BabyCrawling/v_BabyCrawling_g17_c01.avi\r\n",
      "./UCF101_subset/val/BaseballPitch\r\n",
      "./UCF101_subset/val/BaseballPitch/v_BaseballPitch_g18_c04.avi\r\n",
      "./UCF101_subset/val/BaseballPitch/v_BaseballPitch_g23_c05.avi\r\n",
      "./UCF101_subset/val/BaseballPitch/UCF101\r\n",
      "./UCF101_subset/val/BaseballPitch/v_BaseballPitch_g14_c04.avi\r\n",
      "./UCF101_subset/val/BaseballPitch/v_BaseballPitch_g13_c07.avi\r\n",
      "./UCF101_subset/val/BaseballPitch/v_BaseballPitch_g16_c01.avi\r\n",
      "./UCF101_subset/val/BaseballPitch/v_BaseballPitch_g25_c05.avi\r\n",
      "./UCF101_subset/val/BaseballPitch/v_BaseballPitch_g19_c05.avi\r\n",
      "./UCF101_subset/val/BaseballPitch/v_BaseballPitch_g17_c07.avi\r\n",
      "./UCF101_subset/val/BaseballPitch/v_BaseballPitch_g09_c04.avi\r\n",
      "./UCF101_subset/val/BaseballPitch/v_BaseballPitch_g01_c04.avi\r\n",
      "./UCF101_subset/val/BasketballDunk\r\n",
      "./UCF101_subset/val/BasketballDunk/v_BasketballDunk_g09_c04.avi\r\n",
      "./UCF101_subset/val/BasketballDunk/UCF101\r\n",
      "./UCF101_subset/val/BasketballDunk/v_BasketballDunk_g03_c01.avi\r\n",
      "./UCF101_subset/val/BasketballDunk/v_BasketballDunk_g08_c05.avi\r\n",
      "./UCF101_subset/val/BasketballDunk/v_BasketballDunk_g16_c02.avi\r\n",
      "./UCF101_subset/val/BasketballDunk/v_BasketballDunk_g03_c05.avi\r\n",
      "./UCF101_subset/val/BasketballDunk/v_BasketballDunk_g04_c01.avi\r\n",
      "./UCF101_subset/val/BasketballDunk/v_BasketballDunk_g13_c04.avi\r\n",
      "./UCF101_subset/val/BasketballDunk/v_BasketballDunk_g12_c05.avi\r\n",
      "./UCF101_subset/val/BasketballDunk/v_BasketballDunk_g11_c02.avi\r\n",
      "./UCF101_subset/val/BasketballDunk/v_BasketballDunk_g24_c02.avi\r\n",
      "./UCF101_subset/val/ApplyLipstick\r\n",
      "./UCF101_subset/val/ApplyLipstick/v_ApplyLipstick_g19_c02.avi\r\n",
      "./UCF101_subset/val/ApplyLipstick/v_ApplyLipstick_g06_c05.avi\r\n",
      "./UCF101_subset/val/ApplyLipstick/UCF101\r\n",
      "./UCF101_subset/val/ApplyLipstick/v_ApplyLipstick_g08_c04.avi\r\n",
      "./UCF101_subset/val/ApplyLipstick/v_ApplyLipstick_g20_c02.avi\r\n",
      "./UCF101_subset/val/ApplyLipstick/v_ApplyLipstick_g01_c04.avi\r\n",
      "./UCF101_subset/val/ApplyLipstick/v_ApplyLipstick_g24_c01.avi\r\n",
      "./UCF101_subset/val/ApplyLipstick/v_ApplyLipstick_g02_c03.avi\r\n",
      "./UCF101_subset/val/ApplyLipstick/v_ApplyLipstick_g07_c02.avi\r\n",
      "./UCF101_subset/val/ApplyLipstick/v_ApplyLipstick_g17_c05.avi\r\n",
      "./UCF101_subset/val/ApplyLipstick/v_ApplyLipstick_g01_c02.avi\r\n",
      "./UCF101_subset/val/ApplyEyeMakeup\r\n",
      "./UCF101_subset/val/ApplyEyeMakeup/v_ApplyEyeMakeup_g05_c04.avi\r\n",
      "./UCF101_subset/val/ApplyEyeMakeup/v_ApplyEyeMakeup_g09_c06.avi\r\n",
      "./UCF101_subset/val/ApplyEyeMakeup/v_ApplyEyeMakeup_g07_c06.avi\r\n",
      "./UCF101_subset/val/ApplyEyeMakeup/v_ApplyEyeMakeup_g23_c02.avi\r\n",
      "./UCF101_subset/val/ApplyEyeMakeup/v_ApplyEyeMakeup_g16_c05.avi\r\n",
      "./UCF101_subset/val/ApplyEyeMakeup/v_ApplyEyeMakeup_g03_c01.avi\r\n",
      "./UCF101_subset/val/ApplyEyeMakeup/UCF101\r\n",
      "./UCF101_subset/val/ApplyEyeMakeup/v_ApplyEyeMakeup_g25_c01.avi\r\n",
      "./UCF101_subset/val/ApplyEyeMakeup/v_ApplyEyeMakeup_g06_c01.avi\r\n",
      "./UCF101_subset/val/ApplyEyeMakeup/v_ApplyEyeMakeup_g25_c05.avi\r\n",
      "./UCF101_subset/val/ApplyEyeMakeup/v_ApplyEyeMakeup_g09_c02.avi\r\n",
      "./UCF101_subset/val/BenchPress\r\n",
      "./UCF101_subset/val/BenchPress/v_BenchPress_g16_c05.avi\r\n",
      "./UCF101_subset/val/BenchPress/v_BenchPress_g23_c02.avi\r\n",
      "./UCF101_subset/val/BenchPress/v_BenchPress_g17_c06.avi\r\n",
      "./UCF101_subset/val/BenchPress/v_BenchPress_g03_c04.avi\r\n",
      "./UCF101_subset/val/BenchPress/v_BenchPress_g05_c06.avi\r\n",
      "./UCF101_subset/val/BenchPress/UCF101\r\n",
      "./UCF101_subset/val/BenchPress/v_BenchPress_g04_c03.avi\r\n",
      "./UCF101_subset/val/BenchPress/v_BenchPress_g06_c03.avi\r\n",
      "./UCF101_subset/val/BenchPress/v_BenchPress_g12_c04.avi\r\n",
      "./UCF101_subset/val/BenchPress/v_BenchPress_g25_c06.avi\r\n",
      "./UCF101_subset/val/BenchPress/v_BenchPress_g01_c05.avi\r\n",
      "./UCF101_subset/val/Basketball\r\n",
      "./UCF101_subset/val/Basketball/v_Basketball_g15_c07.avi\r\n",
      "./UCF101_subset/val/Basketball/v_Basketball_g19_c03.avi\r\n",
      "./UCF101_subset/val/Basketball/v_Basketball_g25_c06.avi\r\n",
      "./UCF101_subset/val/Basketball/v_Basketball_g09_c04.avi\r\n",
      "./UCF101_subset/val/Basketball/UCF101\r\n",
      "./UCF101_subset/val/Basketball/v_Basketball_g22_c05.avi\r\n",
      "./UCF101_subset/val/Basketball/v_Basketball_g20_c02.avi\r\n",
      "./UCF101_subset/val/Basketball/v_Basketball_g15_c03.avi\r\n",
      "./UCF101_subset/val/Basketball/v_Basketball_g06_c04.avi\r\n",
      "./UCF101_subset/val/Basketball/v_Basketball_g21_c05.avi\r\n",
      "./UCF101_subset/val/Basketball/v_Basketball_g21_c01.avi\r\n",
      "./UCF101_subset/val/BalanceBeam\r\n",
      "./UCF101_subset/val/BalanceBeam/v_BalanceBeam_g22_c02.avi\r\n",
      "./UCF101_subset/val/BalanceBeam/v_BalanceBeam_g25_c03.avi\r\n",
      "./UCF101_subset/val/BalanceBeam/v_BalanceBeam_g15_c03.avi\r\n",
      "./UCF101_subset/val/BalanceBeam/v_BalanceBeam_g09_c02.avi\r\n",
      "./UCF101_subset/val/BalanceBeam/UCF101\r\n",
      "./UCF101_subset/val/BalanceBeam/v_BalanceBeam_g09_c04.avi\r\n",
      "./UCF101_subset/val/BalanceBeam/v_BalanceBeam_g19_c01.avi\r\n",
      "./UCF101_subset/val/BalanceBeam/v_BalanceBeam_g24_c03.avi\r\n",
      "./UCF101_subset/val/BalanceBeam/v_BalanceBeam_g21_c01.avi\r\n",
      "./UCF101_subset/val/BalanceBeam/v_BalanceBeam_g18_c03.avi\r\n",
      "./UCF101_subset/val/BalanceBeam/v_BalanceBeam_g06_c07.avi\r\n",
      "./UCF101_subset/val/BandMarching\r\n",
      "./UCF101_subset/val/BandMarching/v_BandMarching_g11_c07.avi\r\n",
      "./UCF101_subset/val/BandMarching/v_BandMarching_g11_c03.avi\r\n",
      "./UCF101_subset/val/BandMarching/v_BandMarching_g08_c06.avi\r\n",
      "./UCF101_subset/val/BandMarching/v_BandMarching_g08_c04.avi\r\n",
      "./UCF101_subset/val/BandMarching/v_BandMarching_g05_c04.avi\r\n",
      "./UCF101_subset/val/BandMarching/UCF101\r\n",
      "./UCF101_subset/val/BandMarching/v_BandMarching_g01_c03.avi\r\n",
      "./UCF101_subset/val/BandMarching/v_BandMarching_g12_c04.avi\r\n",
      "./UCF101_subset/val/BandMarching/v_BandMarching_g21_c04.avi\r\n",
      "./UCF101_subset/val/BandMarching/v_BandMarching_g23_c01.avi\r\n",
      "./UCF101_subset/val/BandMarching/v_BandMarching_g18_c03.avi\r\n",
      "./UCF101_subset/train\r\n",
      "./UCF101_subset/train/Archery\r\n",
      "./UCF101_subset/train/Archery/v_Archery_g16_c03.avi\r\n",
      "./UCF101_subset/train/Archery/v_Archery_g13_c05.avi\r\n",
      "./UCF101_subset/train/Archery/v_Archery_g04_c05.avi\r\n",
      "./UCF101_subset/train/Archery/v_Archery_g25_c06.avi\r\n",
      "./UCF101_subset/train/Archery/v_Archery_g20_c07.avi\r\n",
      "./UCF101_subset/train/Archery/v_Archery_g12_c01.avi\r\n",
      "./UCF101_subset/train/Archery/v_Archery_g08_c05.avi\r\n",
      "./UCF101_subset/train/Archery/v_Archery_g11_c06.avi\r\n",
      "./UCF101_subset/train/Archery/v_Archery_g23_c07.avi\r\n",
      "./UCF101_subset/train/Archery/v_Archery_g01_c04.avi\r\n",
      "./UCF101_subset/train/Archery/UCF101\r\n",
      "./UCF101_subset/train/Archery/v_Archery_g10_c01.avi\r\n",
      "./UCF101_subset/train/Archery/v_Archery_g17_c04.avi\r\n",
      "./UCF101_subset/train/Archery/v_Archery_g14_c04.avi\r\n",
      "./UCF101_subset/train/Archery/v_Archery_g02_c03.avi\r\n",
      "./UCF101_subset/train/Archery/v_Archery_g20_c05.avi\r\n",
      "./UCF101_subset/train/Archery/v_Archery_g03_c04.avi\r\n",
      "./UCF101_subset/train/Archery/v_Archery_g23_c01.avi\r\n",
      "./UCF101_subset/train/Archery/v_Archery_g02_c01.avi\r\n",
      "./UCF101_subset/train/Archery/v_Archery_g17_c02.avi\r\n",
      "./UCF101_subset/train/Archery/v_Archery_g23_c05.avi\r\n",
      "./UCF101_subset/train/Archery/v_Archery_g11_c04.avi\r\n",
      "./UCF101_subset/train/Archery/v_Archery_g10_c03.avi\r\n",
      "./UCF101_subset/train/Archery/v_Archery_g04_c03.avi\r\n",
      "./UCF101_subset/train/Archery/v_Archery_g14_c02.avi\r\n",
      "./UCF101_subset/train/Archery/v_Archery_g21_c04.avi\r\n",
      "./UCF101_subset/train/Archery/v_Archery_g06_c03.avi\r\n",
      "./UCF101_subset/train/Archery/v_Archery_g01_c02.avi\r\n",
      "./UCF101_subset/train/Archery/v_Archery_g02_c07.avi\r\n",
      "./UCF101_subset/train/Archery/v_Archery_g07_c03.avi\r\n",
      "./UCF101_subset/train/Archery/v_Archery_g07_c05.avi\r\n",
      "./UCF101_subset/train/BabyCrawling\r\n",
      "./UCF101_subset/train/BabyCrawling/v_BabyCrawling_g19_c02.avi\r\n",
      "./UCF101_subset/train/BabyCrawling/v_BabyCrawling_g25_c05.avi\r\n",
      "./UCF101_subset/train/BabyCrawling/v_BabyCrawling_g14_c03.avi\r\n",
      "./UCF101_subset/train/BabyCrawling/v_BabyCrawling_g17_c05.avi\r\n",
      "./UCF101_subset/train/BabyCrawling/v_BabyCrawling_g20_c03.avi\r\n",
      "./UCF101_subset/train/BabyCrawling/v_BabyCrawling_g09_c04.avi\r\n",
      "./UCF101_subset/train/BabyCrawling/v_BabyCrawling_g22_c02.avi\r\n",
      "./UCF101_subset/train/BabyCrawling/v_BabyCrawling_g21_c02.avi\r\n",
      "./UCF101_subset/train/BabyCrawling/v_BabyCrawling_g14_c01.avi\r\n",
      "./UCF101_subset/train/BabyCrawling/v_BabyCrawling_g22_c06.avi\r\n",
      "./UCF101_subset/train/BabyCrawling/v_BabyCrawling_g02_c01.avi\r\n",
      "./UCF101_subset/train/BabyCrawling/v_BabyCrawling_g10_c02.avi\r\n",
      "./UCF101_subset/train/BabyCrawling/v_BabyCrawling_g12_c01.avi\r\n",
      "./UCF101_subset/train/BabyCrawling/v_BabyCrawling_g22_c04.avi\r\n",
      "./UCF101_subset/train/BabyCrawling/v_BabyCrawling_g23_c01.avi\r\n",
      "./UCF101_subset/train/BabyCrawling/v_BabyCrawling_g20_c01.avi\r\n",
      "./UCF101_subset/train/BabyCrawling/v_BabyCrawling_g15_c01.avi\r\n",
      "./UCF101_subset/train/BabyCrawling/UCF101\r\n",
      "./UCF101_subset/train/BabyCrawling/v_BabyCrawling_g21_c04.avi\r\n",
      "./UCF101_subset/train/BabyCrawling/v_BabyCrawling_g20_c05.avi\r\n",
      "./UCF101_subset/train/BabyCrawling/v_BabyCrawling_g06_c02.avi\r\n",
      "./UCF101_subset/train/BabyCrawling/v_BabyCrawling_g18_c06.avi\r\n",
      "./UCF101_subset/train/BabyCrawling/v_BabyCrawling_g04_c03.avi\r\n",
      "./UCF101_subset/train/BabyCrawling/v_BabyCrawling_g13_c05.avi\r\n",
      "./UCF101_subset/train/BabyCrawling/v_BabyCrawling_g20_c07.avi\r\n",
      "./UCF101_subset/train/BabyCrawling/v_BabyCrawling_g07_c06.avi\r\n",
      "./UCF101_subset/train/BabyCrawling/v_BabyCrawling_g03_c01.avi\r\n",
      "./UCF101_subset/train/BabyCrawling/v_BabyCrawling_g18_c04.avi\r\n",
      "./UCF101_subset/train/BabyCrawling/v_BabyCrawling_g13_c01.avi\r\n",
      "./UCF101_subset/train/BabyCrawling/v_BabyCrawling_g24_c03.avi\r\n",
      "./UCF101_subset/train/BabyCrawling/v_BabyCrawling_g25_c01.avi\r\n",
      "./UCF101_subset/train/BaseballPitch\r\n",
      "./UCF101_subset/train/BaseballPitch/v_BaseballPitch_g12_c01.avi\r\n",
      "./UCF101_subset/train/BaseballPitch/v_BaseballPitch_g02_c02.avi\r\n",
      "./UCF101_subset/train/BaseballPitch/v_BaseballPitch_g03_c04.avi\r\n",
      "./UCF101_subset/train/BaseballPitch/v_BaseballPitch_g16_c03.avi\r\n",
      "./UCF101_subset/train/BaseballPitch/v_BaseballPitch_g07_c02.avi\r\n",
      "./UCF101_subset/train/BaseballPitch/v_BaseballPitch_g06_c01.avi\r\n",
      "./UCF101_subset/train/BaseballPitch/v_BaseballPitch_g21_c02.avi\r\n",
      "./UCF101_subset/train/BaseballPitch/v_BaseballPitch_g03_c02.avi\r\n",
      "./UCF101_subset/train/BaseballPitch/v_BaseballPitch_g11_c02.avi\r\n",
      "./UCF101_subset/train/BaseballPitch/v_BaseballPitch_g14_c02.avi\r\n",
      "./UCF101_subset/train/BaseballPitch/v_BaseballPitch_g06_c03.avi\r\n",
      "./UCF101_subset/train/BaseballPitch/v_BaseballPitch_g01_c06.avi\r\n",
      "./UCF101_subset/train/BaseballPitch/v_BaseballPitch_g19_c03.avi\r\n",
      "./UCF101_subset/train/BaseballPitch/v_BaseballPitch_g04_c05.avi\r\n",
      "./UCF101_subset/train/BaseballPitch/v_BaseballPitch_g11_c04.avi\r\n",
      "./UCF101_subset/train/BaseballPitch/v_BaseballPitch_g08_c05.avi\r\n",
      "./UCF101_subset/train/BaseballPitch/v_BaseballPitch_g13_c01.avi\r\n",
      "./UCF101_subset/train/BaseballPitch/v_BaseballPitch_g18_c02.avi\r\n",
      "./UCF101_subset/train/BaseballPitch/v_BaseballPitch_g07_c04.avi\r\n",
      "./UCF101_subset/train/BaseballPitch/v_BaseballPitch_g05_c04.avi\r\n",
      "./UCF101_subset/train/BaseballPitch/UCF101\r\n",
      "./UCF101_subset/train/BaseballPitch/v_BaseballPitch_g05_c02.avi\r\n",
      "./UCF101_subset/train/BaseballPitch/v_BaseballPitch_g24_c02.avi\r\n",
      "./UCF101_subset/train/BaseballPitch/v_BaseballPitch_g08_c01.avi\r\n",
      "./UCF101_subset/train/BaseballPitch/v_BaseballPitch_g12_c03.avi\r\n",
      "./UCF101_subset/train/BaseballPitch/v_BaseballPitch_g03_c06.avi\r\n",
      "./UCF101_subset/train/BaseballPitch/v_BaseballPitch_g21_c04.avi\r\n",
      "./UCF101_subset/train/BaseballPitch/v_BaseballPitch_g25_c07.avi\r\n",
      "./UCF101_subset/train/BaseballPitch/v_BaseballPitch_g19_c01.avi\r\n",
      "./UCF101_subset/train/BaseballPitch/v_BaseballPitch_g17_c05.avi\r\n",
      "./UCF101_subset/train/BaseballPitch/v_BaseballPitch_g22_c04.avi\r\n",
      "./UCF101_subset/train/BasketballDunk\r\n",
      "./UCF101_subset/train/BasketballDunk/v_BasketballDunk_g15_c03.avi\r\n",
      "./UCF101_subset/train/BasketballDunk/v_BasketballDunk_g01_c06.avi\r\n",
      "./UCF101_subset/train/BasketballDunk/v_BasketballDunk_g22_c03.avi\r\n",
      "./UCF101_subset/train/BasketballDunk/v_BasketballDunk_g25_c03.avi\r\n",
      "./UCF101_subset/train/BasketballDunk/v_BasketballDunk_g23_c05.avi\r\n",
      "./UCF101_subset/train/BasketballDunk/v_BasketballDunk_g09_c02.avi\r\n",
      "./UCF101_subset/train/BasketballDunk/v_BasketballDunk_g07_c01.avi\r\n",
      "./UCF101_subset/train/BasketballDunk/v_BasketballDunk_g13_c02.avi\r\n",
      "./UCF101_subset/train/BasketballDunk/v_BasketballDunk_g23_c03.avi\r\n",
      "./UCF101_subset/train/BasketballDunk/v_BasketballDunk_g05_c05.avi\r\n",
      "./UCF101_subset/train/BasketballDunk/v_BasketballDunk_g12_c01.avi\r\n",
      "./UCF101_subset/train/BasketballDunk/UCF101\r\n",
      "./UCF101_subset/train/BasketballDunk/v_BasketballDunk_g11_c04.avi\r\n",
      "./UCF101_subset/train/BasketballDunk/v_BasketballDunk_g14_c04.avi\r\n",
      "./UCF101_subset/train/BasketballDunk/v_BasketballDunk_g15_c01.avi\r\n",
      "./UCF101_subset/train/BasketballDunk/v_BasketballDunk_g15_c05.avi\r\n",
      "./UCF101_subset/train/BasketballDunk/v_BasketballDunk_g05_c03.avi\r\n",
      "./UCF101_subset/train/BasketballDunk/v_BasketballDunk_g01_c02.avi\r\n",
      "./UCF101_subset/train/BasketballDunk/v_BasketballDunk_g14_c02.avi\r\n",
      "./UCF101_subset/train/BasketballDunk/v_BasketballDunk_g19_c03.avi\r\n",
      "./UCF101_subset/train/BasketballDunk/v_BasketballDunk_g04_c03.avi\r\n",
      "./UCF101_subset/train/BasketballDunk/v_BasketballDunk_g21_c03.avi\r\n",
      "./UCF101_subset/train/BasketballDunk/v_BasketballDunk_g18_c01.avi\r\n",
      "./UCF101_subset/train/BasketballDunk/v_BasketballDunk_g10_c03.avi\r\n",
      "./UCF101_subset/train/BasketballDunk/v_BasketballDunk_g20_c01.avi\r\n",
      "./UCF101_subset/train/BasketballDunk/v_BasketballDunk_g05_c01.avi\r\n",
      "./UCF101_subset/train/BasketballDunk/v_BasketballDunk_g12_c03.avi\r\n",
      "./UCF101_subset/train/BasketballDunk/v_BasketballDunk_g16_c06.avi\r\n",
      "./UCF101_subset/train/BasketballDunk/v_BasketballDunk_g10_c01.avi\r\n",
      "./UCF101_subset/train/BasketballDunk/v_BasketballDunk_g15_c07.avi\r\n",
      "./UCF101_subset/train/BasketballDunk/v_BasketballDunk_g06_c01.avi\r\n",
      "./UCF101_subset/train/ApplyLipstick\r\n",
      "./UCF101_subset/train/ApplyLipstick/v_ApplyLipstick_g14_c01.avi\r\n",
      "./UCF101_subset/train/ApplyLipstick/v_ApplyLipstick_g22_c04.avi\r\n",
      "./UCF101_subset/train/ApplyLipstick/v_ApplyLipstick_g19_c04.avi\r\n",
      "./UCF101_subset/train/ApplyLipstick/v_ApplyLipstick_g13_c03.avi\r\n",
      "./UCF101_subset/train/ApplyLipstick/v_ApplyLipstick_g22_c06.avi\r\n",
      "./UCF101_subset/train/ApplyLipstick/v_ApplyLipstick_g15_c05.avi\r\n",
      "./UCF101_subset/train/ApplyLipstick/v_ApplyLipstick_g03_c01.avi\r\n",
      "./UCF101_subset/train/ApplyLipstick/v_ApplyLipstick_g04_c01.avi\r\n",
      "./UCF101_subset/train/ApplyLipstick/v_ApplyLipstick_g12_c02.avi\r\n",
      "./UCF101_subset/train/ApplyLipstick/v_ApplyLipstick_g13_c01.avi\r\n",
      "./UCF101_subset/train/ApplyLipstick/v_ApplyLipstick_g16_c04.avi\r\n",
      "./UCF101_subset/train/ApplyLipstick/v_ApplyLipstick_g02_c01.avi\r\n",
      "./UCF101_subset/train/ApplyLipstick/UCF101\r\n",
      "./UCF101_subset/train/ApplyLipstick/v_ApplyLipstick_g15_c01.avi\r\n",
      "./UCF101_subset/train/ApplyLipstick/v_ApplyLipstick_g08_c02.avi\r\n",
      "./UCF101_subset/train/ApplyLipstick/v_ApplyLipstick_g24_c03.avi\r\n",
      "./UCF101_subset/train/ApplyLipstick/v_ApplyLipstick_g10_c02.avi\r\n",
      "./UCF101_subset/train/ApplyLipstick/v_ApplyLipstick_g21_c05.avi\r\n",
      "./UCF101_subset/train/ApplyLipstick/v_ApplyLipstick_g03_c03.avi\r\n",
      "./UCF101_subset/train/ApplyLipstick/v_ApplyLipstick_g05_c02.avi\r\n",
      "./UCF101_subset/train/ApplyLipstick/v_ApplyLipstick_g15_c03.avi\r\n",
      "./UCF101_subset/train/ApplyLipstick/v_ApplyLipstick_g18_c02.avi\r\n",
      "./UCF101_subset/train/ApplyLipstick/v_ApplyLipstick_g22_c02.avi\r\n",
      "./UCF101_subset/train/ApplyLipstick/v_ApplyLipstick_g25_c04.avi\r\n",
      "./UCF101_subset/train/ApplyLipstick/v_ApplyLipstick_g21_c01.avi\r\n",
      "./UCF101_subset/train/ApplyLipstick/v_ApplyLipstick_g23_c03.avi\r\n",
      "./UCF101_subset/train/ApplyLipstick/v_ApplyLipstick_g25_c02.avi\r\n",
      "./UCF101_subset/train/ApplyLipstick/v_ApplyLipstick_g06_c03.avi\r\n",
      "./UCF101_subset/train/ApplyLipstick/v_ApplyLipstick_g14_c03.avi\r\n",
      "./UCF101_subset/train/ApplyLipstick/v_ApplyLipstick_g09_c02.avi\r\n",
      "./UCF101_subset/train/ApplyLipstick/v_ApplyLipstick_g05_c04.avi\r\n",
      "./UCF101_subset/train/ApplyEyeMakeup\r\n",
      "./UCF101_subset/train/ApplyEyeMakeup/v_ApplyEyeMakeup_g11_c02.avi\r\n",
      "./UCF101_subset/train/ApplyEyeMakeup/v_ApplyEyeMakeup_g08_c05.avi\r\n",
      "./UCF101_subset/train/ApplyEyeMakeup/v_ApplyEyeMakeup_g03_c05.avi\r\n",
      "./UCF101_subset/train/ApplyEyeMakeup/v_ApplyEyeMakeup_g15_c06.avi\r\n",
      "./UCF101_subset/train/ApplyEyeMakeup/v_ApplyEyeMakeup_g12_c01.avi\r\n",
      "./UCF101_subset/train/ApplyEyeMakeup/v_ApplyEyeMakeup_g10_c01.avi\r\n",
      "./UCF101_subset/train/ApplyEyeMakeup/v_ApplyEyeMakeup_g17_c02.avi\r\n",
      "./UCF101_subset/train/ApplyEyeMakeup/v_ApplyEyeMakeup_g05_c02.avi\r\n",
      "./UCF101_subset/train/ApplyEyeMakeup/v_ApplyEyeMakeup_g25_c07.avi\r\n",
      "./UCF101_subset/train/ApplyEyeMakeup/v_ApplyEyeMakeup_g13_c05.avi\r\n",
      "./UCF101_subset/train/ApplyEyeMakeup/v_ApplyEyeMakeup_g10_c03.avi\r\n",
      "./UCF101_subset/train/ApplyEyeMakeup/v_ApplyEyeMakeup_g04_c07.avi\r\n",
      "./UCF101_subset/train/ApplyEyeMakeup/v_ApplyEyeMakeup_g15_c02.avi\r\n",
      "./UCF101_subset/train/ApplyEyeMakeup/v_ApplyEyeMakeup_g20_c04.avi\r\n",
      "./UCF101_subset/train/ApplyEyeMakeup/v_ApplyEyeMakeup_g22_c03.avi\r\n",
      "./UCF101_subset/train/ApplyEyeMakeup/v_ApplyEyeMakeup_g21_c04.avi\r\n",
      "./UCF101_subset/train/ApplyEyeMakeup/UCF101\r\n",
      "./UCF101_subset/train/ApplyEyeMakeup/v_ApplyEyeMakeup_g10_c05.avi\r\n",
      "./UCF101_subset/train/ApplyEyeMakeup/v_ApplyEyeMakeup_g02_c03.avi\r\n",
      "./UCF101_subset/train/ApplyEyeMakeup/v_ApplyEyeMakeup_g07_c04.avi\r\n",
      "./UCF101_subset/train/ApplyEyeMakeup/v_ApplyEyeMakeup_g20_c06.avi\r\n",
      "./UCF101_subset/train/ApplyEyeMakeup/v_ApplyEyeMakeup_g06_c03.avi\r\n",
      "./UCF101_subset/train/ApplyEyeMakeup/v_ApplyEyeMakeup_g16_c01.avi\r\n",
      "./UCF101_subset/train/ApplyEyeMakeup/v_ApplyEyeMakeup_g01_c05.avi\r\n",
      "./UCF101_subset/train/ApplyEyeMakeup/v_ApplyEyeMakeup_g23_c06.avi\r\n",
      "./UCF101_subset/train/ApplyEyeMakeup/v_ApplyEyeMakeup_g02_c01.avi\r\n",
      "./UCF101_subset/train/ApplyEyeMakeup/v_ApplyEyeMakeup_g08_c03.avi\r\n",
      "./UCF101_subset/train/ApplyEyeMakeup/v_ApplyEyeMakeup_g24_c06.avi\r\n",
      "./UCF101_subset/train/ApplyEyeMakeup/v_ApplyEyeMakeup_g19_c02.avi\r\n",
      "./UCF101_subset/train/ApplyEyeMakeup/v_ApplyEyeMakeup_g01_c01.avi\r\n",
      "./UCF101_subset/train/ApplyEyeMakeup/v_ApplyEyeMakeup_g12_c05.avi\r\n",
      "./UCF101_subset/train/BenchPress\r\n",
      "./UCF101_subset/train/BenchPress/v_BenchPress_g02_c03.avi\r\n",
      "./UCF101_subset/train/BenchPress/v_BenchPress_g15_c03.avi\r\n",
      "./UCF101_subset/train/BenchPress/v_BenchPress_g24_c05.avi\r\n",
      "./UCF101_subset/train/BenchPress/v_BenchPress_g11_c01.avi\r\n",
      "./UCF101_subset/train/BenchPress/v_BenchPress_g07_c02.avi\r\n",
      "./UCF101_subset/train/BenchPress/v_BenchPress_g13_c05.avi\r\n",
      "./UCF101_subset/train/BenchPress/v_BenchPress_g14_c04.avi\r\n",
      "./UCF101_subset/train/BenchPress/v_BenchPress_g07_c06.avi\r\n",
      "./UCF101_subset/train/BenchPress/v_BenchPress_g13_c01.avi\r\n",
      "./UCF101_subset/train/BenchPress/v_BenchPress_g14_c02.avi\r\n",
      "./UCF101_subset/train/BenchPress/v_BenchPress_g04_c07.avi\r\n",
      "./UCF101_subset/train/BenchPress/v_BenchPress_g22_c01.avi\r\n",
      "./UCF101_subset/train/BenchPress/v_BenchPress_g09_c06.avi\r\n",
      "./UCF101_subset/train/BenchPress/v_BenchPress_g19_c02.avi\r\n",
      "./UCF101_subset/train/BenchPress/UCF101\r\n",
      "./UCF101_subset/train/BenchPress/v_BenchPress_g17_c04.avi\r\n",
      "./UCF101_subset/train/BenchPress/v_BenchPress_g23_c04.avi\r\n",
      "./UCF101_subset/train/BenchPress/v_BenchPress_g20_c02.avi\r\n",
      "./UCF101_subset/train/BenchPress/v_BenchPress_g09_c04.avi\r\n",
      "./UCF101_subset/train/BenchPress/v_BenchPress_g01_c03.avi\r\n",
      "./UCF101_subset/train/BenchPress/v_BenchPress_g22_c07.avi\r\n",
      "./UCF101_subset/train/BenchPress/v_BenchPress_g16_c01.avi\r\n",
      "./UCF101_subset/train/BenchPress/v_BenchPress_g12_c06.avi\r\n",
      "./UCF101_subset/train/BenchPress/v_BenchPress_g18_c05.avi\r\n",
      "./UCF101_subset/train/BenchPress/v_BenchPress_g12_c02.avi\r\n",
      "./UCF101_subset/train/BenchPress/v_BenchPress_g14_c06.avi\r\n",
      "./UCF101_subset/train/BenchPress/v_BenchPress_g05_c02.avi\r\n",
      "./UCF101_subset/train/BenchPress/v_BenchPress_g03_c06.avi\r\n",
      "./UCF101_subset/train/BenchPress/v_BenchPress_g04_c05.avi\r\n",
      "./UCF101_subset/train/BenchPress/v_BenchPress_g08_c03.avi\r\n",
      "./UCF101_subset/train/BenchPress/v_BenchPress_g02_c07.avi\r\n",
      "./UCF101_subset/train/Basketball\r\n",
      "./UCF101_subset/train/Basketball/v_Basketball_g15_c01.avi\r\n",
      "./UCF101_subset/train/Basketball/v_Basketball_g14_c04.avi\r\n",
      "./UCF101_subset/train/Basketball/v_Basketball_g10_c01.avi\r\n",
      "./UCF101_subset/train/Basketball/v_Basketball_g07_c04.avi\r\n",
      "./UCF101_subset/train/Basketball/v_Basketball_g09_c02.avi\r\n",
      "./UCF101_subset/train/Basketball/v_Basketball_g10_c03.avi\r\n",
      "./UCF101_subset/train/Basketball/v_Basketball_g04_c02.avi\r\n",
      "./UCF101_subset/train/Basketball/v_Basketball_g02_c04.avi\r\n",
      "./UCF101_subset/train/Basketball/v_Basketball_g18_c04.avi\r\n",
      "./UCF101_subset/train/Basketball/v_Basketball_g18_c02.avi\r\n",
      "./UCF101_subset/train/Basketball/v_Basketball_g11_c04.avi\r\n",
      "./UCF101_subset/train/Basketball/v_Basketball_g25_c04.avi\r\n",
      "./UCF101_subset/train/Basketball/UCF101\r\n",
      "./UCF101_subset/train/Basketball/v_Basketball_g01_c07.avi\r\n",
      "./UCF101_subset/train/Basketball/v_Basketball_g22_c07.avi\r\n",
      "./UCF101_subset/train/Basketball/v_Basketball_g04_c04.avi\r\n",
      "./UCF101_subset/train/Basketball/v_Basketball_g03_c06.avi\r\n",
      "./UCF101_subset/train/Basketball/v_Basketball_g03_c02.avi\r\n",
      "./UCF101_subset/train/Basketball/v_Basketball_g21_c03.avi\r\n",
      "./UCF101_subset/train/Basketball/v_Basketball_g10_c05.avi\r\n",
      "./UCF101_subset/train/Basketball/v_Basketball_g01_c03.avi\r\n",
      "./UCF101_subset/train/Basketball/v_Basketball_g14_c02.avi\r\n",
      "./UCF101_subset/train/Basketball/v_Basketball_g12_c03.avi\r\n",
      "./UCF101_subset/train/Basketball/v_Basketball_g16_c02.avi\r\n",
      "./UCF101_subset/train/Basketball/v_Basketball_g24_c04.avi\r\n",
      "./UCF101_subset/train/Basketball/v_Basketball_g03_c04.avi\r\n",
      "./UCF101_subset/train/Basketball/v_Basketball_g02_c06.avi\r\n",
      "./UCF101_subset/train/Basketball/v_Basketball_g19_c05.avi\r\n",
      "./UCF101_subset/train/Basketball/v_Basketball_g23_c04.avi\r\n",
      "./UCF101_subset/train/Basketball/v_Basketball_g17_c02.avi\r\n",
      "./UCF101_subset/train/Basketball/v_Basketball_g05_c04.avi\r\n",
      "./UCF101_subset/train/BalanceBeam\r\n",
      "./UCF101_subset/train/BalanceBeam/v_BalanceBeam_g08_c04.avi\r\n",
      "./UCF101_subset/train/BalanceBeam/v_BalanceBeam_g10_c02.avi\r\n",
      "./UCF101_subset/train/BalanceBeam/v_BalanceBeam_g21_c03.avi\r\n",
      "./UCF101_subset/train/BalanceBeam/v_BalanceBeam_g08_c02.avi\r\n",
      "./UCF101_subset/train/BalanceBeam/v_BalanceBeam_g13_c02.avi\r\n",
      "./UCF101_subset/train/BalanceBeam/v_BalanceBeam_g17_c05.avi\r\n",
      "./UCF101_subset/train/BalanceBeam/v_BalanceBeam_g07_c04.avi\r\n",
      "./UCF101_subset/train/BalanceBeam/v_BalanceBeam_g24_c01.avi\r\n",
      "./UCF101_subset/train/BalanceBeam/v_BalanceBeam_g23_c02.avi\r\n",
      "./UCF101_subset/train/BalanceBeam/v_BalanceBeam_g16_c01.avi\r\n",
      "./UCF101_subset/train/BalanceBeam/v_BalanceBeam_g19_c03.avi\r\n",
      "./UCF101_subset/train/BalanceBeam/v_BalanceBeam_g14_c03.avi\r\n",
      "./UCF101_subset/train/BalanceBeam/UCF101\r\n",
      "./UCF101_subset/train/BalanceBeam/v_BalanceBeam_g04_c03.avi\r\n",
      "./UCF101_subset/train/BalanceBeam/v_BalanceBeam_g16_c03.avi\r\n",
      "./UCF101_subset/train/BalanceBeam/v_BalanceBeam_g02_c03.avi\r\n",
      "./UCF101_subset/train/BalanceBeam/v_BalanceBeam_g15_c01.avi\r\n",
      "./UCF101_subset/train/BalanceBeam/v_BalanceBeam_g01_c03.avi\r\n",
      "./UCF101_subset/train/BalanceBeam/v_BalanceBeam_g22_c04.avi\r\n",
      "./UCF101_subset/train/BalanceBeam/v_BalanceBeam_g11_c04.avi\r\n",
      "./UCF101_subset/train/BalanceBeam/v_BalanceBeam_g17_c03.avi\r\n",
      "./UCF101_subset/train/BalanceBeam/v_BalanceBeam_g25_c01.avi\r\n",
      "./UCF101_subset/train/BalanceBeam/v_BalanceBeam_g03_c01.avi\r\n",
      "./UCF101_subset/train/BalanceBeam/v_BalanceBeam_g01_c01.avi\r\n",
      "./UCF101_subset/train/BalanceBeam/v_BalanceBeam_g06_c01.avi\r\n",
      "./UCF101_subset/train/BalanceBeam/v_BalanceBeam_g13_c04.avi\r\n",
      "./UCF101_subset/train/BalanceBeam/v_BalanceBeam_g12_c04.avi\r\n",
      "./UCF101_subset/train/BalanceBeam/v_BalanceBeam_g05_c03.avi\r\n",
      "./UCF101_subset/train/BalanceBeam/v_BalanceBeam_g23_c04.avi\r\n",
      "./UCF101_subset/train/BalanceBeam/v_BalanceBeam_g10_c04.avi\r\n",
      "./UCF101_subset/train/BalanceBeam/v_BalanceBeam_g18_c01.avi\r\n",
      "./UCF101_subset/train/BandMarching\r\n",
      "./UCF101_subset/train/BandMarching/v_BandMarching_g25_c05.avi\r\n",
      "./UCF101_subset/train/BandMarching/v_BandMarching_g08_c02.avi\r\n",
      "./UCF101_subset/train/BandMarching/v_BandMarching_g03_c01.avi\r\n",
      "./UCF101_subset/train/BandMarching/v_BandMarching_g25_c03.avi\r\n",
      "./UCF101_subset/train/BandMarching/v_BandMarching_g14_c01.avi\r\n",
      "./UCF101_subset/train/BandMarching/v_BandMarching_g16_c02.avi\r\n",
      "./UCF101_subset/train/BandMarching/v_BandMarching_g14_c03.avi\r\n",
      "./UCF101_subset/train/BandMarching/v_BandMarching_g22_c02.avi\r\n",
      "./UCF101_subset/train/BandMarching/v_BandMarching_g23_c05.avi\r\n",
      "./UCF101_subset/train/BandMarching/UCF101\r\n",
      "./UCF101_subset/train/BandMarching/v_BandMarching_g21_c02.avi\r\n",
      "./UCF101_subset/train/BandMarching/v_BandMarching_g07_c01.avi\r\n",
      "./UCF101_subset/train/BandMarching/v_BandMarching_g12_c06.avi\r\n",
      "./UCF101_subset/train/BandMarching/v_BandMarching_g07_c07.avi\r\n",
      "./UCF101_subset/train/BandMarching/v_BandMarching_g03_c03.avi\r\n",
      "./UCF101_subset/train/BandMarching/v_BandMarching_g19_c07.avi\r\n",
      "./UCF101_subset/train/BandMarching/v_BandMarching_g01_c05.avi\r\n",
      "./UCF101_subset/train/BandMarching/v_BandMarching_g04_c02.avi\r\n",
      "./UCF101_subset/train/BandMarching/v_BandMarching_g19_c05.avi\r\n",
      "./UCF101_subset/train/BandMarching/v_BandMarching_g10_c04.avi\r\n",
      "./UCF101_subset/train/BandMarching/v_BandMarching_g07_c03.avi\r\n",
      "./UCF101_subset/train/BandMarching/v_BandMarching_g12_c02.avi\r\n",
      "./UCF101_subset/train/BandMarching/v_BandMarching_g01_c07.avi\r\n",
      "./UCF101_subset/train/BandMarching/v_BandMarching_g17_c01.avi\r\n",
      "./UCF101_subset/train/BandMarching/v_BandMarching_g05_c02.avi\r\n",
      "./UCF101_subset/train/BandMarching/v_BandMarching_g11_c05.avi\r\n",
      "./UCF101_subset/train/BandMarching/v_BandMarching_g19_c03.avi\r\n",
      "./UCF101_subset/train/BandMarching/v_BandMarching_g24_c05.avi\r\n",
      "./UCF101_subset/train/BandMarching/v_BandMarching_g21_c06.avi\r\n",
      "./UCF101_subset/train/BandMarching/v_BandMarching_g16_c04.avi\r\n",
      "./UCF101_subset/train/BandMarching/v_BandMarching_g04_c04.avi\r\n",
      "./UCF101_subset/test\r\n",
      "./UCF101_subset/test/Archery\r\n",
      "./UCF101_subset/test/Archery/v_Archery_g09_c04.avi\r\n",
      "./UCF101_subset/test/Archery/v_Archery_g08_c01.avi\r\n",
      "./UCF101_subset/test/Archery/v_Archery_g24_c04.avi\r\n",
      "./UCF101_subset/test/Archery/UCF101\r\n",
      "./UCF101_subset/test/Archery/v_Archery_g03_c02.avi\r\n",
      "./UCF101_subset/test/Archery/v_Archery_g10_c05.avi\r\n",
      "./UCF101_subset/test/Archery/v_Archery_g18_c02.avi\r\n",
      "./UCF101_subset/test/Archery/v_Archery_g24_c02.avi\r\n",
      "./UCF101_subset/test/Archery/v_Archery_g13_c01.avi\r\n",
      "./UCF101_subset/test/Archery/v_Archery_g19_c03.avi\r\n",
      "./UCF101_subset/test/Archery/v_Archery_g10_c07.avi\r\n",
      "./UCF101_subset/test/BabyCrawling\r\n",
      "./UCF101_subset/test/BabyCrawling/v_BabyCrawling_g12_c03.avi\r\n",
      "./UCF101_subset/test/BabyCrawling/v_BabyCrawling_g07_c04.avi\r\n",
      "./UCF101_subset/test/BabyCrawling/v_BabyCrawling_g12_c05.avi\r\n",
      "./UCF101_subset/test/BabyCrawling/v_BabyCrawling_g02_c05.avi\r\n",
      "./UCF101_subset/test/BabyCrawling/v_BabyCrawling_g11_c01.avi\r\n",
      "./UCF101_subset/test/BabyCrawling/v_BabyCrawling_g08_c02.avi\r\n",
      "./UCF101_subset/test/BabyCrawling/UCF101\r\n",
      "./UCF101_subset/test/BabyCrawling/v_BabyCrawling_g09_c02.avi\r\n",
      "./UCF101_subset/test/BabyCrawling/v_BabyCrawling_g15_c05.avi\r\n",
      "./UCF101_subset/test/BabyCrawling/v_BabyCrawling_g24_c05.avi\r\n",
      "./UCF101_subset/test/BabyCrawling/v_BabyCrawling_g01_c01.avi\r\n",
      "./UCF101_subset/test/BaseballPitch\r\n",
      "./UCF101_subset/test/BaseballPitch/v_BaseballPitch_g04_c01.avi\r\n",
      "./UCF101_subset/test/BaseballPitch/v_BaseballPitch_g20_c02.avi\r\n",
      "./UCF101_subset/test/BaseballPitch/UCF101\r\n",
      "./UCF101_subset/test/BaseballPitch/v_BaseballPitch_g17_c03.avi\r\n",
      "./UCF101_subset/test/BaseballPitch/v_BaseballPitch_g10_c05.avi\r\n",
      "./UCF101_subset/test/BaseballPitch/v_BaseballPitch_g08_c03.avi\r\n",
      "./UCF101_subset/test/BaseballPitch/v_BaseballPitch_g10_c03.avi\r\n",
      "./UCF101_subset/test/BaseballPitch/v_BaseballPitch_g17_c01.avi\r\n",
      "./UCF101_subset/test/BaseballPitch/v_BaseballPitch_g22_c06.avi\r\n",
      "./UCF101_subset/test/BaseballPitch/v_BaseballPitch_g01_c02.avi\r\n",
      "./UCF101_subset/test/BaseballPitch/v_BaseballPitch_g20_c04.avi\r\n",
      "./UCF101_subset/test/BasketballDunk\r\n",
      "./UCF101_subset/test/BasketballDunk/v_BasketballDunk_g06_c03.avi\r\n",
      "./UCF101_subset/test/BasketballDunk/v_BasketballDunk_g07_c03.avi\r\n",
      "./UCF101_subset/test/BasketballDunk/v_BasketballDunk_g24_c04.avi\r\n",
      "./UCF101_subset/test/BasketballDunk/UCF101\r\n",
      "./UCF101_subset/test/BasketballDunk/v_BasketballDunk_g25_c01.avi\r\n",
      "./UCF101_subset/test/BasketballDunk/v_BasketballDunk_g17_c06.avi\r\n",
      "./UCF101_subset/test/BasketballDunk/v_BasketballDunk_g02_c01.avi\r\n",
      "./UCF101_subset/test/BasketballDunk/v_BasketballDunk_g23_c01.avi\r\n",
      "./UCF101_subset/test/BasketballDunk/v_BasketballDunk_g16_c04.avi\r\n",
      "./UCF101_subset/test/BasketballDunk/v_BasketballDunk_g19_c01.avi\r\n",
      "./UCF101_subset/test/BasketballDunk/v_BasketballDunk_g07_c05.avi\r\n",
      "./UCF101_subset/test/ApplyLipstick\r\n",
      "./UCF101_subset/test/ApplyLipstick/v_ApplyLipstick_g10_c04.avi\r\n",
      "./UCF101_subset/test/ApplyLipstick/v_ApplyLipstick_g12_c04.avi\r\n",
      "./UCF101_subset/test/ApplyLipstick/v_ApplyLipstick_g11_c04.avi\r\n",
      "./UCF101_subset/test/ApplyLipstick/v_ApplyLipstick_g11_c02.avi\r\n",
      "./UCF101_subset/test/ApplyLipstick/v_ApplyLipstick_g21_c03.avi\r\n",
      "./UCF101_subset/test/ApplyLipstick/v_ApplyLipstick_g23_c01.avi\r\n",
      "./UCF101_subset/test/ApplyLipstick/UCF101\r\n",
      "./UCF101_subset/test/ApplyLipstick/v_ApplyLipstick_g09_c04.avi\r\n",
      "./UCF101_subset/test/ApplyLipstick/v_ApplyLipstick_g24_c05.avi\r\n",
      "./UCF101_subset/test/ApplyLipstick/v_ApplyLipstick_g17_c03.avi\r\n",
      "./UCF101_subset/test/ApplyLipstick/v_ApplyLipstick_g07_c04.avi\r\n",
      "./UCF101_subset/test/ApplyEyeMakeup\r\n",
      "./UCF101_subset/test/ApplyEyeMakeup/v_ApplyEyeMakeup_g11_c04.avi\r\n",
      "./UCF101_subset/test/ApplyEyeMakeup/v_ApplyEyeMakeup_g13_c03.avi\r\n",
      "./UCF101_subset/test/ApplyEyeMakeup/v_ApplyEyeMakeup_g17_c04.avi\r\n",
      "./UCF101_subset/test/ApplyEyeMakeup/v_ApplyEyeMakeup_g06_c07.avi\r\n",
      "./UCF101_subset/test/ApplyEyeMakeup/UCF101\r\n",
      "./UCF101_subset/test/ApplyEyeMakeup/v_ApplyEyeMakeup_g18_c01.avi\r\n",
      "./UCF101_subset/test/ApplyEyeMakeup/v_ApplyEyeMakeup_g04_c01.avi\r\n",
      "./UCF101_subset/test/ApplyEyeMakeup/v_ApplyEyeMakeup_g25_c03.avi\r\n",
      "./UCF101_subset/test/ApplyEyeMakeup/v_ApplyEyeMakeup_g13_c01.avi\r\n",
      "./UCF101_subset/test/ApplyEyeMakeup/v_ApplyEyeMakeup_g20_c02.avi\r\n",
      "./UCF101_subset/test/ApplyEyeMakeup/v_ApplyEyeMakeup_g07_c02.avi\r\n",
      "./UCF101_subset/test/BenchPress\r\n",
      "./UCF101_subset/test/BenchPress/v_BenchPress_g19_c04.avi\r\n",
      "./UCF101_subset/test/BenchPress/v_BenchPress_g13_c07.avi\r\n",
      "./UCF101_subset/test/BenchPress/v_BenchPress_g09_c02.avi\r\n",
      "./UCF101_subset/test/BenchPress/v_BenchPress_g20_c06.avi\r\n",
      "./UCF101_subset/test/BenchPress/v_BenchPress_g22_c03.avi\r\n",
      "./UCF101_subset/test/BenchPress/UCF101\r\n",
      "./UCF101_subset/test/BenchPress/v_BenchPress_g06_c01.avi\r\n",
      "./UCF101_subset/test/BenchPress/v_BenchPress_g21_c01.avi\r\n",
      "./UCF101_subset/test/BenchPress/v_BenchPress_g20_c04.avi\r\n",
      "./UCF101_subset/test/BenchPress/v_BenchPress_g24_c07.avi\r\n",
      "./UCF101_subset/test/BenchPress/v_BenchPress_g15_c01.avi\r\n",
      "./UCF101_subset/test/Basketball\r\n",
      "./UCF101_subset/test/Basketball/v_Basketball_g12_c01.avi\r\n",
      "./UCF101_subset/test/Basketball/v_Basketball_g06_c02.avi\r\n",
      "./UCF101_subset/test/Basketball/v_Basketball_g02_c02.avi\r\n",
      "./UCF101_subset/test/Basketball/UCF101\r\n",
      "./UCF101_subset/test/Basketball/v_Basketball_g08_c02.avi\r\n",
      "./UCF101_subset/test/Basketball/v_Basketball_g20_c04.avi\r\n",
      "./UCF101_subset/test/Basketball/v_Basketball_g01_c01.avi\r\n",
      "./UCF101_subset/test/Basketball/v_Basketball_g01_c05.avi\r\n",
      "./UCF101_subset/test/Basketball/v_Basketball_g15_c05.avi\r\n",
      "./UCF101_subset/test/Basketball/v_Basketball_g05_c02.avi\r\n",
      "./UCF101_subset/test/Basketball/v_Basketball_g08_c04.avi\r\n",
      "./UCF101_subset/test/BalanceBeam\r\n",
      "./UCF101_subset/test/BalanceBeam/v_BalanceBeam_g06_c05.avi\r\n",
      "./UCF101_subset/test/BalanceBeam/v_BalanceBeam_g02_c01.avi\r\n",
      "./UCF101_subset/test/BalanceBeam/v_BalanceBeam_g05_c01.avi\r\n",
      "./UCF101_subset/test/BalanceBeam/v_BalanceBeam_g14_c01.avi\r\n",
      "./UCF101_subset/test/BalanceBeam/v_BalanceBeam_g21_c05.avi\r\n",
      "./UCF101_subset/test/BalanceBeam/v_BalanceBeam_g11_c02.avi\r\n",
      "./UCF101_subset/test/BalanceBeam/v_BalanceBeam_g20_c03.avi\r\n",
      "./UCF101_subset/test/BalanceBeam/v_BalanceBeam_g12_c02.avi\r\n",
      "./UCF101_subset/test/BalanceBeam/UCF101\r\n",
      "./UCF101_subset/test/BalanceBeam/v_BalanceBeam_g06_c03.avi\r\n",
      "./UCF101_subset/test/BalanceBeam/v_BalanceBeam_g17_c01.avi\r\n",
      "./UCF101_subset/test/BandMarching\r\n",
      "./UCF101_subset/test/BandMarching/v_BandMarching_g03_c07.avi\r\n",
      "./UCF101_subset/test/BandMarching/v_BandMarching_g20_c02.avi\r\n",
      "./UCF101_subset/test/BandMarching/v_BandMarching_g20_c06.avi\r\n",
      "./UCF101_subset/test/BandMarching/v_BandMarching_g15_c01.avi\r\n",
      "./UCF101_subset/test/BandMarching/v_BandMarching_g02_c06.avi\r\n",
      "./UCF101_subset/test/BandMarching/v_BandMarching_g24_c01.avi\r\n",
      "./UCF101_subset/test/BandMarching/v_BandMarching_g13_c02.avi\r\n",
      "./UCF101_subset/test/BandMarching/UCF101\r\n",
      "./UCF101_subset/test/BandMarching/v_BandMarching_g06_c03.avi\r\n",
      "./UCF101_subset/test/BandMarching/v_BandMarching_g14_c05.avi\r\n",
      "./UCF101_subset/test/BandMarching/v_BandMarching_g09_c03.avi\r\n"
     ]
    }
   ],
   "source": [
    "!find ./UCF101_subset"
   ]
  },
  {
   "cell_type": "markdown",
   "metadata": {
    "id": "U4uslY4dScyu"
   },
   "source": [
    "## Create frames from each video file"
   ]
  },
  {
   "cell_type": "markdown",
   "metadata": {
    "id": "D1vvyT0F7JAZ"
   },
   "source": [
    "The following function splits the videos into frames, reads a randomly chosen span of `n_frames` out of a video file, and returns them as a NumPy `array`.\n",
    "To reduce memory and computation overhead, choose a **small** number of frames. In addition, pick the **same** number of frames from each video, which makes it easier to work on batches of data.\n"
   ]
  },
  {
   "cell_type": "code",
   "execution_count": 20,
   "metadata": {
    "execution": {
     "iopub.execute_input": "2022-09-16T01:25:08.781569Z",
     "iopub.status.busy": "2022-09-16T01:25:08.781190Z",
     "iopub.status.idle": "2022-09-16T01:25:08.788595Z",
     "shell.execute_reply": "2022-09-16T01:25:08.787761Z"
    },
    "id": "9ujLDC9G7JyE"
   },
   "outputs": [],
   "source": [
    "def frames_from_video_file(video_path, n_frames, output_size = (224,224)):\n",
    "  \"\"\" Creates frames from each video file present for each category.\n",
    "\n",
    "    Args:\n",
    "      video_path: File path to the video.\n",
    "      n_frames: Number of frames to be created per video file.\n",
    "      output_size: Pixel size of the output frame image.\n",
    "\n",
    "    Return:\n",
    "      An NumPy array of frames in the shape of (n_frames, height, width, channels).\n",
    "  \"\"\"\n",
    "  # Read each frame by frame\n",
    "  count = 0\n",
    "  result = []\n",
    "  src = cv2.VideoCapture(str(video_path))  \n",
    "\n",
    "  video_length = src.get(cv2.CAP_PROP_FRAME_COUNT)\n",
    "\n",
    "  # If the number of frames wanted is greater than the length of the video, then start from beginning\n",
    "  if n_frames > video_length:\n",
    "    start = 0\n",
    "  else:\n",
    "    # Otherwise, start at another random point within the video\n",
    "    max_start = video_length - n_frames\n",
    "    start = random.randint(0, max_start)\n",
    "\n",
    "  src.set(cv2.CAP_PROP_POS_FRAMES, start)\n",
    "\n",
    "  for _ in range(n_frames):\n",
    "    ret, frame = src.read()\n",
    "    if ret:\n",
    "      frame = tf.image.convert_image_dtype(frame, tf.float32)\n",
    "      frame = tf.image.resize_with_pad(frame, *output_size)\n",
    "      result.append(frame)\n",
    "    else:\n",
    "      result.append(np.zeros_like(result[0]))\n",
    "  src.release()\n",
    "  # Ensure that the color scheme is not inverted\n",
    "  result = np.array(result)[..., [2, 1, 0]]\n",
    "\n",
    "  return result"
   ]
  },
  {
   "cell_type": "markdown",
   "metadata": {
    "id": "1ENtlwhxwyTe"
   },
   "source": [
    "## Visualize video data\n",
    "\n",
    "The `frames_from_video_file` function that returns a set of frames as a NumPy array. Try using this function on a new video from [Wikimedia](https://commons.wikimedia.org/wiki/Category:Videos_of_sports){:.external} by Patrick Gillett:"
   ]
  },
  {
   "cell_type": "code",
   "execution_count": 21,
   "metadata": {
    "execution": {
     "iopub.execute_input": "2022-09-16T01:25:08.792491Z",
     "iopub.status.busy": "2022-09-16T01:25:08.792196Z",
     "iopub.status.idle": "2022-09-16T01:25:11.122614Z",
     "shell.execute_reply": "2022-09-16T01:25:11.121627Z"
    },
    "id": "Z2hgSghlykzA"
   },
   "outputs": [
    {
     "name": "stdout",
     "output_type": "stream",
     "text": [
      "  % Total    % Received % Xferd  Average Speed   Time    Time     Time  Current\r\n",
      "                                 Dload  Upload   Total   Spent    Left  Speed\r\n",
      "\r",
      "  0     0    0     0    0     0      0      0 --:--:-- --:--:-- --:--:--     0"
     ]
    },
    {
     "name": "stdout",
     "output_type": "stream",
     "text": [
      "\r",
      "  5 55.0M    5 3278k    0     0  8054k      0  0:00:07 --:--:--  0:00:07 8034k"
     ]
    },
    {
     "name": "stdout",
     "output_type": "stream",
     "text": [
      "\r",
      " 58 55.0M   58 32.2M    0     0  22.9M      0  0:00:02  0:00:01  0:00:01 22.9M"
     ]
    },
    {
     "name": "stdout",
     "output_type": "stream",
     "text": [
      "\r",
      "100 55.0M  100 55.0M    0     0  25.1M      0  0:00:02  0:00:02 --:--:-- 25.1M\r\n"
     ]
    }
   ],
   "source": [
    "!curl -O https://upload.wikimedia.org/wikipedia/commons/8/86/End_of_a_jam.ogv"
   ]
  },
  {
   "cell_type": "code",
   "execution_count": 22,
   "metadata": {
    "execution": {
     "iopub.execute_input": "2022-09-16T01:25:11.126864Z",
     "iopub.status.busy": "2022-09-16T01:25:11.126556Z",
     "iopub.status.idle": "2022-09-16T01:25:11.131015Z",
     "shell.execute_reply": "2022-09-16T01:25:11.130129Z"
    },
    "id": "xdHvHw3hym-U"
   },
   "outputs": [],
   "source": [
    "video_path = \"End_of_a_jam.ogv\""
   ]
  },
  {
   "cell_type": "code",
   "execution_count": 23,
   "metadata": {
    "execution": {
     "iopub.execute_input": "2022-09-16T01:25:11.134517Z",
     "iopub.status.busy": "2022-09-16T01:25:11.134264Z",
     "iopub.status.idle": "2022-09-16T01:25:14.689204Z",
     "shell.execute_reply": "2022-09-16T01:25:14.688327Z"
    },
    "id": "u845YODXyqo5"
   },
   "outputs": [
    {
     "data": {
      "text/plain": [
       "(10, 224, 224, 3)"
      ]
     },
     "execution_count": 23,
     "metadata": {},
     "output_type": "execute_result"
    }
   ],
   "source": [
    "sample_video = frames_from_video_file(video_path, n_frames = 10)\n",
    "sample_video.shape"
   ]
  },
  {
   "cell_type": "code",
   "execution_count": 24,
   "metadata": {
    "execution": {
     "iopub.execute_input": "2022-09-16T01:25:14.692978Z",
     "iopub.status.busy": "2022-09-16T01:25:14.692710Z",
     "iopub.status.idle": "2022-09-16T01:25:14.697335Z",
     "shell.execute_reply": "2022-09-16T01:25:14.696604Z"
    },
    "id": "zFHGHiFgGjv2"
   },
   "outputs": [],
   "source": [
    "def to_gif(images):\n",
    "  converted_images = np.clip(images * 255, 0, 255).astype(np.uint8)\n",
    "  imageio.mimsave('./animation.gif', converted_images, fps=10)\n",
    "  return embed.embed_file('./animation.gif')"
   ]
  },
  {
   "cell_type": "code",
   "execution_count": 25,
   "metadata": {
    "execution": {
     "iopub.execute_input": "2022-09-16T01:25:14.700742Z",
     "iopub.status.busy": "2022-09-16T01:25:14.700470Z",
     "iopub.status.idle": "2022-09-16T01:25:15.128369Z",
     "shell.execute_reply": "2022-09-16T01:25:15.127535Z"
    },
    "id": "7hiwUJenEN3p"
   },
   "outputs": [
    {
     "data": {
      "text/html": [
       "<img src=\"data:image/gif;base64,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\"/>"
      ],
      "text/plain": [
       "<IPython.core.display.HTML object>"
      ]
     },
     "execution_count": 25,
     "metadata": {},
     "output_type": "execute_result"
    }
   ],
   "source": [
    "to_gif(sample_video)"
   ]
  },
  {
   "cell_type": "markdown",
   "metadata": {
    "id": "3dktTnDVG7xf"
   },
   "source": [
    "In addition to examining this video, you can also display the UCF-101 data. To do this, run the following code:"
   ]
  },
  {
   "cell_type": "code",
   "execution_count": null,
   "metadata": {
    "id": "MghJzJsWme0t"
   },
   "outputs": [],
   "source": [
    "# docs-infra: no-execute\n",
    "ucf_sample_video = frames_from_video_file(next(subset_paths['train'].glob('*/*.avi')), 50)\n",
    "to_gif(ucf_sample_video)"
   ]
  },
  {
   "cell_type": "markdown",
   "metadata": {
    "id": "NlvuC5_E7XrF"
   },
   "source": [
    "Next, define the `FrameGenerator` class in order to create an iterable object that can feed data into the TensorFlow data pipeline. The generator (`__call__`) function yields the frame array produced by `frames_from_video_file` and a one-hot encoded vector of the label associated with the set of frames."
   ]
  },
  {
   "cell_type": "code",
   "execution_count": 26,
   "metadata": {
    "execution": {
     "iopub.execute_input": "2022-09-16T01:25:15.134839Z",
     "iopub.status.busy": "2022-09-16T01:25:15.134163Z",
     "iopub.status.idle": "2022-09-16T01:25:15.141673Z",
     "shell.execute_reply": "2022-09-16T01:25:15.140890Z"
    },
    "id": "MVmfLTlw7Ues"
   },
   "outputs": [],
   "source": [
    "class FrameGenerator:\n",
    "  def __init__(self, path, n_frames):\n",
    "    \"\"\" Returns a set of frames with their associated label. \n",
    "\n",
    "      Args:\n",
    "        path: Video file paths.\n",
    "        classes: List of labels for classification.\n",
    "    \"\"\"\n",
    "    self.path = path\n",
    "    self.n_frames = n_frames\n",
    "    self.class_names = sorted(set(p.name for p in self.path.iterdir() if p.is_dir()))\n",
    "    self.class_ids_for_name = dict((name, idx) for idx, name in enumerate(self.class_names))\n",
    "\n",
    "  def get_files_and_class_names(self):\n",
    "    video_paths = list(self.path.glob('*/*.avi'))\n",
    "    classes = [p.parent.name for p in video_paths] \n",
    "    return video_paths, classes\n",
    "\n",
    "  def __call__(self):\n",
    "    video_paths, classes = self.get_files_and_class_names()\n",
    "\n",
    "    pairs = list(zip(video_paths, classes))\n",
    "\n",
    "    random.shuffle(pairs)\n",
    "\n",
    "    shuffled_video_paths, shuffled_classes = zip(*pairs)\n",
    "\n",
    "    for path, name in pairs:\n",
    "      video_frames = frames_from_video_file(path, self.n_frames) \n",
    "      label = self.class_ids_for_name[name] # Encode labels\n",
    "      yield video_frames, label"
   ]
  },
  {
   "cell_type": "markdown",
   "metadata": {
    "id": "xsvhPIkpzx-r"
   },
   "source": [
    "Test out the `FrameGenerator` object before wrapping it as a TensorFlow Dataset object."
   ]
  },
  {
   "cell_type": "code",
   "execution_count": 27,
   "metadata": {
    "execution": {
     "iopub.execute_input": "2022-09-16T01:25:15.145564Z",
     "iopub.status.busy": "2022-09-16T01:25:15.145274Z",
     "iopub.status.idle": "2022-09-16T01:25:15.273418Z",
     "shell.execute_reply": "2022-09-16T01:25:15.272543Z"
    },
    "id": "P5jwagZxzxOf"
   },
   "outputs": [
    {
     "name": "stdout",
     "output_type": "stream",
     "text": [
      "Shape: (10, 224, 224, 3)\n",
      "Label: 3\n"
     ]
    }
   ],
   "source": [
    "fg = FrameGenerator(subset_paths['train'], 10)\n",
    "\n",
    "frames, label = next(fg())\n",
    "\n",
    "print(f\"Shape: {frames.shape}\")\n",
    "print(f\"Label: {label}\")"
   ]
  },
  {
   "cell_type": "markdown",
   "metadata": {
    "id": "E7MRRFSks7l1"
   },
   "source": [
    "Finally, create a TensorFlow data input pipeline. This pipeline that you create from the generator object allows you to feed in data to your deep learning model. In this video pipeline, each element is a single set of frames and its associated label."
   ]
  },
  {
   "cell_type": "code",
   "execution_count": 28,
   "metadata": {
    "execution": {
     "iopub.execute_input": "2022-09-16T01:25:15.277450Z",
     "iopub.status.busy": "2022-09-16T01:25:15.277116Z",
     "iopub.status.idle": "2022-09-16T01:25:15.312960Z",
     "shell.execute_reply": "2022-09-16T01:25:15.312152Z"
    },
    "id": "HM4NboJr7ck4"
   },
   "outputs": [],
   "source": [
    "# Create the training set\n",
    "output_signature = (tf.TensorSpec(shape = (None, None, None, 3), dtype = tf.float32),\n",
    "                    tf.TensorSpec(shape = (), dtype = tf.int16))\n",
    "train_ds = tf.data.Dataset.from_generator(FrameGenerator(subset_paths['train'], 10),\n",
    "                                          output_signature = output_signature)"
   ]
  },
  {
   "cell_type": "code",
   "execution_count": 29,
   "metadata": {
    "execution": {
     "iopub.execute_input": "2022-09-16T01:25:15.316704Z",
     "iopub.status.busy": "2022-09-16T01:25:15.316448Z",
     "iopub.status.idle": "2022-09-16T01:25:15.342583Z",
     "shell.execute_reply": "2022-09-16T01:25:15.341697Z"
    },
    "id": "Pi8-WkOkEXw5"
   },
   "outputs": [],
   "source": [
    "# Create the validation set\n",
    "val_ds = tf.data.Dataset.from_generator(FrameGenerator(subset_paths['val'], 10),\n",
    "                                        output_signature = output_signature)"
   ]
  },
  {
   "cell_type": "code",
   "execution_count": 30,
   "metadata": {
    "execution": {
     "iopub.execute_input": "2022-09-16T01:25:15.346210Z",
     "iopub.status.busy": "2022-09-16T01:25:15.345945Z",
     "iopub.status.idle": "2022-09-16T01:25:15.677889Z",
     "shell.execute_reply": "2022-09-16T01:25:15.677048Z"
    },
    "id": "V6qXc-6i7eyK"
   },
   "outputs": [
    {
     "name": "stdout",
     "output_type": "stream",
     "text": [
      "Shape of training set of frames: (10, 224, 224, 3)\n",
      "Shape of training labels: ()\n",
      "Shape of validation set of frames: (10, 224, 224, 3)\n",
      "Shape of validation labels: ()\n"
     ]
    }
   ],
   "source": [
    "# Print the shapes of the data\n",
    "train_frames, train_labels = next(iter(train_ds))\n",
    "print(f'Shape of training set of frames: {train_frames.shape}')\n",
    "print(f'Shape of training labels: {train_labels.shape}')\n",
    "\n",
    "val_frames, val_labels = next(iter(val_ds))\n",
    "print(f'Shape of validation set of frames: {val_frames.shape}')\n",
    "print(f'Shape of validation labels: {val_labels.shape}')"
   ]
  },
  {
   "cell_type": "markdown",
   "metadata": {
    "id": "bIrFpUIxvTLe"
   },
   "source": [
    "## Configure the dataset for performance\n",
    "\n",
    "Use buffered prefetching such that you can yield data from the disk without having I/O become blocking. Two important functions to use while loading data are:\n",
    "\n",
    "* `Dataset.cache`: keeps the sets of frames in memory after they're loaded off the disk during the first epoch. This function ensures that the dataset does not become a bottleneck while training your model. If your dataset is too large to fit into memory, you can also use this method to create a performant on-disk cache.\n",
    "\n",
    "* `Dataset.prefetch`: overlaps data preprocessing and model execution while training.\n",
    "Refer to [Better performance with the `tf.data`](https://www.tensorflow.org/guide/data_performance) for details."
   ]
  },
  {
   "cell_type": "code",
   "execution_count": 31,
   "metadata": {
    "execution": {
     "iopub.execute_input": "2022-09-16T01:25:15.682595Z",
     "iopub.status.busy": "2022-09-16T01:25:15.681913Z",
     "iopub.status.idle": "2022-09-16T01:25:15.697409Z",
     "shell.execute_reply": "2022-09-16T01:25:15.696713Z"
    },
    "id": "QSxjFtxAvY3_"
   },
   "outputs": [],
   "source": [
    "AUTOTUNE = tf.data.AUTOTUNE\n",
    "\n",
    "train_ds = train_ds.cache().shuffle(1000).prefetch(buffer_size = AUTOTUNE)\n",
    "val_ds = val_ds.cache().shuffle(1000).prefetch(buffer_size = AUTOTUNE)"
   ]
  },
  {
   "cell_type": "markdown",
   "metadata": {
    "id": "VaY-hyr-Fbfr"
   },
   "source": [
    "To prepare the data to be fed into the model, use batching as shown below. Notice that when working with video data, such as AVI files, the data should be shaped as a five dimensional object. These dimensions are as follows: `[batch_size, number_of_frames, height, width, channels]`. In comparison, an image would have four dimensions: `[batch_size, height, width, channels]`. The image below is an illustration of how the shape of video data is represented.\n",
    "\n",
    "![Video data shape](https://www.tensorflow.org/images/tutorials/video/video_data_shape.png)\n",
    "\n"
   ]
  },
  {
   "cell_type": "code",
   "execution_count": 32,
   "metadata": {
    "execution": {
     "iopub.execute_input": "2022-09-16T01:25:15.701822Z",
     "iopub.status.busy": "2022-09-16T01:25:15.701100Z",
     "iopub.status.idle": "2022-09-16T01:26:03.404840Z",
     "shell.execute_reply": "2022-09-16T01:26:03.403988Z"
    },
    "id": "pp2Qc6XSFmeB"
   },
   "outputs": [
    {
     "name": "stdout",
     "output_type": "stream",
     "text": [
      "Shape of training set of frames: (2, 10, 224, 224, 3)\n",
      "Shape of training labels: (2,)\n"
     ]
    },
    {
     "name": "stdout",
     "output_type": "stream",
     "text": [
      "Shape of validation set of frames: (2, 10, 224, 224, 3)\n",
      "Shape of validation labels: (2,)\n"
     ]
    }
   ],
   "source": [
    "train_ds = train_ds.batch(2)\n",
    "val_ds = val_ds.batch(2)\n",
    "\n",
    "train_frames, train_labels = next(iter(train_ds))\n",
    "print(f'Shape of training set of frames: {train_frames.shape}')\n",
    "print(f'Shape of training labels: {train_labels.shape}')\n",
    "\n",
    "val_frames, val_labels = next(iter(val_ds))\n",
    "print(f'Shape of validation set of frames: {val_frames.shape}')\n",
    "print(f'Shape of validation labels: {val_labels.shape}')"
   ]
  },
  {
   "cell_type": "markdown",
   "metadata": {
    "id": "hqjXn1FgsMqZ"
   },
   "source": [
    "## Next steps\n",
    "\n",
    "Now that you have created a TensorFlow `Dataset` of video frames with their labels, you can use it with a deep learning model. The following classification model that uses a pre-trained [EfficientNet](https://arxiv.org/abs/1905.11946){:.external} trains to high accuracy in a few minutes:"
   ]
  },
  {
   "cell_type": "code",
   "execution_count": 33,
   "metadata": {
    "execution": {
     "iopub.execute_input": "2022-09-16T01:26:03.409006Z",
     "iopub.status.busy": "2022-09-16T01:26:03.408713Z",
     "iopub.status.idle": "2022-09-16T01:26:42.846574Z",
     "shell.execute_reply": "2022-09-16T01:26:42.845623Z"
    },
    "id": "qzqgPBUuForj"
   },
   "outputs": [
    {
     "name": "stdout",
     "output_type": "stream",
     "text": [
      "Downloading data from https://storage.googleapis.com/keras-applications/efficientnetb0_notop.h5\n"
     ]
    },
    {
     "name": "stdout",
     "output_type": "stream",
     "text": [
      "\r",
      "    8192/16705208 [..............................] - ETA: 0s"
     ]
    },
    {
     "name": "stdout",
     "output_type": "stream",
     "text": [
      "\b\b\b\b\b\b\b\b\b\b\b\b\b\b\b\b\b\b\b\b\b\b\b\b\b\b\b\b\b\b\b\b\b\b\b\b\b\b\b\b\b\b\b\b\b\b\b\b\b\b\b\b\b\b\b\b\b\b\b\b\r",
      " 7495680/16705208 [============>.................] - ETA: 0s"
     ]
    },
    {
     "name": "stdout",
     "output_type": "stream",
     "text": [
      "\b\b\b\b\b\b\b\b\b\b\b\b\b\b\b\b\b\b\b\b\b\b\b\b\b\b\b\b\b\b\b\b\b\b\b\b\b\b\b\b\b\b\b\b\b\b\b\b\b\b\b\b\b\b\b\b\b\b\b\b\r",
      "16705208/16705208 [==============================] - 0s 0us/step\n"
     ]
    },
    {
     "name": "stdout",
     "output_type": "stream",
     "text": [
      "Epoch 1/10\n"
     ]
    },
    {
     "name": "stdout",
     "output_type": "stream",
     "text": [
      "\r",
      "      1/Unknown - 16s 16s/step - loss: 2.3838 - accuracy: 0.0000e+00"
     ]
    },
    {
     "name": "stdout",
     "output_type": "stream",
     "text": [
      "\b\b\b\b\b\b\b\b\b\b\b\b\b\b\b\b\b\b\b\b\b\b\b\b\b\b\b\b\b\b\b\b\b\b\b\b\b\b\b\b\b\b\b\b\b\b\b\b\b\b\b\b\b\b\b\b\b\b\b\b\b\b\b\b\b\b\b\b\r",
      "      3/Unknown - 16s 34ms/step - loss: 2.4767 - accuracy: 0.0000e+00"
     ]
    },
    {
     "name": "stdout",
     "output_type": "stream",
     "text": [
      "\b\b\b\b\b\b\b\b\b\b\b\b\b\b\b\b\b\b\b\b\b\b\b\b\b\b\b\b\b\b\b\b\b\b\b\b\b\b\b\b\b\b\b\b\b\b\b\b\b\b\b\b\b\b\b\b\b\b\b\b\b\b\b\b\b\b\b\b\b\r",
      "      5/Unknown - 16s 34ms/step - loss: 2.2688 - accuracy: 0.0000e+00"
     ]
    },
    {
     "name": "stdout",
     "output_type": "stream",
     "text": [
      "\b\b\b\b\b\b\b\b\b\b\b\b\b\b\b\b\b\b\b\b\b\b\b\b\b\b\b\b\b\b\b\b\b\b\b\b\b\b\b\b\b\b\b\b\b\b\b\b\b\b\b\b\b\b\b\b\b\b\b\b\b\b\b\b\b\b\b\b\b\r",
      "      7/Unknown - 16s 34ms/step - loss: 2.2852 - accuracy: 0.0000e+00"
     ]
    },
    {
     "name": "stdout",
     "output_type": "stream",
     "text": [
      "\b\b\b\b\b\b\b\b\b\b\b\b\b\b\b\b\b\b\b\b\b\b\b\b\b\b\b\b\b\b\b\b\b\b\b\b\b\b\b\b\b\b\b\b\b\b\b\b\b\b\b\b\b\b\b\b\b\b\b\b\b\b\b\b\b\b\b\b\b\r",
      "      9/Unknown - 16s 33ms/step - loss: 2.3330 - accuracy: 0.0556    "
     ]
    },
    {
     "name": "stdout",
     "output_type": "stream",
     "text": [
      "\b\b\b\b\b\b\b\b\b\b\b\b\b\b\b\b\b\b\b\b\b\b\b\b\b\b\b\b\b\b\b\b\b\b\b\b\b\b\b\b\b\b\b\b\b\b\b\b\b\b\b\b\b\b\b\b\b\b\b\b\b\b\b\b\b\r",
      "     11/Unknown - 16s 33ms/step - loss: 2.3929 - accuracy: 0.0455"
     ]
    },
    {
     "name": "stdout",
     "output_type": "stream",
     "text": [
      "\b\b\b\b\b\b\b\b\b\b\b\b\b\b\b\b\b\b\b\b\b\b\b\b\b\b\b\b\b\b\b\b\b\b\b\b\b\b\b\b\b\b\b\b\b\b\b\b\b\b\b\b\b\b\b\b\b\b\b\b\b\b\b\b\b\r",
      "     13/Unknown - 17s 32ms/step - loss: 2.5762 - accuracy: 0.0385"
     ]
    },
    {
     "name": "stdout",
     "output_type": "stream",
     "text": [
      "\b\b\b\b\b\b\b\b\b\b\b\b\b\b\b\b\b\b\b\b\b\b\b\b\b\b\b\b\b\b\b\b\b\b\b\b\b\b\b\b\b\b\b\b\b\b\b\b\b\b\b\b\b\b\b\b\b\b\b\b\b\b\b\b\b\r",
      "     15/Unknown - 17s 32ms/step - loss: 2.5237 - accuracy: 0.0667"
     ]
    },
    {
     "name": "stdout",
     "output_type": "stream",
     "text": [
      "\b\b\b\b\b\b\b\b\b\b\b\b\b\b\b\b\b\b\b\b\b\b\b\b\b\b\b\b\b\b\b\b\b\b\b\b\b\b\b\b\b\b\b\b\b\b\b\b\b\b\b\b\b\b\b\b\b\b\b\b\b\b\b\b\b\r",
      "     17/Unknown - 17s 32ms/step - loss: 2.5272 - accuracy: 0.0588"
     ]
    },
    {
     "name": "stdout",
     "output_type": "stream",
     "text": [
      "\b\b\b\b\b\b\b\b\b\b\b\b\b\b\b\b\b\b\b\b\b\b\b\b\b\b\b\b\b\b\b\b\b\b\b\b\b\b\b\b\b\b\b\b\b\b\b\b\b\b\b\b\b\b\b\b\b\b\b\b\b\b\b\b\b\r",
      "     19/Unknown - 17s 31ms/step - loss: 2.5206 - accuracy: 0.0789"
     ]
    },
    {
     "name": "stdout",
     "output_type": "stream",
     "text": [
      "\b\b\b\b\b\b\b\b\b\b\b\b\b\b\b\b\b\b\b\b\b\b\b\b\b\b\b\b\b\b\b\b\b\b\b\b\b\b\b\b\b\b\b\b\b\b\b\b\b\b\b\b\b\b\b\b\b\b\b\b\b\b\b\b\b\r",
      "     21/Unknown - 17s 31ms/step - loss: 2.5239 - accuracy: 0.0714"
     ]
    },
    {
     "name": "stdout",
     "output_type": "stream",
     "text": [
      "\b\b\b\b\b\b\b\b\b\b\b\b\b\b\b\b\b\b\b\b\b\b\b\b\b\b\b\b\b\b\b\b\b\b\b\b\b\b\b\b\b\b\b\b\b\b\b\b\b\b\b\b\b\b\b\b\b\b\b\b\b\b\b\b\b\r",
      "     23/Unknown - 17s 31ms/step - loss: 2.5203 - accuracy: 0.0870"
     ]
    },
    {
     "name": "stdout",
     "output_type": "stream",
     "text": [
      "\b\b\b\b\b\b\b\b\b\b\b\b\b\b\b\b\b\b\b\b\b\b\b\b\b\b\b\b\b\b\b\b\b\b\b\b\b\b\b\b\b\b\b\b\b\b\b\b\b\b\b\b\b\b\b\b\b\b\b\b\b\b\b\b\b\r",
      "     25/Unknown - 17s 31ms/step - loss: 2.4900 - accuracy: 0.0800"
     ]
    },
    {
     "name": "stdout",
     "output_type": "stream",
     "text": [
      "\b\b\b\b\b\b\b\b\b\b\b\b\b\b\b\b\b\b\b\b\b\b\b\b\b\b\b\b\b\b\b\b\b\b\b\b\b\b\b\b\b\b\b\b\b\b\b\b\b\b\b\b\b\b\b\b\b\b\b\b\b\b\b\b\b\r",
      "     27/Unknown - 17s 31ms/step - loss: 2.4990 - accuracy: 0.0741"
     ]
    },
    {
     "name": "stdout",
     "output_type": "stream",
     "text": [
      "\b\b\b\b\b\b\b\b\b\b\b\b\b\b\b\b\b\b\b\b\b\b\b\b\b\b\b\b\b\b\b\b\b\b\b\b\b\b\b\b\b\b\b\b\b\b\b\b\b\b\b\b\b\b\b\b\b\b\b\b\b\b\b\b\b\r",
      "     29/Unknown - 17s 31ms/step - loss: 2.4889 - accuracy: 0.0690"
     ]
    },
    {
     "name": "stdout",
     "output_type": "stream",
     "text": [
      "\b\b\b\b\b\b\b\b\b\b\b\b\b\b\b\b\b\b\b\b\b\b\b\b\b\b\b\b\b\b\b\b\b\b\b\b\b\b\b\b\b\b\b\b\b\b\b\b\b\b\b\b\b\b\b\b\b\b\b\b\b\b\b\b\b\r",
      "     31/Unknown - 17s 31ms/step - loss: 2.5147 - accuracy: 0.0645"
     ]
    },
    {
     "name": "stdout",
     "output_type": "stream",
     "text": [
      "\b\b\b\b\b\b\b\b\b\b\b\b\b\b\b\b\b\b\b\b\b\b\b\b\b\b\b\b\b\b\b\b\b\b\b\b\b\b\b\b\b\b\b\b\b\b\b\b\b\b\b\b\b\b\b\b\b\b\b\b\b\b\b\b\b\r",
      "     33/Unknown - 17s 31ms/step - loss: 2.4918 - accuracy: 0.0606"
     ]
    },
    {
     "name": "stdout",
     "output_type": "stream",
     "text": [
      "\b\b\b\b\b\b\b\b\b\b\b\b\b\b\b\b\b\b\b\b\b\b\b\b\b\b\b\b\b\b\b\b\b\b\b\b\b\b\b\b\b\b\b\b\b\b\b\b\b\b\b\b\b\b\b\b\b\b\b\b\b\b\b\b\b\r",
      "     35/Unknown - 17s 30ms/step - loss: 2.5215 - accuracy: 0.0571"
     ]
    },
    {
     "name": "stdout",
     "output_type": "stream",
     "text": [
      "\b\b\b\b\b\b\b\b\b\b\b\b\b\b\b\b\b\b\b\b\b\b\b\b\b\b\b\b\b\b\b\b\b\b\b\b\b\b\b\b\b\b\b\b\b\b\b\b\b\b\b\b\b\b\b\b\b\b\b\b\b\b\b\b\b\r",
      "     37/Unknown - 17s 30ms/step - loss: 2.5286 - accuracy: 0.0541"
     ]
    },
    {
     "name": "stdout",
     "output_type": "stream",
     "text": [
      "\b\b\b\b\b\b\b\b\b\b\b\b\b\b\b\b\b\b\b\b\b\b\b\b\b\b\b\b\b\b\b\b\b\b\b\b\b\b\b\b\b\b\b\b\b\b\b\b\b\b\b\b\b\b\b\b\b\b\b\b\b\b\b\b\b\r",
      "     39/Unknown - 17s 30ms/step - loss: 2.5384 - accuracy: 0.0513"
     ]
    },
    {
     "name": "stdout",
     "output_type": "stream",
     "text": [
      "\b\b\b\b\b\b\b\b\b\b\b\b\b\b\b\b\b\b\b\b\b\b\b\b\b\b\b\b\b\b\b\b\b\b\b\b\b\b\b\b\b\b\b\b\b\b\b\b\b\b\b\b\b\b\b\b\b\b\b\b\b\b\b\b\b\r",
      "     41/Unknown - 17s 30ms/step - loss: 2.5256 - accuracy: 0.0488"
     ]
    },
    {
     "name": "stdout",
     "output_type": "stream",
     "text": [
      "\b\b\b\b\b\b\b\b\b\b\b\b\b\b\b\b\b\b\b\b\b\b\b\b\b\b\b\b\b\b\b\b\b\b\b\b\b\b\b\b\b\b\b\b\b\b\b\b\b\b\b\b\b\b\b\b\b\b\b\b\b\b\b\b\b\r",
      "     43/Unknown - 17s 30ms/step - loss: 2.5100 - accuracy: 0.0465"
     ]
    },
    {
     "name": "stdout",
     "output_type": "stream",
     "text": [
      "\b\b\b\b\b\b\b\b\b\b\b\b\b\b\b\b\b\b\b\b\b\b\b\b\b\b\b\b\b\b\b\b\b\b\b\b\b\b\b\b\b\b\b\b\b\b\b\b\b\b\b\b\b\b\b\b\b\b\b\b\b\b\b\b\b\r",
      "     45/Unknown - 17s 30ms/step - loss: 2.5073 - accuracy: 0.0444"
     ]
    },
    {
     "name": "stdout",
     "output_type": "stream",
     "text": [
      "\b\b\b\b\b\b\b\b\b\b\b\b\b\b\b\b\b\b\b\b\b\b\b\b\b\b\b\b\b\b\b\b\b\b\b\b\b\b\b\b\b\b\b\b\b\b\b\b\b\b\b\b\b\b\b\b\b\b\b\b\b\b\b\b\b\r",
      "     47/Unknown - 18s 30ms/step - loss: 2.5019 - accuracy: 0.0532"
     ]
    },
    {
     "name": "stdout",
     "output_type": "stream",
     "text": [
      "\b\b\b\b\b\b\b\b\b\b\b\b\b\b\b\b\b\b\b\b\b\b\b\b\b\b\b\b\b\b\b\b\b\b\b\b\b\b\b\b\b\b\b\b\b\b\b\b\b\b\b\b\b\b\b\b\b\b\b\b\b\b\b\b\b\r",
      "     49/Unknown - 18s 30ms/step - loss: 2.5018 - accuracy: 0.0612"
     ]
    },
    {
     "name": "stdout",
     "output_type": "stream",
     "text": [
      "\b\b\b\b\b\b\b\b\b\b\b\b\b\b\b\b\b\b\b\b\b\b\b\b\b\b\b\b\b\b\b\b\b\b\b\b\b\b\b\b\b\b\b\b\b\b\b\b\b\b\b\b\b\b\b\b\b\b\b\b\b\b\b\b\b\r",
      "     51/Unknown - 18s 30ms/step - loss: 2.5099 - accuracy: 0.0588"
     ]
    },
    {
     "name": "stdout",
     "output_type": "stream",
     "text": [
      "\b\b\b\b\b\b\b\b\b\b\b\b\b\b\b\b\b\b\b\b\b\b\b\b\b\b\b\b\b\b\b\b\b\b\b\b\b\b\b\b\b\b\b\b\b\b\b\b\b\b\b\b\b\b\b\b\b\b\b\b\b\b\b\b\b\r",
      "     53/Unknown - 18s 30ms/step - loss: 2.4958 - accuracy: 0.0660"
     ]
    },
    {
     "name": "stdout",
     "output_type": "stream",
     "text": [
      "\b\b\b\b\b\b\b\b\b\b\b\b\b\b\b\b\b\b\b\b\b\b\b\b\b\b\b\b\b\b\b\b\b\b\b\b\b\b\b\b\b\b\b\b\b\b\b\b\b\b\b\b\b\b\b\b\b\b\b\b\b\b\b\b\b\r",
      "     55/Unknown - 18s 30ms/step - loss: 2.4954 - accuracy: 0.0636"
     ]
    },
    {
     "name": "stdout",
     "output_type": "stream",
     "text": [
      "\b\b\b\b\b\b\b\b\b\b\b\b\b\b\b\b\b\b\b\b\b\b\b\b\b\b\b\b\b\b\b\b\b\b\b\b\b\b\b\b\b\b\b\b\b\b\b\b\b\b\b\b\b\b\b\b\b\b\b\b\b\b\b\b\b\r",
      "     57/Unknown - 18s 30ms/step - loss: 2.4914 - accuracy: 0.0614"
     ]
    },
    {
     "name": "stdout",
     "output_type": "stream",
     "text": [
      "\b\b\b\b\b\b\b\b\b\b\b\b\b\b\b\b\b\b\b\b\b\b\b\b\b\b\b\b\b\b\b\b\b\b\b\b\b\b\b\b\b\b\b\b\b\b\b\b\b\b\b\b\b\b\b\b\b\b\b\b\b\b\b\b\b\r",
      "     59/Unknown - 18s 30ms/step - loss: 2.4815 - accuracy: 0.0678"
     ]
    },
    {
     "name": "stdout",
     "output_type": "stream",
     "text": [
      "\b\b\b\b\b\b\b\b\b\b\b\b\b\b\b\b\b\b\b\b\b\b\b\b\b\b\b\b\b\b\b\b\b\b\b\b\b\b\b\b\b\b\b\b\b\b\b\b\b\b\b\b\b\b\b\b\b\b\b\b\b\b\b\b\b\r",
      "     61/Unknown - 18s 30ms/step - loss: 2.4797 - accuracy: 0.0656"
     ]
    },
    {
     "name": "stdout",
     "output_type": "stream",
     "text": [
      "\b\b\b\b\b\b\b\b\b\b\b\b\b\b\b\b\b\b\b\b\b\b\b\b\b\b\b\b\b\b\b\b\b\b\b\b\b\b\b\b\b\b\b\b\b\b\b\b\b\b\b\b\b\b\b\b\b\b\b\b\b\b\b\b\b\r",
      "     63/Unknown - 18s 30ms/step - loss: 2.4742 - accuracy: 0.0635"
     ]
    },
    {
     "name": "stdout",
     "output_type": "stream",
     "text": [
      "\b\b\b\b\b\b\b\b\b\b\b\b\b\b\b\b\b\b\b\b\b\b\b\b\b\b\b\b\b\b\b\b\b\b\b\b\b\b\b\b\b\b\b\b\b\b\b\b\b\b\b\b\b\b\b\b\b\b\b\b\b\b\b\b\b\r",
      "     65/Unknown - 18s 30ms/step - loss: 2.4761 - accuracy: 0.0692"
     ]
    },
    {
     "name": "stdout",
     "output_type": "stream",
     "text": [
      "\b\b\b\b\b\b\b\b\b\b\b\b\b\b\b\b\b\b\b\b\b\b\b\b\b\b\b\b\b\b\b\b\b\b\b\b\b\b\b\b\b\b\b\b\b\b\b\b\b\b\b\b\b\b\b\b\b\b\b\b\b\b\b\b\b\r",
      "     67/Unknown - 18s 30ms/step - loss: 2.4717 - accuracy: 0.0746"
     ]
    },
    {
     "name": "stdout",
     "output_type": "stream",
     "text": [
      "\b\b\b\b\b\b\b\b\b\b\b\b\b\b\b\b\b\b\b\b\b\b\b\b\b\b\b\b\b\b\b\b\b\b\b\b\b\b\b\b\b\b\b\b\b\b\b\b\b\b\b\b\b\b\b\b\b\b\b\b\b\b\b\b\b\r",
      "     69/Unknown - 18s 30ms/step - loss: 2.4763 - accuracy: 0.0797"
     ]
    },
    {
     "name": "stdout",
     "output_type": "stream",
     "text": [
      "\b\b\b\b\b\b\b\b\b\b\b\b\b\b\b\b\b\b\b\b\b\b\b\b\b\b\b\b\b\b\b\b\b\b\b\b\b\b\b\b\b\b\b\b\b\b\b\b\b\b\b\b\b\b\b\b\b\b\b\b\b\b\b\b\b\r",
      "     71/Unknown - 18s 30ms/step - loss: 2.4803 - accuracy: 0.0775"
     ]
    },
    {
     "name": "stdout",
     "output_type": "stream",
     "text": [
      "\b\b\b\b\b\b\b\b\b\b\b\b\b\b\b\b\b\b\b\b\b\b\b\b\b\b\b\b\b\b\b\b\b\b\b\b\b\b\b\b\b\b\b\b\b\b\b\b\b\b\b\b\b\b\b\b\b\b\b\b\b\b\b\b\b\r",
      "     73/Unknown - 18s 30ms/step - loss: 2.4794 - accuracy: 0.0822"
     ]
    },
    {
     "name": "stdout",
     "output_type": "stream",
     "text": [
      "\b\b\b\b\b\b\b\b\b\b\b\b\b\b\b\b\b\b\b\b\b\b\b\b\b\b\b\b\b\b\b\b\b\b\b\b\b\b\b\b\b\b\b\b\b\b\b\b\b\b\b\b\b\b\b\b\b\b\b\b\b\b\b\b\b\r",
      "     75/Unknown - 18s 30ms/step - loss: 2.4794 - accuracy: 0.0800"
     ]
    },
    {
     "name": "stdout",
     "output_type": "stream",
     "text": [
      "\b\b\b\b\b\b\b\b\b\b\b\b\b\b\b\b\b\b\b\b\b\b\b\b\b\b\b\b\b\b\b\b\b\b\b\b\b\b\b\b\b\b\b\b\b\b\b\b\b\b\b\b\b\b\b\b\b\b\b\b\b\b\b\b\b\r",
      "     77/Unknown - 18s 30ms/step - loss: 2.4813 - accuracy: 0.0779"
     ]
    },
    {
     "name": "stdout",
     "output_type": "stream",
     "text": [
      "\b\b\b\b\b\b\b\b\b\b\b\b\b\b\b\b\b\b\b\b\b\b\b\b\b\b\b\b\b\b\b\b\b\b\b\b\b\b\b\b\b\b\b\b\b\b\b\b\b\b\b\b\b\b\b\b\b\b\b\b\b\b\b\b\b\r",
      "     79/Unknown - 18s 30ms/step - loss: 2.4724 - accuracy: 0.0823"
     ]
    },
    {
     "name": "stdout",
     "output_type": "stream",
     "text": [
      "\b\b\b\b\b\b\b\b\b\b\b\b\b\b\b\b\b\b\b\b\b\b\b\b\b\b\b\b\b\b\b\b\b\b\b\b\b\b\b\b\b\b\b\b\b\b\b\b\b\b\b\b\b\b\b\b\b\b\b\b\b\b\b\b\b\r",
      "     81/Unknown - 19s 30ms/step - loss: 2.4694 - accuracy: 0.0802"
     ]
    },
    {
     "name": "stdout",
     "output_type": "stream",
     "text": [
      "\b\b\b\b\b\b\b\b\b\b\b\b\b\b\b\b\b\b\b\b\b\b\b\b\b\b\b\b\b\b\b\b\b\b\b\b\b\b\b\b\b\b\b\b\b\b\b\b\b\b\b\b\b\b\b\b\b\b\b\b\b\b\b\b\b\r",
      "     83/Unknown - 19s 30ms/step - loss: 2.4667 - accuracy: 0.0783"
     ]
    },
    {
     "name": "stdout",
     "output_type": "stream",
     "text": [
      "\b\b\b\b\b\b\b\b\b\b\b\b\b\b\b\b\b\b\b\b\b\b\b\b\b\b\b\b\b\b\b\b\b\b\b\b\b\b\b\b\b\b\b\b\b\b\b\b\b\b\b\b\b\b\b\b\b\b\b\b\b\b\b\b\b\r",
      "     85/Unknown - 19s 30ms/step - loss: 2.4758 - accuracy: 0.0765"
     ]
    },
    {
     "name": "stdout",
     "output_type": "stream",
     "text": [
      "\b\b\b\b\b\b\b\b\b\b\b\b\b\b\b\b\b\b\b\b\b\b\b\b\b\b\b\b\b\b\b\b\b\b\b\b\b\b\b\b\b\b\b\b\b\b\b\b\b\b\b\b\b\b\b\b\b\b\b\b\b\b\b\b\b\r",
      "     87/Unknown - 19s 30ms/step - loss: 2.4675 - accuracy: 0.0805"
     ]
    },
    {
     "name": "stdout",
     "output_type": "stream",
     "text": [
      "\b\b\b\b\b\b\b\b\b\b\b\b\b\b\b\b\b\b\b\b\b\b\b\b\b\b\b\b\b\b\b\b\b\b\b\b\b\b\b\b\b\b\b\b\b\b\b\b\b\b\b\b\b\b\b\b\b\b\b\b\b\b\b\b\b\r",
      "     89/Unknown - 19s 30ms/step - loss: 2.4711 - accuracy: 0.0787"
     ]
    },
    {
     "name": "stdout",
     "output_type": "stream",
     "text": [
      "\b\b\b\b\b\b\b\b\b\b\b\b\b\b\b\b\b\b\b\b\b\b\b\b\b\b\b\b\b\b\b\b\b\b\b\b\b\b\b\b\b\b\b\b\b\b\b\b\b\b\b\b\b\b\b\b\b\b\b\b\b\b\b\b\b\r",
      "     91/Unknown - 19s 30ms/step - loss: 2.4671 - accuracy: 0.0824"
     ]
    },
    {
     "name": "stdout",
     "output_type": "stream",
     "text": [
      "\b\b\b\b\b\b\b\b\b\b\b\b\b\b\b\b\b\b\b\b\b\b\b\b\b\b\b\b\b\b\b\b\b\b\b\b\b\b\b\b\b\b\b\b\b\b\b\b\b\b\b\b\b\b\b\b\b\b\b\b\b\b\b\b\b\r",
      "     93/Unknown - 19s 30ms/step - loss: 2.4677 - accuracy: 0.0806"
     ]
    },
    {
     "name": "stdout",
     "output_type": "stream",
     "text": [
      "\b\b\b\b\b\b\b\b\b\b\b\b\b\b\b\b\b\b\b\b\b\b\b\b\b\b\b\b\b\b\b\b\b\b\b\b\b\b\b\b\b\b\b\b\b\b\b\b\b\b\b\b\b\b\b\b\b\b\b\b\b\b\b\b\b\r",
      "     95/Unknown - 19s 30ms/step - loss: 2.4697 - accuracy: 0.0842"
     ]
    },
    {
     "name": "stdout",
     "output_type": "stream",
     "text": [
      "\b\b\b\b\b\b\b\b\b\b\b\b\b\b\b\b\b\b\b\b\b\b\b\b\b\b\b\b\b\b\b\b\b\b\b\b\b\b\b\b\b\b\b\b\b\b\b\b\b\b\b\b\b\b\b\b\b\b\b\b\b\b\b\b\b\r",
      "     97/Unknown - 19s 30ms/step - loss: 2.4630 - accuracy: 0.0876"
     ]
    },
    {
     "name": "stdout",
     "output_type": "stream",
     "text": [
      "\b\b\b\b\b\b\b\b\b\b\b\b\b\b\b\b\b\b\b\b\b\b\b\b\b\b\b\b\b\b\b\b\b\b\b\b\b\b\b\b\b\b\b\b\b\b\b\b\b\b\b\b\b\b\b\b\b\b\b\b\b\b\b\b\b\r",
      "     99/Unknown - 19s 30ms/step - loss: 2.4697 - accuracy: 0.0859"
     ]
    },
    {
     "name": "stdout",
     "output_type": "stream",
     "text": [
      "\b\b\b\b\b\b\b\b\b\b\b\b\b\b\b\b\b\b\b\b\b\b\b\b\b\b\b\b\b\b\b\b\b\b\b\b\b\b\b\b\b\b\b\b\b\b\b\b\b\b\b\b\b\b\b\b\b\b\b\b\b\b\b\b\b\r",
      "    101/Unknown - 19s 30ms/step - loss: 2.4709 - accuracy: 0.0842"
     ]
    },
    {
     "name": "stdout",
     "output_type": "stream",
     "text": [
      "\b\b\b\b\b\b\b\b\b\b\b\b\b\b\b\b\b\b\b\b\b\b\b\b\b\b\b\b\b\b\b\b\b\b\b\b\b\b\b\b\b\b\b\b\b\b\b\b\b\b\b\b\b\b\b\b\b\b\b\b\b\b\b\b\b\r",
      "    103/Unknown - 19s 30ms/step - loss: 2.4682 - accuracy: 0.0825"
     ]
    },
    {
     "name": "stdout",
     "output_type": "stream",
     "text": [
      "\b\b\b\b\b\b\b\b\b\b\b\b\b\b\b\b\b\b\b\b\b\b\b\b\b\b\b\b\b\b\b\b\b\b\b\b\b\b\b\b\b\b\b\b\b\b\b\b\b\b\b\b\b\b\b\b\b\b\b\b\b\b\b\b\b\r",
      "    105/Unknown - 19s 30ms/step - loss: 2.4712 - accuracy: 0.0810"
     ]
    },
    {
     "name": "stdout",
     "output_type": "stream",
     "text": [
      "\b\b\b\b\b\b\b\b\b\b\b\b\b\b\b\b\b\b\b\b\b\b\b\b\b\b\b\b\b\b\b\b\b\b\b\b\b\b\b\b\b\b\b\b\b\b\b\b\b\b\b\b\b\b\b\b\b\b\b\b\b\b\b\b\b\r",
      "    107/Unknown - 19s 30ms/step - loss: 2.4725 - accuracy: 0.0794"
     ]
    },
    {
     "name": "stdout",
     "output_type": "stream",
     "text": [
      "\b\b\b\b\b\b\b\b\b\b\b\b\b\b\b\b\b\b\b\b\b\b\b\b\b\b\b\b\b\b\b\b\b\b\b\b\b\b\b\b\b\b\b\b\b\b\b\b\b\b\b\b\b\b\b\b\b\b\b\b\b\b\b\b\b\r",
      "    109/Unknown - 19s 30ms/step - loss: 2.4727 - accuracy: 0.0780"
     ]
    },
    {
     "name": "stdout",
     "output_type": "stream",
     "text": [
      "\b\b\b\b\b\b\b\b\b\b\b\b\b\b\b\b\b\b\b\b\b\b\b\b\b\b\b\b\b\b\b\b\b\b\b\b\b\b\b\b\b\b\b\b\b\b\b\b\b\b\b\b\b\b\b\b\b\b\b\b\b\b\b\b\b\r",
      "    111/Unknown - 19s 30ms/step - loss: 2.4676 - accuracy: 0.0766"
     ]
    },
    {
     "name": "stdout",
     "output_type": "stream",
     "text": [
      "\b\b\b\b\b\b\b\b\b\b\b\b\b\b\b\b\b\b\b\b\b\b\b\b\b\b\b\b\b\b\b\b\b\b\b\b\b\b\b\b\b\b\b\b\b\b\b\b\b\b\b\b\b\b\b\b\b\b\b\b\b\b\b\b\b\r",
      "    113/Unknown - 20s 30ms/step - loss: 2.4656 - accuracy: 0.0796"
     ]
    },
    {
     "name": "stdout",
     "output_type": "stream",
     "text": [
      "\b\b\b\b\b\b\b\b\b\b\b\b\b\b\b\b\b\b\b\b\b\b\b\b\b\b\b\b\b\b\b\b\b\b\b\b\b\b\b\b\b\b\b\b\b\b\b\b\b\b\b\b\b\b\b\b\b\b\b\b\b\b\b\b\b\r",
      "    115/Unknown - 20s 30ms/step - loss: 2.4621 - accuracy: 0.0826"
     ]
    },
    {
     "name": "stdout",
     "output_type": "stream",
     "text": [
      "\b\b\b\b\b\b\b\b\b\b\b\b\b\b\b\b\b\b\b\b\b\b\b\b\b\b\b\b\b\b\b\b\b\b\b\b\b\b\b\b\b\b\b\b\b\b\b\b\b\b\b\b\b\b\b\b\b\b\b\b\b\b\b\b\b\r",
      "    117/Unknown - 20s 30ms/step - loss: 2.4620 - accuracy: 0.0812"
     ]
    },
    {
     "name": "stdout",
     "output_type": "stream",
     "text": [
      "\b\b\b\b\b\b\b\b\b\b\b\b\b\b\b\b\b\b\b\b\b\b\b\b\b\b\b\b\b\b\b\b\b\b\b\b\b\b\b\b\b\b\b\b\b\b\b\b\b\b\b\b\b\b\b\b\b\b\b\b\b\b\b\b\b\r",
      "    119/Unknown - 20s 30ms/step - loss: 2.4591 - accuracy: 0.0840"
     ]
    },
    {
     "name": "stdout",
     "output_type": "stream",
     "text": [
      "\b\b\b\b\b\b\b\b\b\b\b\b\b\b\b\b\b\b\b\b\b\b\b\b\b\b\b\b\b\b\b\b\b\b\b\b\b\b\b\b\b\b\b\b\b\b\b\b\b\b\b\b\b\b\b\b\b\b\b\b\b\b\b\b\b\r",
      "    121/Unknown - 20s 30ms/step - loss: 2.4603 - accuracy: 0.0826"
     ]
    },
    {
     "name": "stdout",
     "output_type": "stream",
     "text": [
      "\b\b\b\b\b\b\b\b\b\b\b\b\b\b\b\b\b\b\b\b\b\b\b\b\b\b\b\b\b\b\b\b\b\b\b\b\b\b\b\b\b\b\b\b\b\b\b\b\b\b\b\b\b\b\b\b\b\b\b\b\b\b\b\b\b\r",
      "    123/Unknown - 20s 30ms/step - loss: 2.4591 - accuracy: 0.0813"
     ]
    },
    {
     "name": "stdout",
     "output_type": "stream",
     "text": [
      "\b\b\b\b\b\b\b\b\b\b\b\b\b\b\b\b\b\b\b\b\b\b\b\b\b\b\b\b\b\b\b\b\b\b\b\b\b\b\b\b\b\b\b\b\b\b\b\b\b\b\b\b\b\b\b\b\b\b\b\b\b\b\b\b\b\r",
      "    125/Unknown - 20s 30ms/step - loss: 2.4607 - accuracy: 0.0800"
     ]
    },
    {
     "name": "stdout",
     "output_type": "stream",
     "text": [
      "\b\b\b\b\b\b\b\b\b\b\b\b\b\b\b\b\b\b\b\b\b\b\b\b\b\b\b\b\b\b\b\b\b\b\b\b\b\b\b\b\b\b\b\b\b\b\b\b\b\b\b\b\b\b\b\b\b\b\b\b\b\b\b\b\b\r",
      "    127/Unknown - 20s 30ms/step - loss: 2.4603 - accuracy: 0.0787"
     ]
    },
    {
     "name": "stdout",
     "output_type": "stream",
     "text": [
      "\b\b\b\b\b\b\b\b\b\b\b\b\b\b\b\b\b\b\b\b\b\b\b\b\b\b\b\b\b\b\b\b\b\b\b\b\b\b\b\b\b\b\b\b\b\b\b\b\b\b\b\b\b\b\b\b\b\b\b\b\b\b\b\b\b\r",
      "    129/Unknown - 20s 30ms/step - loss: 2.4547 - accuracy: 0.0775"
     ]
    },
    {
     "name": "stdout",
     "output_type": "stream",
     "text": [
      "\b\b\b\b\b\b\b\b\b\b\b\b\b\b\b\b\b\b\b\b\b\b\b\b\b\b\b\b\b\b\b\b\b\b\b\b\b\b\b\b\b\b\b\b\b\b\b\b\b\b\b\b\b\b\b\b\b\b\b\b\b\b\b\b\b\r",
      "    131/Unknown - 20s 30ms/step - loss: 2.4583 - accuracy: 0.0763"
     ]
    },
    {
     "name": "stdout",
     "output_type": "stream",
     "text": [
      "\b\b\b\b\b\b\b\b\b\b\b\b\b\b\b\b\b\b\b\b\b\b\b\b\b\b\b\b\b\b\b\b\b\b\b\b\b\b\b\b\b\b\b\b\b\b\b\b\b\b\b\b\b\b\b\b\b\b\b\b\b\b\b\b\b\r",
      "    133/Unknown - 20s 30ms/step - loss: 2.4586 - accuracy: 0.0752"
     ]
    },
    {
     "name": "stdout",
     "output_type": "stream",
     "text": [
      "\b\b\b\b\b\b\b\b\b\b\b\b\b\b\b\b\b\b\b\b\b\b\b\b\b\b\b\b\b\b\b\b\b\b\b\b\b\b\b\b\b\b\b\b\b\b\b\b\b\b\b\b\b\b\b\b\b\b\b\b\b\b\b\b\b\r",
      "    135/Unknown - 20s 30ms/step - loss: 2.4506 - accuracy: 0.0778"
     ]
    },
    {
     "name": "stdout",
     "output_type": "stream",
     "text": [
      "\b\b\b\b\b\b\b\b\b\b\b\b\b\b\b\b\b\b\b\b\b\b\b\b\b\b\b\b\b\b\b\b\b\b\b\b\b\b\b\b\b\b\b\b\b\b\b\b\b\b\b\b\b\b\b\b\b\b\b\b\b\b\b\b\b\r",
      "    137/Unknown - 20s 30ms/step - loss: 2.4556 - accuracy: 0.0766"
     ]
    },
    {
     "name": "stdout",
     "output_type": "stream",
     "text": [
      "\b\b\b\b\b\b\b\b\b\b\b\b\b\b\b\b\b\b\b\b\b\b\b\b\b\b\b\b\b\b\b\b\b\b\b\b\b\b\b\b\b\b\b\b\b\b\b\b\b\b\b\b\b\b\b\b\b\b\b\b\b\b\b\b\b\r",
      "    139/Unknown - 20s 30ms/step - loss: 2.4510 - accuracy: 0.0827"
     ]
    },
    {
     "name": "stdout",
     "output_type": "stream",
     "text": [
      "\b\b\b\b\b\b\b\b\b\b\b\b\b\b\b\b\b\b\b\b\b\b\b\b\b\b\b\b\b\b\b\b\b\b\b\b\b\b\b\b\b\b\b\b\b\b\b\b\b\b\b\b\b\b\b\b\b\b\b\b\b\b\b\b\b\r",
      "    141/Unknown - 20s 30ms/step - loss: 2.4547 - accuracy: 0.0816"
     ]
    },
    {
     "name": "stdout",
     "output_type": "stream",
     "text": [
      "\b\b\b\b\b\b\b\b\b\b\b\b\b\b\b\b\b\b\b\b\b\b\b\b\b\b\b\b\b\b\b\b\b\b\b\b\b\b\b\b\b\b\b\b\b\b\b\b\b\b\b\b\b\b\b\b\b\b\b\b\b\b\b\b\b\r",
      "    143/Unknown - 20s 30ms/step - loss: 2.4606 - accuracy: 0.0804"
     ]
    },
    {
     "name": "stdout",
     "output_type": "stream",
     "text": [
      "\b\b\b\b\b\b\b\b\b\b\b\b\b\b\b\b\b\b\b\b\b\b\b\b\b\b\b\b\b\b\b\b\b\b\b\b\b\b\b\b\b\b\b\b\b\b\b\b\b\b\b\b\b\b\b\b\b\b\b\b\b\b\b\b\b\r",
      "    145/Unknown - 20s 30ms/step - loss: 2.4579 - accuracy: 0.0793"
     ]
    },
    {
     "name": "stdout",
     "output_type": "stream",
     "text": [
      "\b\b\b\b\b\b\b\b\b\b\b\b\b\b\b\b\b\b\b\b\b\b\b\b\b\b\b\b\b\b\b\b\b\b\b\b\b\b\b\b\b\b\b\b\b\b\b\b\b\b\b\b\b\b\b\b\b\b\b\b\b\b\b\b\b\r",
      "    147/Unknown - 21s 30ms/step - loss: 2.4559 - accuracy: 0.0782"
     ]
    },
    {
     "name": "stdout",
     "output_type": "stream",
     "text": [
      "\b\b\b\b\b\b\b\b\b\b\b\b\b\b\b\b\b\b\b\b\b\b\b\b\b\b\b\b\b\b\b\b\b\b\b\b\b\b\b\b\b\b\b\b\b\b\b\b\b\b\b\b\b\b\b\b\b\b\b\b\b\b\b\b\b\r",
      "    149/Unknown - 21s 30ms/step - loss: 2.4569 - accuracy: 0.0772"
     ]
    },
    {
     "name": "stdout",
     "output_type": "stream",
     "text": [
      "\b\b\b\b\b\b\b\b\b\b\b\b\b\b\b\b\b\b\b\b\b\b\b\b\b\b\b\b\b\b\b\b\b\b\b\b\b\b\b\b\b\b\b\b\b\b\b\b\b\b\b\b\b\b\b\b\b\b\b\b\b\b\b\b\b\r",
      "150/150 [==============================] - 25s 60ms/step - loss: 2.4562 - accuracy: 0.0767 - val_loss: 2.4089 - val_accuracy: 0.1000\n"
     ]
    },
    {
     "name": "stdout",
     "output_type": "stream",
     "text": [
      "Epoch 2/10\n"
     ]
    },
    {
     "name": "stdout",
     "output_type": "stream",
     "text": [
      "\r",
      "  1/150 [..............................] - ETA: 4s - loss: 2.7793 - accuracy: 0.0000e+00"
     ]
    },
    {
     "name": "stdout",
     "output_type": "stream",
     "text": [
      "\b\b\b\b\b\b\b\b\b\b\b\b\b\b\b\b\b\b\b\b\b\b\b\b\b\b\b\b\b\b\b\b\b\b\b\b\b\b\b\b\b\b\b\b\b\b\b\b\b\b\b\b\b\b\b\b\b\b\b\b\b\b\b\b\b\b\b\b\b\b\b\b\b\b\b\b\b\b\b\b\b\b\b\b\b\b\b\b\r",
      "  3/150 [..............................] - ETA: 4s - loss: 2.7086 - accuracy: 0.0000e+00"
     ]
    },
    {
     "name": "stdout",
     "output_type": "stream",
     "text": [
      "\b\b\b\b\b\b\b\b\b\b\b\b\b\b\b\b\b\b\b\b\b\b\b\b\b\b\b\b\b\b\b\b\b\b\b\b\b\b\b\b\b\b\b\b\b\b\b\b\b\b\b\b\b\b\b\b\b\b\b\b\b\b\b\b\b\b\b\b\b\b\b\b\b\b\b\b\b\b\b\b\b\b\b\b\b\b\b\b\r",
      "  5/150 [>.............................] - ETA: 4s - loss: 2.5271 - accuracy: 0.0000e+00"
     ]
    },
    {
     "name": "stdout",
     "output_type": "stream",
     "text": [
      "\b\b\b\b\b\b\b\b\b\b\b\b\b\b\b\b\b\b\b\b\b\b\b\b\b\b\b\b\b\b\b\b\b\b\b\b\b\b\b\b\b\b\b\b\b\b\b\b\b\b\b\b\b\b\b\b\b\b\b\b\b\b\b\b\b\b\b\b\b\b\b\b\b\b\b\b\b\b\b\b\b\b\b\b\b\b\b\b\r",
      "  7/150 [>.............................] - ETA: 4s - loss: 2.4948 - accuracy: 0.0714    "
     ]
    },
    {
     "name": "stdout",
     "output_type": "stream",
     "text": [
      "\b\b\b\b\b\b\b\b\b\b\b\b\b\b\b\b\b\b\b\b\b\b\b\b\b\b\b\b\b\b\b\b\b\b\b\b\b\b\b\b\b\b\b\b\b\b\b\b\b\b\b\b\b\b\b\b\b\b\b\b\b\b\b\b\b\b\b\b\b\b\b\b\b\b\b\b\b\b\b\b\b\b\b\b\r",
      "  9/150 [>.............................] - ETA: 4s - loss: 2.5069 - accuracy: 0.0556"
     ]
    },
    {
     "name": "stdout",
     "output_type": "stream",
     "text": [
      "\b\b\b\b\b\b\b\b\b\b\b\b\b\b\b\b\b\b\b\b\b\b\b\b\b\b\b\b\b\b\b\b\b\b\b\b\b\b\b\b\b\b\b\b\b\b\b\b\b\b\b\b\b\b\b\b\b\b\b\b\b\b\b\b\b\b\b\b\b\b\b\b\b\b\b\b\b\b\b\b\b\b\b\b\r",
      " 11/150 [=>............................] - ETA: 4s - loss: 2.4772 - accuracy: 0.0455"
     ]
    },
    {
     "name": "stdout",
     "output_type": "stream",
     "text": [
      "\b\b\b\b\b\b\b\b\b\b\b\b\b\b\b\b\b\b\b\b\b\b\b\b\b\b\b\b\b\b\b\b\b\b\b\b\b\b\b\b\b\b\b\b\b\b\b\b\b\b\b\b\b\b\b\b\b\b\b\b\b\b\b\b\b\b\b\b\b\b\b\b\b\b\b\b\b\b\b\b\b\b\b\b\r",
      " 13/150 [=>............................] - ETA: 4s - loss: 2.4576 - accuracy: 0.0385"
     ]
    },
    {
     "name": "stdout",
     "output_type": "stream",
     "text": [
      "\b\b\b\b\b\b\b\b\b\b\b\b\b\b\b\b\b\b\b\b\b\b\b\b\b\b\b\b\b\b\b\b\b\b\b\b\b\b\b\b\b\b\b\b\b\b\b\b\b\b\b\b\b\b\b\b\b\b\b\b\b\b\b\b\b\b\b\b\b\b\b\b\b\b\b\b\b\b\b\b\b\b\b\b\r",
      " 15/150 [==>...........................] - ETA: 4s - loss: 2.4261 - accuracy: 0.0333"
     ]
    },
    {
     "name": "stdout",
     "output_type": "stream",
     "text": [
      "\b\b\b\b\b\b\b\b\b\b\b\b\b\b\b\b\b\b\b\b\b\b\b\b\b\b\b\b\b\b\b\b\b\b\b\b\b\b\b\b\b\b\b\b\b\b\b\b\b\b\b\b\b\b\b\b\b\b\b\b\b\b\b\b\b\b\b\b\b\b\b\b\b\b\b\b\b\b\b\b\b\b\b\b\r",
      " 17/150 [==>...........................] - ETA: 3s - loss: 2.4034 - accuracy: 0.0294"
     ]
    },
    {
     "name": "stdout",
     "output_type": "stream",
     "text": [
      "\b\b\b\b\b\b\b\b\b\b\b\b\b\b\b\b\b\b\b\b\b\b\b\b\b\b\b\b\b\b\b\b\b\b\b\b\b\b\b\b\b\b\b\b\b\b\b\b\b\b\b\b\b\b\b\b\b\b\b\b\b\b\b\b\b\b\b\b\b\b\b\b\b\b\b\b\b\b\b\b\b\b\b\b\r",
      " 19/150 [==>...........................] - ETA: 3s - loss: 2.3923 - accuracy: 0.0526"
     ]
    },
    {
     "name": "stdout",
     "output_type": "stream",
     "text": [
      "\b\b\b\b\b\b\b\b\b\b\b\b\b\b\b\b\b\b\b\b\b\b\b\b\b\b\b\b\b\b\b\b\b\b\b\b\b\b\b\b\b\b\b\b\b\b\b\b\b\b\b\b\b\b\b\b\b\b\b\b\b\b\b\b\b\b\b\b\b\b\b\b\b\b\b\b\b\b\b\b\b\b\b\b\r",
      " 21/150 [===>..........................] - ETA: 3s - loss: 2.4278 - accuracy: 0.0476"
     ]
    },
    {
     "name": "stdout",
     "output_type": "stream",
     "text": [
      "\b\b\b\b\b\b\b\b\b\b\b\b\b\b\b\b\b\b\b\b\b\b\b\b\b\b\b\b\b\b\b\b\b\b\b\b\b\b\b\b\b\b\b\b\b\b\b\b\b\b\b\b\b\b\b\b\b\b\b\b\b\b\b\b\b\b\b\b\b\b\b\b\b\b\b\b\b\b\b\b\b\b\b\b\r",
      " 23/150 [===>..........................] - ETA: 3s - loss: 2.4836 - accuracy: 0.0435"
     ]
    },
    {
     "name": "stdout",
     "output_type": "stream",
     "text": [
      "\b\b\b\b\b\b\b\b\b\b\b\b\b\b\b\b\b\b\b\b\b\b\b\b\b\b\b\b\b\b\b\b\b\b\b\b\b\b\b\b\b\b\b\b\b\b\b\b\b\b\b\b\b\b\b\b\b\b\b\b\b\b\b\b\b\b\b\b\b\b\b\b\b\b\b\b\b\b\b\b\b\b\b\b\r",
      " 25/150 [====>.........................] - ETA: 3s - loss: 2.5066 - accuracy: 0.0400"
     ]
    },
    {
     "name": "stdout",
     "output_type": "stream",
     "text": [
      "\b\b\b\b\b\b\b\b\b\b\b\b\b\b\b\b\b\b\b\b\b\b\b\b\b\b\b\b\b\b\b\b\b\b\b\b\b\b\b\b\b\b\b\b\b\b\b\b\b\b\b\b\b\b\b\b\b\b\b\b\b\b\b\b\b\b\b\b\b\b\b\b\b\b\b\b\b\b\b\b\b\b\b\b\r",
      " 27/150 [====>.........................] - ETA: 3s - loss: 2.4794 - accuracy: 0.0370"
     ]
    },
    {
     "name": "stdout",
     "output_type": "stream",
     "text": [
      "\b\b\b\b\b\b\b\b\b\b\b\b\b\b\b\b\b\b\b\b\b\b\b\b\b\b\b\b\b\b\b\b\b\b\b\b\b\b\b\b\b\b\b\b\b\b\b\b\b\b\b\b\b\b\b\b\b\b\b\b\b\b\b\b\b\b\b\b\b\b\b\b\b\b\b\b\b\b\b\b\b\b\b\b\r",
      " 29/150 [====>.........................] - ETA: 3s - loss: 2.4713 - accuracy: 0.0345"
     ]
    },
    {
     "name": "stdout",
     "output_type": "stream",
     "text": [
      "\b\b\b\b\b\b\b\b\b\b\b\b\b\b\b\b\b\b\b\b\b\b\b\b\b\b\b\b\b\b\b\b\b\b\b\b\b\b\b\b\b\b\b\b\b\b\b\b\b\b\b\b\b\b\b\b\b\b\b\b\b\b\b\b\b\b\b\b\b\b\b\b\b\b\b\b\b\b\b\b\b\b\b\b\r",
      " 31/150 [=====>........................] - ETA: 3s - loss: 2.4625 - accuracy: 0.0323"
     ]
    },
    {
     "name": "stdout",
     "output_type": "stream",
     "text": [
      "\b\b\b\b\b\b\b\b\b\b\b\b\b\b\b\b\b\b\b\b\b\b\b\b\b\b\b\b\b\b\b\b\b\b\b\b\b\b\b\b\b\b\b\b\b\b\b\b\b\b\b\b\b\b\b\b\b\b\b\b\b\b\b\b\b\b\b\b\b\b\b\b\b\b\b\b\b\b\b\b\b\b\b\b\r",
      " 33/150 [=====>........................] - ETA: 3s - loss: 2.4824 - accuracy: 0.0303"
     ]
    },
    {
     "name": "stdout",
     "output_type": "stream",
     "text": [
      "\b\b\b\b\b\b\b\b\b\b\b\b\b\b\b\b\b\b\b\b\b\b\b\b\b\b\b\b\b\b\b\b\b\b\b\b\b\b\b\b\b\b\b\b\b\b\b\b\b\b\b\b\b\b\b\b\b\b\b\b\b\b\b\b\b\b\b\b\b\b\b\b\b\b\b\b\b\b\b\b\b\b\b\b\r",
      " 35/150 [======>.......................] - ETA: 3s - loss: 2.4855 - accuracy: 0.0429"
     ]
    },
    {
     "name": "stdout",
     "output_type": "stream",
     "text": [
      "\b\b\b\b\b\b\b\b\b\b\b\b\b\b\b\b\b\b\b\b\b\b\b\b\b\b\b\b\b\b\b\b\b\b\b\b\b\b\b\b\b\b\b\b\b\b\b\b\b\b\b\b\b\b\b\b\b\b\b\b\b\b\b\b\b\b\b\b\b\b\b\b\b\b\b\b\b\b\b\b\b\b\b\b\r",
      " 37/150 [======>.......................] - ETA: 3s - loss: 2.4718 - accuracy: 0.0541"
     ]
    },
    {
     "name": "stdout",
     "output_type": "stream",
     "text": [
      "\b\b\b\b\b\b\b\b\b\b\b\b\b\b\b\b\b\b\b\b\b\b\b\b\b\b\b\b\b\b\b\b\b\b\b\b\b\b\b\b\b\b\b\b\b\b\b\b\b\b\b\b\b\b\b\b\b\b\b\b\b\b\b\b\b\b\b\b\b\b\b\b\b\b\b\b\b\b\b\b\b\b\b\b\r",
      " 39/150 [======>.......................] - ETA: 3s - loss: 2.4690 - accuracy: 0.0641"
     ]
    },
    {
     "name": "stdout",
     "output_type": "stream",
     "text": [
      "\b\b\b\b\b\b\b\b\b\b\b\b\b\b\b\b\b\b\b\b\b\b\b\b\b\b\b\b\b\b\b\b\b\b\b\b\b\b\b\b\b\b\b\b\b\b\b\b\b\b\b\b\b\b\b\b\b\b\b\b\b\b\b\b\b\b\b\b\b\b\b\b\b\b\b\b\b\b\b\b\b\b\b\b\r",
      " 41/150 [=======>......................] - ETA: 3s - loss: 2.4599 - accuracy: 0.0610"
     ]
    },
    {
     "name": "stdout",
     "output_type": "stream",
     "text": [
      "\b\b\b\b\b\b\b\b\b\b\b\b\b\b\b\b\b\b\b\b\b\b\b\b\b\b\b\b\b\b\b\b\b\b\b\b\b\b\b\b\b\b\b\b\b\b\b\b\b\b\b\b\b\b\b\b\b\b\b\b\b\b\b\b\b\b\b\b\b\b\b\b\b\b\b\b\b\b\b\b\b\b\b\b\r",
      " 43/150 [=======>......................] - ETA: 3s - loss: 2.4421 - accuracy: 0.0581"
     ]
    },
    {
     "name": "stdout",
     "output_type": "stream",
     "text": [
      "\b\b\b\b\b\b\b\b\b\b\b\b\b\b\b\b\b\b\b\b\b\b\b\b\b\b\b\b\b\b\b\b\b\b\b\b\b\b\b\b\b\b\b\b\b\b\b\b\b\b\b\b\b\b\b\b\b\b\b\b\b\b\b\b\b\b\b\b\b\b\b\b\b\b\b\b\b\b\b\b\b\b\b\b\r",
      " 45/150 [========>.....................] - ETA: 3s - loss: 2.4276 - accuracy: 0.0667"
     ]
    },
    {
     "name": "stdout",
     "output_type": "stream",
     "text": [
      "\b\b\b\b\b\b\b\b\b\b\b\b\b\b\b\b\b\b\b\b\b\b\b\b\b\b\b\b\b\b\b\b\b\b\b\b\b\b\b\b\b\b\b\b\b\b\b\b\b\b\b\b\b\b\b\b\b\b\b\b\b\b\b\b\b\b\b\b\b\b\b\b\b\b\b\b\b\b\b\b\b\b\b\b\r",
      " 47/150 [========>.....................] - ETA: 3s - loss: 2.4186 - accuracy: 0.0638"
     ]
    },
    {
     "name": "stdout",
     "output_type": "stream",
     "text": [
      "\b\b\b\b\b\b\b\b\b\b\b\b\b\b\b\b\b\b\b\b\b\b\b\b\b\b\b\b\b\b\b\b\b\b\b\b\b\b\b\b\b\b\b\b\b\b\b\b\b\b\b\b\b\b\b\b\b\b\b\b\b\b\b\b\b\b\b\b\b\b\b\b\b\b\b\b\b\b\b\b\b\b\b\b\r",
      " 49/150 [========>.....................] - ETA: 2s - loss: 2.4262 - accuracy: 0.0612"
     ]
    },
    {
     "name": "stdout",
     "output_type": "stream",
     "text": [
      "\b\b\b\b\b\b\b\b\b\b\b\b\b\b\b\b\b\b\b\b\b\b\b\b\b\b\b\b\b\b\b\b\b\b\b\b\b\b\b\b\b\b\b\b\b\b\b\b\b\b\b\b\b\b\b\b\b\b\b\b\b\b\b\b\b\b\b\b\b\b\b\b\b\b\b\b\b\b\b\b\b\b\b\b\r",
      " 51/150 [=========>....................] - ETA: 2s - loss: 2.4198 - accuracy: 0.0588"
     ]
    },
    {
     "name": "stdout",
     "output_type": "stream",
     "text": [
      "\b\b\b\b\b\b\b\b\b\b\b\b\b\b\b\b\b\b\b\b\b\b\b\b\b\b\b\b\b\b\b\b\b\b\b\b\b\b\b\b\b\b\b\b\b\b\b\b\b\b\b\b\b\b\b\b\b\b\b\b\b\b\b\b\b\b\b\b\b\b\b\b\b\b\b\b\b\b\b\b\b\b\b\b\r",
      " 53/150 [=========>....................] - ETA: 2s - loss: 2.4349 - accuracy: 0.0566"
     ]
    },
    {
     "name": "stdout",
     "output_type": "stream",
     "text": [
      "\b\b\b\b\b\b\b\b\b\b\b\b\b\b\b\b\b\b\b\b\b\b\b\b\b\b\b\b\b\b\b\b\b\b\b\b\b\b\b\b\b\b\b\b\b\b\b\b\b\b\b\b\b\b\b\b\b\b\b\b\b\b\b\b\b\b\b\b\b\b\b\b\b\b\b\b\b\b\b\b\b\b\b\b\r",
      " 55/150 [==========>...................] - ETA: 2s - loss: 2.4219 - accuracy: 0.0636"
     ]
    },
    {
     "name": "stdout",
     "output_type": "stream",
     "text": [
      "\b\b\b\b\b\b\b\b\b\b\b\b\b\b\b\b\b\b\b\b\b\b\b\b\b\b\b\b\b\b\b\b\b\b\b\b\b\b\b\b\b\b\b\b\b\b\b\b\b\b\b\b\b\b\b\b\b\b\b\b\b\b\b\b\b\b\b\b\b\b\b\b\b\b\b\b\b\b\b\b\b\b\b\b\r",
      " 57/150 [==========>...................] - ETA: 2s - loss: 2.4506 - accuracy: 0.0614"
     ]
    },
    {
     "name": "stdout",
     "output_type": "stream",
     "text": [
      "\b\b\b\b\b\b\b\b\b\b\b\b\b\b\b\b\b\b\b\b\b\b\b\b\b\b\b\b\b\b\b\b\b\b\b\b\b\b\b\b\b\b\b\b\b\b\b\b\b\b\b\b\b\b\b\b\b\b\b\b\b\b\b\b\b\b\b\b\b\b\b\b\b\b\b\b\b\b\b\b\b\b\b\b\r",
      " 59/150 [==========>...................] - ETA: 2s - loss: 2.4413 - accuracy: 0.0678"
     ]
    },
    {
     "name": "stdout",
     "output_type": "stream",
     "text": [
      "\b\b\b\b\b\b\b\b\b\b\b\b\b\b\b\b\b\b\b\b\b\b\b\b\b\b\b\b\b\b\b\b\b\b\b\b\b\b\b\b\b\b\b\b\b\b\b\b\b\b\b\b\b\b\b\b\b\b\b\b\b\b\b\b\b\b\b\b\b\b\b\b\b\b\b\b\b\b\b\b\b\b\b\b\r",
      " 61/150 [===========>..................] - ETA: 2s - loss: 2.4356 - accuracy: 0.0656"
     ]
    },
    {
     "name": "stdout",
     "output_type": "stream",
     "text": [
      "\b\b\b\b\b\b\b\b\b\b\b\b\b\b\b\b\b\b\b\b\b\b\b\b\b\b\b\b\b\b\b\b\b\b\b\b\b\b\b\b\b\b\b\b\b\b\b\b\b\b\b\b\b\b\b\b\b\b\b\b\b\b\b\b\b\b\b\b\b\b\b\b\b\b\b\b\b\b\b\b\b\b\b\b\r",
      " 63/150 [===========>..................] - ETA: 2s - loss: 2.4388 - accuracy: 0.0714"
     ]
    },
    {
     "name": "stdout",
     "output_type": "stream",
     "text": [
      "\b\b\b\b\b\b\b\b\b\b\b\b\b\b\b\b\b\b\b\b\b\b\b\b\b\b\b\b\b\b\b\b\b\b\b\b\b\b\b\b\b\b\b\b\b\b\b\b\b\b\b\b\b\b\b\b\b\b\b\b\b\b\b\b\b\b\b\b\b\b\b\b\b\b\b\b\b\b\b\b\b\b\b\b\r",
      " 65/150 [============>.................] - ETA: 2s - loss: 2.4472 - accuracy: 0.0769"
     ]
    },
    {
     "name": "stdout",
     "output_type": "stream",
     "text": [
      "\b\b\b\b\b\b\b\b\b\b\b\b\b\b\b\b\b\b\b\b\b\b\b\b\b\b\b\b\b\b\b\b\b\b\b\b\b\b\b\b\b\b\b\b\b\b\b\b\b\b\b\b\b\b\b\b\b\b\b\b\b\b\b\b\b\b\b\b\b\b\b\b\b\b\b\b\b\b\b\b\b\b\b\b\r",
      " 67/150 [============>.................] - ETA: 2s - loss: 2.4529 - accuracy: 0.0746"
     ]
    },
    {
     "name": "stdout",
     "output_type": "stream",
     "text": [
      "\b\b\b\b\b\b\b\b\b\b\b\b\b\b\b\b\b\b\b\b\b\b\b\b\b\b\b\b\b\b\b\b\b\b\b\b\b\b\b\b\b\b\b\b\b\b\b\b\b\b\b\b\b\b\b\b\b\b\b\b\b\b\b\b\b\b\b\b\b\b\b\b\b\b\b\b\b\b\b\b\b\b\b\b\r",
      " 69/150 [============>.................] - ETA: 2s - loss: 2.4575 - accuracy: 0.0725"
     ]
    },
    {
     "name": "stdout",
     "output_type": "stream",
     "text": [
      "\b\b\b\b\b\b\b\b\b\b\b\b\b\b\b\b\b\b\b\b\b\b\b\b\b\b\b\b\b\b\b\b\b\b\b\b\b\b\b\b\b\b\b\b\b\b\b\b\b\b\b\b\b\b\b\b\b\b\b\b\b\b\b\b\b\b\b\b\b\b\b\b\b\b\b\b\b\b\b\b\b\b\b\b\r",
      " 71/150 [=============>................] - ETA: 2s - loss: 2.4541 - accuracy: 0.0704"
     ]
    },
    {
     "name": "stdout",
     "output_type": "stream",
     "text": [
      "\b\b\b\b\b\b\b\b\b\b\b\b\b\b\b\b\b\b\b\b\b\b\b\b\b\b\b\b\b\b\b\b\b\b\b\b\b\b\b\b\b\b\b\b\b\b\b\b\b\b\b\b\b\b\b\b\b\b\b\b\b\b\b\b\b\b\b\b\b\b\b\b\b\b\b\b\b\b\b\b\b\b\b\b\r",
      " 73/150 [=============>................] - ETA: 2s - loss: 2.4589 - accuracy: 0.0753"
     ]
    },
    {
     "name": "stdout",
     "output_type": "stream",
     "text": [
      "\b\b\b\b\b\b\b\b\b\b\b\b\b\b\b\b\b\b\b\b\b\b\b\b\b\b\b\b\b\b\b\b\b\b\b\b\b\b\b\b\b\b\b\b\b\b\b\b\b\b\b\b\b\b\b\b\b\b\b\b\b\b\b\b\b\b\b\b\b\b\b\b\b\b\b\b\b\b\b\b\b\b\b\b\r",
      " 75/150 [==============>...............] - ETA: 2s - loss: 2.4578 - accuracy: 0.0733"
     ]
    },
    {
     "name": "stdout",
     "output_type": "stream",
     "text": [
      "\b\b\b\b\b\b\b\b\b\b\b\b\b\b\b\b\b\b\b\b\b\b\b\b\b\b\b\b\b\b\b\b\b\b\b\b\b\b\b\b\b\b\b\b\b\b\b\b\b\b\b\b\b\b\b\b\b\b\b\b\b\b\b\b\b\b\b\b\b\b\b\b\b\b\b\b\b\b\b\b\b\b\b\b\r",
      " 77/150 [==============>...............] - ETA: 2s - loss: 2.4476 - accuracy: 0.0779"
     ]
    },
    {
     "name": "stdout",
     "output_type": "stream",
     "text": [
      "\b\b\b\b\b\b\b\b\b\b\b\b\b\b\b\b\b\b\b\b\b\b\b\b\b\b\b\b\b\b\b\b\b\b\b\b\b\b\b\b\b\b\b\b\b\b\b\b\b\b\b\b\b\b\b\b\b\b\b\b\b\b\b\b\b\b\b\b\b\b\b\b\b\b\b\b\b\b\b\b\b\b\b\b\r",
      " 79/150 [==============>...............] - ETA: 2s - loss: 2.4428 - accuracy: 0.0823"
     ]
    },
    {
     "name": "stdout",
     "output_type": "stream",
     "text": [
      "\b\b\b\b\b\b\b\b\b\b\b\b\b\b\b\b\b\b\b\b\b\b\b\b\b\b\b\b\b\b\b\b\b\b\b\b\b\b\b\b\b\b\b\b\b\b\b\b\b\b\b\b\b\b\b\b\b\b\b\b\b\b\b\b\b\b\b\b\b\b\b\b\b\b\b\b\b\b\b\b\b\b\b\b\r",
      " 81/150 [===============>..............] - ETA: 2s - loss: 2.4441 - accuracy: 0.0802"
     ]
    },
    {
     "name": "stdout",
     "output_type": "stream",
     "text": [
      "\b\b\b\b\b\b\b\b\b\b\b\b\b\b\b\b\b\b\b\b\b\b\b\b\b\b\b\b\b\b\b\b\b\b\b\b\b\b\b\b\b\b\b\b\b\b\b\b\b\b\b\b\b\b\b\b\b\b\b\b\b\b\b\b\b\b\b\b\b\b\b\b\b\b\b\b\b\b\b\b\b\b\b\b\r",
      " 83/150 [===============>..............] - ETA: 1s - loss: 2.4418 - accuracy: 0.0843"
     ]
    },
    {
     "name": "stdout",
     "output_type": "stream",
     "text": [
      "\b\b\b\b\b\b\b\b\b\b\b\b\b\b\b\b\b\b\b\b\b\b\b\b\b\b\b\b\b\b\b\b\b\b\b\b\b\b\b\b\b\b\b\b\b\b\b\b\b\b\b\b\b\b\b\b\b\b\b\b\b\b\b\b\b\b\b\b\b\b\b\b\b\b\b\b\b\b\b\b\b\b\b\b\r",
      " 85/150 [================>.............] - ETA: 1s - loss: 2.4389 - accuracy: 0.0824"
     ]
    },
    {
     "name": "stdout",
     "output_type": "stream",
     "text": [
      "\b\b\b\b\b\b\b\b\b\b\b\b\b\b\b\b\b\b\b\b\b\b\b\b\b\b\b\b\b\b\b\b\b\b\b\b\b\b\b\b\b\b\b\b\b\b\b\b\b\b\b\b\b\b\b\b\b\b\b\b\b\b\b\b\b\b\b\b\b\b\b\b\b\b\b\b\b\b\b\b\b\b\b\b\r",
      " 87/150 [================>.............] - ETA: 1s - loss: 2.4385 - accuracy: 0.0805"
     ]
    },
    {
     "name": "stdout",
     "output_type": "stream",
     "text": [
      "\b\b\b\b\b\b\b\b\b\b\b\b\b\b\b\b\b\b\b\b\b\b\b\b\b\b\b\b\b\b\b\b\b\b\b\b\b\b\b\b\b\b\b\b\b\b\b\b\b\b\b\b\b\b\b\b\b\b\b\b\b\b\b\b\b\b\b\b\b\b\b\b\b\b\b\b\b\b\b\b\b\b\b\b\r",
      " 89/150 [================>.............] - ETA: 1s - loss: 2.4310 - accuracy: 0.0843"
     ]
    },
    {
     "name": "stdout",
     "output_type": "stream",
     "text": [
      "\b\b\b\b\b\b\b\b\b\b\b\b\b\b\b\b\b\b\b\b\b\b\b\b\b\b\b\b\b\b\b\b\b\b\b\b\b\b\b\b\b\b\b\b\b\b\b\b\b\b\b\b\b\b\b\b\b\b\b\b\b\b\b\b\b\b\b\b\b\b\b\b\b\b\b\b\b\b\b\b\b\b\b\b\r",
      " 91/150 [=================>............] - ETA: 1s - loss: 2.4233 - accuracy: 0.0879"
     ]
    },
    {
     "name": "stdout",
     "output_type": "stream",
     "text": [
      "\b\b\b\b\b\b\b\b\b\b\b\b\b\b\b\b\b\b\b\b\b\b\b\b\b\b\b\b\b\b\b\b\b\b\b\b\b\b\b\b\b\b\b\b\b\b\b\b\b\b\b\b\b\b\b\b\b\b\b\b\b\b\b\b\b\b\b\b\b\b\b\b\b\b\b\b\b\b\b\b\b\b\b\b\r",
      " 93/150 [=================>............] - ETA: 1s - loss: 2.4272 - accuracy: 0.0860"
     ]
    },
    {
     "name": "stdout",
     "output_type": "stream",
     "text": [
      "\b\b\b\b\b\b\b\b\b\b\b\b\b\b\b\b\b\b\b\b\b\b\b\b\b\b\b\b\b\b\b\b\b\b\b\b\b\b\b\b\b\b\b\b\b\b\b\b\b\b\b\b\b\b\b\b\b\b\b\b\b\b\b\b\b\b\b\b\b\b\b\b\b\b\b\b\b\b\b\b\b\b\b\b\r",
      " 95/150 [==================>...........] - ETA: 1s - loss: 2.4274 - accuracy: 0.0895"
     ]
    },
    {
     "name": "stdout",
     "output_type": "stream",
     "text": [
      "\b\b\b\b\b\b\b\b\b\b\b\b\b\b\b\b\b\b\b\b\b\b\b\b\b\b\b\b\b\b\b\b\b\b\b\b\b\b\b\b\b\b\b\b\b\b\b\b\b\b\b\b\b\b\b\b\b\b\b\b\b\b\b\b\b\b\b\b\b\b\b\b\b\b\b\b\b\b\b\b\b\b\b\b\r",
      " 97/150 [==================>...........] - ETA: 1s - loss: 2.4326 - accuracy: 0.0876"
     ]
    },
    {
     "name": "stdout",
     "output_type": "stream",
     "text": [
      "\b\b\b\b\b\b\b\b\b\b\b\b\b\b\b\b\b\b\b\b\b\b\b\b\b\b\b\b\b\b\b\b\b\b\b\b\b\b\b\b\b\b\b\b\b\b\b\b\b\b\b\b\b\b\b\b\b\b\b\b\b\b\b\b\b\b\b\b\b\b\b\b\b\b\b\b\b\b\b\b\b\b\b\b\r",
      " 99/150 [==================>...........] - ETA: 1s - loss: 2.4269 - accuracy: 0.0909"
     ]
    },
    {
     "name": "stdout",
     "output_type": "stream",
     "text": [
      "\b\b\b\b\b\b\b\b\b\b\b\b\b\b\b\b\b\b\b\b\b\b\b\b\b\b\b\b\b\b\b\b\b\b\b\b\b\b\b\b\b\b\b\b\b\b\b\b\b\b\b\b\b\b\b\b\b\b\b\b\b\b\b\b\b\b\b\b\b\b\b\b\b\b\b\b\b\b\b\b\b\b\b\b\r",
      "101/150 [===================>..........] - ETA: 1s - loss: 2.4275 - accuracy: 0.0891"
     ]
    },
    {
     "name": "stdout",
     "output_type": "stream",
     "text": [
      "\b\b\b\b\b\b\b\b\b\b\b\b\b\b\b\b\b\b\b\b\b\b\b\b\b\b\b\b\b\b\b\b\b\b\b\b\b\b\b\b\b\b\b\b\b\b\b\b\b\b\b\b\b\b\b\b\b\b\b\b\b\b\b\b\b\b\b\b\b\b\b\b\b\b\b\b\b\b\b\b\b\b\b\b\r",
      "103/150 [===================>..........] - ETA: 1s - loss: 2.4334 - accuracy: 0.0874"
     ]
    },
    {
     "name": "stdout",
     "output_type": "stream",
     "text": [
      "\b\b\b\b\b\b\b\b\b\b\b\b\b\b\b\b\b\b\b\b\b\b\b\b\b\b\b\b\b\b\b\b\b\b\b\b\b\b\b\b\b\b\b\b\b\b\b\b\b\b\b\b\b\b\b\b\b\b\b\b\b\b\b\b\b\b\b\b\b\b\b\b\b\b\b\b\b\b\b\b\b\b\b\b\r",
      "105/150 [====================>.........] - ETA: 1s - loss: 2.4368 - accuracy: 0.0857"
     ]
    },
    {
     "name": "stdout",
     "output_type": "stream",
     "text": [
      "\b\b\b\b\b\b\b\b\b\b\b\b\b\b\b\b\b\b\b\b\b\b\b\b\b\b\b\b\b\b\b\b\b\b\b\b\b\b\b\b\b\b\b\b\b\b\b\b\b\b\b\b\b\b\b\b\b\b\b\b\b\b\b\b\b\b\b\b\b\b\b\b\b\b\b\b\b\b\b\b\b\b\b\b\r",
      "107/150 [====================>.........] - ETA: 1s - loss: 2.4348 - accuracy: 0.0841"
     ]
    },
    {
     "name": "stdout",
     "output_type": "stream",
     "text": [
      "\b\b\b\b\b\b\b\b\b\b\b\b\b\b\b\b\b\b\b\b\b\b\b\b\b\b\b\b\b\b\b\b\b\b\b\b\b\b\b\b\b\b\b\b\b\b\b\b\b\b\b\b\b\b\b\b\b\b\b\b\b\b\b\b\b\b\b\b\b\b\b\b\b\b\b\b\b\b\b\b\b\b\b\b\r",
      "109/150 [====================>.........] - ETA: 1s - loss: 2.4268 - accuracy: 0.0917"
     ]
    },
    {
     "name": "stdout",
     "output_type": "stream",
     "text": [
      "\b\b\b\b\b\b\b\b\b\b\b\b\b\b\b\b\b\b\b\b\b\b\b\b\b\b\b\b\b\b\b\b\b\b\b\b\b\b\b\b\b\b\b\b\b\b\b\b\b\b\b\b\b\b\b\b\b\b\b\b\b\b\b\b\b\b\b\b\b\b\b\b\b\b\b\b\b\b\b\b\b\b\b\b\r",
      "111/150 [=====================>........] - ETA: 1s - loss: 2.4265 - accuracy: 0.0946"
     ]
    },
    {
     "name": "stdout",
     "output_type": "stream",
     "text": [
      "\b\b\b\b\b\b\b\b\b\b\b\b\b\b\b\b\b\b\b\b\b\b\b\b\b\b\b\b\b\b\b\b\b\b\b\b\b\b\b\b\b\b\b\b\b\b\b\b\b\b\b\b\b\b\b\b\b\b\b\b\b\b\b\b\b\b\b\b\b\b\b\b\b\b\b\b\b\b\b\b\b\b\b\b\r",
      "113/150 [=====================>........] - ETA: 1s - loss: 2.4315 - accuracy: 0.0929"
     ]
    },
    {
     "name": "stdout",
     "output_type": "stream",
     "text": [
      "\b\b\b\b\b\b\b\b\b\b\b\b\b\b\b\b\b\b\b\b\b\b\b\b\b\b\b\b\b\b\b\b\b\b\b\b\b\b\b\b\b\b\b\b\b\b\b\b\b\b\b\b\b\b\b\b\b\b\b\b\b\b\b\b\b\b\b\b\b\b\b\b\b\b\b\b\b\b\b\b\b\b\b\b\r",
      "115/150 [======================>.......] - ETA: 1s - loss: 2.4333 - accuracy: 0.0913"
     ]
    },
    {
     "name": "stdout",
     "output_type": "stream",
     "text": [
      "\b\b\b\b\b\b\b\b\b\b\b\b\b\b\b\b\b\b\b\b\b\b\b\b\b\b\b\b\b\b\b\b\b\b\b\b\b\b\b\b\b\b\b\b\b\b\b\b\b\b\b\b\b\b\b\b\b\b\b\b\b\b\b\b\b\b\b\b\b\b\b\b\b\b\b\b\b\b\b\b\b\b\b\b\r",
      "117/150 [======================>.......] - ETA: 0s - loss: 2.4328 - accuracy: 0.0897"
     ]
    },
    {
     "name": "stdout",
     "output_type": "stream",
     "text": [
      "\b\b\b\b\b\b\b\b\b\b\b\b\b\b\b\b\b\b\b\b\b\b\b\b\b\b\b\b\b\b\b\b\b\b\b\b\b\b\b\b\b\b\b\b\b\b\b\b\b\b\b\b\b\b\b\b\b\b\b\b\b\b\b\b\b\b\b\b\b\b\b\b\b\b\b\b\b\b\b\b\b\b\b\b\r",
      "119/150 [======================>.......] - ETA: 0s - loss: 2.4320 - accuracy: 0.0924"
     ]
    },
    {
     "name": "stdout",
     "output_type": "stream",
     "text": [
      "\b\b\b\b\b\b\b\b\b\b\b\b\b\b\b\b\b\b\b\b\b\b\b\b\b\b\b\b\b\b\b\b\b\b\b\b\b\b\b\b\b\b\b\b\b\b\b\b\b\b\b\b\b\b\b\b\b\b\b\b\b\b\b\b\b\b\b\b\b\b\b\b\b\b\b\b\b\b\b\b\b\b\b\b\r",
      "121/150 [=======================>......] - ETA: 0s - loss: 2.4276 - accuracy: 0.0950"
     ]
    },
    {
     "name": "stdout",
     "output_type": "stream",
     "text": [
      "\b\b\b\b\b\b\b\b\b\b\b\b\b\b\b\b\b\b\b\b\b\b\b\b\b\b\b\b\b\b\b\b\b\b\b\b\b\b\b\b\b\b\b\b\b\b\b\b\b\b\b\b\b\b\b\b\b\b\b\b\b\b\b\b\b\b\b\b\b\b\b\b\b\b\b\b\b\b\b\b\b\b\b\b\r",
      "123/150 [=======================>......] - ETA: 0s - loss: 2.4207 - accuracy: 0.0935"
     ]
    },
    {
     "name": "stdout",
     "output_type": "stream",
     "text": [
      "\b\b\b\b\b\b\b\b\b\b\b\b\b\b\b\b\b\b\b\b\b\b\b\b\b\b\b\b\b\b\b\b\b\b\b\b\b\b\b\b\b\b\b\b\b\b\b\b\b\b\b\b\b\b\b\b\b\b\b\b\b\b\b\b\b\b\b\b\b\b\b\b\b\b\b\b\b\b\b\b\b\b\b\b\r",
      "125/150 [========================>.....] - ETA: 0s - loss: 2.4163 - accuracy: 0.0960"
     ]
    },
    {
     "name": "stdout",
     "output_type": "stream",
     "text": [
      "\b\b\b\b\b\b\b\b\b\b\b\b\b\b\b\b\b\b\b\b\b\b\b\b\b\b\b\b\b\b\b\b\b\b\b\b\b\b\b\b\b\b\b\b\b\b\b\b\b\b\b\b\b\b\b\b\b\b\b\b\b\b\b\b\b\b\b\b\b\b\b\b\b\b\b\b\b\b\b\b\b\b\b\b\r",
      "127/150 [========================>.....] - ETA: 0s - loss: 2.4144 - accuracy: 0.0945"
     ]
    },
    {
     "name": "stdout",
     "output_type": "stream",
     "text": [
      "\b\b\b\b\b\b\b\b\b\b\b\b\b\b\b\b\b\b\b\b\b\b\b\b\b\b\b\b\b\b\b\b\b\b\b\b\b\b\b\b\b\b\b\b\b\b\b\b\b\b\b\b\b\b\b\b\b\b\b\b\b\b\b\b\b\b\b\b\b\b\b\b\b\b\b\b\b\b\b\b\b\b\b\b\r",
      "129/150 [========================>.....] - ETA: 0s - loss: 2.4170 - accuracy: 0.0969"
     ]
    },
    {
     "name": "stdout",
     "output_type": "stream",
     "text": [
      "\b\b\b\b\b\b\b\b\b\b\b\b\b\b\b\b\b\b\b\b\b\b\b\b\b\b\b\b\b\b\b\b\b\b\b\b\b\b\b\b\b\b\b\b\b\b\b\b\b\b\b\b\b\b\b\b\b\b\b\b\b\b\b\b\b\b\b\b\b\b\b\b\b\b\b\b\b\b\b\b\b\b\b\b\r",
      "131/150 [=========================>....] - ETA: 0s - loss: 2.4263 - accuracy: 0.0954"
     ]
    },
    {
     "name": "stdout",
     "output_type": "stream",
     "text": [
      "\b\b\b\b\b\b\b\b\b\b\b\b\b\b\b\b\b\b\b\b\b\b\b\b\b\b\b\b\b\b\b\b\b\b\b\b\b\b\b\b\b\b\b\b\b\b\b\b\b\b\b\b\b\b\b\b\b\b\b\b\b\b\b\b\b\b\b\b\b\b\b\b\b\b\b\b\b\b\b\b\b\b\b\b\r",
      "133/150 [=========================>....] - ETA: 0s - loss: 2.4290 - accuracy: 0.0977"
     ]
    },
    {
     "name": "stdout",
     "output_type": "stream",
     "text": [
      "\b\b\b\b\b\b\b\b\b\b\b\b\b\b\b\b\b\b\b\b\b\b\b\b\b\b\b\b\b\b\b\b\b\b\b\b\b\b\b\b\b\b\b\b\b\b\b\b\b\b\b\b\b\b\b\b\b\b\b\b\b\b\b\b\b\b\b\b\b\b\b\b\b\b\b\b\b\b\b\b\b\b\b\b\r",
      "135/150 [==========================>...] - ETA: 0s - loss: 2.4241 - accuracy: 0.1000"
     ]
    },
    {
     "name": "stdout",
     "output_type": "stream",
     "text": [
      "\b\b\b\b\b\b\b\b\b\b\b\b\b\b\b\b\b\b\b\b\b\b\b\b\b\b\b\b\b\b\b\b\b\b\b\b\b\b\b\b\b\b\b\b\b\b\b\b\b\b\b\b\b\b\b\b\b\b\b\b\b\b\b\b\b\b\b\b\b\b\b\b\b\b\b\b\b\b\b\b\b\b\b\b\r",
      "137/150 [==========================>...] - ETA: 0s - loss: 2.4199 - accuracy: 0.1022"
     ]
    },
    {
     "name": "stdout",
     "output_type": "stream",
     "text": [
      "\b\b\b\b\b\b\b\b\b\b\b\b\b\b\b\b\b\b\b\b\b\b\b\b\b\b\b\b\b\b\b\b\b\b\b\b\b\b\b\b\b\b\b\b\b\b\b\b\b\b\b\b\b\b\b\b\b\b\b\b\b\b\b\b\b\b\b\b\b\b\b\b\b\b\b\b\b\b\b\b\b\b\b\b\r",
      "139/150 [==========================>...] - ETA: 0s - loss: 2.4172 - accuracy: 0.1007"
     ]
    },
    {
     "name": "stdout",
     "output_type": "stream",
     "text": [
      "\b\b\b\b\b\b\b\b\b\b\b\b\b\b\b\b\b\b\b\b\b\b\b\b\b\b\b\b\b\b\b\b\b\b\b\b\b\b\b\b\b\b\b\b\b\b\b\b\b\b\b\b\b\b\b\b\b\b\b\b\b\b\b\b\b\b\b\b\b\b\b\b\b\b\b\b\b\b\b\b\b\b\b\b\r",
      "141/150 [===========================>..] - ETA: 0s - loss: 2.4159 - accuracy: 0.0993"
     ]
    },
    {
     "name": "stdout",
     "output_type": "stream",
     "text": [
      "\b\b\b\b\b\b\b\b\b\b\b\b\b\b\b\b\b\b\b\b\b\b\b\b\b\b\b\b\b\b\b\b\b\b\b\b\b\b\b\b\b\b\b\b\b\b\b\b\b\b\b\b\b\b\b\b\b\b\b\b\b\b\b\b\b\b\b\b\b\b\b\b\b\b\b\b\b\b\b\b\b\b\b\b\r",
      "143/150 [===========================>..] - ETA: 0s - loss: 2.4134 - accuracy: 0.0979"
     ]
    },
    {
     "name": "stdout",
     "output_type": "stream",
     "text": [
      "\b\b\b\b\b\b\b\b\b\b\b\b\b\b\b\b\b\b\b\b\b\b\b\b\b\b\b\b\b\b\b\b\b\b\b\b\b\b\b\b\b\b\b\b\b\b\b\b\b\b\b\b\b\b\b\b\b\b\b\b\b\b\b\b\b\b\b\b\b\b\b\b\b\b\b\b\b\b\b\b\b\b\b\b\r",
      "145/150 [============================>.] - ETA: 0s - loss: 2.4149 - accuracy: 0.0966"
     ]
    },
    {
     "name": "stdout",
     "output_type": "stream",
     "text": [
      "\b\b\b\b\b\b\b\b\b\b\b\b\b\b\b\b\b\b\b\b\b\b\b\b\b\b\b\b\b\b\b\b\b\b\b\b\b\b\b\b\b\b\b\b\b\b\b\b\b\b\b\b\b\b\b\b\b\b\b\b\b\b\b\b\b\b\b\b\b\b\b\b\b\b\b\b\b\b\b\b\b\b\b\b\r",
      "147/150 [============================>.] - ETA: 0s - loss: 2.4152 - accuracy: 0.0986"
     ]
    },
    {
     "name": "stdout",
     "output_type": "stream",
     "text": [
      "\b\b\b\b\b\b\b\b\b\b\b\b\b\b\b\b\b\b\b\b\b\b\b\b\b\b\b\b\b\b\b\b\b\b\b\b\b\b\b\b\b\b\b\b\b\b\b\b\b\b\b\b\b\b\b\b\b\b\b\b\b\b\b\b\b\b\b\b\b\b\b\b\b\b\b\b\b\b\b\b\b\b\b\b\r",
      "149/150 [============================>.] - ETA: 0s - loss: 2.4257 - accuracy: 0.0973"
     ]
    },
    {
     "name": "stdout",
     "output_type": "stream",
     "text": [
      "\b\b\b\b\b\b\b\b\b\b\b\b\b\b\b\b\b\b\b\b\b\b\b\b\b\b\b\b\b\b\b\b\b\b\b\b\b\b\b\b\b\b\b\b\b\b\b\b\b\b\b\b\b\b\b\b\b\b\b\b\b\b\b\b\b\b\b\b\b\b\b\b\b\b\b\b\b\b\b\b\b\b\b\b\r",
      "150/150 [==============================] - 6s 39ms/step - loss: 2.4257 - accuracy: 0.0967 - val_loss: 2.4790 - val_accuracy: 0.1000\n"
     ]
    },
    {
     "name": "stdout",
     "output_type": "stream",
     "text": [
      "Epoch 3/10\n"
     ]
    },
    {
     "name": "stdout",
     "output_type": "stream",
     "text": [
      "\r",
      "  1/150 [..............................] - ETA: 4s - loss: 1.8705 - accuracy: 0.0000e+00"
     ]
    },
    {
     "name": "stdout",
     "output_type": "stream",
     "text": [
      "\b\b\b\b\b\b\b\b\b\b\b\b\b\b\b\b\b\b\b\b\b\b\b\b\b\b\b\b\b\b\b\b\b\b\b\b\b\b\b\b\b\b\b\b\b\b\b\b\b\b\b\b\b\b\b\b\b\b\b\b\b\b\b\b\b\b\b\b\b\b\b\b\b\b\b\b\b\b\b\b\b\b\b\b\b\b\b\b\r",
      "  3/150 [..............................] - ETA: 4s - loss: 2.0013 - accuracy: 0.0000e+00"
     ]
    },
    {
     "name": "stdout",
     "output_type": "stream",
     "text": [
      "\b\b\b\b\b\b\b\b\b\b\b\b\b\b\b\b\b\b\b\b\b\b\b\b\b\b\b\b\b\b\b\b\b\b\b\b\b\b\b\b\b\b\b\b\b\b\b\b\b\b\b\b\b\b\b\b\b\b\b\b\b\b\b\b\b\b\b\b\b\b\b\b\b\b\b\b\b\b\b\b\b\b\b\b\b\b\b\b\r",
      "  5/150 [>.............................] - ETA: 4s - loss: 2.1498 - accuracy: 0.1000    "
     ]
    },
    {
     "name": "stdout",
     "output_type": "stream",
     "text": [
      "\b\b\b\b\b\b\b\b\b\b\b\b\b\b\b\b\b\b\b\b\b\b\b\b\b\b\b\b\b\b\b\b\b\b\b\b\b\b\b\b\b\b\b\b\b\b\b\b\b\b\b\b\b\b\b\b\b\b\b\b\b\b\b\b\b\b\b\b\b\b\b\b\b\b\b\b\b\b\b\b\b\b\b\b\r",
      "  7/150 [>.............................] - ETA: 4s - loss: 2.2369 - accuracy: 0.1429"
     ]
    },
    {
     "name": "stdout",
     "output_type": "stream",
     "text": [
      "\b\b\b\b\b\b\b\b\b\b\b\b\b\b\b\b\b\b\b\b\b\b\b\b\b\b\b\b\b\b\b\b\b\b\b\b\b\b\b\b\b\b\b\b\b\b\b\b\b\b\b\b\b\b\b\b\b\b\b\b\b\b\b\b\b\b\b\b\b\b\b\b\b\b\b\b\b\b\b\b\b\b\b\b\r",
      "  9/150 [>.............................] - ETA: 4s - loss: 2.2101 - accuracy: 0.1111"
     ]
    },
    {
     "name": "stdout",
     "output_type": "stream",
     "text": [
      "\b\b\b\b\b\b\b\b\b\b\b\b\b\b\b\b\b\b\b\b\b\b\b\b\b\b\b\b\b\b\b\b\b\b\b\b\b\b\b\b\b\b\b\b\b\b\b\b\b\b\b\b\b\b\b\b\b\b\b\b\b\b\b\b\b\b\b\b\b\b\b\b\b\b\b\b\b\b\b\b\b\b\b\b\r",
      " 11/150 [=>............................] - ETA: 4s - loss: 2.2362 - accuracy: 0.1364"
     ]
    },
    {
     "name": "stdout",
     "output_type": "stream",
     "text": [
      "\b\b\b\b\b\b\b\b\b\b\b\b\b\b\b\b\b\b\b\b\b\b\b\b\b\b\b\b\b\b\b\b\b\b\b\b\b\b\b\b\b\b\b\b\b\b\b\b\b\b\b\b\b\b\b\b\b\b\b\b\b\b\b\b\b\b\b\b\b\b\b\b\b\b\b\b\b\b\b\b\b\b\b\b\r",
      " 13/150 [=>............................] - ETA: 4s - loss: 2.3038 - accuracy: 0.1154"
     ]
    },
    {
     "name": "stdout",
     "output_type": "stream",
     "text": [
      "\b\b\b\b\b\b\b\b\b\b\b\b\b\b\b\b\b\b\b\b\b\b\b\b\b\b\b\b\b\b\b\b\b\b\b\b\b\b\b\b\b\b\b\b\b\b\b\b\b\b\b\b\b\b\b\b\b\b\b\b\b\b\b\b\b\b\b\b\b\b\b\b\b\b\b\b\b\b\b\b\b\b\b\b\r",
      " 15/150 [==>...........................] - ETA: 4s - loss: 2.2655 - accuracy: 0.1333"
     ]
    },
    {
     "name": "stdout",
     "output_type": "stream",
     "text": [
      "\b\b\b\b\b\b\b\b\b\b\b\b\b\b\b\b\b\b\b\b\b\b\b\b\b\b\b\b\b\b\b\b\b\b\b\b\b\b\b\b\b\b\b\b\b\b\b\b\b\b\b\b\b\b\b\b\b\b\b\b\b\b\b\b\b\b\b\b\b\b\b\b\b\b\b\b\b\b\b\b\b\b\b\b\r",
      " 17/150 [==>...........................] - ETA: 3s - loss: 2.2774 - accuracy: 0.1471"
     ]
    },
    {
     "name": "stdout",
     "output_type": "stream",
     "text": [
      "\b\b\b\b\b\b\b\b\b\b\b\b\b\b\b\b\b\b\b\b\b\b\b\b\b\b\b\b\b\b\b\b\b\b\b\b\b\b\b\b\b\b\b\b\b\b\b\b\b\b\b\b\b\b\b\b\b\b\b\b\b\b\b\b\b\b\b\b\b\b\b\b\b\b\b\b\b\b\b\b\b\b\b\b\r",
      " 19/150 [==>...........................] - ETA: 3s - loss: 2.2888 - accuracy: 0.1316"
     ]
    },
    {
     "name": "stdout",
     "output_type": "stream",
     "text": [
      "\b\b\b\b\b\b\b\b\b\b\b\b\b\b\b\b\b\b\b\b\b\b\b\b\b\b\b\b\b\b\b\b\b\b\b\b\b\b\b\b\b\b\b\b\b\b\b\b\b\b\b\b\b\b\b\b\b\b\b\b\b\b\b\b\b\b\b\b\b\b\b\b\b\b\b\b\b\b\b\b\b\b\b\b\r",
      " 21/150 [===>..........................] - ETA: 3s - loss: 2.2935 - accuracy: 0.1429"
     ]
    },
    {
     "name": "stdout",
     "output_type": "stream",
     "text": [
      "\b\b\b\b\b\b\b\b\b\b\b\b\b\b\b\b\b\b\b\b\b\b\b\b\b\b\b\b\b\b\b\b\b\b\b\b\b\b\b\b\b\b\b\b\b\b\b\b\b\b\b\b\b\b\b\b\b\b\b\b\b\b\b\b\b\b\b\b\b\b\b\b\b\b\b\b\b\b\b\b\b\b\b\b\r",
      " 23/150 [===>..........................] - ETA: 3s - loss: 2.3119 - accuracy: 0.1522"
     ]
    },
    {
     "name": "stdout",
     "output_type": "stream",
     "text": [
      "\b\b\b\b\b\b\b\b\b\b\b\b\b\b\b\b\b\b\b\b\b\b\b\b\b\b\b\b\b\b\b\b\b\b\b\b\b\b\b\b\b\b\b\b\b\b\b\b\b\b\b\b\b\b\b\b\b\b\b\b\b\b\b\b\b\b\b\b\b\b\b\b\b\b\b\b\b\b\b\b\b\b\b\b\r",
      " 25/150 [====>.........................] - ETA: 3s - loss: 2.3317 - accuracy: 0.1600"
     ]
    },
    {
     "name": "stdout",
     "output_type": "stream",
     "text": [
      "\b\b\b\b\b\b\b\b\b\b\b\b\b\b\b\b\b\b\b\b\b\b\b\b\b\b\b\b\b\b\b\b\b\b\b\b\b\b\b\b\b\b\b\b\b\b\b\b\b\b\b\b\b\b\b\b\b\b\b\b\b\b\b\b\b\b\b\b\b\b\b\b\b\b\b\b\b\b\b\b\b\b\b\b\r",
      " 27/150 [====>.........................] - ETA: 3s - loss: 2.3310 - accuracy: 0.1481"
     ]
    },
    {
     "name": "stdout",
     "output_type": "stream",
     "text": [
      "\b\b\b\b\b\b\b\b\b\b\b\b\b\b\b\b\b\b\b\b\b\b\b\b\b\b\b\b\b\b\b\b\b\b\b\b\b\b\b\b\b\b\b\b\b\b\b\b\b\b\b\b\b\b\b\b\b\b\b\b\b\b\b\b\b\b\b\b\b\b\b\b\b\b\b\b\b\b\b\b\b\b\b\b\r",
      " 29/150 [====>.........................] - ETA: 3s - loss: 2.3333 - accuracy: 0.1552"
     ]
    },
    {
     "name": "stdout",
     "output_type": "stream",
     "text": [
      "\b\b\b\b\b\b\b\b\b\b\b\b\b\b\b\b\b\b\b\b\b\b\b\b\b\b\b\b\b\b\b\b\b\b\b\b\b\b\b\b\b\b\b\b\b\b\b\b\b\b\b\b\b\b\b\b\b\b\b\b\b\b\b\b\b\b\b\b\b\b\b\b\b\b\b\b\b\b\b\b\b\b\b\b\r",
      " 31/150 [=====>........................] - ETA: 3s - loss: 2.3496 - accuracy: 0.1613"
     ]
    },
    {
     "name": "stdout",
     "output_type": "stream",
     "text": [
      "\b\b\b\b\b\b\b\b\b\b\b\b\b\b\b\b\b\b\b\b\b\b\b\b\b\b\b\b\b\b\b\b\b\b\b\b\b\b\b\b\b\b\b\b\b\b\b\b\b\b\b\b\b\b\b\b\b\b\b\b\b\b\b\b\b\b\b\b\b\b\b\b\b\b\b\b\b\b\b\b\b\b\b\b\r",
      " 33/150 [=====>........................] - ETA: 3s - loss: 2.3498 - accuracy: 0.1667"
     ]
    },
    {
     "name": "stdout",
     "output_type": "stream",
     "text": [
      "\b\b\b\b\b\b\b\b\b\b\b\b\b\b\b\b\b\b\b\b\b\b\b\b\b\b\b\b\b\b\b\b\b\b\b\b\b\b\b\b\b\b\b\b\b\b\b\b\b\b\b\b\b\b\b\b\b\b\b\b\b\b\b\b\b\b\b\b\b\b\b\b\b\b\b\b\b\b\b\b\b\b\b\b\r",
      " 35/150 [======>.......................] - ETA: 3s - loss: 2.3588 - accuracy: 0.1571"
     ]
    },
    {
     "name": "stdout",
     "output_type": "stream",
     "text": [
      "\b\b\b\b\b\b\b\b\b\b\b\b\b\b\b\b\b\b\b\b\b\b\b\b\b\b\b\b\b\b\b\b\b\b\b\b\b\b\b\b\b\b\b\b\b\b\b\b\b\b\b\b\b\b\b\b\b\b\b\b\b\b\b\b\b\b\b\b\b\b\b\b\b\b\b\b\b\b\b\b\b\b\b\b\r",
      " 37/150 [======>.......................] - ETA: 3s - loss: 2.3540 - accuracy: 0.1622"
     ]
    },
    {
     "name": "stdout",
     "output_type": "stream",
     "text": [
      "\b\b\b\b\b\b\b\b\b\b\b\b\b\b\b\b\b\b\b\b\b\b\b\b\b\b\b\b\b\b\b\b\b\b\b\b\b\b\b\b\b\b\b\b\b\b\b\b\b\b\b\b\b\b\b\b\b\b\b\b\b\b\b\b\b\b\b\b\b\b\b\b\b\b\b\b\b\b\b\b\b\b\b\b\r",
      " 39/150 [======>.......................] - ETA: 3s - loss: 2.3740 - accuracy: 0.1538"
     ]
    },
    {
     "name": "stdout",
     "output_type": "stream",
     "text": [
      "\b\b\b\b\b\b\b\b\b\b\b\b\b\b\b\b\b\b\b\b\b\b\b\b\b\b\b\b\b\b\b\b\b\b\b\b\b\b\b\b\b\b\b\b\b\b\b\b\b\b\b\b\b\b\b\b\b\b\b\b\b\b\b\b\b\b\b\b\b\b\b\b\b\b\b\b\b\b\b\b\b\b\b\b\r",
      " 41/150 [=======>......................] - ETA: 3s - loss: 2.3664 - accuracy: 0.1463"
     ]
    },
    {
     "name": "stdout",
     "output_type": "stream",
     "text": [
      "\b\b\b\b\b\b\b\b\b\b\b\b\b\b\b\b\b\b\b\b\b\b\b\b\b\b\b\b\b\b\b\b\b\b\b\b\b\b\b\b\b\b\b\b\b\b\b\b\b\b\b\b\b\b\b\b\b\b\b\b\b\b\b\b\b\b\b\b\b\b\b\b\b\b\b\b\b\b\b\b\b\b\b\b\r",
      " 43/150 [=======>......................] - ETA: 3s - loss: 2.3510 - accuracy: 0.1512"
     ]
    },
    {
     "name": "stdout",
     "output_type": "stream",
     "text": [
      "\b\b\b\b\b\b\b\b\b\b\b\b\b\b\b\b\b\b\b\b\b\b\b\b\b\b\b\b\b\b\b\b\b\b\b\b\b\b\b\b\b\b\b\b\b\b\b\b\b\b\b\b\b\b\b\b\b\b\b\b\b\b\b\b\b\b\b\b\b\b\b\b\b\b\b\b\b\b\b\b\b\b\b\b\r",
      " 45/150 [========>.....................] - ETA: 3s - loss: 2.3310 - accuracy: 0.1556"
     ]
    },
    {
     "name": "stdout",
     "output_type": "stream",
     "text": [
      "\b\b\b\b\b\b\b\b\b\b\b\b\b\b\b\b\b\b\b\b\b\b\b\b\b\b\b\b\b\b\b\b\b\b\b\b\b\b\b\b\b\b\b\b\b\b\b\b\b\b\b\b\b\b\b\b\b\b\b\b\b\b\b\b\b\b\b\b\b\b\b\b\b\b\b\b\b\b\b\b\b\b\b\b\r",
      " 47/150 [========>.....................] - ETA: 3s - loss: 2.3480 - accuracy: 0.1489"
     ]
    },
    {
     "name": "stdout",
     "output_type": "stream",
     "text": [
      "\b\b\b\b\b\b\b\b\b\b\b\b\b\b\b\b\b\b\b\b\b\b\b\b\b\b\b\b\b\b\b\b\b\b\b\b\b\b\b\b\b\b\b\b\b\b\b\b\b\b\b\b\b\b\b\b\b\b\b\b\b\b\b\b\b\b\b\b\b\b\b\b\b\b\b\b\b\b\b\b\b\b\b\b\r",
      " 49/150 [========>.....................] - ETA: 2s - loss: 2.3504 - accuracy: 0.1531"
     ]
    },
    {
     "name": "stdout",
     "output_type": "stream",
     "text": [
      "\b\b\b\b\b\b\b\b\b\b\b\b\b\b\b\b\b\b\b\b\b\b\b\b\b\b\b\b\b\b\b\b\b\b\b\b\b\b\b\b\b\b\b\b\b\b\b\b\b\b\b\b\b\b\b\b\b\b\b\b\b\b\b\b\b\b\b\b\b\b\b\b\b\b\b\b\b\b\b\b\b\b\b\b\r",
      " 51/150 [=========>....................] - ETA: 2s - loss: 2.3653 - accuracy: 0.1471"
     ]
    },
    {
     "name": "stdout",
     "output_type": "stream",
     "text": [
      "\b\b\b\b\b\b\b\b\b\b\b\b\b\b\b\b\b\b\b\b\b\b\b\b\b\b\b\b\b\b\b\b\b\b\b\b\b\b\b\b\b\b\b\b\b\b\b\b\b\b\b\b\b\b\b\b\b\b\b\b\b\b\b\b\b\b\b\b\b\b\b\b\b\b\b\b\b\b\b\b\b\b\b\b\r",
      " 53/150 [=========>....................] - ETA: 2s - loss: 2.3788 - accuracy: 0.1415"
     ]
    },
    {
     "name": "stdout",
     "output_type": "stream",
     "text": [
      "\b\b\b\b\b\b\b\b\b\b\b\b\b\b\b\b\b\b\b\b\b\b\b\b\b\b\b\b\b\b\b\b\b\b\b\b\b\b\b\b\b\b\b\b\b\b\b\b\b\b\b\b\b\b\b\b\b\b\b\b\b\b\b\b\b\b\b\b\b\b\b\b\b\b\b\b\b\b\b\b\b\b\b\b\r",
      " 55/150 [==========>...................] - ETA: 2s - loss: 2.3694 - accuracy: 0.1455"
     ]
    },
    {
     "name": "stdout",
     "output_type": "stream",
     "text": [
      "\b\b\b\b\b\b\b\b\b\b\b\b\b\b\b\b\b\b\b\b\b\b\b\b\b\b\b\b\b\b\b\b\b\b\b\b\b\b\b\b\b\b\b\b\b\b\b\b\b\b\b\b\b\b\b\b\b\b\b\b\b\b\b\b\b\b\b\b\b\b\b\b\b\b\b\b\b\b\b\b\b\b\b\b\r",
      " 57/150 [==========>...................] - ETA: 2s - loss: 2.3739 - accuracy: 0.1404"
     ]
    },
    {
     "name": "stdout",
     "output_type": "stream",
     "text": [
      "\b\b\b\b\b\b\b\b\b\b\b\b\b\b\b\b\b\b\b\b\b\b\b\b\b\b\b\b\b\b\b\b\b\b\b\b\b\b\b\b\b\b\b\b\b\b\b\b\b\b\b\b\b\b\b\b\b\b\b\b\b\b\b\b\b\b\b\b\b\b\b\b\b\b\b\b\b\b\b\b\b\b\b\b\r",
      " 59/150 [==========>...................] - ETA: 2s - loss: 2.3892 - accuracy: 0.1356"
     ]
    },
    {
     "name": "stdout",
     "output_type": "stream",
     "text": [
      "\b\b\b\b\b\b\b\b\b\b\b\b\b\b\b\b\b\b\b\b\b\b\b\b\b\b\b\b\b\b\b\b\b\b\b\b\b\b\b\b\b\b\b\b\b\b\b\b\b\b\b\b\b\b\b\b\b\b\b\b\b\b\b\b\b\b\b\b\b\b\b\b\b\b\b\b\b\b\b\b\b\b\b\b\r",
      " 61/150 [===========>..................] - ETA: 2s - loss: 2.3825 - accuracy: 0.1311"
     ]
    },
    {
     "name": "stdout",
     "output_type": "stream",
     "text": [
      "\b\b\b\b\b\b\b\b\b\b\b\b\b\b\b\b\b\b\b\b\b\b\b\b\b\b\b\b\b\b\b\b\b\b\b\b\b\b\b\b\b\b\b\b\b\b\b\b\b\b\b\b\b\b\b\b\b\b\b\b\b\b\b\b\b\b\b\b\b\b\b\b\b\b\b\b\b\b\b\b\b\b\b\b\r",
      " 63/150 [===========>..................] - ETA: 2s - loss: 2.3888 - accuracy: 0.1349"
     ]
    },
    {
     "name": "stdout",
     "output_type": "stream",
     "text": [
      "\b\b\b\b\b\b\b\b\b\b\b\b\b\b\b\b\b\b\b\b\b\b\b\b\b\b\b\b\b\b\b\b\b\b\b\b\b\b\b\b\b\b\b\b\b\b\b\b\b\b\b\b\b\b\b\b\b\b\b\b\b\b\b\b\b\b\b\b\b\b\b\b\b\b\b\b\b\b\b\b\b\b\b\b\r",
      " 65/150 [============>.................] - ETA: 2s - loss: 2.3950 - accuracy: 0.1385"
     ]
    },
    {
     "name": "stdout",
     "output_type": "stream",
     "text": [
      "\b\b\b\b\b\b\b\b\b\b\b\b\b\b\b\b\b\b\b\b\b\b\b\b\b\b\b\b\b\b\b\b\b\b\b\b\b\b\b\b\b\b\b\b\b\b\b\b\b\b\b\b\b\b\b\b\b\b\b\b\b\b\b\b\b\b\b\b\b\b\b\b\b\b\b\b\b\b\b\b\b\b\b\b\r",
      " 67/150 [============>.................] - ETA: 2s - loss: 2.3855 - accuracy: 0.1343"
     ]
    },
    {
     "name": "stdout",
     "output_type": "stream",
     "text": [
      "\b\b\b\b\b\b\b\b\b\b\b\b\b\b\b\b\b\b\b\b\b\b\b\b\b\b\b\b\b\b\b\b\b\b\b\b\b\b\b\b\b\b\b\b\b\b\b\b\b\b\b\b\b\b\b\b\b\b\b\b\b\b\b\b\b\b\b\b\b\b\b\b\b\b\b\b\b\b\b\b\b\b\b\b\r",
      " 69/150 [============>.................] - ETA: 2s - loss: 2.3954 - accuracy: 0.1304"
     ]
    },
    {
     "name": "stdout",
     "output_type": "stream",
     "text": [
      "\b\b\b\b\b\b\b\b\b\b\b\b\b\b\b\b\b\b\b\b\b\b\b\b\b\b\b\b\b\b\b\b\b\b\b\b\b\b\b\b\b\b\b\b\b\b\b\b\b\b\b\b\b\b\b\b\b\b\b\b\b\b\b\b\b\b\b\b\b\b\b\b\b\b\b\b\b\b\b\b\b\b\b\b\r",
      " 71/150 [=============>................] - ETA: 2s - loss: 2.4105 - accuracy: 0.1268"
     ]
    },
    {
     "name": "stdout",
     "output_type": "stream",
     "text": [
      "\b\b\b\b\b\b\b\b\b\b\b\b\b\b\b\b\b\b\b\b\b\b\b\b\b\b\b\b\b\b\b\b\b\b\b\b\b\b\b\b\b\b\b\b\b\b\b\b\b\b\b\b\b\b\b\b\b\b\b\b\b\b\b\b\b\b\b\b\b\b\b\b\b\b\b\b\b\b\b\b\b\b\b\b\r",
      " 73/150 [=============>................] - ETA: 2s - loss: 2.4074 - accuracy: 0.1233"
     ]
    },
    {
     "name": "stdout",
     "output_type": "stream",
     "text": [
      "\b\b\b\b\b\b\b\b\b\b\b\b\b\b\b\b\b\b\b\b\b\b\b\b\b\b\b\b\b\b\b\b\b\b\b\b\b\b\b\b\b\b\b\b\b\b\b\b\b\b\b\b\b\b\b\b\b\b\b\b\b\b\b\b\b\b\b\b\b\b\b\b\b\b\b\b\b\b\b\b\b\b\b\b\r",
      " 75/150 [==============>...............] - ETA: 2s - loss: 2.4118 - accuracy: 0.1200"
     ]
    },
    {
     "name": "stdout",
     "output_type": "stream",
     "text": [
      "\b\b\b\b\b\b\b\b\b\b\b\b\b\b\b\b\b\b\b\b\b\b\b\b\b\b\b\b\b\b\b\b\b\b\b\b\b\b\b\b\b\b\b\b\b\b\b\b\b\b\b\b\b\b\b\b\b\b\b\b\b\b\b\b\b\b\b\b\b\b\b\b\b\b\b\b\b\b\b\b\b\b\b\b\r",
      " 77/150 [==============>...............] - ETA: 2s - loss: 2.4203 - accuracy: 0.1169"
     ]
    },
    {
     "name": "stdout",
     "output_type": "stream",
     "text": [
      "\b\b\b\b\b\b\b\b\b\b\b\b\b\b\b\b\b\b\b\b\b\b\b\b\b\b\b\b\b\b\b\b\b\b\b\b\b\b\b\b\b\b\b\b\b\b\b\b\b\b\b\b\b\b\b\b\b\b\b\b\b\b\b\b\b\b\b\b\b\b\b\b\b\b\b\b\b\b\b\b\b\b\b\b\r",
      " 79/150 [==============>...............] - ETA: 2s - loss: 2.4186 - accuracy: 0.1139"
     ]
    },
    {
     "name": "stdout",
     "output_type": "stream",
     "text": [
      "\b\b\b\b\b\b\b\b\b\b\b\b\b\b\b\b\b\b\b\b\b\b\b\b\b\b\b\b\b\b\b\b\b\b\b\b\b\b\b\b\b\b\b\b\b\b\b\b\b\b\b\b\b\b\b\b\b\b\b\b\b\b\b\b\b\b\b\b\b\b\b\b\b\b\b\b\b\b\b\b\b\b\b\b\r",
      " 81/150 [===============>..............] - ETA: 2s - loss: 2.4169 - accuracy: 0.1173"
     ]
    },
    {
     "name": "stdout",
     "output_type": "stream",
     "text": [
      "\b\b\b\b\b\b\b\b\b\b\b\b\b\b\b\b\b\b\b\b\b\b\b\b\b\b\b\b\b\b\b\b\b\b\b\b\b\b\b\b\b\b\b\b\b\b\b\b\b\b\b\b\b\b\b\b\b\b\b\b\b\b\b\b\b\b\b\b\b\b\b\b\b\b\b\b\b\b\b\b\b\b\b\b\r",
      " 83/150 [===============>..............] - ETA: 1s - loss: 2.4134 - accuracy: 0.1205"
     ]
    },
    {
     "name": "stdout",
     "output_type": "stream",
     "text": [
      "\b\b\b\b\b\b\b\b\b\b\b\b\b\b\b\b\b\b\b\b\b\b\b\b\b\b\b\b\b\b\b\b\b\b\b\b\b\b\b\b\b\b\b\b\b\b\b\b\b\b\b\b\b\b\b\b\b\b\b\b\b\b\b\b\b\b\b\b\b\b\b\b\b\b\b\b\b\b\b\b\b\b\b\b\r",
      " 85/150 [================>.............] - ETA: 1s - loss: 2.4121 - accuracy: 0.1235"
     ]
    },
    {
     "name": "stdout",
     "output_type": "stream",
     "text": [
      "\b\b\b\b\b\b\b\b\b\b\b\b\b\b\b\b\b\b\b\b\b\b\b\b\b\b\b\b\b\b\b\b\b\b\b\b\b\b\b\b\b\b\b\b\b\b\b\b\b\b\b\b\b\b\b\b\b\b\b\b\b\b\b\b\b\b\b\b\b\b\b\b\b\b\b\b\b\b\b\b\b\b\b\b\r",
      " 87/150 [================>.............] - ETA: 1s - loss: 2.4090 - accuracy: 0.1207"
     ]
    },
    {
     "name": "stdout",
     "output_type": "stream",
     "text": [
      "\b\b\b\b\b\b\b\b\b\b\b\b\b\b\b\b\b\b\b\b\b\b\b\b\b\b\b\b\b\b\b\b\b\b\b\b\b\b\b\b\b\b\b\b\b\b\b\b\b\b\b\b\b\b\b\b\b\b\b\b\b\b\b\b\b\b\b\b\b\b\b\b\b\b\b\b\b\b\b\b\b\b\b\b\r",
      " 89/150 [================>.............] - ETA: 1s - loss: 2.4098 - accuracy: 0.1180"
     ]
    },
    {
     "name": "stdout",
     "output_type": "stream",
     "text": [
      "\b\b\b\b\b\b\b\b\b\b\b\b\b\b\b\b\b\b\b\b\b\b\b\b\b\b\b\b\b\b\b\b\b\b\b\b\b\b\b\b\b\b\b\b\b\b\b\b\b\b\b\b\b\b\b\b\b\b\b\b\b\b\b\b\b\b\b\b\b\b\b\b\b\b\b\b\b\b\b\b\b\b\b\b\r",
      " 91/150 [=================>............] - ETA: 1s - loss: 2.4060 - accuracy: 0.1209"
     ]
    },
    {
     "name": "stdout",
     "output_type": "stream",
     "text": [
      "\b\b\b\b\b\b\b\b\b\b\b\b\b\b\b\b\b\b\b\b\b\b\b\b\b\b\b\b\b\b\b\b\b\b\b\b\b\b\b\b\b\b\b\b\b\b\b\b\b\b\b\b\b\b\b\b\b\b\b\b\b\b\b\b\b\b\b\b\b\b\b\b\b\b\b\b\b\b\b\b\b\b\b\b\r",
      " 93/150 [=================>............] - ETA: 1s - loss: 2.4067 - accuracy: 0.1183"
     ]
    },
    {
     "name": "stdout",
     "output_type": "stream",
     "text": [
      "\b\b\b\b\b\b\b\b\b\b\b\b\b\b\b\b\b\b\b\b\b\b\b\b\b\b\b\b\b\b\b\b\b\b\b\b\b\b\b\b\b\b\b\b\b\b\b\b\b\b\b\b\b\b\b\b\b\b\b\b\b\b\b\b\b\b\b\b\b\b\b\b\b\b\b\b\b\b\b\b\b\b\b\b\r",
      " 95/150 [==================>...........] - ETA: 1s - loss: 2.4009 - accuracy: 0.1158"
     ]
    },
    {
     "name": "stdout",
     "output_type": "stream",
     "text": [
      "\b\b\b\b\b\b\b\b\b\b\b\b\b\b\b\b\b\b\b\b\b\b\b\b\b\b\b\b\b\b\b\b\b\b\b\b\b\b\b\b\b\b\b\b\b\b\b\b\b\b\b\b\b\b\b\b\b\b\b\b\b\b\b\b\b\b\b\b\b\b\b\b\b\b\b\b\b\b\b\b\b\b\b\b\r",
      " 97/150 [==================>...........] - ETA: 1s - loss: 2.3932 - accuracy: 0.1289"
     ]
    },
    {
     "name": "stdout",
     "output_type": "stream",
     "text": [
      "\b\b\b\b\b\b\b\b\b\b\b\b\b\b\b\b\b\b\b\b\b\b\b\b\b\b\b\b\b\b\b\b\b\b\b\b\b\b\b\b\b\b\b\b\b\b\b\b\b\b\b\b\b\b\b\b\b\b\b\b\b\b\b\b\b\b\b\b\b\b\b\b\b\b\b\b\b\b\b\b\b\b\b\b\r",
      " 99/150 [==================>...........] - ETA: 1s - loss: 2.4023 - accuracy: 0.1263"
     ]
    },
    {
     "name": "stdout",
     "output_type": "stream",
     "text": [
      "\b\b\b\b\b\b\b\b\b\b\b\b\b\b\b\b\b\b\b\b\b\b\b\b\b\b\b\b\b\b\b\b\b\b\b\b\b\b\b\b\b\b\b\b\b\b\b\b\b\b\b\b\b\b\b\b\b\b\b\b\b\b\b\b\b\b\b\b\b\b\b\b\b\b\b\b\b\b\b\b\b\b\b\b\r",
      "101/150 [===================>..........] - ETA: 1s - loss: 2.4011 - accuracy: 0.1287"
     ]
    },
    {
     "name": "stdout",
     "output_type": "stream",
     "text": [
      "\b\b\b\b\b\b\b\b\b\b\b\b\b\b\b\b\b\b\b\b\b\b\b\b\b\b\b\b\b\b\b\b\b\b\b\b\b\b\b\b\b\b\b\b\b\b\b\b\b\b\b\b\b\b\b\b\b\b\b\b\b\b\b\b\b\b\b\b\b\b\b\b\b\b\b\b\b\b\b\b\b\b\b\b\r",
      "103/150 [===================>..........] - ETA: 1s - loss: 2.4059 - accuracy: 0.1262"
     ]
    },
    {
     "name": "stdout",
     "output_type": "stream",
     "text": [
      "\b\b\b\b\b\b\b\b\b\b\b\b\b\b\b\b\b\b\b\b\b\b\b\b\b\b\b\b\b\b\b\b\b\b\b\b\b\b\b\b\b\b\b\b\b\b\b\b\b\b\b\b\b\b\b\b\b\b\b\b\b\b\b\b\b\b\b\b\b\b\b\b\b\b\b\b\b\b\b\b\b\b\b\b\r",
      "105/150 [====================>.........] - ETA: 1s - loss: 2.4186 - accuracy: 0.1238"
     ]
    },
    {
     "name": "stdout",
     "output_type": "stream",
     "text": [
      "\b\b\b\b\b\b\b\b\b\b\b\b\b\b\b\b\b\b\b\b\b\b\b\b\b\b\b\b\b\b\b\b\b\b\b\b\b\b\b\b\b\b\b\b\b\b\b\b\b\b\b\b\b\b\b\b\b\b\b\b\b\b\b\b\b\b\b\b\b\b\b\b\b\b\b\b\b\b\b\b\b\b\b\b\r",
      "107/150 [====================>.........] - ETA: 1s - loss: 2.4131 - accuracy: 0.1262"
     ]
    },
    {
     "name": "stdout",
     "output_type": "stream",
     "text": [
      "\b\b\b\b\b\b\b\b\b\b\b\b\b\b\b\b\b\b\b\b\b\b\b\b\b\b\b\b\b\b\b\b\b\b\b\b\b\b\b\b\b\b\b\b\b\b\b\b\b\b\b\b\b\b\b\b\b\b\b\b\b\b\b\b\b\b\b\b\b\b\b\b\b\b\b\b\b\b\b\b\b\b\b\b\r",
      "109/150 [====================>.........] - ETA: 1s - loss: 2.4153 - accuracy: 0.1239"
     ]
    },
    {
     "name": "stdout",
     "output_type": "stream",
     "text": [
      "\b\b\b\b\b\b\b\b\b\b\b\b\b\b\b\b\b\b\b\b\b\b\b\b\b\b\b\b\b\b\b\b\b\b\b\b\b\b\b\b\b\b\b\b\b\b\b\b\b\b\b\b\b\b\b\b\b\b\b\b\b\b\b\b\b\b\b\b\b\b\b\b\b\b\b\b\b\b\b\b\b\b\b\b\r",
      "111/150 [=====================>........] - ETA: 1s - loss: 2.4194 - accuracy: 0.1216"
     ]
    },
    {
     "name": "stdout",
     "output_type": "stream",
     "text": [
      "\b\b\b\b\b\b\b\b\b\b\b\b\b\b\b\b\b\b\b\b\b\b\b\b\b\b\b\b\b\b\b\b\b\b\b\b\b\b\b\b\b\b\b\b\b\b\b\b\b\b\b\b\b\b\b\b\b\b\b\b\b\b\b\b\b\b\b\b\b\b\b\b\b\b\b\b\b\b\b\b\b\b\b\b\r",
      "113/150 [=====================>........] - ETA: 1s - loss: 2.4202 - accuracy: 0.1195"
     ]
    },
    {
     "name": "stdout",
     "output_type": "stream",
     "text": [
      "\b\b\b\b\b\b\b\b\b\b\b\b\b\b\b\b\b\b\b\b\b\b\b\b\b\b\b\b\b\b\b\b\b\b\b\b\b\b\b\b\b\b\b\b\b\b\b\b\b\b\b\b\b\b\b\b\b\b\b\b\b\b\b\b\b\b\b\b\b\b\b\b\b\b\b\b\b\b\b\b\b\b\b\b\r",
      "115/150 [======================>.......] - ETA: 1s - loss: 2.4170 - accuracy: 0.1174"
     ]
    },
    {
     "name": "stdout",
     "output_type": "stream",
     "text": [
      "\b\b\b\b\b\b\b\b\b\b\b\b\b\b\b\b\b\b\b\b\b\b\b\b\b\b\b\b\b\b\b\b\b\b\b\b\b\b\b\b\b\b\b\b\b\b\b\b\b\b\b\b\b\b\b\b\b\b\b\b\b\b\b\b\b\b\b\b\b\b\b\b\b\b\b\b\b\b\b\b\b\b\b\b\r",
      "117/150 [======================>.......] - ETA: 0s - loss: 2.4221 - accuracy: 0.1154"
     ]
    },
    {
     "name": "stdout",
     "output_type": "stream",
     "text": [
      "\b\b\b\b\b\b\b\b\b\b\b\b\b\b\b\b\b\b\b\b\b\b\b\b\b\b\b\b\b\b\b\b\b\b\b\b\b\b\b\b\b\b\b\b\b\b\b\b\b\b\b\b\b\b\b\b\b\b\b\b\b\b\b\b\b\b\b\b\b\b\b\b\b\b\b\b\b\b\b\b\b\b\b\b\r",
      "119/150 [======================>.......] - ETA: 0s - loss: 2.4205 - accuracy: 0.1134"
     ]
    },
    {
     "name": "stdout",
     "output_type": "stream",
     "text": [
      "\b\b\b\b\b\b\b\b\b\b\b\b\b\b\b\b\b\b\b\b\b\b\b\b\b\b\b\b\b\b\b\b\b\b\b\b\b\b\b\b\b\b\b\b\b\b\b\b\b\b\b\b\b\b\b\b\b\b\b\b\b\b\b\b\b\b\b\b\b\b\b\b\b\b\b\b\b\b\b\b\b\b\b\b\r",
      "121/150 [=======================>......] - ETA: 0s - loss: 2.4209 - accuracy: 0.1116"
     ]
    },
    {
     "name": "stdout",
     "output_type": "stream",
     "text": [
      "\b\b\b\b\b\b\b\b\b\b\b\b\b\b\b\b\b\b\b\b\b\b\b\b\b\b\b\b\b\b\b\b\b\b\b\b\b\b\b\b\b\b\b\b\b\b\b\b\b\b\b\b\b\b\b\b\b\b\b\b\b\b\b\b\b\b\b\b\b\b\b\b\b\b\b\b\b\b\b\b\b\b\b\b\r",
      "123/150 [=======================>......] - ETA: 0s - loss: 2.4191 - accuracy: 0.1098"
     ]
    },
    {
     "name": "stdout",
     "output_type": "stream",
     "text": [
      "\b\b\b\b\b\b\b\b\b\b\b\b\b\b\b\b\b\b\b\b\b\b\b\b\b\b\b\b\b\b\b\b\b\b\b\b\b\b\b\b\b\b\b\b\b\b\b\b\b\b\b\b\b\b\b\b\b\b\b\b\b\b\b\b\b\b\b\b\b\b\b\b\b\b\b\b\b\b\b\b\b\b\b\b\r",
      "125/150 [========================>.....] - ETA: 0s - loss: 2.4226 - accuracy: 0.1120"
     ]
    },
    {
     "name": "stdout",
     "output_type": "stream",
     "text": [
      "\b\b\b\b\b\b\b\b\b\b\b\b\b\b\b\b\b\b\b\b\b\b\b\b\b\b\b\b\b\b\b\b\b\b\b\b\b\b\b\b\b\b\b\b\b\b\b\b\b\b\b\b\b\b\b\b\b\b\b\b\b\b\b\b\b\b\b\b\b\b\b\b\b\b\b\b\b\b\b\b\b\b\b\b\r",
      "127/150 [========================>.....] - ETA: 0s - loss: 2.4162 - accuracy: 0.1142"
     ]
    },
    {
     "name": "stdout",
     "output_type": "stream",
     "text": [
      "\b\b\b\b\b\b\b\b\b\b\b\b\b\b\b\b\b\b\b\b\b\b\b\b\b\b\b\b\b\b\b\b\b\b\b\b\b\b\b\b\b\b\b\b\b\b\b\b\b\b\b\b\b\b\b\b\b\b\b\b\b\b\b\b\b\b\b\b\b\b\b\b\b\b\b\b\b\b\b\b\b\b\b\b\r",
      "129/150 [========================>.....] - ETA: 0s - loss: 2.4157 - accuracy: 0.1163"
     ]
    },
    {
     "name": "stdout",
     "output_type": "stream",
     "text": [
      "\b\b\b\b\b\b\b\b\b\b\b\b\b\b\b\b\b\b\b\b\b\b\b\b\b\b\b\b\b\b\b\b\b\b\b\b\b\b\b\b\b\b\b\b\b\b\b\b\b\b\b\b\b\b\b\b\b\b\b\b\b\b\b\b\b\b\b\b\b\b\b\b\b\b\b\b\b\b\b\b\b\b\b\b\r",
      "131/150 [=========================>....] - ETA: 0s - loss: 2.4086 - accuracy: 0.1145"
     ]
    },
    {
     "name": "stdout",
     "output_type": "stream",
     "text": [
      "\b\b\b\b\b\b\b\b\b\b\b\b\b\b\b\b\b\b\b\b\b\b\b\b\b\b\b\b\b\b\b\b\b\b\b\b\b\b\b\b\b\b\b\b\b\b\b\b\b\b\b\b\b\b\b\b\b\b\b\b\b\b\b\b\b\b\b\b\b\b\b\b\b\b\b\b\b\b\b\b\b\b\b\b\r",
      "133/150 [=========================>....] - ETA: 0s - loss: 2.4074 - accuracy: 0.1165"
     ]
    },
    {
     "name": "stdout",
     "output_type": "stream",
     "text": [
      "\b\b\b\b\b\b\b\b\b\b\b\b\b\b\b\b\b\b\b\b\b\b\b\b\b\b\b\b\b\b\b\b\b\b\b\b\b\b\b\b\b\b\b\b\b\b\b\b\b\b\b\b\b\b\b\b\b\b\b\b\b\b\b\b\b\b\b\b\b\b\b\b\b\b\b\b\b\b\b\b\b\b\b\b\r",
      "135/150 [==========================>...] - ETA: 0s - loss: 2.4068 - accuracy: 0.1185"
     ]
    },
    {
     "name": "stdout",
     "output_type": "stream",
     "text": [
      "\b\b\b\b\b\b\b\b\b\b\b\b\b\b\b\b\b\b\b\b\b\b\b\b\b\b\b\b\b\b\b\b\b\b\b\b\b\b\b\b\b\b\b\b\b\b\b\b\b\b\b\b\b\b\b\b\b\b\b\b\b\b\b\b\b\b\b\b\b\b\b\b\b\b\b\b\b\b\b\b\b\b\b\b\r",
      "137/150 [==========================>...] - ETA: 0s - loss: 2.4057 - accuracy: 0.1204"
     ]
    },
    {
     "name": "stdout",
     "output_type": "stream",
     "text": [
      "\b\b\b\b\b\b\b\b\b\b\b\b\b\b\b\b\b\b\b\b\b\b\b\b\b\b\b\b\b\b\b\b\b\b\b\b\b\b\b\b\b\b\b\b\b\b\b\b\b\b\b\b\b\b\b\b\b\b\b\b\b\b\b\b\b\b\b\b\b\b\b\b\b\b\b\b\b\b\b\b\b\b\b\b\r",
      "139/150 [==========================>...] - ETA: 0s - loss: 2.4130 - accuracy: 0.1187"
     ]
    },
    {
     "name": "stdout",
     "output_type": "stream",
     "text": [
      "\b\b\b\b\b\b\b\b\b\b\b\b\b\b\b\b\b\b\b\b\b\b\b\b\b\b\b\b\b\b\b\b\b\b\b\b\b\b\b\b\b\b\b\b\b\b\b\b\b\b\b\b\b\b\b\b\b\b\b\b\b\b\b\b\b\b\b\b\b\b\b\b\b\b\b\b\b\b\b\b\b\b\b\b\r",
      "141/150 [===========================>..] - ETA: 0s - loss: 2.4129 - accuracy: 0.1206"
     ]
    },
    {
     "name": "stdout",
     "output_type": "stream",
     "text": [
      "\b\b\b\b\b\b\b\b\b\b\b\b\b\b\b\b\b\b\b\b\b\b\b\b\b\b\b\b\b\b\b\b\b\b\b\b\b\b\b\b\b\b\b\b\b\b\b\b\b\b\b\b\b\b\b\b\b\b\b\b\b\b\b\b\b\b\b\b\b\b\b\b\b\b\b\b\b\b\b\b\b\b\b\b\r",
      "143/150 [===========================>..] - ETA: 0s - loss: 2.4123 - accuracy: 0.1189"
     ]
    },
    {
     "name": "stdout",
     "output_type": "stream",
     "text": [
      "\b\b\b\b\b\b\b\b\b\b\b\b\b\b\b\b\b\b\b\b\b\b\b\b\b\b\b\b\b\b\b\b\b\b\b\b\b\b\b\b\b\b\b\b\b\b\b\b\b\b\b\b\b\b\b\b\b\b\b\b\b\b\b\b\b\b\b\b\b\b\b\b\b\b\b\b\b\b\b\b\b\b\b\b\r",
      "145/150 [============================>.] - ETA: 0s - loss: 2.4097 - accuracy: 0.1172"
     ]
    },
    {
     "name": "stdout",
     "output_type": "stream",
     "text": [
      "\b\b\b\b\b\b\b\b\b\b\b\b\b\b\b\b\b\b\b\b\b\b\b\b\b\b\b\b\b\b\b\b\b\b\b\b\b\b\b\b\b\b\b\b\b\b\b\b\b\b\b\b\b\b\b\b\b\b\b\b\b\b\b\b\b\b\b\b\b\b\b\b\b\b\b\b\b\b\b\b\b\b\b\b\r",
      "147/150 [============================>.] - ETA: 0s - loss: 2.4077 - accuracy: 0.1190"
     ]
    },
    {
     "name": "stdout",
     "output_type": "stream",
     "text": [
      "\b\b\b\b\b\b\b\b\b\b\b\b\b\b\b\b\b\b\b\b\b\b\b\b\b\b\b\b\b\b\b\b\b\b\b\b\b\b\b\b\b\b\b\b\b\b\b\b\b\b\b\b\b\b\b\b\b\b\b\b\b\b\b\b\b\b\b\b\b\b\b\b\b\b\b\b\b\b\b\b\b\b\b\b\r",
      "149/150 [============================>.] - ETA: 0s - loss: 2.4081 - accuracy: 0.1174"
     ]
    },
    {
     "name": "stdout",
     "output_type": "stream",
     "text": [
      "\b\b\b\b\b\b\b\b\b\b\b\b\b\b\b\b\b\b\b\b\b\b\b\b\b\b\b\b\b\b\b\b\b\b\b\b\b\b\b\b\b\b\b\b\b\b\b\b\b\b\b\b\b\b\b\b\b\b\b\b\b\b\b\b\b\b\b\b\b\b\b\b\b\b\b\b\b\b\b\b\b\b\b\b\r",
      "150/150 [==============================] - 6s 39ms/step - loss: 2.4041 - accuracy: 0.1233 - val_loss: 2.4171 - val_accuracy: 0.1000\n"
     ]
    },
    {
     "data": {
      "text/plain": [
       "<keras.callbacks.History at 0x7f8ab2c5ad60>"
      ]
     },
     "execution_count": 33,
     "metadata": {},
     "output_type": "execute_result"
    }
   ],
   "source": [
    "net = tf.keras.applications.EfficientNetB0(include_top = False)\n",
    "net.trainable = False\n",
    "\n",
    "model = tf.keras.Sequential([\n",
    "    tf.keras.layers.TimeDistributed(net),\n",
    "    tf.keras.layers.Dense(10),\n",
    "    tf.keras.layers.GlobalAveragePooling3D()\n",
    "])\n",
    "\n",
    "model.compile(optimizer = 'adam',\n",
    "              loss=tf.keras.losses.SparseCategoricalCrossentropy(from_logits = True),\n",
    "              metrics=['accuracy'])\n",
    "\n",
    "model.fit(train_ds, \n",
    "          epochs = 10,\n",
    "          validation_data = val_ds,\n",
    "          callbacks = tf.keras.callbacks.EarlyStopping(patience = 2, monitor = 'val_loss'))"
   ]
  }
 ],
 "metadata": {
  "accelerator": "GPU",
  "colab": {
   "collapsed_sections": [],
   "name": "Video_Loading.ipynb",
   "toc_visible": true
  },
  "kernelspec": {
   "display_name": "Python 3",
   "name": "python3"
  },
  "language_info": {
   "codemirror_mode": {
    "name": "ipython",
    "version": 3
   },
   "file_extension": ".py",
   "mimetype": "text/x-python",
   "name": "python",
   "nbconvert_exporter": "python",
   "pygments_lexer": "ipython3",
   "version": "3.9.14"
  }
 },
 "nbformat": 4,
 "nbformat_minor": 0
}
