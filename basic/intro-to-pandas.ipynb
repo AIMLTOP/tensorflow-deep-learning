{
 "cells": [
  {
   "cell_type": "code",
   "execution_count": null,
   "id": "876e5143-3d5a-4608-b4b0-3759c530e732",
   "metadata": {},
   "outputs": [],
   "source": [
    "import pandas as pd"
   ]
  },
  {
   "cell_type": "code",
   "execution_count": null,
   "id": "c91a0af6-1d82-472e-9d1a-b14fa91f1a07",
   "metadata": {},
   "outputs": [],
   "source": [
    "# 2 main datatypes\n",
    "# series = 1-dimesional\n",
    "# dataframe = 2-dimesional\n",
    "series = pd.Series([\"BMW\",\"Toyota\", \"Honda\"])\n",
    "series"
   ]
  },
  {
   "cell_type": "code",
   "execution_count": null,
   "id": "6be62eee-4a16-46fe-8340-dfcc135fec19",
   "metadata": {},
   "outputs": [],
   "source": [
    "colours = pd.Series([\"Red\", \"Blue\", \"White\"])\n",
    "colours"
   ]
  },
  {
   "cell_type": "code",
   "execution_count": null,
   "id": "a1543a6e-5d1e-44db-bb2b-48a38760aec0",
   "metadata": {},
   "outputs": [],
   "source": [
    "car_data = pd.DataFrame({\"CarMaker\": series, \"Colour\": colours})\n",
    "car_data"
   ]
  },
  {
   "cell_type": "code",
   "execution_count": null,
   "id": "fa851fc9-2cf8-4920-9010-6b564ce5d067",
   "metadata": {},
   "outputs": [],
   "source": [
    "# Import data\n",
    "car_sales = pd.read_csv('322 car-sales.csv')\n",
    "car_sales"
   ]
  },
  {
   "cell_type": "code",
   "execution_count": null,
   "id": "a56b16e7-95cc-448c-b06f-7495a998e5eb",
   "metadata": {},
   "outputs": [],
   "source": [
    "# Export data\n",
    "car_sales.to_csv('car-sales-exported.csv', index=False)"
   ]
  },
  {
   "cell_type": "markdown",
   "id": "dff64b38-d6f5-44e8-ba5f-4ba03f650efe",
   "metadata": {},
   "source": [
    "## Describe Data"
   ]
  },
  {
   "cell_type": "code",
   "execution_count": null,
   "id": "0123374c-b994-4345-a886-0b775b4a4c84",
   "metadata": {},
   "outputs": [],
   "source": [
    "# Attributes\n",
    "car_sales.dtypes\n",
    "\n",
    "# Function\n",
    "#car_sales.to_csv()"
   ]
  },
  {
   "cell_type": "code",
   "execution_count": null,
   "id": "998e66a6-5da2-498a-a8a4-8a0be29eb9ad",
   "metadata": {},
   "outputs": [],
   "source": [
    "car_sales.columns"
   ]
  },
  {
   "cell_type": "code",
   "execution_count": null,
   "id": "259f6c8f-6280-4e5a-85c8-e5ad0d00d1b0",
   "metadata": {},
   "outputs": [],
   "source": [
    "car_columns = car_sales.columns\n",
    "car_columns"
   ]
  },
  {
   "cell_type": "code",
   "execution_count": null,
   "id": "8a765173-eb9f-43cc-864a-b1e9934ec506",
   "metadata": {},
   "outputs": [],
   "source": [
    "car_sales.index"
   ]
  },
  {
   "cell_type": "code",
   "execution_count": null,
   "id": "8e974672-5326-474e-a4a5-5f9547c23c81",
   "metadata": {},
   "outputs": [],
   "source": [
    "car_sales.describe()"
   ]
  },
  {
   "cell_type": "code",
   "execution_count": null,
   "id": "184aa71e-4602-4d03-976b-b79c5ed7c900",
   "metadata": {},
   "outputs": [],
   "source": [
    "car_sales.info()"
   ]
  },
  {
   "cell_type": "code",
   "execution_count": null,
   "id": "ca85ab4e-1d6d-4e9c-93eb-990ffce39c88",
   "metadata": {},
   "outputs": [],
   "source": [
    "car_sales.mean()"
   ]
  },
  {
   "cell_type": "code",
   "execution_count": null,
   "id": "89e6a859-8383-4ffb-86fc-3a0bf302cb59",
   "metadata": {},
   "outputs": [],
   "source": [
    "car_prices = pd.Series([3000, 5000, 8000])\n",
    "car_prices.mean()"
   ]
  },
  {
   "cell_type": "code",
   "execution_count": null,
   "id": "468fa4d0-b9aa-4eac-8c96-c455a7f50855",
   "metadata": {},
   "outputs": [],
   "source": [
    "car_sales.sum()"
   ]
  },
  {
   "cell_type": "code",
   "execution_count": null,
   "id": "25524692-cd1d-42f1-b634-fc0eedbab98d",
   "metadata": {},
   "outputs": [],
   "source": [
    "car_sales['Doors'].sum()"
   ]
  },
  {
   "cell_type": "code",
   "execution_count": null,
   "id": "d466b837-7b94-4efe-b79c-f5e52623c31b",
   "metadata": {},
   "outputs": [],
   "source": [
    "len(car_sales)"
   ]
  },
  {
   "cell_type": "code",
   "execution_count": null,
   "id": "79288177-447d-433d-860f-1b190860267f",
   "metadata": {},
   "outputs": [],
   "source": [
    "car_sales.head()"
   ]
  },
  {
   "cell_type": "code",
   "execution_count": null,
   "id": "1368a835-b181-4a6f-8b0c-70fd39bec540",
   "metadata": {},
   "outputs": [],
   "source": [
    "car_sales.head(5)"
   ]
  },
  {
   "cell_type": "code",
   "execution_count": null,
   "id": "4576e1f2-db3e-4f93-bd26-9b361e4aacc4",
   "metadata": {},
   "outputs": [],
   "source": [
    "car_sales.tail()"
   ]
  },
  {
   "cell_type": "code",
   "execution_count": null,
   "id": "7b41827b-11c2-45bc-9148-221e0b75b270",
   "metadata": {},
   "outputs": [],
   "source": [
    "car_sales.tail(3)"
   ]
  },
  {
   "cell_type": "code",
   "execution_count": null,
   "id": "18cf34dc-bfb0-4c55-a67e-54029d0722a3",
   "metadata": {},
   "outputs": [],
   "source": [
    "# loc & iloc\n",
    "animals = pd.Series([\"cat\", \"dog\", \"tiger\", \"panda\", \"dragon\"],\n",
    "                   index=[3, 6, 8, 9, 3])\n",
    "animals"
   ]
  },
  {
   "cell_type": "code",
   "execution_count": null,
   "id": "070657c4-985b-42f3-8aa5-f9a1c03cdab0",
   "metadata": {},
   "outputs": [],
   "source": [
    "animals.loc[3]"
   ]
  },
  {
   "cell_type": "code",
   "execution_count": null,
   "id": "45a4a449-252b-4d10-82c1-5a5e8ee8afd4",
   "metadata": {},
   "outputs": [],
   "source": [
    "# iloc refer to position\n",
    "animals.iloc[3]"
   ]
  },
  {
   "cell_type": "code",
   "execution_count": null,
   "id": "d8d7a7c6-caa0-479a-a048-915bc08e0ef3",
   "metadata": {},
   "outputs": [],
   "source": [
    "animals.iloc[:3]"
   ]
  },
  {
   "cell_type": "code",
   "execution_count": null,
   "id": "12a52901-ec69-4874-920f-435cb05abfd1",
   "metadata": {},
   "outputs": [],
   "source": [
    "car_sales[\"Odometer (KM)\"]"
   ]
  },
  {
   "cell_type": "code",
   "execution_count": null,
   "id": "a8b81bdf-96f1-4e35-8c67-7d35021870a5",
   "metadata": {},
   "outputs": [],
   "source": [
    "# car_sales.Odometer (KM) # don't work"
   ]
  },
  {
   "cell_type": "code",
   "execution_count": null,
   "id": "db87b6b5-1328-43be-978d-84738d07ace3",
   "metadata": {},
   "outputs": [],
   "source": [
    "car_sales[car_sales[\"Make\"] == \"Toyota\"]"
   ]
  },
  {
   "cell_type": "code",
   "execution_count": null,
   "id": "683a8a86-9af0-4132-a34e-cd6c1cf1814d",
   "metadata": {},
   "outputs": [],
   "source": [
    "car_sales[car_sales[\"Odometer (KM)\"] > 100000]"
   ]
  },
  {
   "cell_type": "code",
   "execution_count": null,
   "id": "9468bab7-4d51-451f-b725-a312a62445d4",
   "metadata": {},
   "outputs": [],
   "source": [
    "pd.crosstab(car_sales[\"Make\"], car_sales[\"Doors\"])"
   ]
  },
  {
   "cell_type": "code",
   "execution_count": null,
   "id": "99870069-31f1-43a5-b737-4547073b1db4",
   "metadata": {},
   "outputs": [],
   "source": [
    "car_sales.groupby(\"Make\").mean()"
   ]
  },
  {
   "cell_type": "code",
   "execution_count": null,
   "id": "c47a013b-b188-4c5d-89f1-352af0a1a135",
   "metadata": {},
   "outputs": [],
   "source": [
    "# %matplotlib inline\n",
    "# import matplotlib.pyplot as plt"
   ]
  },
  {
   "cell_type": "code",
   "execution_count": null,
   "id": "002052f6-f773-473b-b358-fc3fbf67180b",
   "metadata": {},
   "outputs": [],
   "source": [
    "car_sales[\"Odometer (KM)\"].plot()"
   ]
  },
  {
   "cell_type": "code",
   "execution_count": null,
   "id": "9543ba15-a29d-411c-9970-e749f19a9a50",
   "metadata": {},
   "outputs": [],
   "source": [
    "car_sales[\"Odometer (KM)\"].hist()"
   ]
  },
  {
   "cell_type": "code",
   "execution_count": null,
   "id": "4b155f30-fb0e-4905-b36f-fcd33b44a81d",
   "metadata": {},
   "outputs": [],
   "source": [
    "car_sales[\"Price\"] = car_sales[\"Price\"].str.replace('[\\$\\,]|\\.\\d*', '').astype(int)"
   ]
  },
  {
   "cell_type": "code",
   "execution_count": null,
   "id": "82c8c866-185e-482e-b1e3-c43ecb72c0c3",
   "metadata": {},
   "outputs": [],
   "source": [
    "car_sales[\"Price\"]"
   ]
  },
  {
   "cell_type": "code",
   "execution_count": null,
   "id": "8e9043db-c45d-4f41-b079-3d1cc87c9337",
   "metadata": {},
   "outputs": [],
   "source": [
    "car_sales[\"Price\"].plot()"
   ]
  },
  {
   "cell_type": "code",
   "execution_count": null,
   "id": "d6e767c4-cb0a-42ce-b762-03553465f4e2",
   "metadata": {},
   "outputs": [],
   "source": []
  }
 ],
 "metadata": {
  "kernelspec": {
   "display_name": "conda_python3",
   "language": "python",
   "name": "conda_python3"
  },
  "language_info": {
   "codemirror_mode": {
    "name": "ipython",
    "version": 3
   },
   "file_extension": ".py",
   "mimetype": "text/x-python",
   "name": "python",
   "nbconvert_exporter": "python",
   "pygments_lexer": "ipython3",
   "version": "3.8.12"
  }
 },
 "nbformat": 4,
 "nbformat_minor": 5
}