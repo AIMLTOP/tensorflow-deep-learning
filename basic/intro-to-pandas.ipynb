{
 "cells": [
  {
   "cell_type": "code",
   "execution_count": null,
   "id": "876e5143-3d5a-4608-b4b0-3759c530e732",
   "metadata": {},
   "outputs": [],
   "source": [
    "import pandas as pd"
   ]
  },
  {
   "cell_type": "code",
   "execution_count": null,
   "id": "c91a0af6-1d82-472e-9d1a-b14fa91f1a07",
   "metadata": {},
   "outputs": [],
   "source": [
    "# 2 main datatypes\n",
    "# series = 1-dimesional\n",
    "# dataframe = 2-dimesional\n",
    "series = pd.Series([\"BMW\",\"Toyota\", \"Honda\"])\n",
    "series"
   ]
  },
  {
   "cell_type": "code",
   "execution_count": null,
   "id": "6be62eee-4a16-46fe-8340-dfcc135fec19",
   "metadata": {},
   "outputs": [],
   "source": [
    "colours = pd.Series([\"Red\", \"Blue\", \"White\"])\n",
    "colours"
   ]
  },
  {
   "cell_type": "code",
   "execution_count": null,
   "id": "a1543a6e-5d1e-44db-bb2b-48a38760aec0",
   "metadata": {},
   "outputs": [],
   "source": [
    "car_data = pd.DataFrame({\"CarMaker\": series, \"Colour\": colours})\n",
    "car_data"
   ]
  },
  {
   "cell_type": "code",
   "execution_count": null,
   "id": "fa851fc9-2cf8-4920-9010-6b564ce5d067",
   "metadata": {},
   "outputs": [],
   "source": [
    "# Import data\n",
    "car_sales = pd.read_csv('322 car-sales.csv')\n",
    "car_sales"
   ]
  },
  {
   "cell_type": "code",
   "execution_count": null,
   "id": "a56b16e7-95cc-448c-b06f-7495a998e5eb",
   "metadata": {},
   "outputs": [],
   "source": [
    "# Export data\n",
    "car_sales.to_csv('car-sales-exported.csv', index=False)"
   ]
  },
  {
   "cell_type": "markdown",
   "id": "dff64b38-d6f5-44e8-ba5f-4ba03f650efe",
   "metadata": {},
   "source": [
    "## Describe Data"
   ]
  },
  {
   "cell_type": "code",
   "execution_count": null,
   "id": "0123374c-b994-4345-a886-0b775b4a4c84",
   "metadata": {},
   "outputs": [],
   "source": [
    "# Attributes\n",
    "car_sales.dtypes\n",
    "\n",
    "# Function\n",
    "#car_sales.to_csv()"
   ]
  },
  {
   "cell_type": "code",
   "execution_count": null,
   "id": "998e66a6-5da2-498a-a8a4-8a0be29eb9ad",
   "metadata": {},
   "outputs": [],
   "source": [
    "car_sales.columns"
   ]
  },
  {
   "cell_type": "code",
   "execution_count": null,
   "id": "259f6c8f-6280-4e5a-85c8-e5ad0d00d1b0",
   "metadata": {},
   "outputs": [],
   "source": [
    "car_columns = car_sales.columns\n",
    "car_columns"
   ]
  },
  {
   "cell_type": "code",
   "execution_count": null,
   "id": "8a765173-eb9f-43cc-864a-b1e9934ec506",
   "metadata": {},
   "outputs": [],
   "source": [
    "car_sales.index"
   ]
  },
  {
   "cell_type": "code",
   "execution_count": null,
   "id": "8e974672-5326-474e-a4a5-5f9547c23c81",
   "metadata": {},
   "outputs": [],
   "source": [
    "car_sales.describe()"
   ]
  },
  {
   "cell_type": "code",
   "execution_count": null,
   "id": "184aa71e-4602-4d03-976b-b79c5ed7c900",
   "metadata": {},
   "outputs": [],
   "source": [
    "car_sales.info()"
   ]
  },
  {
   "cell_type": "code",
   "execution_count": null,
   "id": "ca85ab4e-1d6d-4e9c-93eb-990ffce39c88",
   "metadata": {},
   "outputs": [],
   "source": [
    "car_sales.mean()"
   ]
  },
  {
   "cell_type": "code",
   "execution_count": null,
   "id": "89e6a859-8383-4ffb-86fc-3a0bf302cb59",
   "metadata": {},
   "outputs": [],
   "source": [
    "car_prices = pd.Series([3000, 5000, 8000])\n",
    "car_prices.mean()"
   ]
  },
  {
   "cell_type": "code",
   "execution_count": null,
   "id": "468fa4d0-b9aa-4eac-8c96-c455a7f50855",
   "metadata": {},
   "outputs": [],
   "source": [
    "car_sales.sum()"
   ]
  },
  {
   "cell_type": "code",
   "execution_count": null,
   "id": "25524692-cd1d-42f1-b634-fc0eedbab98d",
   "metadata": {},
   "outputs": [],
   "source": [
    "car_sales['Doors'].sum()"
   ]
  },
  {
   "cell_type": "code",
   "execution_count": null,
   "id": "d466b837-7b94-4efe-b79c-f5e52623c31b",
   "metadata": {},
   "outputs": [],
   "source": [
    "len(car_sales)"
   ]
  },
  {
   "cell_type": "code",
   "execution_count": null,
   "id": "79288177-447d-433d-860f-1b190860267f",
   "metadata": {},
   "outputs": [],
   "source": [
    "car_sales.head()"
   ]
  },
  {
   "cell_type": "code",
   "execution_count": null,
   "id": "1368a835-b181-4a6f-8b0c-70fd39bec540",
   "metadata": {},
   "outputs": [],
   "source": [
    "car_sales.head(5)"
   ]
  },
  {
   "cell_type": "code",
   "execution_count": null,
   "id": "4576e1f2-db3e-4f93-bd26-9b361e4aacc4",
   "metadata": {},
   "outputs": [],
   "source": [
    "car_sales.tail()"
   ]
  },
  {
   "cell_type": "code",
   "execution_count": null,
   "id": "7b41827b-11c2-45bc-9148-221e0b75b270",
   "metadata": {},
   "outputs": [],
   "source": [
    "car_sales.tail(3)"
   ]
  },
  {
   "cell_type": "code",
   "execution_count": null,
   "id": "18cf34dc-bfb0-4c55-a67e-54029d0722a3",
   "metadata": {},
   "outputs": [],
   "source": [
    "# loc & iloc\n",
    "animals = pd.Series([\"cat\", \"dog\", \"tiger\", \"panda\", \"dragon\"],\n",
    "                   index=[3, 6, 8, 9, 3])\n",
    "animals"
   ]
  },
  {
   "cell_type": "code",
   "execution_count": null,
   "id": "070657c4-985b-42f3-8aa5-f9a1c03cdab0",
   "metadata": {},
   "outputs": [],
   "source": [
    "animals.loc[3]"
   ]
  },
  {
   "cell_type": "code",
   "execution_count": null,
   "id": "45a4a449-252b-4d10-82c1-5a5e8ee8afd4",
   "metadata": {},
   "outputs": [],
   "source": [
    "# iloc refer to position\n",
    "animals.iloc[3]"
   ]
  },
  {
   "cell_type": "code",
   "execution_count": null,
   "id": "d8d7a7c6-caa0-479a-a048-915bc08e0ef3",
   "metadata": {},
   "outputs": [],
   "source": [
    "animals.iloc[:3]"
   ]
  },
  {
   "cell_type": "code",
   "execution_count": null,
   "id": "12a52901-ec69-4874-920f-435cb05abfd1",
   "metadata": {},
   "outputs": [],
   "source": [
    "car_sales[\"Odometer (KM)\"]"
   ]
  },
  {
   "cell_type": "code",
   "execution_count": null,
   "id": "a8b81bdf-96f1-4e35-8c67-7d35021870a5",
   "metadata": {},
   "outputs": [],
   "source": [
    "# car_sales.Odometer (KM) # don't work"
   ]
  },
  {
   "cell_type": "code",
   "execution_count": null,
   "id": "db87b6b5-1328-43be-978d-84738d07ace3",
   "metadata": {},
   "outputs": [],
   "source": [
    "car_sales[car_sales[\"Make\"] == \"Toyota\"]"
   ]
  },
  {
   "cell_type": "code",
   "execution_count": null,
   "id": "683a8a86-9af0-4132-a34e-cd6c1cf1814d",
   "metadata": {},
   "outputs": [],
   "source": [
    "car_sales[car_sales[\"Odometer (KM)\"] > 100000]"
   ]
  },
  {
   "cell_type": "code",
   "execution_count": null,
   "id": "9468bab7-4d51-451f-b725-a312a62445d4",
   "metadata": {},
   "outputs": [],
   "source": [
    "pd.crosstab(car_sales[\"Make\"], car_sales[\"Doors\"])"
   ]
  },
  {
   "cell_type": "code",
   "execution_count": null,
   "id": "99870069-31f1-43a5-b737-4547073b1db4",
   "metadata": {},
   "outputs": [],
   "source": [
    "car_sales.groupby(\"Make\").mean()"
   ]
  },
  {
   "cell_type": "code",
   "execution_count": null,
   "id": "c47a013b-b188-4c5d-89f1-352af0a1a135",
   "metadata": {},
   "outputs": [],
   "source": [
    "# %matplotlib inline\n",
    "# import matplotlib.pyplot as plt"
   ]
  },
  {
   "cell_type": "code",
   "execution_count": null,
   "id": "002052f6-f773-473b-b358-fc3fbf67180b",
   "metadata": {},
   "outputs": [],
   "source": [
    "car_sales[\"Odometer (KM)\"].plot()"
   ]
  },
  {
   "cell_type": "code",
   "execution_count": null,
   "id": "9543ba15-a29d-411c-9970-e749f19a9a50",
   "metadata": {},
   "outputs": [],
   "source": [
    "car_sales[\"Odometer (KM)\"].hist()"
   ]
  },
  {
   "cell_type": "code",
   "execution_count": null,
   "id": "4b155f30-fb0e-4905-b36f-fcd33b44a81d",
   "metadata": {},
   "outputs": [],
   "source": [
    "car_sales[\"Price\"] = car_sales[\"Price\"].str.replace('[\\$\\,]|\\.\\d*', '').astype(int)"
   ]
  },
  {
   "cell_type": "code",
   "execution_count": null,
   "id": "82c8c866-185e-482e-b1e3-c43ecb72c0c3",
   "metadata": {},
   "outputs": [],
   "source": [
    "car_sales[\"Price\"]"
   ]
  },
  {
   "cell_type": "code",
   "execution_count": null,
   "id": "8e9043db-c45d-4f41-b079-3d1cc87c9337",
   "metadata": {},
   "outputs": [],
   "source": [
    "car_sales[\"Price\"].plot()"
   ]
  },
  {
   "cell_type": "code",
   "execution_count": null,
   "id": "d6e767c4-cb0a-42ce-b762-03553465f4e2",
   "metadata": {},
   "outputs": [],
   "source": [
    "car_sales[\"Make\"] = car_sales[\"Make\"].str.lower()\n",
    "car_sales"
   ]
  },
  {
   "cell_type": "code",
   "execution_count": null,
   "id": "89882e60",
   "metadata": {},
   "outputs": [],
   "source": [
    "car_sales_missing = pd.read_csv(\"324 car-sales-missing-data.csv\")\n",
    "car_sales_missing"
   ]
  },
  {
   "cell_type": "code",
   "execution_count": null,
   "id": "47404547-51c2-497b-942b-05afef27474b",
   "metadata": {},
   "outputs": [],
   "source": [
    "car_sales_missing[\"Odometer\"].mean()"
   ]
  },
  {
   "cell_type": "code",
   "execution_count": null,
   "id": "50969267-de0c-41e9-bd88-f11d342b6411",
   "metadata": {},
   "outputs": [],
   "source": [
    "car_sales_missing[\"Odometer\"].fillna(car_sales_missing[\"Odometer\"].mean(),\n",
    "                                    inplace=True)"
   ]
  },
  {
   "cell_type": "code",
   "execution_count": null,
   "id": "b7579a38-3350-4ab1-9901-4d49027742d7",
   "metadata": {},
   "outputs": [],
   "source": [
    "car_sales_missing"
   ]
  },
  {
   "cell_type": "code",
   "execution_count": null,
   "id": "3ecd6e61-3ded-43f7-a421-cbf69045066a",
   "metadata": {},
   "outputs": [],
   "source": [
    "# car_sales_missing.dropna(inplace=True)\n",
    "car_sales_missing_dropped = car_sales_missing.dropna()\n",
    "car_sales_missing_dropped"
   ]
  },
  {
   "cell_type": "code",
   "execution_count": null,
   "id": "7d843d45-372a-4dcc-aac2-557995391a48",
   "metadata": {},
   "outputs": [],
   "source": [
    "seats_column = pd.Series([5,5,5,5,5])\n",
    "car_sales['Seats'] = seats_column\n",
    "car_sales"
   ]
  },
  {
   "cell_type": "code",
   "execution_count": null,
   "id": "6487de4e-e130-4c79-8b4d-2511975390f9",
   "metadata": {},
   "outputs": [],
   "source": [
    "car_sales['Seats'].fillna(5, inplace=True)\n",
    "car_sales"
   ]
  },
  {
   "cell_type": "code",
   "execution_count": null,
   "id": "24ce6473-8f8e-4696-b7e1-cd2c66f00b01",
   "metadata": {},
   "outputs": [],
   "source": [
    "fuel_economy = [8.7,6.5,8.9,5.2,6.2,9.8,8.8,7.6,5.2,6.9]\n",
    "car_sales['Fuel per 100KM']=fuel_economy\n",
    "car_sales"
   ]
  },
  {
   "cell_type": "code",
   "execution_count": null,
   "id": "909f4c95-f55b-420d-9b3d-02fbe3990029",
   "metadata": {},
   "outputs": [],
   "source": [
    "car_sales['Total fuel used (L)'] = car_sales['Odometer (KM)']/100 * car_sales['Fuel per 100KM']\n",
    "car_sales"
   ]
  },
  {
   "cell_type": "code",
   "execution_count": null,
   "id": "1b5f754f-f5c0-4620-b9cf-0022d6540437",
   "metadata": {},
   "outputs": [],
   "source": [
    "car_sales['Number of Wheels'] = 4\n",
    "car_sales"
   ]
  },
  {
   "cell_type": "code",
   "execution_count": null,
   "id": "01b2b94d-df3f-4ca5-9e7d-c4fbdacab351",
   "metadata": {},
   "outputs": [],
   "source": [
    "car_sales['Passed road safety'] = True\n",
    "car_sales.dtypes"
   ]
  },
  {
   "cell_type": "code",
   "execution_count": null,
   "id": "27eb8790-2c05-4c62-9360-33a0f081588f",
   "metadata": {},
   "outputs": [],
   "source": [
    "car_sales"
   ]
  },
  {
   "cell_type": "code",
   "execution_count": null,
   "id": "86cccf72-b4e0-4276-943a-f7cc93e26f74",
   "metadata": {},
   "outputs": [],
   "source": [
    "car_sales['tmp'] = 'tmp'\n",
    "car_sales"
   ]
  },
  {
   "cell_type": "code",
   "execution_count": null,
   "id": "5db904c1-88c4-4ab6-bc14-4e4eafb74b9f",
   "metadata": {},
   "outputs": [],
   "source": [
    "car_sales = car_sales.drop('tmp', axis=1)\n",
    "car_sales"
   ]
  },
  {
   "cell_type": "code",
   "execution_count": null,
   "id": "d2a23fdd-258f-4f84-856b-e0df92bfbb3b",
   "metadata": {},
   "outputs": [],
   "source": [
    "car_sales_shuffled = car_sales.sample(frac=1)\n",
    "car_sales_shuffled"
   ]
  },
  {
   "cell_type": "code",
   "execution_count": null,
   "id": "b8de85a5-3937-4f97-981e-1648cfc86bad",
   "metadata": {},
   "outputs": [],
   "source": [
    "car_sales_shuffled.reset_index(drop=True, inplace=True)\n",
    "car_sales_shuffled"
   ]
  },
  {
   "cell_type": "code",
   "execution_count": null,
   "id": "a2909bf1-ef64-4eab-b814-29d593e6d690",
   "metadata": {},
   "outputs": [],
   "source": [
    "car_sales['Odometer (KM)'] = car_sales['Odometer (KM)'].apply(lambda x: x/1.6)\n",
    "car_sales"
   ]
  },
  {
   "cell_type": "code",
   "execution_count": null,
   "id": "4f0c7d6a-df43-492a-b92f-d629c04293c7",
   "metadata": {},
   "outputs": [],
   "source": []
  }
 ],
 "metadata": {
  "kernelspec": {
   "display_name": "conda_python3",
   "language": "python",
   "name": "conda_python3"
  },
  "language_info": {
   "codemirror_mode": {
    "name": "ipython",
    "version": 3
   },
   "file_extension": ".py",
   "mimetype": "text/x-python",
   "name": "python",
   "nbconvert_exporter": "python",
   "pygments_lexer": "ipython3",
   "version": "3.8.12"
  },
  "vscode": {
   "interpreter": {
    "hash": "591ade058296000ef487104c42d37478df75296e039f312fe940d4accf2fd7b8"
   }
  }
 },
 "nbformat": 4,
 "nbformat_minor": 5
}
