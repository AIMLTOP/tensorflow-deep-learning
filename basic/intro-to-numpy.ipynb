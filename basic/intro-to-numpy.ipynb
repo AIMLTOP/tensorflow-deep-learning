{
 "cells": [
  {
   "cell_type": "markdown",
   "id": "ac6197b1-6a27-4580-8488-6ffd59829de9",
   "metadata": {},
   "source": [
    "\n",
    "Ref:\n",
    "- https://numpy.org/doc/stable/user/basics.broadcasting.html"
   ]
  },
  {
   "cell_type": "code",
   "execution_count": null,
   "id": "b533b642-e26f-49f4-9d79-cc262c9be4e0",
   "metadata": {
    "execution": {
     "iopub.execute_input": "2022-11-21T05:27:30.374480Z",
     "iopub.status.busy": "2022-11-21T05:27:30.374190Z",
     "iopub.status.idle": "2022-11-21T05:27:30.492103Z",
     "shell.execute_reply": "2022-11-21T05:27:30.491389Z",
     "shell.execute_reply.started": "2022-11-21T05:27:30.374459Z"
    },
    "tags": []
   },
   "outputs": [],
   "source": [
    "import numpy as np"
   ]
  },
  {
   "cell_type": "markdown",
   "id": "0e4cbd43-2e46-479c-9829-5bd1ae98aa54",
   "metadata": {
    "tags": []
   },
   "source": [
    "# Data Types & Attributes"
   ]
  },
  {
   "cell_type": "code",
   "execution_count": null,
   "id": "13946e90-37bf-4b57-a78d-b8973e719686",
   "metadata": {
    "execution": {
     "iopub.execute_input": "2022-11-21T05:27:30.494263Z",
     "iopub.status.busy": "2022-11-21T05:27:30.493862Z",
     "iopub.status.idle": "2022-11-21T05:27:30.499373Z",
     "shell.execute_reply": "2022-11-21T05:27:30.498794Z",
     "shell.execute_reply.started": "2022-11-21T05:27:30.494227Z"
    },
    "tags": []
   },
   "outputs": [],
   "source": [
    "a1 = np.array([1, 2, 3])\n",
    "a1"
   ]
  },
  {
   "cell_type": "code",
   "execution_count": null,
   "id": "e8c8df09-a438-4a62-939f-c510576b95d8",
   "metadata": {
    "execution": {
     "iopub.execute_input": "2022-11-21T05:27:30.500876Z",
     "iopub.status.busy": "2022-11-21T05:27:30.500519Z",
     "iopub.status.idle": "2022-11-21T05:27:30.506002Z",
     "shell.execute_reply": "2022-11-21T05:27:30.505203Z",
     "shell.execute_reply.started": "2022-11-21T05:27:30.500844Z"
    }
   },
   "outputs": [],
   "source": [
    "type(a1)"
   ]
  },
  {
   "cell_type": "code",
   "execution_count": null,
   "id": "88906df7-f73d-40fb-bce1-26cd2c7aedf3",
   "metadata": {
    "execution": {
     "iopub.execute_input": "2022-11-21T05:27:30.507074Z",
     "iopub.status.busy": "2022-11-21T05:27:30.506886Z",
     "iopub.status.idle": "2022-11-21T05:27:30.512123Z",
     "shell.execute_reply": "2022-11-21T05:27:30.511600Z",
     "shell.execute_reply.started": "2022-11-21T05:27:30.507057Z"
    }
   },
   "outputs": [],
   "source": [
    "a2 = np.array([[1, 2.0, 3.2],\n",
    "             [2, 2.6, 9.9]]\n",
    "             )\n",
    "a2"
   ]
  },
  {
   "cell_type": "code",
   "execution_count": null,
   "id": "d4eafd1d-77b4-4709-9ed0-3ffb1cd8cc6d",
   "metadata": {
    "execution": {
     "iopub.execute_input": "2022-11-21T05:27:30.514066Z",
     "iopub.status.busy": "2022-11-21T05:27:30.513813Z",
     "iopub.status.idle": "2022-11-21T05:27:30.519125Z",
     "shell.execute_reply": "2022-11-21T05:27:30.518693Z",
     "shell.execute_reply.started": "2022-11-21T05:27:30.514039Z"
    }
   },
   "outputs": [],
   "source": [
    "a3 = np.array([[[1, 2, 3],\n",
    "               [4,5,6],\n",
    "               [7,8,9]],\n",
    "              \n",
    "              [[11,12,13],\n",
    "               [14,15,16],\n",
    "               [17,18,19]]\n",
    "              ])\n",
    "a3"
   ]
  },
  {
   "cell_type": "code",
   "execution_count": null,
   "id": "681c4b46-8e85-4d2d-aa42-3c8d815024a8",
   "metadata": {
    "execution": {
     "iopub.execute_input": "2022-11-21T05:27:30.519928Z",
     "iopub.status.busy": "2022-11-21T05:27:30.519749Z",
     "iopub.status.idle": "2022-11-21T05:27:30.524880Z",
     "shell.execute_reply": "2022-11-21T05:27:30.524444Z",
     "shell.execute_reply.started": "2022-11-21T05:27:30.519910Z"
    }
   },
   "outputs": [],
   "source": [
    "print(a1.shape)\n",
    "print(a2.shape)\n",
    "print(a3.shape)"
   ]
  },
  {
   "cell_type": "code",
   "execution_count": null,
   "id": "120a7b4d-6903-48d9-8c52-8771d7799e88",
   "metadata": {
    "execution": {
     "iopub.execute_input": "2022-11-21T05:27:30.525582Z",
     "iopub.status.busy": "2022-11-21T05:27:30.525450Z",
     "iopub.status.idle": "2022-11-21T05:27:30.529605Z",
     "shell.execute_reply": "2022-11-21T05:27:30.529234Z",
     "shell.execute_reply.started": "2022-11-21T05:27:30.525566Z"
    }
   },
   "outputs": [],
   "source": [
    "a1.ndim, a2.ndim, a3.ndim"
   ]
  },
  {
   "cell_type": "code",
   "execution_count": null,
   "id": "6d62fc69-ed22-4daa-830f-fb3fd44b9418",
   "metadata": {
    "execution": {
     "iopub.execute_input": "2022-11-21T05:27:30.530367Z",
     "iopub.status.busy": "2022-11-21T05:27:30.530191Z",
     "iopub.status.idle": "2022-11-21T05:27:30.533781Z",
     "shell.execute_reply": "2022-11-21T05:27:30.533410Z",
     "shell.execute_reply.started": "2022-11-21T05:27:30.530350Z"
    }
   },
   "outputs": [],
   "source": [
    "a1.dtype, a2.dtype, a3.dtype"
   ]
  },
  {
   "cell_type": "code",
   "execution_count": null,
   "id": "7b2f5f59-5aa9-4c2b-af92-cb258b78ef0e",
   "metadata": {
    "execution": {
     "iopub.execute_input": "2022-11-21T05:27:30.534548Z",
     "iopub.status.busy": "2022-11-21T05:27:30.534375Z",
     "iopub.status.idle": "2022-11-21T05:27:30.538139Z",
     "shell.execute_reply": "2022-11-21T05:27:30.537769Z",
     "shell.execute_reply.started": "2022-11-21T05:27:30.534531Z"
    }
   },
   "outputs": [],
   "source": [
    "a1.size, a2.size, a3.size"
   ]
  },
  {
   "cell_type": "code",
   "execution_count": null,
   "id": "3e62e66d-e069-43e5-9228-808a95ce1deb",
   "metadata": {
    "execution": {
     "iopub.execute_input": "2022-11-21T05:27:30.538886Z",
     "iopub.status.busy": "2022-11-21T05:27:30.538703Z",
     "iopub.status.idle": "2022-11-21T05:27:30.543170Z",
     "shell.execute_reply": "2022-11-21T05:27:30.542783Z",
     "shell.execute_reply.started": "2022-11-21T05:27:30.538861Z"
    }
   },
   "outputs": [],
   "source": [
    "type(a1), type(a2), type(a3)"
   ]
  },
  {
   "cell_type": "code",
   "execution_count": null,
   "id": "c93683e0-157a-40b2-a1cf-ae3b7a3628d3",
   "metadata": {
    "execution": {
     "iopub.execute_input": "2022-11-21T05:27:30.543922Z",
     "iopub.status.busy": "2022-11-21T05:27:30.543747Z",
     "iopub.status.idle": "2022-11-21T05:27:30.776733Z",
     "shell.execute_reply": "2022-11-21T05:27:30.776255Z",
     "shell.execute_reply.started": "2022-11-21T05:27:30.543905Z"
    }
   },
   "outputs": [],
   "source": [
    "import pandas as pd"
   ]
  },
  {
   "cell_type": "code",
   "execution_count": null,
   "id": "652a9219-b411-4ee6-9303-fe99745a7074",
   "metadata": {
    "execution": {
     "iopub.execute_input": "2022-11-21T05:27:30.777688Z",
     "iopub.status.busy": "2022-11-21T05:27:30.777477Z",
     "iopub.status.idle": "2022-11-21T05:27:30.785525Z",
     "shell.execute_reply": "2022-11-21T05:27:30.785124Z",
     "shell.execute_reply.started": "2022-11-21T05:27:30.777666Z"
    }
   },
   "outputs": [],
   "source": [
    "df1 = pd.DataFrame(a2)\n",
    "df1"
   ]
  },
  {
   "cell_type": "code",
   "execution_count": null,
   "id": "03f1e443-778f-447d-9113-da602eb720a6",
   "metadata": {
    "execution": {
     "iopub.execute_input": "2022-11-21T05:27:30.786400Z",
     "iopub.status.busy": "2022-11-21T05:27:30.786208Z",
     "iopub.status.idle": "2022-11-21T05:27:30.788877Z",
     "shell.execute_reply": "2022-11-21T05:27:30.788488Z",
     "shell.execute_reply.started": "2022-11-21T05:27:30.786381Z"
    },
    "scrolled": true,
    "tags": []
   },
   "outputs": [],
   "source": [
    "# import pandas as pd\n",
    "# # long_data = pd.read_csv('https://raw.githubusercontent.com/ma-ji/RICF/v2015.1.0/2015/2015_financial_activities.tsv', sep='\\t', header=1)\n",
    "# long_data = pd.read_csv('long_test.csv', sep='\\t')\n",
    "# long_data.tail(10)"
   ]
  },
  {
   "cell_type": "code",
   "execution_count": null,
   "id": "a8966c5b-0ea4-4191-90b0-f6e08333d7ff",
   "metadata": {
    "execution": {
     "iopub.execute_input": "2022-11-21T05:27:30.791063Z",
     "iopub.status.busy": "2022-11-21T05:27:30.790866Z",
     "iopub.status.idle": "2022-11-21T05:27:30.793701Z",
     "shell.execute_reply": "2022-11-21T05:27:30.793177Z",
     "shell.execute_reply.started": "2022-11-21T05:27:30.791044Z"
    },
    "scrolled": true,
    "tags": []
   },
   "outputs": [],
   "source": [
    "# {\n",
    "#     \"tags\": [\n",
    "#         \"output_scroll\",\n",
    "#     ]\n",
    "# }\n",
    "\n",
    "# pd.set_option('display.max_rows',None)\n",
    "# pd.set_option('display.max_columns',None)\n",
    "# pd.set_option('display.width',5000)\n",
    "# pd.set_option('display.max_colwidth', None)\n",
    "\n",
    "# long_data = pd.read_csv('test.csv')\n",
    "# long_data"
   ]
  },
  {
   "cell_type": "markdown",
   "id": "5aef88bd-4ab9-43e3-ba27-685e0a9b5b97",
   "metadata": {},
   "source": [
    "# Arrays"
   ]
  },
  {
   "cell_type": "code",
   "execution_count": null,
   "id": "ded611ae-f4c7-4db7-8af0-6f2abd94cc7f",
   "metadata": {
    "execution": {
     "iopub.execute_input": "2022-11-21T05:27:30.794568Z",
     "iopub.status.busy": "2022-11-21T05:27:30.794388Z",
     "iopub.status.idle": "2022-11-21T05:27:30.799480Z",
     "shell.execute_reply": "2022-11-21T05:27:30.798960Z",
     "shell.execute_reply.started": "2022-11-21T05:27:30.794550Z"
    },
    "tags": []
   },
   "outputs": [],
   "source": [
    "sample_array = np.array([1,2,3])\n",
    "sample_array"
   ]
  },
  {
   "cell_type": "code",
   "execution_count": null,
   "id": "09f1bc45-a9f1-418f-8eba-60ea05cf1d42",
   "metadata": {
    "execution": {
     "iopub.execute_input": "2022-11-21T05:27:30.800329Z",
     "iopub.status.busy": "2022-11-21T05:27:30.800129Z",
     "iopub.status.idle": "2022-11-21T05:27:30.805155Z",
     "shell.execute_reply": "2022-11-21T05:27:30.804648Z",
     "shell.execute_reply.started": "2022-11-21T05:27:30.800311Z"
    },
    "tags": []
   },
   "outputs": [],
   "source": [
    "sample_array.dtype"
   ]
  },
  {
   "cell_type": "code",
   "execution_count": null,
   "id": "1c964449-adb0-4401-996b-209ee9a28af1",
   "metadata": {
    "execution": {
     "iopub.execute_input": "2022-11-21T05:27:30.805908Z",
     "iopub.status.busy": "2022-11-21T05:27:30.805778Z",
     "iopub.status.idle": "2022-11-21T05:27:30.810354Z",
     "shell.execute_reply": "2022-11-21T05:27:30.809845Z",
     "shell.execute_reply.started": "2022-11-21T05:27:30.805893Z"
    },
    "tags": []
   },
   "outputs": [],
   "source": [
    "# shfit+tab 查看提示\n",
    "ones = np.ones((2, 3))\n",
    "ones"
   ]
  },
  {
   "cell_type": "code",
   "execution_count": null,
   "id": "ac0c175f-29d1-4382-8d81-947d08ccbe05",
   "metadata": {
    "execution": {
     "iopub.execute_input": "2022-11-21T05:27:30.811206Z",
     "iopub.status.busy": "2022-11-21T05:27:30.811028Z",
     "iopub.status.idle": "2022-11-21T05:27:30.815512Z",
     "shell.execute_reply": "2022-11-21T05:27:30.815010Z",
     "shell.execute_reply.started": "2022-11-21T05:27:30.811188Z"
    },
    "tags": []
   },
   "outputs": [],
   "source": [
    "ones.dtype"
   ]
  },
  {
   "cell_type": "code",
   "execution_count": null,
   "id": "3ff25871-a6eb-4e7d-adca-5e7c49f3b12d",
   "metadata": {
    "execution": {
     "iopub.execute_input": "2022-11-21T05:27:30.816348Z",
     "iopub.status.busy": "2022-11-21T05:27:30.816152Z",
     "iopub.status.idle": "2022-11-21T05:27:30.821363Z",
     "shell.execute_reply": "2022-11-21T05:27:30.820845Z",
     "shell.execute_reply.started": "2022-11-21T05:27:30.816330Z"
    },
    "tags": []
   },
   "outputs": [],
   "source": [
    "type(ones)"
   ]
  },
  {
   "cell_type": "code",
   "execution_count": null,
   "id": "2da3e857-e499-467e-98d0-99292dee77c5",
   "metadata": {
    "execution": {
     "iopub.execute_input": "2022-11-21T05:27:30.822192Z",
     "iopub.status.busy": "2022-11-21T05:27:30.822017Z",
     "iopub.status.idle": "2022-11-21T05:27:30.826124Z",
     "shell.execute_reply": "2022-11-21T05:27:30.825621Z",
     "shell.execute_reply.started": "2022-11-21T05:27:30.822174Z"
    },
    "tags": []
   },
   "outputs": [],
   "source": [
    "zeros = np.zeros((2, 3))\n",
    "zeros"
   ]
  },
  {
   "cell_type": "code",
   "execution_count": null,
   "id": "6a9f3886-d8c5-4868-9873-3a0fe1de540d",
   "metadata": {
    "execution": {
     "iopub.execute_input": "2022-11-21T05:27:30.826953Z",
     "iopub.status.busy": "2022-11-21T05:27:30.826764Z",
     "iopub.status.idle": "2022-11-21T05:27:30.831036Z",
     "shell.execute_reply": "2022-11-21T05:27:30.830510Z",
     "shell.execute_reply.started": "2022-11-21T05:27:30.826935Z"
    },
    "tags": []
   },
   "outputs": [],
   "source": [
    "range_array = np.arange(0, 10, 2)\n",
    "range_array"
   ]
  },
  {
   "cell_type": "code",
   "execution_count": null,
   "id": "b9d6f819-4d7b-4e09-ae37-ea9076ce85f0",
   "metadata": {
    "execution": {
     "iopub.execute_input": "2022-11-21T05:27:30.831925Z",
     "iopub.status.busy": "2022-11-21T05:27:30.831748Z",
     "iopub.status.idle": "2022-11-21T05:27:30.836213Z",
     "shell.execute_reply": "2022-11-21T05:27:30.835674Z",
     "shell.execute_reply.started": "2022-11-21T05:27:30.831908Z"
    },
    "tags": []
   },
   "outputs": [],
   "source": [
    "random_array = np.random.randint(0, 10, size=(3, 5))\n",
    "random_array"
   ]
  },
  {
   "cell_type": "code",
   "execution_count": null,
   "id": "ad319d79-c727-48d9-a63b-039f3ea5cc40",
   "metadata": {
    "execution": {
     "iopub.execute_input": "2022-11-21T05:27:30.837048Z",
     "iopub.status.busy": "2022-11-21T05:27:30.836885Z",
     "iopub.status.idle": "2022-11-21T05:27:30.842872Z",
     "shell.execute_reply": "2022-11-21T05:27:30.842364Z",
     "shell.execute_reply.started": "2022-11-21T05:27:30.837032Z"
    },
    "tags": []
   },
   "outputs": [],
   "source": [
    "random_array.size, random_array.shape"
   ]
  },
  {
   "cell_type": "code",
   "execution_count": null,
   "id": "32be011a-b21b-4c19-9514-b4117bdc5d99",
   "metadata": {
    "execution": {
     "iopub.execute_input": "2022-11-21T05:27:30.843684Z",
     "iopub.status.busy": "2022-11-21T05:27:30.843514Z",
     "iopub.status.idle": "2022-11-21T05:27:30.849866Z",
     "shell.execute_reply": "2022-11-21T05:27:30.849370Z",
     "shell.execute_reply.started": "2022-11-21T05:27:30.843667Z"
    },
    "tags": []
   },
   "outputs": [],
   "source": [
    "random_array_2 = np.random.random((5, 3))\n",
    "random_array_2"
   ]
  },
  {
   "cell_type": "code",
   "execution_count": null,
   "id": "3672330b-dfb3-4e52-b5fb-1b08dab48cf6",
   "metadata": {
    "execution": {
     "iopub.execute_input": "2022-11-21T05:27:30.850615Z",
     "iopub.status.busy": "2022-11-21T05:27:30.850485Z",
     "iopub.status.idle": "2022-11-21T05:27:30.855549Z",
     "shell.execute_reply": "2022-11-21T05:27:30.855061Z",
     "shell.execute_reply.started": "2022-11-21T05:27:30.850599Z"
    },
    "tags": []
   },
   "outputs": [],
   "source": [
    "random_array_3 = np.random.rand(5, 3)\n",
    "random_array_3"
   ]
  },
  {
   "cell_type": "code",
   "execution_count": null,
   "id": "ce3d54a6-d255-4d9f-8a8b-aa1fd229cea4",
   "metadata": {
    "execution": {
     "iopub.execute_input": "2022-11-21T05:27:30.856443Z",
     "iopub.status.busy": "2022-11-21T05:27:30.856258Z",
     "iopub.status.idle": "2022-11-21T05:27:30.862839Z",
     "shell.execute_reply": "2022-11-21T05:27:30.862335Z",
     "shell.execute_reply.started": "2022-11-21T05:27:30.856425Z"
    },
    "tags": []
   },
   "outputs": [],
   "source": [
    "np.random.seed(seed=17)\n",
    "random_array_4 = np.random.randint(10, size=(5, 3))\n",
    "random_array_4"
   ]
  },
  {
   "cell_type": "code",
   "execution_count": null,
   "id": "65a18bf1-537a-4577-afbb-6002daca401f",
   "metadata": {
    "execution": {
     "iopub.execute_input": "2022-11-21T05:27:30.863685Z",
     "iopub.status.busy": "2022-11-21T05:27:30.863519Z",
     "iopub.status.idle": "2022-11-21T05:27:30.868683Z",
     "shell.execute_reply": "2022-11-21T05:27:30.868184Z",
     "shell.execute_reply.started": "2022-11-21T05:27:30.863669Z"
    },
    "tags": []
   },
   "outputs": [],
   "source": [
    "np.random.seed(seed=17)\n",
    "random_array_5 = np.random.random((5, 3))\n",
    "random_array_5"
   ]
  },
  {
   "cell_type": "markdown",
   "id": "6c24f5c9-1367-48c1-ae05-b2103a772ba4",
   "metadata": {},
   "source": [
    "# Viewing arrays & matrices"
   ]
  },
  {
   "cell_type": "code",
   "execution_count": null,
   "id": "1a780fa8-b1a6-4b9e-b29b-e38f6be60aca",
   "metadata": {
    "execution": {
     "iopub.execute_input": "2022-11-21T05:27:30.869508Z",
     "iopub.status.busy": "2022-11-21T05:27:30.869337Z",
     "iopub.status.idle": "2022-11-21T05:27:30.873975Z",
     "shell.execute_reply": "2022-11-21T05:27:30.873457Z",
     "shell.execute_reply.started": "2022-11-21T05:27:30.869492Z"
    },
    "tags": []
   },
   "outputs": [],
   "source": [
    "np.unique(random_array_4)"
   ]
  },
  {
   "cell_type": "code",
   "execution_count": null,
   "id": "c573dc60-89cf-4578-8a66-23e8196aca03",
   "metadata": {
    "execution": {
     "iopub.execute_input": "2022-11-21T05:27:30.874804Z",
     "iopub.status.busy": "2022-11-21T05:27:30.874631Z",
     "iopub.status.idle": "2022-11-21T05:27:30.878549Z",
     "shell.execute_reply": "2022-11-21T05:27:30.878018Z",
     "shell.execute_reply.started": "2022-11-21T05:27:30.874787Z"
    },
    "tags": []
   },
   "outputs": [],
   "source": [
    "a3"
   ]
  },
  {
   "cell_type": "code",
   "execution_count": null,
   "id": "942d3590-f948-48d6-b80c-0736ecffc440",
   "metadata": {
    "execution": {
     "iopub.execute_input": "2022-11-21T05:27:30.879369Z",
     "iopub.status.busy": "2022-11-21T05:27:30.879204Z",
     "iopub.status.idle": "2022-11-21T05:27:30.885077Z",
     "shell.execute_reply": "2022-11-21T05:27:30.884563Z",
     "shell.execute_reply.started": "2022-11-21T05:27:30.879353Z"
    },
    "tags": []
   },
   "outputs": [],
   "source": [
    "a3[:2, :2, :2]"
   ]
  },
  {
   "cell_type": "code",
   "execution_count": null,
   "id": "46788597-94b4-46b2-896f-c6b54864308b",
   "metadata": {
    "execution": {
     "iopub.execute_input": "2022-11-21T05:27:30.885896Z",
     "iopub.status.busy": "2022-11-21T05:27:30.885732Z",
     "iopub.status.idle": "2022-11-21T05:27:30.891887Z",
     "shell.execute_reply": "2022-11-21T05:27:30.891371Z",
     "shell.execute_reply.started": "2022-11-21T05:27:30.885880Z"
    },
    "tags": []
   },
   "outputs": [],
   "source": [
    "a4 = np.random.randint(10, size=(2, 3, 4, 5))\n",
    "a4"
   ]
  },
  {
   "cell_type": "code",
   "execution_count": null,
   "id": "b49aa029-ff5d-4a64-b75a-514892e28d9b",
   "metadata": {
    "execution": {
     "iopub.execute_input": "2022-11-21T05:27:30.892712Z",
     "iopub.status.busy": "2022-11-21T05:27:30.892548Z",
     "iopub.status.idle": "2022-11-21T05:27:30.898242Z",
     "shell.execute_reply": "2022-11-21T05:27:30.897738Z",
     "shell.execute_reply.started": "2022-11-21T05:27:30.892696Z"
    },
    "tags": []
   },
   "outputs": [],
   "source": [
    "a4.shape, a4.ndim"
   ]
  },
  {
   "cell_type": "code",
   "execution_count": null,
   "id": "002694a1-6767-493c-b92b-42b7e48f876d",
   "metadata": {
    "execution": {
     "iopub.execute_input": "2022-11-21T05:27:30.899058Z",
     "iopub.status.busy": "2022-11-21T05:27:30.898895Z",
     "iopub.status.idle": "2022-11-21T05:27:30.905457Z",
     "shell.execute_reply": "2022-11-21T05:27:30.904959Z",
     "shell.execute_reply.started": "2022-11-21T05:27:30.899041Z"
    },
    "tags": []
   },
   "outputs": [],
   "source": [
    "# Get the first 4 numbers \n",
    "a4[:, :, :, :4]"
   ]
  },
  {
   "cell_type": "code",
   "execution_count": null,
   "id": "fe539c56-d978-4322-acbc-4d7876403415",
   "metadata": {
    "execution": {
     "iopub.execute_input": "2022-11-21T05:27:30.906243Z",
     "iopub.status.busy": "2022-11-21T05:27:30.906081Z",
     "iopub.status.idle": "2022-11-21T05:27:30.910224Z",
     "shell.execute_reply": "2022-11-21T05:27:30.909716Z",
     "shell.execute_reply.started": "2022-11-21T05:27:30.906227Z"
    },
    "tags": []
   },
   "outputs": [],
   "source": [
    "round(np.random.uniform(10.0, 99.9), 2)"
   ]
  },
  {
   "cell_type": "code",
   "execution_count": null,
   "id": "6bba9110-4478-44aa-afc2-195d879ec964",
   "metadata": {
    "execution": {
     "iopub.execute_input": "2022-11-21T05:27:30.911040Z",
     "iopub.status.busy": "2022-11-21T05:27:30.910870Z",
     "iopub.status.idle": "2022-11-21T05:27:30.914711Z",
     "shell.execute_reply": "2022-11-21T05:27:30.914191Z",
     "shell.execute_reply.started": "2022-11-21T05:27:30.911023Z"
    },
    "tags": []
   },
   "outputs": [],
   "source": [
    "import random\n",
    "# document = { \"color\": color[int(random.uniform(1,8))], \"my_vector\": [float(random.uniform(0.0, 1.0)) for _ in range(300)]} \n",
    "float(random.uniform(0.0, 1.0))\n"
   ]
  },
  {
   "cell_type": "code",
   "execution_count": null,
   "id": "87e9a06a-e89c-4560-8b44-afcab4241c0c",
   "metadata": {
    "execution": {
     "iopub.execute_input": "2022-11-21T05:27:30.915511Z",
     "iopub.status.busy": "2022-11-21T05:27:30.915345Z",
     "iopub.status.idle": "2022-11-21T05:27:30.919846Z",
     "shell.execute_reply": "2022-11-21T05:27:30.919340Z",
     "shell.execute_reply.started": "2022-11-21T05:27:30.915495Z"
    },
    "tags": []
   },
   "outputs": [],
   "source": [
    "np.random.uniform(0.0, 1.0)"
   ]
  },
  {
   "cell_type": "markdown",
   "id": "63e1e2a2-fd00-4866-895b-6a87538ae442",
   "metadata": {},
   "source": [
    "# Arithmetic"
   ]
  },
  {
   "cell_type": "code",
   "execution_count": null,
   "id": "7069dbc0-5367-4b0e-b58c-dbae67f93b10",
   "metadata": {
    "execution": {
     "iopub.execute_input": "2022-11-21T05:27:30.920671Z",
     "iopub.status.busy": "2022-11-21T05:27:30.920508Z",
     "iopub.status.idle": "2022-11-21T05:27:30.925364Z",
     "shell.execute_reply": "2022-11-21T05:27:30.924854Z",
     "shell.execute_reply.started": "2022-11-21T05:27:30.920654Z"
    },
    "tags": []
   },
   "outputs": [],
   "source": [
    "a1"
   ]
  },
  {
   "cell_type": "code",
   "execution_count": null,
   "id": "c05ddf48-cf7b-4607-a2b0-56c36703097b",
   "metadata": {
    "execution": {
     "iopub.execute_input": "2022-11-21T05:27:30.926163Z",
     "iopub.status.busy": "2022-11-21T05:27:30.925998Z",
     "iopub.status.idle": "2022-11-21T05:27:30.931127Z",
     "shell.execute_reply": "2022-11-21T05:27:30.930584Z",
     "shell.execute_reply.started": "2022-11-21T05:27:30.926147Z"
    },
    "tags": []
   },
   "outputs": [],
   "source": [
    "ones = np.ones(3)\n",
    "ones"
   ]
  },
  {
   "cell_type": "code",
   "execution_count": null,
   "id": "2c3d548a-4caa-4098-af8f-3f15c84ae9b5",
   "metadata": {
    "execution": {
     "iopub.execute_input": "2022-11-21T05:27:30.931942Z",
     "iopub.status.busy": "2022-11-21T05:27:30.931780Z",
     "iopub.status.idle": "2022-11-21T05:27:30.937530Z",
     "shell.execute_reply": "2022-11-21T05:27:30.937021Z",
     "shell.execute_reply.started": "2022-11-21T05:27:30.931925Z"
    },
    "tags": []
   },
   "outputs": [],
   "source": [
    "a1 + ones"
   ]
  },
  {
   "cell_type": "code",
   "execution_count": null,
   "id": "1a363aee-8d77-4935-98e2-4ec2b6fcc96f",
   "metadata": {
    "execution": {
     "iopub.execute_input": "2022-11-21T05:27:30.938362Z",
     "iopub.status.busy": "2022-11-21T05:27:30.938185Z",
     "iopub.status.idle": "2022-11-21T05:27:30.944396Z",
     "shell.execute_reply": "2022-11-21T05:27:30.943991Z",
     "shell.execute_reply.started": "2022-11-21T05:27:30.938345Z"
    },
    "tags": []
   },
   "outputs": [],
   "source": [
    "a1 - ones"
   ]
  },
  {
   "cell_type": "code",
   "execution_count": null,
   "id": "d2773e2a-9b95-42b2-a379-ebf391d2265c",
   "metadata": {
    "execution": {
     "iopub.execute_input": "2022-11-21T05:27:30.947679Z",
     "iopub.status.busy": "2022-11-21T05:27:30.947505Z",
     "iopub.status.idle": "2022-11-21T05:27:30.951222Z",
     "shell.execute_reply": "2022-11-21T05:27:30.950831Z",
     "shell.execute_reply.started": "2022-11-21T05:27:30.947662Z"
    },
    "tags": []
   },
   "outputs": [],
   "source": [
    "a1 * ones"
   ]
  },
  {
   "cell_type": "code",
   "execution_count": null,
   "id": "6c3ccfb4-b995-482a-92d9-5547eaa01efd",
   "metadata": {
    "execution": {
     "iopub.execute_input": "2022-11-21T05:27:30.952003Z",
     "iopub.status.busy": "2022-11-21T05:27:30.951836Z",
     "iopub.status.idle": "2022-11-21T05:27:30.960987Z",
     "shell.execute_reply": "2022-11-21T05:27:30.960609Z",
     "shell.execute_reply.started": "2022-11-21T05:27:30.951987Z"
    },
    "tags": []
   },
   "outputs": [],
   "source": [
    "a2"
   ]
  },
  {
   "cell_type": "code",
   "execution_count": null,
   "id": "f2304ace-8dfa-4773-aa7c-6ea4ac1d7947",
   "metadata": {
    "execution": {
     "iopub.execute_input": "2022-11-21T05:27:30.961738Z",
     "iopub.status.busy": "2022-11-21T05:27:30.961568Z",
     "iopub.status.idle": "2022-11-21T05:27:30.966952Z",
     "shell.execute_reply": "2022-11-21T05:27:30.966568Z",
     "shell.execute_reply.started": "2022-11-21T05:27:30.961722Z"
    },
    "tags": []
   },
   "outputs": [],
   "source": [
    "a1 * a2"
   ]
  },
  {
   "cell_type": "code",
   "execution_count": null,
   "id": "4123ab63-13d2-4046-b7ed-e2dd62897f84",
   "metadata": {
    "execution": {
     "iopub.execute_input": "2022-11-21T05:27:30.967700Z",
     "iopub.status.busy": "2022-11-21T05:27:30.967533Z",
     "iopub.status.idle": "2022-11-21T05:27:30.971534Z",
     "shell.execute_reply": "2022-11-21T05:27:30.971159Z",
     "shell.execute_reply.started": "2022-11-21T05:27:30.967683Z"
    },
    "tags": []
   },
   "outputs": [],
   "source": [
    "a3"
   ]
  },
  {
   "cell_type": "code",
   "execution_count": null,
   "id": "37807719-fd58-4251-a0e3-c8a406b1c329",
   "metadata": {
    "execution": {
     "iopub.execute_input": "2022-11-21T05:27:30.972395Z",
     "iopub.status.busy": "2022-11-21T05:27:30.972112Z",
     "iopub.status.idle": "2022-11-21T05:27:30.975200Z",
     "shell.execute_reply": "2022-11-21T05:27:30.974804Z",
     "shell.execute_reply.started": "2022-11-21T05:27:30.972377Z"
    },
    "tags": []
   },
   "outputs": [],
   "source": [
    "# a2 * a3"
   ]
  },
  {
   "cell_type": "code",
   "execution_count": null,
   "id": "36350e01-11a0-439d-af72-2e915d6f7b54",
   "metadata": {
    "execution": {
     "iopub.execute_input": "2022-11-21T05:27:30.975956Z",
     "iopub.status.busy": "2022-11-21T05:27:30.975792Z",
     "iopub.status.idle": "2022-11-21T05:27:30.982502Z",
     "shell.execute_reply": "2022-11-21T05:27:30.982114Z",
     "shell.execute_reply.started": "2022-11-21T05:27:30.975939Z"
    },
    "tags": []
   },
   "outputs": [],
   "source": [
    "a1 / ones"
   ]
  },
  {
   "cell_type": "code",
   "execution_count": null,
   "id": "89f4bcdf-f524-4440-b01d-189d685c640b",
   "metadata": {
    "execution": {
     "iopub.execute_input": "2022-11-21T05:27:30.983284Z",
     "iopub.status.busy": "2022-11-21T05:27:30.983117Z",
     "iopub.status.idle": "2022-11-21T05:27:30.988694Z",
     "shell.execute_reply": "2022-11-21T05:27:30.988316Z",
     "shell.execute_reply.started": "2022-11-21T05:27:30.983267Z"
    },
    "tags": []
   },
   "outputs": [],
   "source": [
    "a2 / a1"
   ]
  },
  {
   "cell_type": "code",
   "execution_count": null,
   "id": "8d547f60-a05d-496b-b237-ca0f823950ec",
   "metadata": {
    "execution": {
     "iopub.execute_input": "2022-11-21T05:27:30.989440Z",
     "iopub.status.busy": "2022-11-21T05:27:30.989277Z",
     "iopub.status.idle": "2022-11-21T05:27:30.994823Z",
     "shell.execute_reply": "2022-11-21T05:27:30.994453Z",
     "shell.execute_reply.started": "2022-11-21T05:27:30.989424Z"
    },
    "tags": []
   },
   "outputs": [],
   "source": [
    "# Floor division removes the decimals (round down)\n",
    "a2 // a1"
   ]
  },
  {
   "cell_type": "code",
   "execution_count": null,
   "id": "072f27b8-3f6b-41ba-8964-be6ad92c00b3",
   "metadata": {
    "execution": {
     "iopub.execute_input": "2022-11-21T05:27:30.995588Z",
     "iopub.status.busy": "2022-11-21T05:27:30.995423Z",
     "iopub.status.idle": "2022-11-21T05:27:31.001388Z",
     "shell.execute_reply": "2022-11-21T05:27:31.001014Z",
     "shell.execute_reply.started": "2022-11-21T05:27:30.995572Z"
    },
    "tags": []
   },
   "outputs": [],
   "source": [
    "a2 ** 2"
   ]
  },
  {
   "cell_type": "code",
   "execution_count": null,
   "id": "5f67c650-19e1-4ab3-87ba-4bc14ed3dbc2",
   "metadata": {
    "execution": {
     "iopub.execute_input": "2022-11-21T05:27:31.002138Z",
     "iopub.status.busy": "2022-11-21T05:27:31.001972Z",
     "iopub.status.idle": "2022-11-21T05:27:31.006267Z",
     "shell.execute_reply": "2022-11-21T05:27:31.005896Z",
     "shell.execute_reply.started": "2022-11-21T05:27:31.002122Z"
    },
    "tags": []
   },
   "outputs": [],
   "source": [
    "np.square(a2)"
   ]
  },
  {
   "cell_type": "code",
   "execution_count": null,
   "id": "ab845d47-063d-48b6-99d0-d72d047ac685",
   "metadata": {
    "execution": {
     "iopub.execute_input": "2022-11-21T05:27:31.007026Z",
     "iopub.status.busy": "2022-11-21T05:27:31.006849Z",
     "iopub.status.idle": "2022-11-21T05:27:31.012014Z",
     "shell.execute_reply": "2022-11-21T05:27:31.011643Z",
     "shell.execute_reply.started": "2022-11-21T05:27:31.007010Z"
    },
    "tags": []
   },
   "outputs": [],
   "source": [
    "np.add(a1, ones)"
   ]
  },
  {
   "cell_type": "code",
   "execution_count": null,
   "id": "a76a9d78-a0f0-40ea-8945-e6d7e8ae19b1",
   "metadata": {
    "execution": {
     "iopub.execute_input": "2022-11-21T05:27:31.012776Z",
     "iopub.status.busy": "2022-11-21T05:27:31.012611Z",
     "iopub.status.idle": "2022-11-21T05:27:31.016429Z",
     "shell.execute_reply": "2022-11-21T05:27:31.016037Z",
     "shell.execute_reply.started": "2022-11-21T05:27:31.012760Z"
    },
    "tags": []
   },
   "outputs": [],
   "source": [
    "a1 % 2"
   ]
  },
  {
   "cell_type": "code",
   "execution_count": null,
   "id": "edb5e3bf-11b7-4319-a6af-17c82f292c74",
   "metadata": {
    "execution": {
     "iopub.execute_input": "2022-11-21T05:27:31.017165Z",
     "iopub.status.busy": "2022-11-21T05:27:31.016998Z",
     "iopub.status.idle": "2022-11-21T05:27:31.020795Z",
     "shell.execute_reply": "2022-11-21T05:27:31.020418Z",
     "shell.execute_reply.started": "2022-11-21T05:27:31.017149Z"
    },
    "tags": []
   },
   "outputs": [],
   "source": [
    "np.mod(a1, 2)"
   ]
  },
  {
   "cell_type": "code",
   "execution_count": null,
   "id": "34fc2e41-356b-4888-8730-2165c3593fed",
   "metadata": {
    "execution": {
     "iopub.execute_input": "2022-11-21T05:27:31.021611Z",
     "iopub.status.busy": "2022-11-21T05:27:31.021423Z",
     "iopub.status.idle": "2022-11-21T05:27:31.026227Z",
     "shell.execute_reply": "2022-11-21T05:27:31.025828Z",
     "shell.execute_reply.started": "2022-11-21T05:27:31.021584Z"
    },
    "tags": []
   },
   "outputs": [],
   "source": [
    "a2 % 2"
   ]
  },
  {
   "cell_type": "code",
   "execution_count": null,
   "id": "5eae988e-65fa-40cc-a1f7-f95d254f738e",
   "metadata": {
    "execution": {
     "iopub.execute_input": "2022-11-21T05:27:31.027028Z",
     "iopub.status.busy": "2022-11-21T05:27:31.026848Z",
     "iopub.status.idle": "2022-11-21T05:27:31.031086Z",
     "shell.execute_reply": "2022-11-21T05:27:31.030703Z",
     "shell.execute_reply.started": "2022-11-21T05:27:31.027012Z"
    },
    "tags": []
   },
   "outputs": [],
   "source": [
    "np.exp(a1)"
   ]
  },
  {
   "cell_type": "code",
   "execution_count": null,
   "id": "bc666d61-907b-45c1-a47c-4fe6d6fbbb5a",
   "metadata": {
    "execution": {
     "iopub.execute_input": "2022-11-21T05:27:31.031873Z",
     "iopub.status.busy": "2022-11-21T05:27:31.031664Z",
     "iopub.status.idle": "2022-11-21T05:27:31.035218Z",
     "shell.execute_reply": "2022-11-21T05:27:31.034847Z",
     "shell.execute_reply.started": "2022-11-21T05:27:31.031856Z"
    },
    "tags": []
   },
   "outputs": [],
   "source": [
    "np.log(a1)"
   ]
  },
  {
   "cell_type": "markdown",
   "id": "253641c0-0e98-40f6-8245-b0b01d343caa",
   "metadata": {},
   "source": [
    "# Aggregation\n",
    "\n",
    "aggreation = performing the same operation on a number of things"
   ]
  },
  {
   "cell_type": "code",
   "execution_count": null,
   "id": "43d07270-f55a-4bb7-8737-9b13a197a4df",
   "metadata": {
    "execution": {
     "iopub.execute_input": "2022-11-21T05:27:31.036004Z",
     "iopub.status.busy": "2022-11-21T05:27:31.035831Z",
     "iopub.status.idle": "2022-11-21T05:27:31.041430Z",
     "shell.execute_reply": "2022-11-21T05:27:31.040902Z",
     "shell.execute_reply.started": "2022-11-21T05:27:31.035988Z"
    },
    "tags": []
   },
   "outputs": [],
   "source": [
    "listy_list = [1,2,3]\n",
    "type(listy_list)"
   ]
  },
  {
   "cell_type": "code",
   "execution_count": null,
   "id": "44727be6-c7a8-4321-9313-ddc5eb7dc369",
   "metadata": {
    "execution": {
     "iopub.execute_input": "2022-11-21T05:27:31.042275Z",
     "iopub.status.busy": "2022-11-21T05:27:31.042106Z",
     "iopub.status.idle": "2022-11-21T05:27:31.045836Z",
     "shell.execute_reply": "2022-11-21T05:27:31.045331Z",
     "shell.execute_reply.started": "2022-11-21T05:27:31.042259Z"
    },
    "tags": []
   },
   "outputs": [],
   "source": [
    "sum(a1)"
   ]
  },
  {
   "cell_type": "code",
   "execution_count": null,
   "id": "d046a5e5",
   "metadata": {
    "execution": {
     "iopub.execute_input": "2022-11-21T05:27:31.046647Z",
     "iopub.status.busy": "2022-11-21T05:27:31.046473Z",
     "iopub.status.idle": "2022-11-21T05:27:31.050304Z",
     "shell.execute_reply": "2022-11-21T05:27:31.049765Z",
     "shell.execute_reply.started": "2022-11-21T05:27:31.046631Z"
    },
    "tags": []
   },
   "outputs": [],
   "source": [
    "sum(a1)"
   ]
  },
  {
   "cell_type": "code",
   "execution_count": null,
   "id": "d4060e36-0298-4d63-8c4c-3fe1b1615056",
   "metadata": {
    "execution": {
     "iopub.execute_input": "2022-11-21T05:27:31.051155Z",
     "iopub.status.busy": "2022-11-21T05:27:31.050983Z",
     "iopub.status.idle": "2022-11-21T05:27:31.054769Z",
     "shell.execute_reply": "2022-11-21T05:27:31.054248Z",
     "shell.execute_reply.started": "2022-11-21T05:27:31.051139Z"
    },
    "tags": []
   },
   "outputs": [],
   "source": [
    "np.sum(a1)"
   ]
  },
  {
   "cell_type": "markdown",
   "id": "d379b78b-15b0-4682-9286-35efabcffa21",
   "metadata": {},
   "source": [
    "## Use Python's methods (sum()) on Python data types and use NumPy's methods on Numpy (np.sum())"
   ]
  },
  {
   "cell_type": "code",
   "execution_count": null,
   "id": "bb9c5ffc-9a39-478e-9376-b4ec07240740",
   "metadata": {
    "execution": {
     "iopub.execute_input": "2022-11-21T05:27:31.055633Z",
     "iopub.status.busy": "2022-11-21T05:27:31.055502Z",
     "iopub.status.idle": "2022-11-21T05:27:31.060657Z",
     "shell.execute_reply": "2022-11-21T05:27:31.060128Z",
     "shell.execute_reply.started": "2022-11-21T05:27:31.055617Z"
    },
    "tags": []
   },
   "outputs": [],
   "source": [
    "massive_array = np.random.random(100000)\n",
    "massive_array.size"
   ]
  },
  {
   "cell_type": "code",
   "execution_count": null,
   "id": "50616348-819f-4784-9ba0-5ca33f7b8d89",
   "metadata": {
    "execution": {
     "iopub.execute_input": "2022-11-21T05:27:31.061564Z",
     "iopub.status.busy": "2022-11-21T05:27:31.061283Z",
     "iopub.status.idle": "2022-11-21T05:27:31.065542Z",
     "shell.execute_reply": "2022-11-21T05:27:31.065158Z",
     "shell.execute_reply.started": "2022-11-21T05:27:31.061547Z"
    },
    "tags": []
   },
   "outputs": [],
   "source": [
    "massive_array[:10]"
   ]
  },
  {
   "cell_type": "code",
   "execution_count": null,
   "id": "e58ef074-2488-4212-9cbc-7aaed087f7bb",
   "metadata": {
    "execution": {
     "iopub.execute_input": "2022-11-21T05:27:31.066327Z",
     "iopub.status.busy": "2022-11-21T05:27:31.066153Z",
     "iopub.status.idle": "2022-11-21T05:27:46.538020Z",
     "shell.execute_reply": "2022-11-21T05:27:46.537413Z",
     "shell.execute_reply.started": "2022-11-21T05:27:31.066311Z"
    },
    "tags": []
   },
   "outputs": [],
   "source": [
    "%timeit sum(massive_array)\n",
    "%timeit np.sum(massive_array)"
   ]
  },
  {
   "cell_type": "code",
   "execution_count": null,
   "id": "93d5ad57-e63f-48cd-b7a0-ee8376b3b255",
   "metadata": {
    "execution": {
     "iopub.execute_input": "2022-11-21T05:27:46.539039Z",
     "iopub.status.busy": "2022-11-21T05:27:46.538830Z",
     "iopub.status.idle": "2022-11-21T05:27:46.542659Z",
     "shell.execute_reply": "2022-11-21T05:27:46.542250Z",
     "shell.execute_reply.started": "2022-11-21T05:27:46.539018Z"
    },
    "tags": []
   },
   "outputs": [],
   "source": [
    "a2"
   ]
  },
  {
   "cell_type": "code",
   "execution_count": null,
   "id": "637bb697-6f4a-4f48-a800-2931a3e07bbb",
   "metadata": {
    "execution": {
     "iopub.execute_input": "2022-11-21T05:27:46.543540Z",
     "iopub.status.busy": "2022-11-21T05:27:46.543365Z",
     "iopub.status.idle": "2022-11-21T05:27:46.546961Z",
     "shell.execute_reply": "2022-11-21T05:27:46.546533Z",
     "shell.execute_reply.started": "2022-11-21T05:27:46.543522Z"
    },
    "tags": []
   },
   "outputs": [],
   "source": [
    "np.mean(a2)"
   ]
  },
  {
   "cell_type": "code",
   "execution_count": null,
   "id": "17cc180a-c0cd-4275-b864-754026256a96",
   "metadata": {
    "execution": {
     "iopub.execute_input": "2022-11-21T05:27:46.547760Z",
     "iopub.status.busy": "2022-11-21T05:27:46.547590Z",
     "iopub.status.idle": "2022-11-21T05:27:46.551087Z",
     "shell.execute_reply": "2022-11-21T05:27:46.550673Z",
     "shell.execute_reply.started": "2022-11-21T05:27:46.547743Z"
    },
    "tags": []
   },
   "outputs": [],
   "source": [
    "np.max(a2)"
   ]
  },
  {
   "cell_type": "code",
   "execution_count": null,
   "id": "a79049b1-dee4-4912-b4b1-df51a3e48076",
   "metadata": {
    "execution": {
     "iopub.execute_input": "2022-11-21T05:27:46.551873Z",
     "iopub.status.busy": "2022-11-21T05:27:46.551705Z",
     "iopub.status.idle": "2022-11-21T05:27:46.555126Z",
     "shell.execute_reply": "2022-11-21T05:27:46.554715Z",
     "shell.execute_reply.started": "2022-11-21T05:27:46.551856Z"
    },
    "tags": []
   },
   "outputs": [],
   "source": [
    "np.min(a2)"
   ]
  },
  {
   "cell_type": "code",
   "execution_count": null,
   "id": "185c6d88-7b8c-4f2a-a491-daaf39d80621",
   "metadata": {
    "execution": {
     "iopub.execute_input": "2022-11-21T05:27:46.555905Z",
     "iopub.status.busy": "2022-11-21T05:27:46.555721Z",
     "iopub.status.idle": "2022-11-21T05:27:46.559163Z",
     "shell.execute_reply": "2022-11-21T05:27:46.558751Z",
     "shell.execute_reply.started": "2022-11-21T05:27:46.555885Z"
    },
    "tags": []
   },
   "outputs": [],
   "source": [
    "# Standard deviation = measure of how spread out a group of number is from the mean\n",
    "np.std(a2)"
   ]
  },
  {
   "cell_type": "code",
   "execution_count": null,
   "id": "4c0a64dd-b659-403d-8400-1008fef8af22",
   "metadata": {
    "execution": {
     "iopub.execute_input": "2022-11-21T05:27:46.559951Z",
     "iopub.status.busy": "2022-11-21T05:27:46.559768Z",
     "iopub.status.idle": "2022-11-21T05:27:46.563280Z",
     "shell.execute_reply": "2022-11-21T05:27:46.562865Z",
     "shell.execute_reply.started": "2022-11-21T05:27:46.559926Z"
    },
    "tags": []
   },
   "outputs": [],
   "source": [
    "# Variance = measure of the average degree to which each number is different to the mean\n",
    "# Higher variance = wider range of numbers\n",
    "# Lower variance = lower range of numbers\n",
    "np.var(a2)"
   ]
  },
  {
   "cell_type": "code",
   "execution_count": null,
   "id": "a16e106e-8b3d-4197-bac0-2dc32f709789",
   "metadata": {
    "execution": {
     "iopub.execute_input": "2022-11-21T05:27:46.564060Z",
     "iopub.status.busy": "2022-11-21T05:27:46.563890Z",
     "iopub.status.idle": "2022-11-21T05:27:46.567358Z",
     "shell.execute_reply": "2022-11-21T05:27:46.566956Z",
     "shell.execute_reply.started": "2022-11-21T05:27:46.564042Z"
    },
    "tags": []
   },
   "outputs": [],
   "source": [
    "# Standard deviatin = squareroot of variance\n",
    "np.sqrt(np.var(a2))"
   ]
  },
  {
   "cell_type": "markdown",
   "id": "03c9af51-583d-40c2-a62a-12cb4cc9b691",
   "metadata": {},
   "source": [
    "# Standard Deviation and Variance"
   ]
  },
  {
   "cell_type": "code",
   "execution_count": null,
   "id": "3b5d34bf-38a6-44e3-8b56-ac293b291c9b",
   "metadata": {
    "execution": {
     "iopub.execute_input": "2022-11-21T05:27:46.568119Z",
     "iopub.status.busy": "2022-11-21T05:27:46.567950Z",
     "iopub.status.idle": "2022-11-21T05:27:46.570984Z",
     "shell.execute_reply": "2022-11-21T05:27:46.570565Z",
     "shell.execute_reply.started": "2022-11-21T05:27:46.568102Z"
    },
    "tags": []
   },
   "outputs": [],
   "source": [
    "high_var_array = np.array([1, 100, 200, 300, 4000, 5000])\n",
    "low_var_array = np.array([2,4,6,8,10])"
   ]
  },
  {
   "cell_type": "code",
   "execution_count": null,
   "id": "dee9e7ff-7d87-4429-82da-7edc30683e2c",
   "metadata": {
    "execution": {
     "iopub.execute_input": "2022-11-21T05:27:46.571767Z",
     "iopub.status.busy": "2022-11-21T05:27:46.571585Z",
     "iopub.status.idle": "2022-11-21T05:27:46.575294Z",
     "shell.execute_reply": "2022-11-21T05:27:46.574888Z",
     "shell.execute_reply.started": "2022-11-21T05:27:46.571749Z"
    },
    "tags": []
   },
   "outputs": [],
   "source": [
    "np.var(high_var_array), np.var(low_var_array)"
   ]
  },
  {
   "cell_type": "code",
   "execution_count": null,
   "id": "74525798-a7e6-4efa-a844-831618569666",
   "metadata": {
    "execution": {
     "iopub.execute_input": "2022-11-21T05:27:46.576065Z",
     "iopub.status.busy": "2022-11-21T05:27:46.575892Z",
     "iopub.status.idle": "2022-11-21T05:27:46.579496Z",
     "shell.execute_reply": "2022-11-21T05:27:46.579094Z",
     "shell.execute_reply.started": "2022-11-21T05:27:46.576043Z"
    },
    "tags": []
   },
   "outputs": [],
   "source": [
    "np.std(high_var_array), np.std(low_var_array)"
   ]
  },
  {
   "cell_type": "code",
   "execution_count": null,
   "id": "19f9a09d-a5df-405f-a01f-f7e01f58ac18",
   "metadata": {
    "execution": {
     "iopub.execute_input": "2022-11-21T05:27:46.580307Z",
     "iopub.status.busy": "2022-11-21T05:27:46.580108Z",
     "iopub.status.idle": "2022-11-21T05:27:46.583768Z",
     "shell.execute_reply": "2022-11-21T05:27:46.583357Z",
     "shell.execute_reply.started": "2022-11-21T05:27:46.580290Z"
    }
   },
   "outputs": [],
   "source": [
    "np.mean(high_var_array), np.mean(low_var_array)"
   ]
  },
  {
   "cell_type": "code",
   "execution_count": null,
   "id": "18624372-580a-44c3-b793-6b71e239890c",
   "metadata": {
    "execution": {
     "iopub.execute_input": "2022-11-21T05:27:46.584768Z",
     "iopub.status.busy": "2022-11-21T05:27:46.584431Z",
     "iopub.status.idle": "2022-11-21T05:27:47.371749Z",
     "shell.execute_reply": "2022-11-21T05:27:47.371326Z",
     "shell.execute_reply.started": "2022-11-21T05:27:46.584747Z"
    },
    "tags": []
   },
   "outputs": [],
   "source": [
    "%matplotlib inline\n",
    "import matplotlib.pyplot as plt\n",
    "plt.hist(high_var_array)\n",
    "plt.show()"
   ]
  },
  {
   "cell_type": "code",
   "execution_count": null,
   "id": "8706b9d1-7e22-4ed0-9de7-df874e508520",
   "metadata": {
    "execution": {
     "iopub.execute_input": "2022-11-21T05:27:47.372701Z",
     "iopub.status.busy": "2022-11-21T05:27:47.372503Z",
     "iopub.status.idle": "2022-11-21T05:27:47.484431Z",
     "shell.execute_reply": "2022-11-21T05:27:47.483898Z",
     "shell.execute_reply.started": "2022-11-21T05:27:47.372682Z"
    },
    "tags": []
   },
   "outputs": [],
   "source": [
    "plt.hist(low_var_array)\n",
    "plt.show()"
   ]
  },
  {
   "cell_type": "markdown",
   "id": "608784b9-db48-406f-a478-8d1b8380bdc4",
   "metadata": {},
   "source": [
    "# Reshaping & Transposing"
   ]
  },
  {
   "cell_type": "code",
   "execution_count": null,
   "id": "ad21f87a-b574-476b-bfbd-20418c8fe08f",
   "metadata": {
    "execution": {
     "iopub.execute_input": "2022-11-21T05:27:47.485439Z",
     "iopub.status.busy": "2022-11-21T05:27:47.485212Z",
     "iopub.status.idle": "2022-11-21T05:27:47.489355Z",
     "shell.execute_reply": "2022-11-21T05:27:47.488925Z",
     "shell.execute_reply.started": "2022-11-21T05:27:47.485421Z"
    }
   },
   "outputs": [],
   "source": [
    "a2"
   ]
  },
  {
   "cell_type": "code",
   "execution_count": null,
   "id": "b5124378-4962-4c49-b5c2-599c02ad9ba6",
   "metadata": {
    "execution": {
     "iopub.execute_input": "2022-11-21T05:27:47.490181Z",
     "iopub.status.busy": "2022-11-21T05:27:47.489999Z",
     "iopub.status.idle": "2022-11-21T05:27:47.493676Z",
     "shell.execute_reply": "2022-11-21T05:27:47.493257Z",
     "shell.execute_reply.started": "2022-11-21T05:27:47.490164Z"
    }
   },
   "outputs": [],
   "source": [
    "a2.shape"
   ]
  },
  {
   "cell_type": "code",
   "execution_count": null,
   "id": "1574445a-3899-4bb0-99be-93745a434ce5",
   "metadata": {
    "execution": {
     "iopub.execute_input": "2022-11-21T05:27:47.494468Z",
     "iopub.status.busy": "2022-11-21T05:27:47.494290Z",
     "iopub.status.idle": "2022-11-21T05:27:47.498161Z",
     "shell.execute_reply": "2022-11-21T05:27:47.497741Z",
     "shell.execute_reply.started": "2022-11-21T05:27:47.494450Z"
    }
   },
   "outputs": [],
   "source": [
    "a3"
   ]
  },
  {
   "cell_type": "code",
   "execution_count": null,
   "id": "69127b97-10df-4bd6-99b6-32014a3e533a",
   "metadata": {
    "execution": {
     "iopub.execute_input": "2022-11-21T05:27:47.498975Z",
     "iopub.status.busy": "2022-11-21T05:27:47.498773Z",
     "iopub.status.idle": "2022-11-21T05:27:47.502639Z",
     "shell.execute_reply": "2022-11-21T05:27:47.502224Z",
     "shell.execute_reply.started": "2022-11-21T05:27:47.498957Z"
    },
    "tags": []
   },
   "outputs": [],
   "source": [
    "a3.shape"
   ]
  },
  {
   "cell_type": "code",
   "execution_count": null,
   "id": "8dd53628-83c3-4cf5-91cb-f26d28781a6f",
   "metadata": {
    "execution": {
     "iopub.execute_input": "2022-11-21T05:27:16.913182Z",
     "iopub.status.busy": "2022-11-21T05:27:16.912916Z",
     "iopub.status.idle": "2022-11-21T05:27:16.963449Z",
     "shell.execute_reply": "2022-11-21T05:27:16.962858Z",
     "shell.execute_reply.started": "2022-11-21T05:27:16.913160Z"
    },
    "tags": []
   },
   "outputs": [],
   "source": [
    "a2 * a3"
   ]
  },
  {
   "cell_type": "code",
   "execution_count": null,
   "id": "a4bf4450-f530-42be-8f18-868d23a19276",
   "metadata": {
    "execution": {
     "iopub.execute_input": "2022-11-21T05:30:40.237366Z",
     "iopub.status.busy": "2022-11-21T05:30:40.237100Z",
     "iopub.status.idle": "2022-11-21T05:30:40.241518Z",
     "shell.execute_reply": "2022-11-21T05:30:40.241101Z",
     "shell.execute_reply.started": "2022-11-21T05:30:40.237344Z"
    },
    "tags": []
   },
   "outputs": [],
   "source": [
    "a2_reshape = a2.reshape(2, 3, 1)\n",
    "a2_reshape"
   ]
  },
  {
   "cell_type": "code",
   "execution_count": null,
   "id": "358d3da3-56fa-499a-b3ca-699113e4c9f9",
   "metadata": {
    "execution": {
     "iopub.execute_input": "2022-11-21T05:30:47.282541Z",
     "iopub.status.busy": "2022-11-21T05:30:47.282342Z",
     "iopub.status.idle": "2022-11-21T05:30:47.286629Z",
     "shell.execute_reply": "2022-11-21T05:30:47.286186Z",
     "shell.execute_reply.started": "2022-11-21T05:30:47.282522Z"
    }
   },
   "outputs": [],
   "source": [
    "a2_reshape * a3"
   ]
  },
  {
   "cell_type": "code",
   "execution_count": null,
   "id": "4109f253-6481-4adf-84b6-0ab80ae5c119",
   "metadata": {
    "execution": {
     "iopub.execute_input": "2022-11-21T05:32:49.815351Z",
     "iopub.status.busy": "2022-11-21T05:32:49.815082Z",
     "iopub.status.idle": "2022-11-21T05:32:49.819321Z",
     "shell.execute_reply": "2022-11-21T05:32:49.818908Z",
     "shell.execute_reply.started": "2022-11-21T05:32:49.815330Z"
    },
    "tags": []
   },
   "outputs": [],
   "source": [
    "a2, a2.shape"
   ]
  },
  {
   "cell_type": "code",
   "execution_count": null,
   "id": "be496960-8c98-44c9-bb6f-d56a3e6b8cde",
   "metadata": {
    "execution": {
     "iopub.execute_input": "2022-11-21T05:32:57.915838Z",
     "iopub.status.busy": "2022-11-21T05:32:57.915583Z",
     "iopub.status.idle": "2022-11-21T05:32:57.920022Z",
     "shell.execute_reply": "2022-11-21T05:32:57.919599Z",
     "shell.execute_reply.started": "2022-11-21T05:32:57.915818Z"
    },
    "tags": []
   },
   "outputs": [],
   "source": [
    "# Transpose = swithes the axis\n",
    "a2.T, a2.T.shape"
   ]
  },
  {
   "cell_type": "code",
   "execution_count": null,
   "id": "1ffa0d12-3d34-4d8b-bf05-1494322043b7",
   "metadata": {
    "execution": {
     "iopub.execute_input": "2022-11-21T05:33:24.477963Z",
     "iopub.status.busy": "2022-11-21T05:33:24.477696Z",
     "iopub.status.idle": "2022-11-21T05:33:24.481751Z",
     "shell.execute_reply": "2022-11-21T05:33:24.481356Z",
     "shell.execute_reply.started": "2022-11-21T05:33:24.477938Z"
    }
   },
   "outputs": [],
   "source": [
    "a3"
   ]
  },
  {
   "cell_type": "code",
   "execution_count": null,
   "id": "d3a64b04-e12d-469d-91e0-a070adb3881f",
   "metadata": {
    "execution": {
     "iopub.execute_input": "2022-11-21T05:33:35.388372Z",
     "iopub.status.busy": "2022-11-21T05:33:35.388080Z",
     "iopub.status.idle": "2022-11-21T05:33:35.392108Z",
     "shell.execute_reply": "2022-11-21T05:33:35.391714Z",
     "shell.execute_reply.started": "2022-11-21T05:33:35.388351Z"
    }
   },
   "outputs": [],
   "source": [
    "a3.T"
   ]
  },
  {
   "cell_type": "markdown",
   "id": "794d089f-7f06-406a-b9c5-c2fbd85a4a61",
   "metadata": {},
   "source": [
    "# Dot Product"
   ]
  },
  {
   "cell_type": "code",
   "execution_count": null,
   "id": "5787d807-4429-4668-bb10-0da90d82fa33",
   "metadata": {
    "execution": {
     "iopub.execute_input": "2022-11-22T01:10:28.642713Z",
     "iopub.status.busy": "2022-11-22T01:10:28.642433Z",
     "iopub.status.idle": "2022-11-22T01:10:28.646155Z",
     "shell.execute_reply": "2022-11-22T01:10:28.645713Z",
     "shell.execute_reply.started": "2022-11-22T01:10:28.642689Z"
    }
   },
   "outputs": [],
   "source": [
    "np.random.seed(0)\n",
    "\n",
    "mat1 = np.random.randint(10, size=(5, 3))\n",
    "mat2 = np.random.randint(10, size=(5, 3))"
   ]
  },
  {
   "cell_type": "code",
   "execution_count": null,
   "id": "095f5209-e167-42a3-84e4-0ef99f15bf17",
   "metadata": {
    "execution": {
     "iopub.execute_input": "2022-11-22T01:10:34.641744Z",
     "iopub.status.busy": "2022-11-22T01:10:34.641477Z",
     "iopub.status.idle": "2022-11-22T01:10:34.645719Z",
     "shell.execute_reply": "2022-11-22T01:10:34.645309Z",
     "shell.execute_reply.started": "2022-11-22T01:10:34.641723Z"
    }
   },
   "outputs": [],
   "source": [
    "mat1, mat2"
   ]
  },
  {
   "cell_type": "code",
   "execution_count": null,
   "id": "b7ea011d-63e5-4f69-b25b-1e2334ac358f",
   "metadata": {
    "execution": {
     "iopub.execute_input": "2022-11-22T01:10:44.400177Z",
     "iopub.status.busy": "2022-11-22T01:10:44.399885Z",
     "iopub.status.idle": "2022-11-22T01:10:44.403889Z",
     "shell.execute_reply": "2022-11-22T01:10:44.403442Z",
     "shell.execute_reply.started": "2022-11-22T01:10:44.400136Z"
    }
   },
   "outputs": [],
   "source": [
    "mat1.shape, mat2.shape"
   ]
  },
  {
   "cell_type": "code",
   "execution_count": null,
   "id": "dff34457-5951-486f-b815-b7166a9f63a5",
   "metadata": {
    "execution": {
     "iopub.execute_input": "2022-11-22T01:11:59.522766Z",
     "iopub.status.busy": "2022-11-22T01:11:59.522482Z",
     "iopub.status.idle": "2022-11-22T01:11:59.526552Z",
     "shell.execute_reply": "2022-11-22T01:11:59.526106Z",
     "shell.execute_reply.started": "2022-11-22T01:11:59.522742Z"
    },
    "tags": []
   },
   "outputs": [],
   "source": [
    "# Element-wise multiplication (hadamard product)\n",
    "mat1 * mat2"
   ]
  },
  {
   "cell_type": "code",
   "execution_count": null,
   "id": "b13eb1a3-821b-44d8-9afc-004072e358f3",
   "metadata": {
    "execution": {
     "iopub.execute_input": "2022-11-22T01:12:28.927896Z",
     "iopub.status.busy": "2022-11-22T01:12:28.927604Z",
     "iopub.status.idle": "2022-11-22T01:12:28.966195Z",
     "shell.execute_reply": "2022-11-22T01:12:28.965660Z",
     "shell.execute_reply.started": "2022-11-22T01:12:28.927875Z"
    }
   },
   "outputs": [],
   "source": [
    "# Dot product\n",
    "np.dot(mat1, mat2)"
   ]
  },
  {
   "cell_type": "code",
   "execution_count": null,
   "id": "b22c8243-fb22-402e-b0bb-8fca832bea13",
   "metadata": {
    "execution": {
     "iopub.execute_input": "2022-11-22T01:20:31.852386Z",
     "iopub.status.busy": "2022-11-22T01:20:31.852093Z",
     "iopub.status.idle": "2022-11-22T01:20:31.856406Z",
     "shell.execute_reply": "2022-11-22T01:20:31.855962Z",
     "shell.execute_reply.started": "2022-11-22T01:20:31.852363Z"
    },
    "tags": []
   },
   "outputs": [],
   "source": [
    "# Transpose mat1\n",
    "\n",
    "mat3 = np.dot(mat1, mat2.T)\n",
    "mat3"
   ]
  },
  {
   "cell_type": "code",
   "execution_count": null,
   "id": "d1421e57-76e3-400c-93ac-2678421fcae5",
   "metadata": {
    "execution": {
     "iopub.execute_input": "2022-11-22T01:20:40.405209Z",
     "iopub.status.busy": "2022-11-22T01:20:40.404935Z",
     "iopub.status.idle": "2022-11-22T01:20:40.409125Z",
     "shell.execute_reply": "2022-11-22T01:20:40.408605Z",
     "shell.execute_reply.started": "2022-11-22T01:20:40.405188Z"
    }
   },
   "outputs": [],
   "source": [
    "mat3.shape"
   ]
  },
  {
   "cell_type": "markdown",
   "id": "b0942ebb-7636-4d2c-a698-cd988517d383",
   "metadata": {},
   "source": [
    "## Dot product example (nut butter sales)"
   ]
  },
  {
   "cell_type": "code",
   "execution_count": null,
   "id": "8b27fe0b-ed9b-410b-aaba-b3a45b582b43",
   "metadata": {
    "execution": {
     "iopub.execute_input": "2022-11-22T01:28:30.298316Z",
     "iopub.status.busy": "2022-11-22T01:28:30.298019Z",
     "iopub.status.idle": "2022-11-22T01:28:30.302960Z",
     "shell.execute_reply": "2022-11-22T01:28:30.302490Z",
     "shell.execute_reply.started": "2022-11-22T01:28:30.298294Z"
    }
   },
   "outputs": [],
   "source": [
    "np.random.seed(0)\n",
    "\n",
    "# number of jars sold\n",
    "sales_amount = np.random.randint(20, size=(5, 3))\n",
    "sales_amount"
   ]
  },
  {
   "cell_type": "code",
   "execution_count": null,
   "id": "223d7b7c-b885-45a6-b31c-12e2182d4686",
   "metadata": {
    "execution": {
     "iopub.execute_input": "2022-11-22T01:30:24.556778Z",
     "iopub.status.busy": "2022-11-22T01:30:24.556507Z",
     "iopub.status.idle": "2022-11-22T01:30:24.564688Z",
     "shell.execute_reply": "2022-11-22T01:30:24.564262Z",
     "shell.execute_reply.started": "2022-11-22T01:30:24.556757Z"
    }
   },
   "outputs": [],
   "source": [
    "# create weekly_sales DataFrame\n",
    "weekly_sales = pd.DataFrame(sales_amount,\n",
    "                           index=[\"Mon\", \"Tues\", \"Wed\", \"Thurs\", \"Fri\"],\n",
    "                           columns=[\"Almond butter\", \"Peanut butter\", \"Cashew butter\"])\n",
    "weekly_sales"
   ]
  },
  {
   "cell_type": "code",
   "execution_count": null,
   "id": "bbf589a7-4d87-47a6-b8ce-ba6606e030da",
   "metadata": {
    "execution": {
     "iopub.execute_input": "2022-11-22T01:33:23.163752Z",
     "iopub.status.busy": "2022-11-22T01:33:23.163494Z",
     "iopub.status.idle": "2022-11-22T01:33:23.168116Z",
     "shell.execute_reply": "2022-11-22T01:33:23.167537Z",
     "shell.execute_reply.started": "2022-11-22T01:33:23.163728Z"
    },
    "tags": []
   },
   "outputs": [],
   "source": [
    "# create prices array\n",
    "prices = np.array([10,8,12])\n",
    "prices, prices.shape"
   ]
  },
  {
   "cell_type": "code",
   "execution_count": null,
   "id": "d4e56241-ee8c-4322-bea1-7fb5be709b0c",
   "metadata": {
    "execution": {
     "iopub.execute_input": "2022-11-22T01:33:47.211117Z",
     "iopub.status.busy": "2022-11-22T01:33:47.210853Z",
     "iopub.status.idle": "2022-11-22T01:33:47.217843Z",
     "shell.execute_reply": "2022-11-22T01:33:47.217436Z",
     "shell.execute_reply.started": "2022-11-22T01:33:47.211095Z"
    },
    "tags": []
   },
   "outputs": [],
   "source": [
    "# create butter_prices DataFrame\n",
    "butter_prices = pd.DataFrame(prices.reshape(1,3),\n",
    "                            index=[\"Price\"],\n",
    "                            columns=[\"Almond butter\", \"Peanut butter\", \"Cashew butter\"])\n",
    "butter_prices"
   ]
  },
  {
   "cell_type": "code",
   "execution_count": null,
   "id": "3dc62533-7ac1-4605-8534-149e0521a983",
   "metadata": {
    "execution": {
     "iopub.execute_input": "2022-11-22T01:36:00.482732Z",
     "iopub.status.busy": "2022-11-22T01:36:00.482463Z",
     "iopub.status.idle": "2022-11-22T01:36:00.486899Z",
     "shell.execute_reply": "2022-11-22T01:36:00.486378Z",
     "shell.execute_reply.started": "2022-11-22T01:36:00.482710Z"
    },
    "tags": []
   },
   "outputs": [],
   "source": [
    "# shape aren't aligned, let's transpose\n",
    "# total_sales = prices.dot(sales_amount)\n",
    "total_sales = prices.dot(sales_amount.T)\n",
    "total_sales"
   ]
  },
  {
   "cell_type": "code",
   "execution_count": null,
   "id": "78591a56-873f-496b-8a20-72ce36fd7f26",
   "metadata": {
    "execution": {
     "iopub.execute_input": "2022-11-22T01:36:44.954093Z",
     "iopub.status.busy": "2022-11-22T01:36:44.953832Z",
     "iopub.status.idle": "2022-11-22T01:36:44.957773Z",
     "shell.execute_reply": "2022-11-22T01:36:44.957336Z",
     "shell.execute_reply.started": "2022-11-22T01:36:44.954070Z"
    },
    "tags": []
   },
   "outputs": [],
   "source": [
    "# create daily_sales\n",
    "butter_prices.shape, weekly_sales.shape"
   ]
  },
  {
   "cell_type": "code",
   "execution_count": null,
   "id": "1ff7248a-5b3e-46e5-a379-2131f4355b00",
   "metadata": {
    "execution": {
     "iopub.execute_input": "2022-11-22T01:37:34.606567Z",
     "iopub.status.busy": "2022-11-22T01:37:34.606294Z",
     "iopub.status.idle": "2022-11-22T01:37:34.613417Z",
     "shell.execute_reply": "2022-11-22T01:37:34.612990Z",
     "shell.execute_reply.started": "2022-11-22T01:37:34.606546Z"
    }
   },
   "outputs": [],
   "source": [
    "daily_sales = butter_prices.dot(weekly_sales.T)\n",
    "daily_sales"
   ]
  },
  {
   "cell_type": "code",
   "execution_count": null,
   "id": "082f3c63-12da-4bd6-b9ca-5c2b0c5411e5",
   "metadata": {
    "execution": {
     "iopub.execute_input": "2022-11-22T01:37:55.977653Z",
     "iopub.status.busy": "2022-11-22T01:37:55.977379Z",
     "iopub.status.idle": "2022-11-22T01:37:55.984003Z",
     "shell.execute_reply": "2022-11-22T01:37:55.983475Z",
     "shell.execute_reply.started": "2022-11-22T01:37:55.977627Z"
    }
   },
   "outputs": [],
   "source": [
    "weekly_sales"
   ]
  },
  {
   "cell_type": "code",
   "execution_count": null,
   "id": "99fabd9b-f464-49b2-9fe0-9158fd5a97e5",
   "metadata": {
    "execution": {
     "iopub.execute_input": "2022-11-22T01:39:20.507982Z",
     "iopub.status.busy": "2022-11-22T01:39:20.507710Z",
     "iopub.status.idle": "2022-11-22T01:39:20.514860Z",
     "shell.execute_reply": "2022-11-22T01:39:20.514460Z",
     "shell.execute_reply.started": "2022-11-22T01:39:20.507961Z"
    },
    "tags": []
   },
   "outputs": [],
   "source": [
    "weekly_sales[\"Total ($)\"] = daily_sales.T\n",
    "weekly_sales"
   ]
  },
  {
   "cell_type": "markdown",
   "id": "d06d8432-d125-409a-a496-c762f7a809b7",
   "metadata": {},
   "source": [
    "# Comparison Operators"
   ]
  },
  {
   "cell_type": "code",
   "execution_count": null,
   "id": "067aa4d7-77df-497a-95ca-2c11b45dc714",
   "metadata": {
    "execution": {
     "iopub.execute_input": "2022-11-28T02:02:11.755318Z",
     "iopub.status.busy": "2022-11-28T02:02:11.755045Z",
     "iopub.status.idle": "2022-11-28T02:02:11.758927Z",
     "shell.execute_reply": "2022-11-28T02:02:11.758517Z",
     "shell.execute_reply.started": "2022-11-28T02:02:11.755297Z"
    }
   },
   "outputs": [],
   "source": [
    "a1"
   ]
  },
  {
   "cell_type": "code",
   "execution_count": null,
   "id": "f3b2c20a-2f1b-4ba6-92f5-862d14ebc6cd",
   "metadata": {
    "execution": {
     "iopub.execute_input": "2022-11-28T02:02:14.212760Z",
     "iopub.status.busy": "2022-11-28T02:02:14.212491Z",
     "iopub.status.idle": "2022-11-28T02:02:14.216626Z",
     "shell.execute_reply": "2022-11-28T02:02:14.216170Z",
     "shell.execute_reply.started": "2022-11-28T02:02:14.212738Z"
    }
   },
   "outputs": [],
   "source": [
    "a2"
   ]
  },
  {
   "cell_type": "code",
   "execution_count": null,
   "id": "b07e4fb5-99cf-4ed4-8c18-37b70eea18d1",
   "metadata": {
    "execution": {
     "iopub.execute_input": "2022-11-28T02:02:26.303359Z",
     "iopub.status.busy": "2022-11-28T02:02:26.303086Z",
     "iopub.status.idle": "2022-11-28T02:02:26.307066Z",
     "shell.execute_reply": "2022-11-28T02:02:26.306665Z",
     "shell.execute_reply.started": "2022-11-28T02:02:26.303338Z"
    }
   },
   "outputs": [],
   "source": [
    "a1 > a2"
   ]
  },
  {
   "cell_type": "code",
   "execution_count": null,
   "id": "f4d7b022-edff-45cb-bd94-fe8d03f77c06",
   "metadata": {
    "execution": {
     "iopub.execute_input": "2022-11-28T02:03:18.280660Z",
     "iopub.status.busy": "2022-11-28T02:03:18.280389Z",
     "iopub.status.idle": "2022-11-28T02:03:18.284481Z",
     "shell.execute_reply": "2022-11-28T02:03:18.284048Z",
     "shell.execute_reply.started": "2022-11-28T02:03:18.280639Z"
    },
    "tags": []
   },
   "outputs": [],
   "source": [
    "bool_array = a1 >= a2\n",
    "bool_array"
   ]
  },
  {
   "cell_type": "code",
   "execution_count": null,
   "id": "273ae852-f33d-4e34-b654-96871fe47023",
   "metadata": {
    "execution": {
     "iopub.execute_input": "2022-11-28T02:03:55.105648Z",
     "iopub.status.busy": "2022-11-28T02:03:55.105380Z",
     "iopub.status.idle": "2022-11-28T02:03:55.109402Z",
     "shell.execute_reply": "2022-11-28T02:03:55.108992Z",
     "shell.execute_reply.started": "2022-11-28T02:03:55.105628Z"
    },
    "tags": []
   },
   "outputs": [],
   "source": [
    "type(bool_array), bool_array.dtype"
   ]
  },
  {
   "cell_type": "code",
   "execution_count": null,
   "id": "98b10b8b-c0e8-4502-bd06-4036e99a8bbb",
   "metadata": {
    "execution": {
     "iopub.execute_input": "2022-11-28T02:04:04.843882Z",
     "iopub.status.busy": "2022-11-28T02:04:04.843603Z",
     "iopub.status.idle": "2022-11-28T02:04:04.847561Z",
     "shell.execute_reply": "2022-11-28T02:04:04.847151Z",
     "shell.execute_reply.started": "2022-11-28T02:04:04.843860Z"
    }
   },
   "outputs": [],
   "source": [
    "a1 > 5"
   ]
  },
  {
   "cell_type": "code",
   "execution_count": null,
   "id": "cba0b55f-1698-4c5b-b082-0bbffa2e62fd",
   "metadata": {
    "execution": {
     "iopub.execute_input": "2022-11-28T02:04:07.366216Z",
     "iopub.status.busy": "2022-11-28T02:04:07.365945Z",
     "iopub.status.idle": "2022-11-28T02:04:07.369846Z",
     "shell.execute_reply": "2022-11-28T02:04:07.369443Z",
     "shell.execute_reply.started": "2022-11-28T02:04:07.366196Z"
    }
   },
   "outputs": [],
   "source": [
    "a1 < 5"
   ]
  },
  {
   "cell_type": "code",
   "execution_count": null,
   "id": "8137d846-ca0f-4d69-8fa0-d124f1566851",
   "metadata": {
    "execution": {
     "iopub.execute_input": "2022-11-28T02:04:15.080707Z",
     "iopub.status.busy": "2022-11-28T02:04:15.080429Z",
     "iopub.status.idle": "2022-11-28T02:04:15.084409Z",
     "shell.execute_reply": "2022-11-28T02:04:15.083972Z",
     "shell.execute_reply.started": "2022-11-28T02:04:15.080685Z"
    }
   },
   "outputs": [],
   "source": [
    "a1 == a1"
   ]
  },
  {
   "cell_type": "code",
   "execution_count": null,
   "id": "73e382ca-034a-4d20-8025-4d6babb09ecb",
   "metadata": {
    "execution": {
     "iopub.execute_input": "2022-11-28T02:04:21.878293Z",
     "iopub.status.busy": "2022-11-28T02:04:21.878022Z",
     "iopub.status.idle": "2022-11-28T02:04:21.881977Z",
     "shell.execute_reply": "2022-11-28T02:04:21.881574Z",
     "shell.execute_reply.started": "2022-11-28T02:04:21.878271Z"
    }
   },
   "outputs": [],
   "source": [
    "a1 == a2"
   ]
  },
  {
   "cell_type": "markdown",
   "id": "681feb7c-38e7-4035-abb9-6faa695ddee7",
   "metadata": {},
   "source": [
    "# Sorting"
   ]
  },
  {
   "cell_type": "code",
   "execution_count": null,
   "id": "8af774b9-e4b0-4b94-9ceb-4e825a565b00",
   "metadata": {
    "execution": {
     "iopub.execute_input": "2022-11-28T02:07:42.977007Z",
     "iopub.status.busy": "2022-11-28T02:07:42.976739Z",
     "iopub.status.idle": "2022-11-28T02:07:42.981146Z",
     "shell.execute_reply": "2022-11-28T02:07:42.980728Z",
     "shell.execute_reply.started": "2022-11-28T02:07:42.976986Z"
    },
    "tags": []
   },
   "outputs": [],
   "source": [
    "random_array = np.random.randint(10, size=(3, 5))\n",
    "random_array"
   ]
  },
  {
   "cell_type": "code",
   "execution_count": null,
   "id": "57ddeb0e-4175-43ca-90b0-14bc785a8ad6",
   "metadata": {
    "execution": {
     "iopub.execute_input": "2022-11-28T02:07:45.119344Z",
     "iopub.status.busy": "2022-11-28T02:07:45.119068Z",
     "iopub.status.idle": "2022-11-28T02:07:45.122889Z",
     "shell.execute_reply": "2022-11-28T02:07:45.122494Z",
     "shell.execute_reply.started": "2022-11-28T02:07:45.119323Z"
    },
    "tags": []
   },
   "outputs": [],
   "source": [
    "random_array.shape"
   ]
  },
  {
   "cell_type": "code",
   "execution_count": null,
   "id": "1a6d2ae7-c03d-4e83-984e-1495a24da067",
   "metadata": {
    "execution": {
     "iopub.execute_input": "2022-11-28T02:09:47.225655Z",
     "iopub.status.busy": "2022-11-28T02:09:47.225383Z",
     "iopub.status.idle": "2022-11-28T02:09:47.229600Z",
     "shell.execute_reply": "2022-11-28T02:09:47.229162Z",
     "shell.execute_reply.started": "2022-11-28T02:09:47.225634Z"
    }
   },
   "outputs": [],
   "source": [
    "np.sort(random_array)"
   ]
  },
  {
   "cell_type": "code",
   "execution_count": null,
   "id": "cca04e3a-57fe-4de0-8367-bff6366c0d98",
   "metadata": {
    "execution": {
     "iopub.execute_input": "2022-11-28T02:11:01.909845Z",
     "iopub.status.busy": "2022-11-28T02:11:01.909565Z",
     "iopub.status.idle": "2022-11-28T02:11:01.914138Z",
     "shell.execute_reply": "2022-11-28T02:11:01.913610Z",
     "shell.execute_reply.started": "2022-11-28T02:11:01.909824Z"
    }
   },
   "outputs": [],
   "source": [
    "np.argsort(random_array)"
   ]
  },
  {
   "cell_type": "code",
   "execution_count": null,
   "id": "552c8f32-8e5b-4698-91a8-951c2f163a2e",
   "metadata": {
    "execution": {
     "iopub.execute_input": "2022-11-28T02:11:32.930169Z",
     "iopub.status.busy": "2022-11-28T02:11:32.929883Z",
     "iopub.status.idle": "2022-11-28T02:11:32.934158Z",
     "shell.execute_reply": "2022-11-28T02:11:32.933624Z",
     "shell.execute_reply.started": "2022-11-28T02:11:32.930147Z"
    }
   },
   "outputs": [],
   "source": [
    "a1"
   ]
  },
  {
   "cell_type": "code",
   "execution_count": null,
   "id": "38744925-4197-431e-877d-bcc39c17694d",
   "metadata": {
    "execution": {
     "iopub.execute_input": "2022-11-28T02:11:39.513292Z",
     "iopub.status.busy": "2022-11-28T02:11:39.513015Z",
     "iopub.status.idle": "2022-11-28T02:11:39.517023Z",
     "shell.execute_reply": "2022-11-28T02:11:39.516604Z",
     "shell.execute_reply.started": "2022-11-28T02:11:39.513269Z"
    }
   },
   "outputs": [],
   "source": [
    "np.argsort(a1)"
   ]
  },
  {
   "cell_type": "code",
   "execution_count": null,
   "id": "357fb560-ffd3-4c2a-9bff-65764b4c5d9d",
   "metadata": {
    "execution": {
     "iopub.execute_input": "2022-11-28T02:11:50.686552Z",
     "iopub.status.busy": "2022-11-28T02:11:50.686280Z",
     "iopub.status.idle": "2022-11-28T02:11:50.690689Z",
     "shell.execute_reply": "2022-11-28T02:11:50.690150Z",
     "shell.execute_reply.started": "2022-11-28T02:11:50.686530Z"
    }
   },
   "outputs": [],
   "source": [
    "np.argmin(a1)"
   ]
  },
  {
   "cell_type": "code",
   "execution_count": null,
   "id": "891156e4-bc68-4741-b024-80dc6fdd501b",
   "metadata": {
    "execution": {
     "iopub.execute_input": "2022-11-28T02:12:00.610283Z",
     "iopub.status.busy": "2022-11-28T02:12:00.610006Z",
     "iopub.status.idle": "2022-11-28T02:12:00.614012Z",
     "shell.execute_reply": "2022-11-28T02:12:00.613617Z",
     "shell.execute_reply.started": "2022-11-28T02:12:00.610260Z"
    }
   },
   "outputs": [],
   "source": [
    "np.argmax(a1)"
   ]
  },
  {
   "cell_type": "code",
   "execution_count": null,
   "id": "aff8b1bb-7619-40f2-8815-e8e78cb2bc9e",
   "metadata": {
    "execution": {
     "iopub.execute_input": "2022-11-28T02:20:10.620281Z",
     "iopub.status.busy": "2022-11-28T02:20:10.619989Z",
     "iopub.status.idle": "2022-11-28T02:20:10.623880Z",
     "shell.execute_reply": "2022-11-28T02:20:10.623474Z",
     "shell.execute_reply.started": "2022-11-28T02:20:10.620258Z"
    }
   },
   "outputs": [],
   "source": [
    "random_array"
   ]
  },
  {
   "cell_type": "code",
   "execution_count": null,
   "id": "245a0cb0-8576-4b23-a34a-cdbf3ef73342",
   "metadata": {
    "execution": {
     "iopub.execute_input": "2022-11-28T02:12:55.541043Z",
     "iopub.status.busy": "2022-11-28T02:12:55.540761Z",
     "iopub.status.idle": "2022-11-28T02:12:55.545385Z",
     "shell.execute_reply": "2022-11-28T02:12:55.544828Z",
     "shell.execute_reply.started": "2022-11-28T02:12:55.541021Z"
    },
    "tags": []
   },
   "outputs": [],
   "source": [
    "np.argmax(random_array, axis=0)"
   ]
  },
  {
   "cell_type": "code",
   "execution_count": null,
   "id": "b19424f5-8411-4201-a30e-998cd1b0c47c",
   "metadata": {
    "execution": {
     "iopub.execute_input": "2022-11-28T02:18:32.534255Z",
     "iopub.status.busy": "2022-11-28T02:18:32.533986Z",
     "iopub.status.idle": "2022-11-28T02:18:32.538191Z",
     "shell.execute_reply": "2022-11-28T02:18:32.537771Z",
     "shell.execute_reply.started": "2022-11-28T02:18:32.534234Z"
    }
   },
   "outputs": [],
   "source": [
    "np.argmax(random_array, axis=1)"
   ]
  },
  {
   "cell_type": "markdown",
   "id": "de8eba30-17fc-4673-be99-e51c236134c5",
   "metadata": {},
   "source": [
    "# Images"
   ]
  },
  {
   "cell_type": "markdown",
   "id": "487f0190-b5ec-4812-bea7-84c8c9e8d7af",
   "metadata": {
    "execution": {
     "iopub.execute_input": "2022-11-28T02:30:55.646118Z",
     "iopub.status.busy": "2022-11-28T02:30:55.645839Z",
     "iopub.status.idle": "2022-11-28T02:30:55.649765Z",
     "shell.execute_reply": "2022-11-28T02:30:55.649103Z",
     "shell.execute_reply.started": "2022-11-28T02:30:55.646096Z"
    },
    "tags": []
   },
   "source": [
    "\"img\" 用在 Markdown Cell"
   ]
  },
  {
   "cell_type": "markdown",
   "id": "ee88c6cf-b955-47ec-aa39-c8a27c205336",
   "metadata": {
    "execution": {
     "iopub.execute_input": "2022-11-28T02:27:37.191732Z",
     "iopub.status.busy": "2022-11-28T02:27:37.191453Z",
     "iopub.status.idle": "2022-11-28T02:27:37.195046Z",
     "shell.execute_reply": "2022-11-28T02:27:37.194436Z",
     "shell.execute_reply.started": "2022-11-28T02:27:37.191710Z"
    },
    "tags": []
   },
   "source": [
    "<img src=\"numpy-images/panda.png\" />"
   ]
  },
  {
   "cell_type": "code",
   "execution_count": null,
   "id": "cf869f4b-4533-40c8-9318-908f2aa01993",
   "metadata": {
    "execution": {
     "iopub.execute_input": "2022-11-28T02:33:02.844368Z",
     "iopub.status.busy": "2022-11-28T02:33:02.844047Z",
     "iopub.status.idle": "2022-11-28T02:33:02.847381Z",
     "shell.execute_reply": "2022-11-28T02:33:02.846827Z",
     "shell.execute_reply.started": "2022-11-28T02:33:02.844334Z"
    }
   },
   "outputs": [],
   "source": [
    "from matplotlib.image import imread"
   ]
  },
  {
   "cell_type": "code",
   "execution_count": null,
   "id": "1dd0afb7-377d-450e-895e-6924e5dd4fc9",
   "metadata": {
    "execution": {
     "iopub.execute_input": "2022-11-28T02:34:03.081052Z",
     "iopub.status.busy": "2022-11-28T02:34:03.080794Z",
     "iopub.status.idle": "2022-11-28T02:34:03.500537Z",
     "shell.execute_reply": "2022-11-28T02:34:03.500027Z",
     "shell.execute_reply.started": "2022-11-28T02:34:03.081029Z"
    }
   },
   "outputs": [],
   "source": [
    "panda = imread(\"numpy-images/panda.png\")\n",
    "print(type(panda))"
   ]
  },
  {
   "cell_type": "code",
   "execution_count": null,
   "id": "4698d1f7-8eb0-4972-9d10-d77fca9d0763",
   "metadata": {
    "execution": {
     "iopub.execute_input": "2022-11-28T02:34:44.429994Z",
     "iopub.status.busy": "2022-11-28T02:34:44.429717Z",
     "iopub.status.idle": "2022-11-28T02:34:44.433887Z",
     "shell.execute_reply": "2022-11-28T02:34:44.433442Z",
     "shell.execute_reply.started": "2022-11-28T02:34:44.429972Z"
    },
    "tags": []
   },
   "outputs": [],
   "source": [
    "panda.size, panda.shape, panda.ndim"
   ]
  },
  {
   "cell_type": "code",
   "execution_count": null,
   "id": "4a3da72c-5699-43b9-8d0c-616ea46909cd",
   "metadata": {
    "execution": {
     "iopub.execute_input": "2022-11-28T02:35:48.219901Z",
     "iopub.status.busy": "2022-11-28T02:35:48.219632Z",
     "iopub.status.idle": "2022-11-28T02:35:48.224714Z",
     "shell.execute_reply": "2022-11-28T02:35:48.224313Z",
     "shell.execute_reply.started": "2022-11-28T02:35:48.219880Z"
    }
   },
   "outputs": [],
   "source": [
    "panda[:5]"
   ]
  },
  {
   "cell_type": "code",
   "execution_count": null,
   "id": "26794b2d-c180-481a-8eb6-9bdb7593bd7f",
   "metadata": {
    "execution": {
     "iopub.execute_input": "2022-11-28T02:36:31.873539Z",
     "iopub.status.busy": "2022-11-28T02:36:31.873273Z",
     "iopub.status.idle": "2022-11-28T02:36:31.901221Z",
     "shell.execute_reply": "2022-11-28T02:36:31.900782Z",
     "shell.execute_reply.started": "2022-11-28T02:36:31.873514Z"
    }
   },
   "outputs": [],
   "source": [
    "car = imread(\"numpy-images/car-photo.png\")\n",
    "print(type(car))"
   ]
  },
  {
   "cell_type": "code",
   "execution_count": null,
   "id": "5aae6969-4368-4f8f-9f53-a9980b5f9f64",
   "metadata": {
    "execution": {
     "iopub.execute_input": "2022-11-28T02:36:39.054815Z",
     "iopub.status.busy": "2022-11-28T02:36:39.054544Z",
     "iopub.status.idle": "2022-11-28T02:36:39.059247Z",
     "shell.execute_reply": "2022-11-28T02:36:39.058821Z",
     "shell.execute_reply.started": "2022-11-28T02:36:39.054790Z"
    }
   },
   "outputs": [],
   "source": [
    "car[:1]"
   ]
  },
  {
   "cell_type": "code",
   "execution_count": null,
   "id": "c3ea3bcb-b0cf-439c-a5c0-f3567d0586d8",
   "metadata": {
    "execution": {
     "iopub.execute_input": "2022-11-28T02:36:59.153008Z",
     "iopub.status.busy": "2022-11-28T02:36:59.152744Z",
     "iopub.status.idle": "2022-11-28T02:36:59.179136Z",
     "shell.execute_reply": "2022-11-28T02:36:59.178555Z",
     "shell.execute_reply.started": "2022-11-28T02:36:59.152986Z"
    }
   },
   "outputs": [],
   "source": [
    "dog = imread(\"numpy-images/dog-photo.png\")\n",
    "print(type(dog))"
   ]
  },
  {
   "cell_type": "code",
   "execution_count": null,
   "id": "25806b91-a89d-423a-bdca-523e2aa4e996",
   "metadata": {
    "execution": {
     "iopub.execute_input": "2022-11-28T02:37:02.353710Z",
     "iopub.status.busy": "2022-11-28T02:37:02.353439Z",
     "iopub.status.idle": "2022-11-28T02:37:02.358217Z",
     "shell.execute_reply": "2022-11-28T02:37:02.357682Z",
     "shell.execute_reply.started": "2022-11-28T02:37:02.353688Z"
    }
   },
   "outputs": [],
   "source": [
    "dog[:1]"
   ]
  },
  {
   "cell_type": "code",
   "execution_count": null,
   "id": "57881984-5302-4136-80c8-2afa7769149d",
   "metadata": {},
   "outputs": [],
   "source": []
  }
 ],
 "metadata": {
  "kernelspec": {
   "display_name": "conda_python3",
   "language": "python",
   "name": "conda_python3"
  },
  "language_info": {
   "codemirror_mode": {
    "name": "ipython",
    "version": 3
   },
   "file_extension": ".py",
   "mimetype": "text/x-python",
   "name": "python",
   "nbconvert_exporter": "python",
   "pygments_lexer": "ipython3",
   "version": "3.8.12"
  },
  "toc-autonumbering": true,
  "toc-showcode": false,
  "toc-showmarkdowntxt": true
 },
 "nbformat": 4,
 "nbformat_minor": 5
}