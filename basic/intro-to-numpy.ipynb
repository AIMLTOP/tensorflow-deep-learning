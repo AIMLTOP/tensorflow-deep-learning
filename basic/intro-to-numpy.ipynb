{
 "cells": [
  {
   "cell_type": "code",
   "execution_count": null,
   "id": "b533b642-e26f-49f4-9d79-cc262c9be4e0",
   "metadata": {
    "execution": {
     "iopub.execute_input": "2022-11-12T09:44:21.019517Z",
     "iopub.status.busy": "2022-11-12T09:44:21.019208Z",
     "iopub.status.idle": "2022-11-12T09:44:21.023072Z",
     "shell.execute_reply": "2022-11-12T09:44:21.022463Z",
     "shell.execute_reply.started": "2022-11-12T09:44:21.019491Z"
    },
    "tags": []
   },
   "outputs": [],
   "source": [
    "import numpy as np"
   ]
  },
  {
   "cell_type": "markdown",
   "id": "0e4cbd43-2e46-479c-9829-5bd1ae98aa54",
   "metadata": {
    "tags": []
   },
   "source": [
    "# Data Types & Attributes"
   ]
  },
  {
   "cell_type": "code",
   "execution_count": null,
   "id": "13946e90-37bf-4b57-a78d-b8973e719686",
   "metadata": {
    "execution": {
     "iopub.execute_input": "2022-11-12T09:44:21.848416Z",
     "iopub.status.busy": "2022-11-12T09:44:21.848091Z",
     "iopub.status.idle": "2022-11-12T09:44:21.854025Z",
     "shell.execute_reply": "2022-11-12T09:44:21.853316Z",
     "shell.execute_reply.started": "2022-11-12T09:44:21.848388Z"
    },
    "tags": []
   },
   "outputs": [],
   "source": [
    "a1 = np.array([1, 2, 3])\n",
    "a1"
   ]
  },
  {
   "cell_type": "code",
   "execution_count": null,
   "id": "e8c8df09-a438-4a62-939f-c510576b95d8",
   "metadata": {},
   "outputs": [],
   "source": [
    "type(a1)"
   ]
  },
  {
   "cell_type": "code",
   "execution_count": null,
   "id": "88906df7-f73d-40fb-bce1-26cd2c7aedf3",
   "metadata": {},
   "outputs": [],
   "source": [
    "a2 = np.array([[1, 2.0, 3.2],\n",
    "             [2, 2.6, 9.9]]\n",
    "             )\n",
    "a2"
   ]
  },
  {
   "cell_type": "code",
   "execution_count": null,
   "id": "d4eafd1d-77b4-4709-9ed0-3ffb1cd8cc6d",
   "metadata": {},
   "outputs": [],
   "source": [
    "a3 = np.array([[[1, 2, 3],\n",
    "               [4,5,6],\n",
    "               [7,8,9]],\n",
    "              \n",
    "              [[11,12,13],\n",
    "               [14,15,16],\n",
    "               [17,18,19]]\n",
    "              ])\n",
    "a3"
   ]
  },
  {
   "cell_type": "code",
   "execution_count": null,
   "id": "681c4b46-8e85-4d2d-aa42-3c8d815024a8",
   "metadata": {},
   "outputs": [],
   "source": [
    "print(a1.shape)\n",
    "print(a2.shape)\n",
    "print(a3.shape)"
   ]
  },
  {
   "cell_type": "code",
   "execution_count": null,
   "id": "120a7b4d-6903-48d9-8c52-8771d7799e88",
   "metadata": {},
   "outputs": [],
   "source": [
    "a1.ndim, a2.ndim, a3.ndim"
   ]
  },
  {
   "cell_type": "code",
   "execution_count": null,
   "id": "6d62fc69-ed22-4daa-830f-fb3fd44b9418",
   "metadata": {},
   "outputs": [],
   "source": [
    "a1.dtype, a2.dtype, a3.dtype"
   ]
  },
  {
   "cell_type": "code",
   "execution_count": null,
   "id": "7b2f5f59-5aa9-4c2b-af92-cb258b78ef0e",
   "metadata": {},
   "outputs": [],
   "source": [
    "a1.size, a2.size, a3.size"
   ]
  },
  {
   "cell_type": "code",
   "execution_count": null,
   "id": "3e62e66d-e069-43e5-9228-808a95ce1deb",
   "metadata": {},
   "outputs": [],
   "source": [
    "type(a1), type(a2), type(a3)"
   ]
  },
  {
   "cell_type": "code",
   "execution_count": null,
   "id": "c93683e0-157a-40b2-a1cf-ae3b7a3628d3",
   "metadata": {},
   "outputs": [],
   "source": [
    "import pandas as pd"
   ]
  },
  {
   "cell_type": "code",
   "execution_count": null,
   "id": "652a9219-b411-4ee6-9303-fe99745a7074",
   "metadata": {},
   "outputs": [],
   "source": [
    "df1 = pd.DataFrame(a2)\n",
    "df1"
   ]
  },
  {
   "cell_type": "code",
   "execution_count": null,
   "id": "03f1e443-778f-447d-9113-da602eb720a6",
   "metadata": {
    "scrolled": true,
    "tags": []
   },
   "outputs": [],
   "source": [
    "import pandas as pd\n",
    "# long_data = pd.read_csv('https://raw.githubusercontent.com/ma-ji/RICF/v2015.1.0/2015/2015_financial_activities.tsv', sep='\\t', header=1)\n",
    "long_data = pd.read_csv('long_test.csv', sep='\\t')\n",
    "long_data.tail(10)"
   ]
  },
  {
   "cell_type": "code",
   "execution_count": null,
   "id": "a8966c5b-0ea4-4191-90b0-f6e08333d7ff",
   "metadata": {
    "scrolled": true,
    "tags": []
   },
   "outputs": [],
   "source": [
    "{\n",
    "    \"tags\": [\n",
    "        \"output_scroll\",\n",
    "    ]\n",
    "}\n",
    "\n",
    "pd.set_option('display.max_rows',None)\n",
    "pd.set_option('display.max_columns',None)\n",
    "pd.set_option('display.width',5000)\n",
    "pd.set_option('display.max_colwidth', None)\n",
    "\n",
    "long_data = pd.read_csv('test.csv')\n",
    "long_data"
   ]
  },
  {
   "cell_type": "markdown",
   "id": "5aef88bd-4ab9-43e3-ba27-685e0a9b5b97",
   "metadata": {},
   "source": [
    "# Arrays"
   ]
  },
  {
   "cell_type": "code",
   "execution_count": null,
   "id": "ded611ae-f4c7-4db7-8af0-6f2abd94cc7f",
   "metadata": {},
   "outputs": [],
   "source": [
    "sample_array = np.array([1,2,3])\n",
    "sample_array"
   ]
  },
  {
   "cell_type": "code",
   "execution_count": null,
   "id": "09f1bc45-a9f1-418f-8eba-60ea05cf1d42",
   "metadata": {},
   "outputs": [],
   "source": [
    "sample_array.dtype"
   ]
  },
  {
   "cell_type": "code",
   "execution_count": null,
   "id": "1c964449-adb0-4401-996b-209ee9a28af1",
   "metadata": {},
   "outputs": [],
   "source": [
    "# shfit+tab 查看提示\n",
    "ones = np.ones((2, 3))\n",
    "ones"
   ]
  },
  {
   "cell_type": "code",
   "execution_count": null,
   "id": "ac0c175f-29d1-4382-8d81-947d08ccbe05",
   "metadata": {},
   "outputs": [],
   "source": [
    "ones.dtype"
   ]
  },
  {
   "cell_type": "code",
   "execution_count": null,
   "id": "3ff25871-a6eb-4e7d-adca-5e7c49f3b12d",
   "metadata": {},
   "outputs": [],
   "source": [
    "type(ones)"
   ]
  },
  {
   "cell_type": "code",
   "execution_count": null,
   "id": "2da3e857-e499-467e-98d0-99292dee77c5",
   "metadata": {},
   "outputs": [],
   "source": [
    "zeros = np.zeros((2, 3))\n",
    "zeros"
   ]
  },
  {
   "cell_type": "code",
   "execution_count": null,
   "id": "6a9f3886-d8c5-4868-9873-3a0fe1de540d",
   "metadata": {},
   "outputs": [],
   "source": [
    "range_array = np.arange(0, 10, 2)\n",
    "range_array"
   ]
  },
  {
   "cell_type": "code",
   "execution_count": null,
   "id": "b9d6f819-4d7b-4e09-ae37-ea9076ce85f0",
   "metadata": {},
   "outputs": [],
   "source": [
    "random_array = np.random.randint(0, 10, size=(3, 5))\n",
    "random_array"
   ]
  },
  {
   "cell_type": "code",
   "execution_count": null,
   "id": "ad319d79-c727-48d9-a63b-039f3ea5cc40",
   "metadata": {},
   "outputs": [],
   "source": [
    "random_array.size, random_array.shape"
   ]
  },
  {
   "cell_type": "code",
   "execution_count": null,
   "id": "32be011a-b21b-4c19-9514-b4117bdc5d99",
   "metadata": {},
   "outputs": [],
   "source": [
    "random_array_2 = np.random.random((5, 3))\n",
    "random_array_2"
   ]
  },
  {
   "cell_type": "code",
   "execution_count": null,
   "id": "3672330b-dfb3-4e52-b5fb-1b08dab48cf6",
   "metadata": {},
   "outputs": [],
   "source": [
    "random_array_3 = np.random.rand(5, 3)\n",
    "random_array_3"
   ]
  },
  {
   "cell_type": "code",
   "execution_count": null,
   "id": "ce3d54a6-d255-4d9f-8a8b-aa1fd229cea4",
   "metadata": {},
   "outputs": [],
   "source": [
    "np.random.seed(seed=17)\n",
    "random_array_4 = np.random.randint(10, size=(5, 3))\n",
    "random_array_4"
   ]
  },
  {
   "cell_type": "code",
   "execution_count": null,
   "id": "65a18bf1-537a-4577-afbb-6002daca401f",
   "metadata": {},
   "outputs": [],
   "source": [
    "np.random.seed(seed=17)\n",
    "random_array_5 = np.random.random((5, 3))\n",
    "random_array_5"
   ]
  },
  {
   "cell_type": "markdown",
   "id": "6c24f5c9-1367-48c1-ae05-b2103a772ba4",
   "metadata": {},
   "source": [
    "# Viewing arrayls & matrices"
   ]
  },
  {
   "cell_type": "code",
   "execution_count": null,
   "id": "1a780fa8-b1a6-4b9e-b29b-e38f6be60aca",
   "metadata": {},
   "outputs": [],
   "source": [
    "np.unique(random_array_4)"
   ]
  },
  {
   "cell_type": "code",
   "execution_count": null,
   "id": "c573dc60-89cf-4578-8a66-23e8196aca03",
   "metadata": {},
   "outputs": [],
   "source": [
    "a3"
   ]
  },
  {
   "cell_type": "code",
   "execution_count": null,
   "id": "942d3590-f948-48d6-b80c-0736ecffc440",
   "metadata": {},
   "outputs": [],
   "source": [
    "a3[:2, :2, :2]"
   ]
  },
  {
   "cell_type": "code",
   "execution_count": null,
   "id": "46788597-94b4-46b2-896f-c6b54864308b",
   "metadata": {},
   "outputs": [],
   "source": [
    "a4 = np.random.randint(10, size=(2, 3, 4, 5))\n",
    "a4"
   ]
  },
  {
   "cell_type": "code",
   "execution_count": null,
   "id": "b49aa029-ff5d-4a64-b75a-514892e28d9b",
   "metadata": {},
   "outputs": [],
   "source": [
    "a4.shape, a4.ndim"
   ]
  },
  {
   "cell_type": "code",
   "execution_count": null,
   "id": "002694a1-6767-493c-b92b-42b7e48f876d",
   "metadata": {},
   "outputs": [],
   "source": [
    "# Get the first 4 numbers \n",
    "a4[:, :, :, :4]"
   ]
  },
  {
   "cell_type": "code",
   "execution_count": null,
   "id": "fe539c56-d978-4322-acbc-4d7876403415",
   "metadata": {},
   "outputs": [],
   "source": [
    "round(np.random.uniform(10.0, 99.9), 2)"
   ]
  },
  {
   "cell_type": "code",
   "execution_count": null,
   "id": "6bba9110-4478-44aa-afc2-195d879ec964",
   "metadata": {},
   "outputs": [],
   "source": [
    "import random\n",
    "# document = { \"color\": color[int(random.uniform(1,8))], \"my_vector\": [float(random.uniform(0.0, 1.0)) for _ in range(300)]} \n",
    "float(random.uniform(0.0, 1.0))\n"
   ]
  },
  {
   "cell_type": "code",
   "execution_count": null,
   "id": "87e9a06a-e89c-4560-8b44-afcab4241c0c",
   "metadata": {},
   "outputs": [],
   "source": [
    "np.random.uniform(0.0, 1.0)"
   ]
  },
  {
   "cell_type": "code",
   "execution_count": null,
   "id": "a9c9c924-a476-478a-8f20-95313e8c4956",
   "metadata": {},
   "outputs": [],
   "source": []
  }
 ],
 "metadata": {
  "kernelspec": {
   "display_name": "conda_python3",
   "language": "python",
   "name": "conda_python3"
  },
  "language_info": {
   "codemirror_mode": {
    "name": "ipython",
    "version": 3
   },
   "file_extension": ".py",
   "mimetype": "text/x-python",
   "name": "python",
   "nbconvert_exporter": "python",
   "pygments_lexer": "ipython3",
   "version": "3.8.12"
  },
  "toc-autonumbering": false,
  "toc-showcode": false,
  "toc-showmarkdowntxt": false
 },
 "nbformat": 4,
 "nbformat_minor": 5
}