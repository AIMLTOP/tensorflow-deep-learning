{
 "cells": [
  {
   "cell_type": "markdown",
   "id": "9c061ca9-be67-473c-bcfd-cac2ce13f70a",
   "metadata": {},
   "source": [
    "# Short-cuts"
   ]
  },
  {
   "cell_type": "markdown",
   "id": "258dab39-7b25-456f-9931-f18654b134f7",
   "metadata": {},
   "source": [
    "1. ESC+X 删除Cell\n",
    "2. Shift+Tab 提示"
   ]
  },
  {
   "cell_type": "code",
   "execution_count": null,
   "id": "683badae-1b31-4ab6-a025-550ee220abac",
   "metadata": {
    "execution": {
     "iopub.execute_input": "2022-11-21T02:01:20.025142Z",
     "iopub.status.busy": "2022-11-21T02:01:20.024865Z",
     "iopub.status.idle": "2022-11-21T02:01:20.143763Z",
     "shell.execute_reply": "2022-11-21T02:01:20.143222Z",
     "shell.execute_reply.started": "2022-11-21T02:01:20.025117Z"
    },
    "tags": []
   },
   "outputs": [],
   "source": [
    "!node -v"
   ]
  },
  {
   "cell_type": "code",
   "execution_count": null,
   "id": "ecc2f034-ff54-45b0-a5d5-dae00c8a4219",
   "metadata": {
    "execution": {
     "iopub.execute_input": "2022-11-21T01:43:28.931817Z",
     "iopub.status.busy": "2022-11-21T01:43:28.931532Z",
     "iopub.status.idle": "2022-11-21T01:43:29.047239Z",
     "shell.execute_reply": "2022-11-21T01:43:29.046730Z",
     "shell.execute_reply.started": "2022-11-21T01:43:28.931793Z"
    }
   },
   "outputs": [],
   "source": [
    "!which node"
   ]
  },
  {
   "cell_type": "code",
   "execution_count": null,
   "id": "81b4e6c1-4897-4bc8-a437-476381327888",
   "metadata": {
    "execution": {
     "iopub.execute_input": "2022-11-21T01:44:01.495069Z",
     "iopub.status.busy": "2022-11-21T01:44:01.494784Z",
     "iopub.status.idle": "2022-11-21T01:44:01.610355Z",
     "shell.execute_reply": "2022-11-21T01:44:01.609822Z",
     "shell.execute_reply.started": "2022-11-21T01:44:01.495045Z"
    }
   },
   "outputs": [],
   "source": [
    "!cat ~/.profile"
   ]
  },
  {
   "cell_type": "code",
   "execution_count": null,
   "id": "222d31d7-1e5a-4aef-979e-654e8b9b3fa5",
   "metadata": {
    "execution": {
     "iopub.execute_input": "2022-11-21T01:44:19.495675Z",
     "iopub.status.busy": "2022-11-21T01:44:19.495402Z",
     "iopub.status.idle": "2022-11-21T01:44:19.625053Z",
     "shell.execute_reply": "2022-11-21T01:44:19.624537Z",
     "shell.execute_reply.started": "2022-11-21T01:44:19.495652Z"
    }
   },
   "outputs": [],
   "source": [
    "!~/anaconda3/envs/JupyterSystemEnv/bin/node -v"
   ]
  },
  {
   "cell_type": "code",
   "execution_count": null,
   "id": "7e8672d5-ddaf-4773-9d97-441f5bfca5e4",
   "metadata": {
    "execution": {
     "iopub.execute_input": "2022-11-21T01:48:59.871374Z",
     "iopub.status.busy": "2022-11-21T01:48:59.871102Z",
     "iopub.status.idle": "2022-11-21T01:48:59.985519Z",
     "shell.execute_reply": "2022-11-21T01:48:59.985023Z",
     "shell.execute_reply.started": "2022-11-21T01:48:59.871352Z"
    }
   },
   "outputs": [],
   "source": [
    "!echo $PATH"
   ]
  },
  {
   "cell_type": "code",
   "execution_count": null,
   "id": "2d703a81-b155-40c6-bbf0-7c782bff5f9d",
   "metadata": {
    "execution": {
     "iopub.execute_input": "2022-11-21T01:59:08.075344Z",
     "iopub.status.busy": "2022-11-21T01:59:08.074800Z",
     "iopub.status.idle": "2022-11-21T01:59:08.193294Z",
     "shell.execute_reply": "2022-11-21T01:59:08.192786Z",
     "shell.execute_reply.started": "2022-11-21T01:59:08.075322Z"
    }
   },
   "outputs": [],
   "source": [
    "!node -v"
   ]
  },
  {
   "cell_type": "code",
   "execution_count": null,
   "id": "6aa00882-8541-42f3-893c-275350f56747",
   "metadata": {},
   "outputs": [],
   "source": []
  }
 ],
 "metadata": {
  "kernelspec": {
   "display_name": "conda_python3",
   "language": "python",
   "name": "conda_python3"
  },
  "language_info": {
   "codemirror_mode": {
    "name": "ipython",
    "version": 3
   },
   "file_extension": ".py",
   "mimetype": "text/x-python",
   "name": "python",
   "nbconvert_exporter": "python",
   "pygments_lexer": "ipython3",
   "version": "3.8.12"
  }
 },
 "nbformat": 4,
 "nbformat_minor": 5
}