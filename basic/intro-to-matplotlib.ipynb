{
 "cells": [
  {
   "cell_type": "code",
   "execution_count": null,
   "id": "cc14e82c-5333-4b1c-b228-c819c69e7ae1",
   "metadata": {
    "execution": {
     "iopub.execute_input": "2022-11-22T13:32:50.059294Z",
     "iopub.status.busy": "2022-11-22T13:32:50.059014Z",
     "iopub.status.idle": "2022-11-22T13:32:50.062374Z",
     "shell.execute_reply": "2022-11-22T13:32:50.061813Z",
     "shell.execute_reply.started": "2022-11-22T13:32:50.059270Z"
    },
    "tags": []
   },
   "outputs": [],
   "source": [
    "import pandas as pd\n",
    "import matplotlib.pyplot as plt\n",
    "import matplotlib.dates as mdates\n",
    "import datetime"
   ]
  },
  {
   "cell_type": "code",
   "execution_count": null,
   "id": "f9f6fcd2-cbd3-408b-9c49-6348ffe4e3f0",
   "metadata": {
    "execution": {
     "iopub.execute_input": "2022-11-22T13:23:53.118462Z",
     "iopub.status.busy": "2022-11-22T13:23:53.118181Z",
     "iopub.status.idle": "2022-11-22T13:23:53.127653Z",
     "shell.execute_reply": "2022-11-22T13:23:53.127252Z",
     "shell.execute_reply.started": "2022-11-22T13:23:53.118438Z"
    },
    "tags": []
   },
   "outputs": [],
   "source": [
    "raw = pd.read_csv('sample.csv')\n",
    "raw.head()"
   ]
  },
  {
   "cell_type": "code",
   "execution_count": null,
   "id": "da0ce812-0cee-4675-b1d1-570c7560d49a",
   "metadata": {
    "execution": {
     "iopub.execute_input": "2022-11-22T13:28:15.196176Z",
     "iopub.status.busy": "2022-11-22T13:28:15.195886Z",
     "iopub.status.idle": "2022-11-22T13:28:15.203202Z",
     "shell.execute_reply": "2022-11-22T13:28:15.202758Z",
     "shell.execute_reply.started": "2022-11-22T13:28:15.196140Z"
    },
    "tags": []
   },
   "outputs": [],
   "source": [
    "processed = raw.drop('Unnamed: 0', axis=1)\n",
    "processed.head()"
   ]
  },
  {
   "cell_type": "code",
   "execution_count": null,
   "id": "de3f2ea0-fc49-4aad-82b7-a9d0edbae086",
   "metadata": {
    "execution": {
     "iopub.execute_input": "2022-11-22T14:00:13.156593Z",
     "iopub.status.busy": "2022-11-22T14:00:13.156316Z",
     "iopub.status.idle": "2022-11-22T14:00:13.165615Z",
     "shell.execute_reply": "2022-11-22T14:00:13.165205Z",
     "shell.execute_reply.started": "2022-11-22T14:00:13.156571Z"
    },
    "tags": []
   },
   "outputs": [],
   "source": [
    "processed['date'] = pd.to_datetime(processed['date'], format='%Y%m%d')\n",
    "processed\n",
    "# len(processed.index)"
   ]
  },
  {
   "cell_type": "code",
   "execution_count": null,
   "id": "163f10c1-7a59-4341-abf5-6ae0e5272ed3",
   "metadata": {
    "execution": {
     "iopub.execute_input": "2022-11-22T14:02:18.890187Z",
     "iopub.status.busy": "2022-11-22T14:02:18.889900Z",
     "iopub.status.idle": "2022-11-22T14:02:19.297772Z",
     "shell.execute_reply": "2022-11-22T14:02:19.297209Z",
     "shell.execute_reply.started": "2022-11-22T14:02:18.890165Z"
    },
    "tags": []
   },
   "outputs": [],
   "source": [
    "fig = plt.figure(figsize=(20, 6), dpi=128)\n",
    "\n",
    "# format x axis\n",
    "fig.autofmt_xdate()\n",
    "plt.xticks(processed['date'], rotation=60)    # 设置x轴标签旋转角度\n",
    "\n",
    "plt.xlabel('Date')\n",
    "plt.ylabel('Latency')\n",
    "plt.plot(processed['date'], processed['lbl'])\n",
    "plt.show()"
   ]
  },
  {
   "cell_type": "code",
   "execution_count": null,
   "id": "ff54ec48-701e-4ed6-9732-0f6f87604e5b",
   "metadata": {},
   "outputs": [],
   "source": []
  }
 ],
 "metadata": {
  "kernelspec": {
   "display_name": "conda_python3",
   "language": "python",
   "name": "conda_python3"
  },
  "language_info": {
   "codemirror_mode": {
    "name": "ipython",
    "version": 3
   },
   "file_extension": ".py",
   "mimetype": "text/x-python",
   "name": "python",
   "nbconvert_exporter": "python",
   "pygments_lexer": "ipython3",
   "version": "3.8.12"
  }
 },
 "nbformat": 4,
 "nbformat_minor": 5
}